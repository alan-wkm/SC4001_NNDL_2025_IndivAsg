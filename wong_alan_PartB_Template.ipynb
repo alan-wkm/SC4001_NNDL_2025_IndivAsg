{
 "cells": [
  {
   "cell_type": "markdown",
   "metadata": {
    "id": "jnRX6LUnqBpw"
   },
   "source": [
    "CS4001/4042 Assignment 1\n",
    "---\n",
    "Part B, Q1 (15 marks)\n",
    "---\n",
    "\n",
    "Real world datasets often have a mix of numeric and categorical features – this dataset is one example. To build models on such data, categorical features have to be encoded or embedded.\n",
    "\n",
    "PyTorch Tabular is a library that makes it very convenient to build neural networks for tabular data. It is built on top of PyTorch Lightning, which abstracts away boilerplate model training code and makes it easy to integrate other tools, e.g. TensorBoard for experiment tracking.\n",
    "\n",
    "For questions B1 and B2, the following features should be used:   \n",
    "- **Numeric / Continuous** features: dist_to_nearest_stn, dist_to_dhoby, degree_centrality, eigenvector_centrality, remaining_lease_years, floor_area_sqm\n",
    "- **Categorical** features: month, town, flat_model_type, storey_range"
   ]
  },
  {
   "cell_type": "markdown",
   "metadata": {},
   "source": [
    "\n",
    "\n",
    "---\n",
    "\n"
   ]
  },
  {
   "cell_type": "code",
   "execution_count": null,
   "metadata": {
    "id": "jA67PbIY3PnH"
   },
   "outputs": [],
   "source": [
    "# !pip install pytorch_tabular[extra]"
   ]
  },
  {
   "cell_type": "code",
   "execution_count": 1,
   "metadata": {
    "id": "Jr6P3U7w3NVl"
   },
   "outputs": [],
   "source": [
    "SEED = 42\n",
    "\n",
    "import os\n",
    "\n",
    "import random\n",
    "random.seed(SEED)\n",
    "\n",
    "import numpy as np\n",
    "np.random.seed(SEED)\n",
    "\n",
    "import pandas as pd\n",
    "\n",
    "import torch\n",
    "import torch.nn as nn\n",
    "\n",
    "from pytorch_tabular import TabularModel\n",
    "from pytorch_tabular.models import CategoryEmbeddingModelConfig\n",
    "from pytorch_tabular.config import (\n",
    "    DataConfig,\n",
    "    OptimizerConfig,\n",
    "    TrainerConfig,\n",
    ")"
   ]
  },
  {
   "cell_type": "code",
   "execution_count": 2,
   "metadata": {},
   "outputs": [],
   "source": [
    "# Adding this to deal with the following warnings\n",
    "# FutureWarning: A value is trying to be set on a copy of a DataFrame or Series through\n",
    "# chained assignment using an inplace method. The behavior will change in pandas 3.0.\n",
    "# This inplace method will never work because the intermediate object on which we are\n",
    "# setting values always behaves as a copy. For example, when doing\n",
    "# 'df[col].method(value, inplace=True)', try using 'df.method({col: value}, inplace=True)'\n",
    "# or df[col] = df[col].method(value) instead, to perform the operation inplace on the original object.\n",
    "import warnings\n",
    "warnings.filterwarnings('ignore')"
   ]
  },
  {
   "cell_type": "markdown",
   "metadata": {
    "id": "zGyEWcVlqKTz"
   },
   "source": [
    "> Divide the dataset (‘hdb_price_prediction.csv’) into train and test sets by using entries from year 2020 and before as training data, and year 2021 as test data (validation set is not required).\n",
    "**Do not** use data from year 2022 and year 2023.\n",
    "\n"
   ]
  },
  {
   "cell_type": "code",
   "execution_count": 3,
   "metadata": {
    "id": "hoCPcOWupw5Y"
   },
   "outputs": [
    {
     "name": "stdout",
     "output_type": "stream",
     "text": [
      "Index(['month', 'year', 'town', 'full_address', 'nearest_stn',\n",
      "       'dist_to_nearest_stn', 'dist_to_dhoby', 'degree_centrality',\n",
      "       'eigenvector_centrality', 'flat_model_type', 'remaining_lease_years',\n",
      "       'floor_area_sqm', 'storey_range', 'resale_price'],\n",
      "      dtype='object')\n"
     ]
    }
   ],
   "source": [
    "df = pd.read_csv('hdb_price_prediction.csv')\n",
    "\n",
    "# TODO: Enter your code here\n",
    "# Filter out rows for years 2022 and 2023\n",
    "filtered_data = df[df['year'] <= 2021]\n",
    "\n",
    "# Split into training and test sets\n",
    "train_data = filtered_data[filtered_data['year'] <= 2020]\n",
    "test_data = filtered_data[filtered_data['year'] == 2021]\n",
    "print(train_data.columns)"
   ]
  },
  {
   "cell_type": "markdown",
   "metadata": {
    "id": "sebMgSuzqPe7"
   },
   "source": [
    "> Refer to the documentation of **PyTorch Tabular** and perform the following tasks: https://pytorch-tabular.readthedocs.io/en/latest/#usage\n",
    "- Use **[DataConfig](https://pytorch-tabular.readthedocs.io/en/latest/data/)** to define the target variable, as well as the names of the continuous and categorical variables.\n",
    "- Use **[TrainerConfig](https://pytorch-tabular.readthedocs.io/en/latest/training/)** to automatically tune the learning rate. Set batch_size to be 1024 and set max_epoch as 50.\n",
    "- Use **[CategoryEmbeddingModelConfig](https://pytorch-tabular.readthedocs.io/en/latest/models/#category-embedding-model)** to create a feedforward neural network with 1 hidden layer containing 50 neurons.\n",
    "- Use **[OptimizerConfig](https://pytorch-tabular.readthedocs.io/en/latest/optimizer/)** to choose Adam optimiser. There is no need to set the learning rate (since it will be tuned automatically) nor scheduler.\n",
    "- Use **[TabularModel](https://pytorch-tabular.readthedocs.io/en/latest/tabular_model/)** to initialise the model and put all the configs together."
   ]
  },
  {
   "cell_type": "code",
   "execution_count": 4,
   "metadata": {
    "id": "ZZWAYdNhqPzh"
   },
   "outputs": [
    {
     "data": {
      "text/html": [
       "<pre style=\"white-space:pre;overflow-x:auto;line-height:normal;font-family:Menlo,'DejaVu Sans Mono',consolas,'Courier New',monospace\"><span style=\"color: #008080; text-decoration-color: #008080; font-weight: bold\">2025</span>-<span style=\"color: #008080; text-decoration-color: #008080; font-weight: bold\">03</span>-<span style=\"color: #008080; text-decoration-color: #008080; font-weight: bold\">13</span> <span style=\"color: #00ff00; text-decoration-color: #00ff00; font-weight: bold\">10:32:03</span>,<span style=\"color: #008080; text-decoration-color: #008080; font-weight: bold\">042</span> - <span style=\"font-weight: bold\">{</span>pytorch_tabular.tabular_model:<span style=\"color: #008080; text-decoration-color: #008080; font-weight: bold\">146</span><span style=\"font-weight: bold\">}</span> - INFO - Experiment Tracking is turned off           \n",
       "</pre>\n"
      ],
      "text/plain": [
       "\u001b[1;36m2025\u001b[0m-\u001b[1;36m03\u001b[0m-\u001b[1;36m13\u001b[0m \u001b[1;92m10:32:03\u001b[0m,\u001b[1;36m042\u001b[0m - \u001b[1m{\u001b[0mpytorch_tabular.tabular_model:\u001b[1;36m146\u001b[0m\u001b[1m}\u001b[0m - INFO - Experiment Tracking is turned off           \n"
      ]
     },
     "metadata": {},
     "output_type": "display_data"
    }
   ],
   "source": [
    "# TODO: Enter your code here\n",
    "data_config = DataConfig(\n",
    "    target=[\"resale_price\"],\n",
    "    continuous_cols=[\"dist_to_nearest_stn\", \"dist_to_dhoby\",\n",
    "\"degree_centrality\", \"eigenvector_centrality\", \"remaining_lease_years\",\n",
    "\"floor_area_sqm\"],\n",
    "    categorical_cols=[\"month\", \"town\", \"flat_model_type\", \"storey_range\"],\n",
    "    continuous_feature_transform=\"quantile_normal\",\n",
    "    normalize_continuous_features=True,\n",
    ")\n",
    "\n",
    "trainer_config = TrainerConfig(\n",
    "    auto_lr_find=True,\n",
    "    batch_size=1024,\n",
    "    max_epochs=50,\n",
    "    accelerator=\"auto\",  # can be 'cpu','gpu', 'tpu', or 'ipu'\n",
    "    devices=-1,\n",
    ")\n",
    "\n",
    "model_config = CategoryEmbeddingModelConfig(\n",
    "    task=\"regression\",\n",
    "    layers=\"50\",  # Number of nodes in each layer\n",
    "    # target_range = [(train_data[\"resale_price\"].min() * 0.8, train_data[\"resale_price\"].max() * 1.2)]\n",
    ")\n",
    "\n",
    "optimizer_config = OptimizerConfig() # Default is Adam\n",
    "\n",
    "tabular_model = TabularModel(\n",
    "    data_config=data_config,\n",
    "    trainer_config=trainer_config,\n",
    "    model_config=model_config,\n",
    "    optimizer_config=optimizer_config,\n",
    ")\n"
   ]
  },
  {
   "cell_type": "markdown",
   "metadata": {
    "id": "-2UXPKq0qWQG"
   },
   "source": [
    "> Report the test RMSE error and the test R2 value that you obtained.\n",
    "\n"
   ]
  },
  {
   "cell_type": "code",
   "execution_count": 5,
   "metadata": {
    "id": "zmE9Bc7Nqadi"
   },
   "outputs": [
    {
     "name": "stderr",
     "output_type": "stream",
     "text": [
      "Seed set to 42\n"
     ]
    },
    {
     "data": {
      "text/html": [
       "<pre style=\"white-space:pre;overflow-x:auto;line-height:normal;font-family:Menlo,'DejaVu Sans Mono',consolas,'Courier New',monospace\"><span style=\"color: #008080; text-decoration-color: #008080; font-weight: bold\">2025</span>-<span style=\"color: #008080; text-decoration-color: #008080; font-weight: bold\">03</span>-<span style=\"color: #008080; text-decoration-color: #008080; font-weight: bold\">13</span> <span style=\"color: #00ff00; text-decoration-color: #00ff00; font-weight: bold\">10:32:05</span>,<span style=\"color: #008080; text-decoration-color: #008080; font-weight: bold\">859</span> - <span style=\"font-weight: bold\">{</span>pytorch_tabular.tabular_model:<span style=\"color: #008080; text-decoration-color: #008080; font-weight: bold\">548</span><span style=\"font-weight: bold\">}</span> - INFO - Preparing the DataLoaders                   \n",
       "</pre>\n"
      ],
      "text/plain": [
       "\u001b[1;36m2025\u001b[0m-\u001b[1;36m03\u001b[0m-\u001b[1;36m13\u001b[0m \u001b[1;92m10:32:05\u001b[0m,\u001b[1;36m859\u001b[0m - \u001b[1m{\u001b[0mpytorch_tabular.tabular_model:\u001b[1;36m548\u001b[0m\u001b[1m}\u001b[0m - INFO - Preparing the DataLoaders                   \n"
      ]
     },
     "metadata": {},
     "output_type": "display_data"
    },
    {
     "data": {
      "text/html": [
       "<pre style=\"white-space:pre;overflow-x:auto;line-height:normal;font-family:Menlo,'DejaVu Sans Mono',consolas,'Courier New',monospace\"><span style=\"color: #008080; text-decoration-color: #008080; font-weight: bold\">2025</span>-<span style=\"color: #008080; text-decoration-color: #008080; font-weight: bold\">03</span>-<span style=\"color: #008080; text-decoration-color: #008080; font-weight: bold\">13</span> <span style=\"color: #00ff00; text-decoration-color: #00ff00; font-weight: bold\">10:32:05</span>,<span style=\"color: #008080; text-decoration-color: #008080; font-weight: bold\">900</span> - <span style=\"font-weight: bold\">{</span>pytorch_tabular.tabular_datamodul<span style=\"color: #00ff00; text-decoration-color: #00ff00; font-weight: bold\">e:522</span><span style=\"font-weight: bold\">}</span> - INFO - Setting up the datamodule for          \n",
       "regression task                                                                                                    \n",
       "</pre>\n"
      ],
      "text/plain": [
       "\u001b[1;36m2025\u001b[0m-\u001b[1;36m03\u001b[0m-\u001b[1;36m13\u001b[0m \u001b[1;92m10:32:05\u001b[0m,\u001b[1;36m900\u001b[0m - \u001b[1m{\u001b[0mpytorch_tabular.tabular_datamodul\u001b[1;92me:522\u001b[0m\u001b[1m}\u001b[0m - INFO - Setting up the datamodule for          \n",
       "regression task                                                                                                    \n"
      ]
     },
     "metadata": {},
     "output_type": "display_data"
    },
    {
     "data": {
      "text/html": [
       "<pre style=\"white-space:pre;overflow-x:auto;line-height:normal;font-family:Menlo,'DejaVu Sans Mono',consolas,'Courier New',monospace\"><span style=\"color: #008080; text-decoration-color: #008080; font-weight: bold\">2025</span>-<span style=\"color: #008080; text-decoration-color: #008080; font-weight: bold\">03</span>-<span style=\"color: #008080; text-decoration-color: #008080; font-weight: bold\">13</span> <span style=\"color: #00ff00; text-decoration-color: #00ff00; font-weight: bold\">10:32:06</span>,<span style=\"color: #008080; text-decoration-color: #008080; font-weight: bold\">257</span> - <span style=\"font-weight: bold\">{</span>pytorch_tabular.tabular_model:<span style=\"color: #008080; text-decoration-color: #008080; font-weight: bold\">599</span><span style=\"font-weight: bold\">}</span> - INFO - Preparing the Model: CategoryEmbeddingModel \n",
       "</pre>\n"
      ],
      "text/plain": [
       "\u001b[1;36m2025\u001b[0m-\u001b[1;36m03\u001b[0m-\u001b[1;36m13\u001b[0m \u001b[1;92m10:32:06\u001b[0m,\u001b[1;36m257\u001b[0m - \u001b[1m{\u001b[0mpytorch_tabular.tabular_model:\u001b[1;36m599\u001b[0m\u001b[1m}\u001b[0m - INFO - Preparing the Model: CategoryEmbeddingModel \n"
      ]
     },
     "metadata": {},
     "output_type": "display_data"
    },
    {
     "data": {
      "text/html": [
       "<pre style=\"white-space:pre;overflow-x:auto;line-height:normal;font-family:Menlo,'DejaVu Sans Mono',consolas,'Courier New',monospace\"><span style=\"color: #008080; text-decoration-color: #008080; font-weight: bold\">2025</span>-<span style=\"color: #008080; text-decoration-color: #008080; font-weight: bold\">03</span>-<span style=\"color: #008080; text-decoration-color: #008080; font-weight: bold\">13</span> <span style=\"color: #00ff00; text-decoration-color: #00ff00; font-weight: bold\">10:32:06</span>,<span style=\"color: #008080; text-decoration-color: #008080; font-weight: bold\">309</span> - <span style=\"font-weight: bold\">{</span>pytorch_tabular.tabular_model:<span style=\"color: #008080; text-decoration-color: #008080; font-weight: bold\">342</span><span style=\"font-weight: bold\">}</span> - INFO - Preparing the Trainer                       \n",
       "</pre>\n"
      ],
      "text/plain": [
       "\u001b[1;36m2025\u001b[0m-\u001b[1;36m03\u001b[0m-\u001b[1;36m13\u001b[0m \u001b[1;92m10:32:06\u001b[0m,\u001b[1;36m309\u001b[0m - \u001b[1m{\u001b[0mpytorch_tabular.tabular_model:\u001b[1;36m342\u001b[0m\u001b[1m}\u001b[0m - INFO - Preparing the Trainer                       \n"
      ]
     },
     "metadata": {},
     "output_type": "display_data"
    },
    {
     "name": "stderr",
     "output_type": "stream",
     "text": [
      "GPU available: True (cuda), used: True\n",
      "TPU available: False, using: 0 TPU cores\n",
      "HPU available: False, using: 0 HPUs\n"
     ]
    },
    {
     "data": {
      "text/html": [
       "<pre style=\"white-space:pre;overflow-x:auto;line-height:normal;font-family:Menlo,'DejaVu Sans Mono',consolas,'Courier New',monospace\"><span style=\"color: #008080; text-decoration-color: #008080; font-weight: bold\">2025</span>-<span style=\"color: #008080; text-decoration-color: #008080; font-weight: bold\">03</span>-<span style=\"color: #008080; text-decoration-color: #008080; font-weight: bold\">13</span> <span style=\"color: #00ff00; text-decoration-color: #00ff00; font-weight: bold\">10:32:06</span>,<span style=\"color: #008080; text-decoration-color: #008080; font-weight: bold\">379</span> - <span style=\"font-weight: bold\">{</span>pytorch_tabular.tabular_model:<span style=\"color: #008080; text-decoration-color: #008080; font-weight: bold\">656</span><span style=\"font-weight: bold\">}</span> - INFO - Auto LR Find Started                        \n",
       "</pre>\n"
      ],
      "text/plain": [
       "\u001b[1;36m2025\u001b[0m-\u001b[1;36m03\u001b[0m-\u001b[1;36m13\u001b[0m \u001b[1;92m10:32:06\u001b[0m,\u001b[1;36m379\u001b[0m - \u001b[1m{\u001b[0mpytorch_tabular.tabular_model:\u001b[1;36m656\u001b[0m\u001b[1m}\u001b[0m - INFO - Auto LR Find Started                        \n"
      ]
     },
     "metadata": {},
     "output_type": "display_data"
    },
    {
     "name": "stderr",
     "output_type": "stream",
     "text": [
      "You are using a CUDA device ('NVIDIA GeForce RTX 3060 Ti') that has Tensor Cores. To properly utilize them, you should set `torch.set_float32_matmul_precision('medium' | 'high')` which will trade-off precision for performance. For more details, read https://pytorch.org/docs/stable/generated/torch.set_float32_matmul_precision.html#torch.set_float32_matmul_precision\n",
      "LOCAL_RANK: 0 - CUDA_VISIBLE_DEVICES: [0]\n"
     ]
    },
    {
     "data": {
      "application/vnd.jupyter.widget-view+json": {
       "model_id": "d7939f4050a445d5bbc60753a9418102",
       "version_major": 2,
       "version_minor": 0
      },
      "text/plain": [
       "Finding best initial lr:   0%|          | 0/100 [00:00<?, ?it/s]"
      ]
     },
     "metadata": {},
     "output_type": "display_data"
    },
    {
     "name": "stderr",
     "output_type": "stream",
     "text": [
      "`Trainer.fit` stopped: `max_steps=100` reached.\n",
      "Learning rate set to 0.5754399373371567\n",
      "Restoring states from the checkpoint path at c:\\Users\\Alan Wong\\Desktop\\Assignment\\2025_NNDL_IndivAssignment\\.lr_find_350f45ab-f142-4527-873b-e97ea2a31ccc.ckpt\n",
      "Restored all states from the checkpoint at c:\\Users\\Alan Wong\\Desktop\\Assignment\\2025_NNDL_IndivAssignment\\.lr_find_350f45ab-f142-4527-873b-e97ea2a31ccc.ckpt\n"
     ]
    },
    {
     "data": {
      "text/html": [
       "<pre style=\"white-space:pre;overflow-x:auto;line-height:normal;font-family:Menlo,'DejaVu Sans Mono',consolas,'Courier New',monospace\"><span style=\"color: #008080; text-decoration-color: #008080; font-weight: bold\">2025</span>-<span style=\"color: #008080; text-decoration-color: #008080; font-weight: bold\">03</span>-<span style=\"color: #008080; text-decoration-color: #008080; font-weight: bold\">13</span> <span style=\"color: #00ff00; text-decoration-color: #00ff00; font-weight: bold\">10:32:10</span>,<span style=\"color: #008080; text-decoration-color: #008080; font-weight: bold\">232</span> - <span style=\"font-weight: bold\">{</span>pytorch_tabular.tabular_model:<span style=\"color: #008080; text-decoration-color: #008080; font-weight: bold\">669</span><span style=\"font-weight: bold\">}</span> - INFO - Suggested LR: <span style=\"color: #008080; text-decoration-color: #008080; font-weight: bold\">0.5754399373371567</span>. For plot  \n",
       "and detailed analysis, use `find_learning_rate` method.                                                            \n",
       "</pre>\n"
      ],
      "text/plain": [
       "\u001b[1;36m2025\u001b[0m-\u001b[1;36m03\u001b[0m-\u001b[1;36m13\u001b[0m \u001b[1;92m10:32:10\u001b[0m,\u001b[1;36m232\u001b[0m - \u001b[1m{\u001b[0mpytorch_tabular.tabular_model:\u001b[1;36m669\u001b[0m\u001b[1m}\u001b[0m - INFO - Suggested LR: \u001b[1;36m0.5754399373371567\u001b[0m. For plot  \n",
       "and detailed analysis, use `find_learning_rate` method.                                                            \n"
      ]
     },
     "metadata": {},
     "output_type": "display_data"
    },
    {
     "data": {
      "text/html": [
       "<pre style=\"white-space:pre;overflow-x:auto;line-height:normal;font-family:Menlo,'DejaVu Sans Mono',consolas,'Courier New',monospace\"><span style=\"color: #008080; text-decoration-color: #008080; font-weight: bold\">2025</span>-<span style=\"color: #008080; text-decoration-color: #008080; font-weight: bold\">03</span>-<span style=\"color: #008080; text-decoration-color: #008080; font-weight: bold\">13</span> <span style=\"color: #00ff00; text-decoration-color: #00ff00; font-weight: bold\">10:32:10</span>,<span style=\"color: #008080; text-decoration-color: #008080; font-weight: bold\">234</span> - <span style=\"font-weight: bold\">{</span>pytorch_tabular.tabular_model:<span style=\"color: #008080; text-decoration-color: #008080; font-weight: bold\">678</span><span style=\"font-weight: bold\">}</span> - INFO - Training Started                            \n",
       "</pre>\n"
      ],
      "text/plain": [
       "\u001b[1;36m2025\u001b[0m-\u001b[1;36m03\u001b[0m-\u001b[1;36m13\u001b[0m \u001b[1;92m10:32:10\u001b[0m,\u001b[1;36m234\u001b[0m - \u001b[1m{\u001b[0mpytorch_tabular.tabular_model:\u001b[1;36m678\u001b[0m\u001b[1m}\u001b[0m - INFO - Training Started                            \n"
      ]
     },
     "metadata": {},
     "output_type": "display_data"
    },
    {
     "name": "stderr",
     "output_type": "stream",
     "text": [
      "LOCAL_RANK: 0 - CUDA_VISIBLE_DEVICES: [0]\n"
     ]
    },
    {
     "data": {
      "text/html": [
       "<pre style=\"white-space:pre;overflow-x:auto;line-height:normal;font-family:Menlo,'DejaVu Sans Mono',consolas,'Courier New',monospace\">┏━━━┳━━━━━━━━━━━━━━━━━━┳━━━━━━━━━━━━━━━━━━━━━━━━━━━┳━━━━━━━━┳━━━━━━━┓\n",
       "┃<span style=\"color: #800080; text-decoration-color: #800080; font-weight: bold\">   </span>┃<span style=\"color: #800080; text-decoration-color: #800080; font-weight: bold\"> Name             </span>┃<span style=\"color: #800080; text-decoration-color: #800080; font-weight: bold\"> Type                      </span>┃<span style=\"color: #800080; text-decoration-color: #800080; font-weight: bold\"> Params </span>┃<span style=\"color: #800080; text-decoration-color: #800080; font-weight: bold\"> Mode  </span>┃\n",
       "┡━━━╇━━━━━━━━━━━━━━━━━━╇━━━━━━━━━━━━━━━━━━━━━━━━━━━╇━━━━━━━━╇━━━━━━━┩\n",
       "│<span style=\"color: #7f7f7f; text-decoration-color: #7f7f7f\"> 0 </span>│ _backbone        │ CategoryEmbeddingBackbone │  3.0 K │ train │\n",
       "│<span style=\"color: #7f7f7f; text-decoration-color: #7f7f7f\"> 1 </span>│ _embedding_layer │ Embedding1dLayer          │  1.6 K │ train │\n",
       "│<span style=\"color: #7f7f7f; text-decoration-color: #7f7f7f\"> 2 </span>│ head             │ LinearHead                │     51 │ train │\n",
       "│<span style=\"color: #7f7f7f; text-decoration-color: #7f7f7f\"> 3 </span>│ loss             │ MSELoss                   │      0 │ train │\n",
       "└───┴──────────────────┴───────────────────────────┴────────┴───────┘\n",
       "</pre>\n"
      ],
      "text/plain": [
       "┏━━━┳━━━━━━━━━━━━━━━━━━┳━━━━━━━━━━━━━━━━━━━━━━━━━━━┳━━━━━━━━┳━━━━━━━┓\n",
       "┃\u001b[1;35m \u001b[0m\u001b[1;35m \u001b[0m\u001b[1;35m \u001b[0m┃\u001b[1;35m \u001b[0m\u001b[1;35mName            \u001b[0m\u001b[1;35m \u001b[0m┃\u001b[1;35m \u001b[0m\u001b[1;35mType                     \u001b[0m\u001b[1;35m \u001b[0m┃\u001b[1;35m \u001b[0m\u001b[1;35mParams\u001b[0m\u001b[1;35m \u001b[0m┃\u001b[1;35m \u001b[0m\u001b[1;35mMode \u001b[0m\u001b[1;35m \u001b[0m┃\n",
       "┡━━━╇━━━━━━━━━━━━━━━━━━╇━━━━━━━━━━━━━━━━━━━━━━━━━━━╇━━━━━━━━╇━━━━━━━┩\n",
       "│\u001b[2m \u001b[0m\u001b[2m0\u001b[0m\u001b[2m \u001b[0m│ _backbone        │ CategoryEmbeddingBackbone │  3.0 K │ train │\n",
       "│\u001b[2m \u001b[0m\u001b[2m1\u001b[0m\u001b[2m \u001b[0m│ _embedding_layer │ Embedding1dLayer          │  1.6 K │ train │\n",
       "│\u001b[2m \u001b[0m\u001b[2m2\u001b[0m\u001b[2m \u001b[0m│ head             │ LinearHead                │     51 │ train │\n",
       "│\u001b[2m \u001b[0m\u001b[2m3\u001b[0m\u001b[2m \u001b[0m│ loss             │ MSELoss                   │      0 │ train │\n",
       "└───┴──────────────────┴───────────────────────────┴────────┴───────┘\n"
      ]
     },
     "metadata": {},
     "output_type": "display_data"
    },
    {
     "data": {
      "text/html": [
       "<pre style=\"white-space:pre;overflow-x:auto;line-height:normal;font-family:Menlo,'DejaVu Sans Mono',consolas,'Courier New',monospace\"><span style=\"font-weight: bold\">Trainable params</span>: 4.6 K                                                                                            \n",
       "<span style=\"font-weight: bold\">Non-trainable params</span>: 0                                                                                            \n",
       "<span style=\"font-weight: bold\">Total params</span>: 4.6 K                                                                                                \n",
       "<span style=\"font-weight: bold\">Total estimated model params size (MB)</span>: 0                                                                          \n",
       "<span style=\"font-weight: bold\">Modules in train mode</span>: 16                                                                                          \n",
       "<span style=\"font-weight: bold\">Modules in eval mode</span>: 0                                                                                            \n",
       "</pre>\n"
      ],
      "text/plain": [
       "\u001b[1mTrainable params\u001b[0m: 4.6 K                                                                                            \n",
       "\u001b[1mNon-trainable params\u001b[0m: 0                                                                                            \n",
       "\u001b[1mTotal params\u001b[0m: 4.6 K                                                                                                \n",
       "\u001b[1mTotal estimated model params size (MB)\u001b[0m: 0                                                                          \n",
       "\u001b[1mModules in train mode\u001b[0m: 16                                                                                          \n",
       "\u001b[1mModules in eval mode\u001b[0m: 0                                                                                            \n"
      ]
     },
     "metadata": {},
     "output_type": "display_data"
    },
    {
     "data": {
      "application/vnd.jupyter.widget-view+json": {
       "model_id": "a67aec82b7974615a318cde16eaeadb8",
       "version_major": 2,
       "version_minor": 0
      },
      "text/plain": [
       "Output()"
      ]
     },
     "metadata": {},
     "output_type": "display_data"
    },
    {
     "data": {
      "text/html": [
       "<pre style=\"white-space:pre;overflow-x:auto;line-height:normal;font-family:Menlo,'DejaVu Sans Mono',consolas,'Courier New',monospace\"></pre>\n"
      ],
      "text/plain": []
     },
     "metadata": {},
     "output_type": "display_data"
    },
    {
     "data": {
      "text/html": [
       "<pre style=\"white-space:pre;overflow-x:auto;line-height:normal;font-family:Menlo,'DejaVu Sans Mono',consolas,'Courier New',monospace\"><span style=\"color: #008080; text-decoration-color: #008080; font-weight: bold\">2025</span>-<span style=\"color: #008080; text-decoration-color: #008080; font-weight: bold\">03</span>-<span style=\"color: #008080; text-decoration-color: #008080; font-weight: bold\">13</span> <span style=\"color: #00ff00; text-decoration-color: #00ff00; font-weight: bold\">10:32:54</span>,<span style=\"color: #008080; text-decoration-color: #008080; font-weight: bold\">231</span> - <span style=\"font-weight: bold\">{</span>pytorch_tabular.tabular_model:<span style=\"color: #008080; text-decoration-color: #008080; font-weight: bold\">689</span><span style=\"font-weight: bold\">}</span> - INFO - Training the model completed                \n",
       "</pre>\n"
      ],
      "text/plain": [
       "\u001b[1;36m2025\u001b[0m-\u001b[1;36m03\u001b[0m-\u001b[1;36m13\u001b[0m \u001b[1;92m10:32:54\u001b[0m,\u001b[1;36m231\u001b[0m - \u001b[1m{\u001b[0mpytorch_tabular.tabular_model:\u001b[1;36m689\u001b[0m\u001b[1m}\u001b[0m - INFO - Training the model completed                \n"
      ]
     },
     "metadata": {},
     "output_type": "display_data"
    },
    {
     "data": {
      "text/html": [
       "<pre style=\"white-space:pre;overflow-x:auto;line-height:normal;font-family:Menlo,'DejaVu Sans Mono',consolas,'Courier New',monospace\"><span style=\"color: #008080; text-decoration-color: #008080; font-weight: bold\">2025</span>-<span style=\"color: #008080; text-decoration-color: #008080; font-weight: bold\">03</span>-<span style=\"color: #008080; text-decoration-color: #008080; font-weight: bold\">13</span> <span style=\"color: #00ff00; text-decoration-color: #00ff00; font-weight: bold\">10:32:54</span>,<span style=\"color: #008080; text-decoration-color: #008080; font-weight: bold\">234</span> - <span style=\"font-weight: bold\">{</span>pytorch_tabular.tabular_model:<span style=\"color: #008080; text-decoration-color: #008080; font-weight: bold\">1529</span><span style=\"font-weight: bold\">}</span> - INFO - Loading the best model                     \n",
       "</pre>\n"
      ],
      "text/plain": [
       "\u001b[1;36m2025\u001b[0m-\u001b[1;36m03\u001b[0m-\u001b[1;36m13\u001b[0m \u001b[1;92m10:32:54\u001b[0m,\u001b[1;36m234\u001b[0m - \u001b[1m{\u001b[0mpytorch_tabular.tabular_model:\u001b[1;36m1529\u001b[0m\u001b[1m}\u001b[0m - INFO - Loading the best model                     \n"
      ]
     },
     "metadata": {},
     "output_type": "display_data"
    },
    {
     "ename": "UnpicklingError",
     "evalue": "Weights only load failed. This file can still be loaded, to do so you have two options, \u001b[1mdo those steps only if you trust the source of the checkpoint\u001b[0m. \n\t(1) In PyTorch 2.6, we changed the default value of the `weights_only` argument in `torch.load` from `False` to `True`. Re-running `torch.load` with `weights_only` set to `False` will likely succeed, but it can result in arbitrary code execution. Do it only if you got the file from a trusted source.\n\t(2) Alternatively, to load with `weights_only=True` please check the recommended steps in the following error message.\n\tWeightsUnpickler error: Unsupported global: GLOBAL omegaconf.dictconfig.DictConfig was not an allowed global by default. Please use `torch.serialization.add_safe_globals([DictConfig])` or the `torch.serialization.safe_globals([DictConfig])` context manager to allowlist this global if you trust this class/function.\n\nCheck the documentation of torch.load to learn more about types accepted by default with weights_only https://pytorch.org/docs/stable/generated/torch.load.html.",
     "output_type": "error",
     "traceback": [
      "\u001b[31m---------------------------------------------------------------------------\u001b[39m",
      "\u001b[31mUnpicklingError\u001b[39m                           Traceback (most recent call last)",
      "\u001b[36mCell\u001b[39m\u001b[36m \u001b[39m\u001b[32mIn[5]\u001b[39m\u001b[32m, line 2\u001b[39m\n\u001b[32m      1\u001b[39m \u001b[38;5;66;03m# TODO: Enter your code here\u001b[39;00m\n\u001b[32m----> \u001b[39m\u001b[32m2\u001b[39m \u001b[43mtabular_model\u001b[49m\u001b[43m.\u001b[49m\u001b[43mfit\u001b[49m\u001b[43m(\u001b[49m\u001b[43mtrain\u001b[49m\u001b[43m=\u001b[49m\u001b[43mtrain_data\u001b[49m\u001b[43m)\u001b[49m\n",
      "\u001b[36mFile \u001b[39m\u001b[32mc:\\Users\\Alan Wong\\Desktop\\Assignment\\2025_NNDL_IndivAssignment\\.venv\\Lib\\site-packages\\pytorch_tabular\\tabular_model.py:806\u001b[39m, in \u001b[36mTabularModel.fit\u001b[39m\u001b[34m(self, train, validation, loss, metrics, metrics_prob_inputs, optimizer, optimizer_params, train_sampler, target_transform, max_epochs, min_epochs, seed, callbacks, datamodule, cache_data, handle_oom)\u001b[39m\n\u001b[32m    792\u001b[39m         warnings.warn(\n\u001b[32m    793\u001b[39m             \u001b[33m\"\u001b[39m\u001b[33mtrain data and datamodule is provided.\u001b[39m\u001b[33m\"\u001b[39m\n\u001b[32m    794\u001b[39m             \u001b[33m\"\u001b[39m\u001b[33m Ignoring the train data and using the datamodule.\u001b[39m\u001b[33m\"\u001b[39m\n\u001b[32m    795\u001b[39m             \u001b[33m\"\u001b[39m\u001b[33m Set either one of them to None to avoid this warning.\u001b[39m\u001b[33m\"\u001b[39m\n\u001b[32m    796\u001b[39m         )\n\u001b[32m    797\u001b[39m model = \u001b[38;5;28mself\u001b[39m.prepare_model(\n\u001b[32m    798\u001b[39m     datamodule,\n\u001b[32m    799\u001b[39m     loss,\n\u001b[32m   (...)\u001b[39m\u001b[32m    803\u001b[39m     optimizer_params \u001b[38;5;129;01mor\u001b[39;00m {},\n\u001b[32m    804\u001b[39m )\n\u001b[32m--> \u001b[39m\u001b[32m806\u001b[39m \u001b[38;5;28;01mreturn\u001b[39;00m \u001b[38;5;28;43mself\u001b[39;49m\u001b[43m.\u001b[49m\u001b[43mtrain\u001b[49m\u001b[43m(\u001b[49m\u001b[43mmodel\u001b[49m\u001b[43m,\u001b[49m\u001b[43m \u001b[49m\u001b[43mdatamodule\u001b[49m\u001b[43m,\u001b[49m\u001b[43m \u001b[49m\u001b[43mcallbacks\u001b[49m\u001b[43m,\u001b[49m\u001b[43m \u001b[49m\u001b[43mmax_epochs\u001b[49m\u001b[43m,\u001b[49m\u001b[43m \u001b[49m\u001b[43mmin_epochs\u001b[49m\u001b[43m,\u001b[49m\u001b[43m \u001b[49m\u001b[43mhandle_oom\u001b[49m\u001b[43m)\u001b[49m\n",
      "\u001b[36mFile \u001b[39m\u001b[32mc:\\Users\\Alan Wong\\Desktop\\Assignment\\2025_NNDL_IndivAssignment\\.venv\\Lib\\site-packages\\pytorch_tabular\\tabular_model.py:691\u001b[39m, in \u001b[36mTabularModel.train\u001b[39m\u001b[34m(self, model, datamodule, callbacks, max_epochs, min_epochs, handle_oom)\u001b[39m\n\u001b[32m    689\u001b[39m     logger.info(\u001b[33m\"\u001b[39m\u001b[33mTraining the model completed\u001b[39m\u001b[33m\"\u001b[39m)\n\u001b[32m    690\u001b[39m \u001b[38;5;28;01mif\u001b[39;00m \u001b[38;5;28mself\u001b[39m.config.load_best:\n\u001b[32m--> \u001b[39m\u001b[32m691\u001b[39m     \u001b[38;5;28;43mself\u001b[39;49m\u001b[43m.\u001b[49m\u001b[43mload_best_model\u001b[49m\u001b[43m(\u001b[49m\u001b[43m)\u001b[49m\n\u001b[32m    692\u001b[39m \u001b[38;5;28;01mreturn\u001b[39;00m \u001b[38;5;28mself\u001b[39m.trainer\n",
      "\u001b[36mFile \u001b[39m\u001b[32mc:\\Users\\Alan Wong\\Desktop\\Assignment\\2025_NNDL_IndivAssignment\\.venv\\Lib\\site-packages\\pytorch_tabular\\tabular_model.py:1534\u001b[39m, in \u001b[36mTabularModel.load_best_model\u001b[39m\u001b[34m(self)\u001b[39m\n\u001b[32m   1532\u001b[39m     \u001b[38;5;28;01mif\u001b[39;00m \u001b[38;5;28mself\u001b[39m.verbose:\n\u001b[32m   1533\u001b[39m         logger.debug(\u001b[33mf\u001b[39m\u001b[33m\"\u001b[39m\u001b[33mModel Checkpoint: \u001b[39m\u001b[38;5;132;01m{\u001b[39;00mckpt_path\u001b[38;5;132;01m}\u001b[39;00m\u001b[33m\"\u001b[39m)\n\u001b[32m-> \u001b[39m\u001b[32m1534\u001b[39m     ckpt = \u001b[43mpl_load\u001b[49m\u001b[43m(\u001b[49m\u001b[43mckpt_path\u001b[49m\u001b[43m,\u001b[49m\u001b[43m \u001b[49m\u001b[43mmap_location\u001b[49m\u001b[43m=\u001b[49m\u001b[38;5;28;43;01mlambda\u001b[39;49;00m\u001b[43m \u001b[49m\u001b[43mstorage\u001b[49m\u001b[43m,\u001b[49m\u001b[43m \u001b[49m\u001b[43mloc\u001b[49m\u001b[43m:\u001b[49m\u001b[43m \u001b[49m\u001b[43mstorage\u001b[49m\u001b[43m)\u001b[49m\n\u001b[32m   1535\u001b[39m     \u001b[38;5;28mself\u001b[39m.model.load_state_dict(ckpt[\u001b[33m\"\u001b[39m\u001b[33mstate_dict\u001b[39m\u001b[33m\"\u001b[39m])\n\u001b[32m   1536\u001b[39m \u001b[38;5;28;01melse\u001b[39;00m:\n",
      "\u001b[36mFile \u001b[39m\u001b[32mc:\\Users\\Alan Wong\\Desktop\\Assignment\\2025_NNDL_IndivAssignment\\.venv\\Lib\\site-packages\\pytorch_tabular\\utils\\python_utils.py:85\u001b[39m, in \u001b[36mpl_load\u001b[39m\u001b[34m(path_or_url, map_location)\u001b[39m\n\u001b[32m     83\u001b[39m fs = get_filesystem(path_or_url)\n\u001b[32m     84\u001b[39m \u001b[38;5;28;01mwith\u001b[39;00m fs.open(path_or_url, \u001b[33m\"\u001b[39m\u001b[33mrb\u001b[39m\u001b[33m\"\u001b[39m) \u001b[38;5;28;01mas\u001b[39;00m f:\n\u001b[32m---> \u001b[39m\u001b[32m85\u001b[39m     \u001b[38;5;28;01mreturn\u001b[39;00m \u001b[43mtorch\u001b[49m\u001b[43m.\u001b[49m\u001b[43mload\u001b[49m\u001b[43m(\u001b[49m\u001b[43mf\u001b[49m\u001b[43m,\u001b[49m\u001b[43m \u001b[49m\u001b[43mmap_location\u001b[49m\u001b[43m=\u001b[49m\u001b[43mmap_location\u001b[49m\u001b[43m)\u001b[49m\n",
      "\u001b[36mFile \u001b[39m\u001b[32mc:\\Users\\Alan Wong\\Desktop\\Assignment\\2025_NNDL_IndivAssignment\\.venv\\Lib\\site-packages\\torch\\serialization.py:1470\u001b[39m, in \u001b[36mload\u001b[39m\u001b[34m(f, map_location, pickle_module, weights_only, mmap, **pickle_load_args)\u001b[39m\n\u001b[32m   1462\u001b[39m                 \u001b[38;5;28;01mreturn\u001b[39;00m _load(\n\u001b[32m   1463\u001b[39m                     opened_zipfile,\n\u001b[32m   1464\u001b[39m                     map_location,\n\u001b[32m   (...)\u001b[39m\u001b[32m   1467\u001b[39m                     **pickle_load_args,\n\u001b[32m   1468\u001b[39m                 )\n\u001b[32m   1469\u001b[39m             \u001b[38;5;28;01mexcept\u001b[39;00m pickle.UnpicklingError \u001b[38;5;28;01mas\u001b[39;00m e:\n\u001b[32m-> \u001b[39m\u001b[32m1470\u001b[39m                 \u001b[38;5;28;01mraise\u001b[39;00m pickle.UnpicklingError(_get_wo_message(\u001b[38;5;28mstr\u001b[39m(e))) \u001b[38;5;28;01mfrom\u001b[39;00m\u001b[38;5;250m \u001b[39m\u001b[38;5;28;01mNone\u001b[39;00m\n\u001b[32m   1471\u001b[39m         \u001b[38;5;28;01mreturn\u001b[39;00m _load(\n\u001b[32m   1472\u001b[39m             opened_zipfile,\n\u001b[32m   1473\u001b[39m             map_location,\n\u001b[32m   (...)\u001b[39m\u001b[32m   1476\u001b[39m             **pickle_load_args,\n\u001b[32m   1477\u001b[39m         )\n\u001b[32m   1478\u001b[39m \u001b[38;5;28;01mif\u001b[39;00m mmap:\n",
      "\u001b[31mUnpicklingError\u001b[39m: Weights only load failed. This file can still be loaded, to do so you have two options, \u001b[1mdo those steps only if you trust the source of the checkpoint\u001b[0m. \n\t(1) In PyTorch 2.6, we changed the default value of the `weights_only` argument in `torch.load` from `False` to `True`. Re-running `torch.load` with `weights_only` set to `False` will likely succeed, but it can result in arbitrary code execution. Do it only if you got the file from a trusted source.\n\t(2) Alternatively, to load with `weights_only=True` please check the recommended steps in the following error message.\n\tWeightsUnpickler error: Unsupported global: GLOBAL omegaconf.dictconfig.DictConfig was not an allowed global by default. Please use `torch.serialization.add_safe_globals([DictConfig])` or the `torch.serialization.safe_globals([DictConfig])` context manager to allowlist this global if you trust this class/function.\n\nCheck the documentation of torch.load to learn more about types accepted by default with weights_only https://pytorch.org/docs/stable/generated/torch.load.html."
     ]
    }
   ],
   "source": [
    "# TODO: Enter your code here\n",
    "tabular_model.fit(train=train_data)"
   ]
  },
  {
   "cell_type": "markdown",
   "metadata": {},
   "source": [
    "Ignore the error above, refer to https://github.com/pytorch/opacus/issues/690\n"
   ]
  },
  {
   "cell_type": "code",
   "execution_count": 6,
   "metadata": {},
   "outputs": [
    {
     "name": "stderr",
     "output_type": "stream",
     "text": [
      "LOCAL_RANK: 0 - CUDA_VISIBLE_DEVICES: [0]\n"
     ]
    },
    {
     "data": {
      "application/vnd.jupyter.widget-view+json": {
       "model_id": "5f663fe69871411887a3c30fe936fbb8",
       "version_major": 2,
       "version_minor": 0
      },
      "text/plain": [
       "Output()"
      ]
     },
     "metadata": {},
     "output_type": "display_data"
    },
    {
     "data": {
      "text/html": [
       "<pre style=\"white-space:pre;overflow-x:auto;line-height:normal;font-family:Menlo,'DejaVu Sans Mono',consolas,'Courier New',monospace\">┏━━━━━━━━━━━━━━━━━━━━━━━━━━━┳━━━━━━━━━━━━━━━━━━━━━━━━━━━┓\n",
       "┃<span style=\"font-weight: bold\">        Test metric        </span>┃<span style=\"font-weight: bold\">       DataLoader 0        </span>┃\n",
       "┡━━━━━━━━━━━━━━━━━━━━━━━━━━━╇━━━━━━━━━━━━━━━━━━━━━━━━━━━┩\n",
       "│<span style=\"color: #008080; text-decoration-color: #008080\">         test_loss         </span>│<span style=\"color: #800080; text-decoration-color: #800080\">       7061430784.0        </span>│\n",
       "│<span style=\"color: #008080; text-decoration-color: #008080\">  test_mean_squared_error  </span>│<span style=\"color: #800080; text-decoration-color: #800080\">       7061430784.0        </span>│\n",
       "└───────────────────────────┴───────────────────────────┘\n",
       "</pre>\n"
      ],
      "text/plain": [
       "┏━━━━━━━━━━━━━━━━━━━━━━━━━━━┳━━━━━━━━━━━━━━━━━━━━━━━━━━━┓\n",
       "┃\u001b[1m \u001b[0m\u001b[1m       Test metric       \u001b[0m\u001b[1m \u001b[0m┃\u001b[1m \u001b[0m\u001b[1m      DataLoader 0       \u001b[0m\u001b[1m \u001b[0m┃\n",
       "┡━━━━━━━━━━━━━━━━━━━━━━━━━━━╇━━━━━━━━━━━━━━━━━━━━━━━━━━━┩\n",
       "│\u001b[36m \u001b[0m\u001b[36m        test_loss        \u001b[0m\u001b[36m \u001b[0m│\u001b[35m \u001b[0m\u001b[35m      7061430784.0       \u001b[0m\u001b[35m \u001b[0m│\n",
       "│\u001b[36m \u001b[0m\u001b[36m test_mean_squared_error \u001b[0m\u001b[36m \u001b[0m│\u001b[35m \u001b[0m\u001b[35m      7061430784.0       \u001b[0m\u001b[35m \u001b[0m│\n",
       "└───────────────────────────┴───────────────────────────┘\n"
      ]
     },
     "metadata": {},
     "output_type": "display_data"
    },
    {
     "data": {
      "text/html": [
       "<pre style=\"white-space:pre;overflow-x:auto;line-height:normal;font-family:Menlo,'DejaVu Sans Mono',consolas,'Courier New',monospace\"></pre>\n"
      ],
      "text/plain": []
     },
     "metadata": {},
     "output_type": "display_data"
    },
    {
     "data": {
      "text/html": [
       "<div>\n",
       "<style scoped>\n",
       "    .dataframe tbody tr th:only-of-type {\n",
       "        vertical-align: middle;\n",
       "    }\n",
       "\n",
       "    .dataframe tbody tr th {\n",
       "        vertical-align: top;\n",
       "    }\n",
       "\n",
       "    .dataframe thead th {\n",
       "        text-align: right;\n",
       "    }\n",
       "</style>\n",
       "<table border=\"1\" class=\"dataframe\">\n",
       "  <thead>\n",
       "    <tr style=\"text-align: right;\">\n",
       "      <th></th>\n",
       "      <th>resale_price_prediction</th>\n",
       "    </tr>\n",
       "  </thead>\n",
       "  <tbody>\n",
       "    <tr>\n",
       "      <th>87370</th>\n",
       "      <td>180037.859375</td>\n",
       "    </tr>\n",
       "    <tr>\n",
       "      <th>87371</th>\n",
       "      <td>199845.750000</td>\n",
       "    </tr>\n",
       "    <tr>\n",
       "      <th>87372</th>\n",
       "      <td>263775.468750</td>\n",
       "    </tr>\n",
       "    <tr>\n",
       "      <th>87373</th>\n",
       "      <td>258580.296875</td>\n",
       "    </tr>\n",
       "    <tr>\n",
       "      <th>87374</th>\n",
       "      <td>239442.968750</td>\n",
       "    </tr>\n",
       "  </tbody>\n",
       "</table>\n",
       "</div>"
      ],
      "text/plain": [
       "       resale_price_prediction\n",
       "87370            180037.859375\n",
       "87371            199845.750000\n",
       "87372            263775.468750\n",
       "87373            258580.296875\n",
       "87374            239442.968750"
      ]
     },
     "execution_count": 6,
     "metadata": {},
     "output_type": "execute_result"
    }
   ],
   "source": [
    "result = tabular_model.evaluate(test_data)\n",
    "pred_df = tabular_model.predict(test_data)\n",
    "pred_df.head()"
   ]
  },
  {
   "cell_type": "code",
   "execution_count": 7,
   "metadata": {},
   "outputs": [
    {
     "name": "stdout",
     "output_type": "stream",
     "text": [
      "tensor([180037.8594, 199845.7500, 263775.4688,  ..., 612104.0625,\n",
      "        659099.5625, 736628.8750])\n",
      "tensor([211000., 225000., 260000.,  ..., 755000., 848000., 865000.],\n",
      "       dtype=torch.float64)\n",
      "RMSE: 84032.32037678786\n",
      "R2 Score: 0.6900202396195119\n"
     ]
    }
   ],
   "source": [
    "import math\n",
    "# pip install torcheval\n",
    "# from torcheval.metrics.functional import r2_score\n",
    "from sklearn.metrics import r2_score, root_mean_squared_error\n",
    "\n",
    "# Extract predicted values\n",
    "predicted = torch.tensor(pred_df[\"resale_price_prediction\"].values)\n",
    "\n",
    "# Extract ground truth values\n",
    "actual = torch.tensor(test_data[\"resale_price\"].values)\n",
    "\n",
    "print(predicted)\n",
    "print(actual)\n",
    "# Compute R2 score and RMSE\n",
    "rmse = root_mean_squared_error(predicted,actual)\n",
    "# rmse = math.sqrt(result[0]['test_mean_squared_error'])\n",
    "r2 = r2_score(predicted, actual)\n",
    "print(\"RMSE:\", rmse)\n",
    "print(\"R2 Score:\", r2)\n"
   ]
  },
  {
   "cell_type": "markdown",
   "metadata": {
    "id": "NEJhRU18qX22"
   },
   "source": [
    "> Print out the corresponding rows in the dataframe for the top 25 test samples with the largest errors. \n",
    "\n"
   ]
  },
  {
   "cell_type": "code",
   "execution_count": 8,
   "metadata": {
    "id": "5ma5K9vKqZEq"
   },
   "outputs": [
    {
     "name": "stdout",
     "output_type": "stream",
     "text": [
      "        month  year             town                full_address  \\\n",
      "100836      6  2021  KALLANG/WHAMPOA            39 JALAN BAHAGIA   \n",
      "92405      11  2021      BUKIT MERAH            46 SENG POH ROAD   \n",
      "90608      12  2021           BISHAN       273B BISHAN STREET 24   \n",
      "90957       6  2021      BUKIT BATOK  288A BUKIT BATOK STREET 25   \n",
      "90432       8  2021           BISHAN       275A BISHAN STREET 24   \n",
      "112128     12  2021         TAMPINES      156 TAMPINES STREET 12   \n",
      "100914      7  2021  KALLANG/WHAMPOA            50 JALAN BAHAGIA   \n",
      "100700      4  2021  KALLANG/WHAMPOA            51 JALAN BAHAGIA   \n",
      "90523      10  2021           BISHAN       273B BISHAN STREET 24   \n",
      "88081       8  2021       ANG MO KIO    310A ANG MO KIO AVENUE 1   \n",
      "90483       9  2021           BISHAN       273A BISHAN STREET 24   \n",
      "114389     10  2021        WOODLANDS     805 WOODLANDS STREET 81   \n",
      "90521      10  2021           BISHAN        237 BISHAN STREET 22   \n",
      "89770      10  2021            BEDOK           103 LENGKONG TIGA   \n",
      "92442      11  2021      BUKIT MERAH          127D KIM TIAN ROAD   \n",
      "90253       4  2021           BISHAN       273B BISHAN STREET 24   \n",
      "90607      12  2021           BISHAN       273B BISHAN STREET 24   \n",
      "98379      12  2021          HOUGANG        615 HOUGANG AVENUE 8   \n",
      "90382       7  2021           BISHAN        251 BISHAN STREET 22   \n",
      "88822       3  2021            BEDOK          219B BEDOK CENTRAL   \n",
      "90431       8  2021           BISHAN       273A BISHAN STREET 24   \n",
      "106132     11  2021       QUEENSTOWN       50 COMMONWEALTH DRIVE   \n",
      "90340       6  2021           BISHAN       273A BISHAN STREET 24   \n",
      "105837      8  2021       QUEENSTOWN       91 COMMONWEALTH DRIVE   \n",
      "112367      3  2021        TOA PAYOH       66 LORONG 4 TOA PAYOH   \n",
      "\n",
      "         nearest_stn  dist_to_nearest_stn  dist_to_dhoby  degree_centrality  \\\n",
      "100836     Boon Keng             0.998313       3.304953           0.016807   \n",
      "92405    Tiong Bahru             0.581977       2.309477           0.016807   \n",
      "90608         Bishan             0.776182       6.297489           0.033613   \n",
      "90957    Bukit Batok             1.292540      10.763777           0.016807   \n",
      "90432         Bishan             0.827889       6.370404           0.033613   \n",
      "112128      Tampines             0.370873      12.479752           0.033613   \n",
      "100914     Boon Keng             1.034288       3.360020           0.016807   \n",
      "100700     Boon Keng             1.051252       3.355942           0.016807   \n",
      "90523         Bishan             0.776182       6.297489           0.033613   \n",
      "88081     Ang Mo Kio             0.860056       7.263401           0.016807   \n",
      "90483         Bishan             0.767244       6.327956           0.033613   \n",
      "114389     Woodlands             0.419275      16.945885           0.016807   \n",
      "90521         Bishan             0.947205       6.663943           0.033613   \n",
      "89770      Kembangan             0.622824       7.791966           0.016807   \n",
      "92442    Tiong Bahru             0.686789       2.664024           0.016807   \n",
      "90253         Bishan             0.776182       6.297489           0.033613   \n",
      "90607         Bishan             0.776182       6.297489           0.033613   \n",
      "98379        Hougang             0.899849       8.828235           0.016807   \n",
      "90382     Ang Mo Kio             1.081018       6.939944           0.016807   \n",
      "88822          Bedok             0.403294      10.189193           0.016807   \n",
      "90431         Bishan             0.767244       6.327956           0.033613   \n",
      "106132  Commonwealth             0.197249       5.421535           0.016807   \n",
      "90340         Bishan             0.767244       6.327956           0.033613   \n",
      "105837  Commonwealth             0.411755       5.176582           0.016807   \n",
      "112367     Toa Payoh             0.562729       4.018913           0.016807   \n",
      "\n",
      "        eigenvector_centrality        flat_model_type  remaining_lease_years  \\\n",
      "100836                0.053004        3 ROOM, Terrace              50.083333   \n",
      "92405                 0.047782       3 ROOM, Standard              50.166667   \n",
      "90608                 0.015854           5 ROOM, DBSS              88.833333   \n",
      "90957                 0.000217   EXECUTIVE, Apartment              75.583333   \n",
      "90432                 0.015854           5 ROOM, DBSS              88.916667   \n",
      "112128                0.000229  EXECUTIVE, Maisonette              61.750000   \n",
      "100914                0.053004        3 ROOM, Terrace              50.083333   \n",
      "100700                0.053004        3 ROOM, Terrace              50.333333   \n",
      "90523                 0.015854           5 ROOM, DBSS              88.916667   \n",
      "88081                 0.006243       5 ROOM, Improved              90.166667   \n",
      "90483                 0.015854           5 ROOM, DBSS              89.000000   \n",
      "114389                0.000024   EXECUTIVE, Apartment              71.250000   \n",
      "90521                 0.015854       5 ROOM, Improved              69.583333   \n",
      "89770                 0.002799       5 ROOM, Improved              66.333333   \n",
      "92442                 0.047782       5 ROOM, Improved              90.333333   \n",
      "90253                 0.015854           5 ROOM, DBSS              89.416667   \n",
      "90607                 0.015854           5 ROOM, DBSS              88.750000   \n",
      "98379                 0.001507   EXECUTIVE, Apartment              63.666667   \n",
      "90382                 0.006243       5 ROOM, Improved              70.166667   \n",
      "88822                 0.001156       5 ROOM, Improved              88.166667   \n",
      "90431                 0.015854           5 ROOM, DBSS              89.083333   \n",
      "106132                0.005350       5 ROOM, Improved              92.333333   \n",
      "90340                 0.015854           5 ROOM, DBSS              89.250000   \n",
      "105837                0.005350  4 ROOM, Adjoined flat              44.500000   \n",
      "112367                0.036944  4 ROOM, Adjoined flat              46.833333   \n",
      "\n",
      "        floor_area_sqm storey_range  resale_price  absolute_error  \n",
      "100836           210.0     01 TO 03     1268000.0    406047.25000  \n",
      "92405             88.0     01 TO 03      780000.0    379957.34375  \n",
      "90608            120.0     37 TO 39     1360000.0    364840.31250  \n",
      "90957            144.0     10 TO 12      968000.0    344270.12500  \n",
      "90432            120.0     25 TO 27     1280000.0    333245.25000  \n",
      "112128           148.0     01 TO 03      998000.0    332134.43750  \n",
      "100914           174.0     01 TO 03     1140000.0    324530.18750  \n",
      "100700           178.0     01 TO 03     1140000.0    317951.50000  \n",
      "90523            120.0     22 TO 24     1260000.0    313562.93750  \n",
      "88081            121.0     28 TO 30     1100000.0    311970.31250  \n",
      "90483            120.0     37 TO 39     1295000.0    305217.37500  \n",
      "114389           189.0     04 TO 06      980000.0    301765.93750  \n",
      "90521            121.0     07 TO 09      988000.0    301698.25000  \n",
      "89770            126.0     10 TO 12      868000.0    301294.37500  \n",
      "92442            113.0     16 TO 18     1165000.0    299472.62500  \n",
      "90253            120.0     31 TO 33     1250000.0    299161.50000  \n",
      "90607            120.0     10 TO 12     1208000.0    297884.18750  \n",
      "98379            142.0     04 TO 06      873000.0    295180.50000  \n",
      "90382            121.0     10 TO 12      945000.0    293311.25000  \n",
      "88822            112.0     01 TO 03      862000.0    292540.06250  \n",
      "90431            120.0     22 TO 24     1240000.0    292000.50000  \n",
      "106132           117.0     34 TO 36     1230000.0    291520.87500  \n",
      "90340            120.0     25 TO 27     1238800.0    289815.25000  \n",
      "105837           138.0     07 TO 09      695000.0    288707.96875  \n",
      "112367           145.0     10 TO 12      850000.0    288134.00000  \n"
     ]
    }
   ],
   "source": [
    "# TODO: Enter your code here\n",
    "predicted = pred_df[\"resale_price_prediction\"].values\n",
    "actual = test_data[\"resale_price\"].values\n",
    "\n",
    "# Calculate absolute errors\n",
    "absolute_errors = np.abs(predicted - actual)\n",
    "\n",
    "# Add the errors as a new column to the test_data DataFrame\n",
    "test_data_with_errors = test_data.copy()\n",
    "test_data_with_errors[\"absolute_error\"] = absolute_errors\n",
    "\n",
    "# Sort by absolute_error in descending order and get top 25 rows\n",
    "top_25_errors = test_data_with_errors.sort_values(by=\"absolute_error\", ascending=False).head(25)\n",
    "\n",
    "# Print the corresponding rows\n",
    "print(top_25_errors)"
   ]
  },
  {
   "cell_type": "markdown",
   "metadata": {},
   "source": [
    "Part B, Q2 (10 marks)\n",
    "---\n",
    "In Question B1, we used the Category Embedding model. This creates a feedforward neural network in which the categorical features get learnable embeddings. In this question, we will make use of a library called Pytorch-WideDeep. This library makes it easy to work with multimodal deep-learning problems combining images, text, and tables. We will just be utilizing the deeptabular component of this library through the TabMlp network."
   ]
  },
  {
   "cell_type": "code",
   "execution_count": 9,
   "metadata": {},
   "outputs": [],
   "source": [
    "# !pip install pytorch-widedeep"
   ]
  },
  {
   "cell_type": "code",
   "execution_count": 10,
   "metadata": {},
   "outputs": [],
   "source": [
    "from pytorch_widedeep.preprocessing import TabPreprocessor\n",
    "from pytorch_widedeep.models import TabMlp, WideDeep\n",
    "from pytorch_widedeep import Trainer\n",
    "from pytorch_widedeep.metrics import R2Score"
   ]
  },
  {
   "cell_type": "markdown",
   "metadata": {},
   "source": [
    ">Divide the dataset (‘hdb_price_prediction.csv’) into train and test sets by using entries from the year 2020 and before as training data, and entries from 2021 and after as the test data（validation set is not required here)."
   ]
  },
  {
   "cell_type": "code",
   "execution_count": 11,
   "metadata": {},
   "outputs": [],
   "source": [
    "# TODO: Enter your code here\n",
    "df = pd.read_csv('hdb_price_prediction.csv')\n",
    "# Split into training and test sets\n",
    "train_data = df[df['year'] <= 2020]\n",
    "test_data = df[df['year'] >= 2021]\n",
    "# print(train_data.shape)\n",
    "# print(test_data.shape)"
   ]
  },
  {
   "cell_type": "markdown",
   "metadata": {},
   "source": [
    ">Refer to the documentation of Pytorch-WideDeep and perform the following tasks:\n",
    "https://pytorch-widedeep.readthedocs.io/en/latest/index.html\n",
    "* Use [**TabPreprocessor**](https://pytorch-widedeep.readthedocs.io/en/latest/examples/01_preprocessors_and_utils.html#2-tabpreprocessor) to create the deeptabular component using the continuous\n",
    "features and the categorical features. Use this component to transform the training dataset.\n",
    "* Create the [**TabMlp**](https://pytorch-widedeep.readthedocs.io/en/latest/pytorch-widedeep/model_components.html#pytorch_widedeep.models.tabular.mlp.tab_mlp.TabMlp) model with 2 hidden layers in the MLP, with 200 and 100 neurons respectively.\n",
    "* Create a [**Trainer**](https://pytorch-widedeep.readthedocs.io/en/latest/pytorch-widedeep/trainer.html#pytorch_widedeep.training.Trainer) for the training of the created TabMlp model with the root mean squared error (RMSE) cost function. Train the model for 60 epochs using this trainer, keeping a batch size of 64. (Note: set the *num_workers* parameter to 0.)"
   ]
  },
  {
   "cell_type": "code",
   "execution_count": 12,
   "metadata": {},
   "outputs": [
    {
     "name": "stdout",
     "output_type": "stream",
     "text": [
      "Categorical Embedding Input:\n",
      "['month', 'town', 'flat_model_type', 'storey_range']\n"
     ]
    }
   ],
   "source": [
    "# TODO: Enter your code here\n",
    "# Define categorical and continuous columns\n",
    "continuous_cols = [\"dist_to_nearest_stn\", \"dist_to_dhoby\",\n",
    "\"degree_centrality\", \"eigenvector_centrality\", \"remaining_lease_years\",\n",
    "\"floor_area_sqm\"]  # No need to specify embed_dim explicitly\n",
    "cat_embed_cols  = [\"month\", \"town\", \"flat_model_type\", \"storey_range\"]\n",
    "\n",
    "# Initialize TabPreprocessor without specifying embed_dim\n",
    "tab_preprocessor = TabPreprocessor(\n",
    "    cat_embed_cols  = cat_embed_cols,\n",
    "    continuous_cols = continuous_cols,\n",
    "    cols_to_scale = continuous_cols\n",
    "    )\n",
    "\n",
    "# Fit and transform the training and testing data\n",
    "deep_tabular = tab_preprocessor.fit_transform(train_data)\n",
    "test_tabular = tab_preprocessor.transform(test_data)\n",
    "\n",
    "print(\"Categorical Embedding Input:\")\n",
    "print(tab_preprocessor.cat_embed_cols)\n",
    "\n",
    "# Define column index mapping (required for TabMlp?)\n",
    "column_idx = tab_preprocessor.column_idx\n",
    "# print(column_idx)"
   ]
  },
  {
   "cell_type": "code",
   "execution_count": 13,
   "metadata": {},
   "outputs": [],
   "source": [
    "# Initialize TabMlp model with automatically computed embeddings\n",
    "tab_mlp_model  = TabMlp(\n",
    "    mlp_hidden_dims=[200, 100],\n",
    "    column_idx=column_idx,\n",
    "    cat_embed_input=tab_preprocessor.cat_embed_input,\n",
    "    continuous_cols=continuous_cols\n",
    ")\n",
    "\n",
    "model = WideDeep(deeptabular=tab_mlp_model)"
   ]
  },
  {
   "cell_type": "code",
   "execution_count": 14,
   "metadata": {},
   "outputs": [
    {
     "name": "stderr",
     "output_type": "stream",
     "text": [
      "epoch 1: 100%|██████████| 1366/1366 [00:26<00:00, 50.91it/s, loss=4.23e+5] \n",
      "epoch 2: 100%|██████████| 1366/1366 [00:26<00:00, 51.22it/s, loss=1.77e+5] \n",
      "epoch 3: 100%|██████████| 1366/1366 [00:25<00:00, 54.00it/s, loss=1.17e+5] \n",
      "epoch 4: 100%|██████████| 1366/1366 [00:24<00:00, 54.84it/s, loss=9.8e+4]  \n",
      "epoch 5: 100%|██████████| 1366/1366 [00:25<00:00, 54.38it/s, loss=8.5e+4]  \n",
      "epoch 6: 100%|██████████| 1366/1366 [00:24<00:00, 54.66it/s, loss=7.56e+4] \n",
      "epoch 7: 100%|██████████| 1366/1366 [00:24<00:00, 55.13it/s, loss=6.99e+4] \n",
      "epoch 8: 100%|██████████| 1366/1366 [00:24<00:00, 54.74it/s, loss=6.63e+4] \n",
      "epoch 9: 100%|██████████| 1366/1366 [00:24<00:00, 55.46it/s, loss=6.45e+4] \n",
      "epoch 10: 100%|██████████| 1366/1366 [00:25<00:00, 54.56it/s, loss=6.31e+4] \n",
      "epoch 11: 100%|██████████| 1366/1366 [00:26<00:00, 51.47it/s, loss=6.23e+4] \n",
      "epoch 12: 100%|██████████| 1366/1366 [00:26<00:00, 50.74it/s, loss=6.12e+4] \n",
      "epoch 13: 100%|██████████| 1366/1366 [00:28<00:00, 48.01it/s, loss=6.06e+4] \n",
      "epoch 14: 100%|██████████| 1366/1366 [00:28<00:00, 47.96it/s, loss=6e+4]    \n",
      "epoch 15: 100%|██████████| 1366/1366 [00:25<00:00, 53.24it/s, loss=5.94e+4] \n",
      "epoch 16: 100%|██████████| 1366/1366 [00:24<00:00, 55.06it/s, loss=5.9e+4]  \n",
      "epoch 17: 100%|██████████| 1366/1366 [00:24<00:00, 55.71it/s, loss=5.86e+4] \n",
      "epoch 18: 100%|██████████| 1366/1366 [00:24<00:00, 55.41it/s, loss=5.85e+4] \n",
      "epoch 19: 100%|██████████| 1366/1366 [00:25<00:00, 53.39it/s, loss=5.82e+4] \n",
      "epoch 20: 100%|██████████| 1366/1366 [00:24<00:00, 55.92it/s, loss=5.78e+4] \n",
      "epoch 21: 100%|██████████| 1366/1366 [00:25<00:00, 53.83it/s, loss=5.78e+4] \n",
      "epoch 22: 100%|██████████| 1366/1366 [00:26<00:00, 50.92it/s, loss=5.74e+4] \n",
      "epoch 23: 100%|██████████| 1366/1366 [00:28<00:00, 48.26it/s, loss=5.73e+4] \n",
      "epoch 24: 100%|██████████| 1366/1366 [00:26<00:00, 50.92it/s, loss=5.71e+4] \n",
      "epoch 25: 100%|██████████| 1366/1366 [00:27<00:00, 49.73it/s, loss=5.71e+4] \n",
      "epoch 26: 100%|██████████| 1366/1366 [00:25<00:00, 52.92it/s, loss=5.69e+4] \n",
      "epoch 27: 100%|██████████| 1366/1366 [00:25<00:00, 53.31it/s, loss=5.68e+4] \n",
      "epoch 28: 100%|██████████| 1366/1366 [00:24<00:00, 54.65it/s, loss=5.68e+4] \n",
      "epoch 29: 100%|██████████| 1366/1366 [00:27<00:00, 50.25it/s, loss=5.65e+4] \n",
      "epoch 30: 100%|██████████| 1366/1366 [00:27<00:00, 48.80it/s, loss=5.63e+4] \n",
      "epoch 31: 100%|██████████| 1366/1366 [00:28<00:00, 48.64it/s, loss=5.65e+4] \n",
      "epoch 32: 100%|██████████| 1366/1366 [00:27<00:00, 50.18it/s, loss=5.63e+4] \n",
      "epoch 33: 100%|██████████| 1366/1366 [00:25<00:00, 53.37it/s, loss=5.64e+4] \n",
      "epoch 34: 100%|██████████| 1366/1366 [00:25<00:00, 54.26it/s, loss=5.61e+4] \n",
      "epoch 35: 100%|██████████| 1366/1366 [00:25<00:00, 53.45it/s, loss=5.59e+4] \n",
      "epoch 36: 100%|██████████| 1366/1366 [00:25<00:00, 54.17it/s, loss=5.59e+4] \n",
      "epoch 37: 100%|██████████| 1366/1366 [00:25<00:00, 54.53it/s, loss=5.6e+4]  \n",
      "epoch 38: 100%|██████████| 1366/1366 [00:25<00:00, 53.66it/s, loss=5.6e+4]  \n",
      "epoch 39: 100%|██████████| 1366/1366 [00:25<00:00, 53.23it/s, loss=5.59e+4] \n",
      "epoch 40: 100%|██████████| 1366/1366 [00:25<00:00, 53.40it/s, loss=5.57e+4] \n",
      "epoch 41: 100%|██████████| 1366/1366 [00:25<00:00, 52.55it/s, loss=5.57e+4] \n",
      "epoch 42: 100%|██████████| 1366/1366 [00:25<00:00, 52.87it/s, loss=5.58e+4] \n",
      "epoch 43: 100%|██████████| 1366/1366 [00:25<00:00, 53.98it/s, loss=5.56e+4] \n",
      "epoch 44: 100%|██████████| 1366/1366 [00:25<00:00, 54.28it/s, loss=5.57e+4] \n",
      "epoch 45: 100%|██████████| 1366/1366 [00:25<00:00, 53.53it/s, loss=5.56e+4] \n",
      "epoch 46: 100%|██████████| 1366/1366 [00:25<00:00, 53.80it/s, loss=5.53e+4] \n",
      "epoch 47: 100%|██████████| 1366/1366 [00:25<00:00, 53.30it/s, loss=5.56e+4] \n",
      "epoch 48: 100%|██████████| 1366/1366 [00:25<00:00, 53.61it/s, loss=5.55e+4] \n",
      "epoch 49: 100%|██████████| 1366/1366 [00:25<00:00, 54.06it/s, loss=5.55e+4] \n",
      "epoch 50: 100%|██████████| 1366/1366 [00:25<00:00, 52.65it/s, loss=5.55e+4] \n",
      "epoch 51: 100%|██████████| 1366/1366 [00:25<00:00, 53.48it/s, loss=5.55e+4] \n",
      "epoch 52: 100%|██████████| 1366/1366 [00:25<00:00, 53.48it/s, loss=5.54e+4] \n",
      "epoch 53: 100%|██████████| 1366/1366 [00:25<00:00, 53.37it/s, loss=5.53e+4] \n",
      "epoch 54: 100%|██████████| 1366/1366 [00:25<00:00, 53.46it/s, loss=5.52e+4] \n",
      "epoch 55: 100%|██████████| 1366/1366 [00:25<00:00, 53.62it/s, loss=5.52e+4] \n",
      "epoch 56: 100%|██████████| 1366/1366 [00:25<00:00, 53.72it/s, loss=5.53e+4] \n",
      "epoch 57: 100%|██████████| 1366/1366 [00:25<00:00, 53.68it/s, loss=5.52e+4] \n",
      "epoch 58: 100%|██████████| 1366/1366 [00:25<00:00, 54.19it/s, loss=5.52e+4] \n",
      "epoch 59: 100%|██████████| 1366/1366 [00:26<00:00, 52.08it/s, loss=5.52e+4] \n",
      "epoch 60: 100%|██████████| 1366/1366 [00:25<00:00, 52.57it/s, loss=5.52e+4] \n"
     ]
    }
   ],
   "source": [
    "# root mean squared error (RMSE) cost function.\n",
    "# Train the model for 60 epochs using this trainer,\n",
    "# keeping a batch size of 64. (Note: set the *num_workers* parameter to 0.)\n",
    "\n",
    "# Initialize the Trainer\n",
    "trainer = Trainer(\n",
    "    model=model,\n",
    "    objective=\"root_mean_squared_error\",\n",
    "    optimizers=torch.optim.Adam(tab_mlp_model.parameters())\n",
    ")\n",
    "# print(trainer)\n",
    "X_tab = torch.tensor(deep_tabular, dtype=torch.float32)\n",
    "target = torch.tensor(train_data[\"resale_price\"].values, dtype=torch.float32).view(-1, 1)\n",
    "\n",
    "# Train the model for 60 epochs\n",
    "trainer.fit(\n",
    "    X_tab=X_tab,\n",
    "    target=target,\n",
    "    n_epochs=60,\n",
    "    batch_size=64\n",
    ")"
   ]
  },
  {
   "cell_type": "markdown",
   "metadata": {},
   "source": [
    ">Report the test RMSE and the test R2 value that you obtained."
   ]
  },
  {
   "cell_type": "code",
   "execution_count": 15,
   "metadata": {},
   "outputs": [
    {
     "name": "stderr",
     "output_type": "stream",
     "text": [
      "predict: 100%|██████████| 1128/1128 [00:21<00:00, 52.56it/s] \n"
     ]
    },
    {
     "name": "stdout",
     "output_type": "stream",
     "text": [
      "[143253.23 174345.69 299143.5  ... 626832.25 555980.1  586074.  ]\n",
      "tensor([[211000.],\n",
      "        [225000.],\n",
      "        [260000.],\n",
      "        ...,\n",
      "        [788888.],\n",
      "        [822800.],\n",
      "        [785000.]])\n"
     ]
    }
   ],
   "source": [
    "# TODO: Enter your code here\n",
    "# Transform test data using TabPreprocessor\n",
    "X_test = torch.tensor(test_tabular, dtype=torch.float32)\n",
    "y_test = torch.tensor(test_data[\"resale_price\"].values, dtype=torch.float32).view(-1, 1)\n",
    "\n",
    "# Generate predictions\n",
    "predictions = trainer.predict(X_tab=X_test)\n",
    "print(predictions)\n",
    "print(y_test)"
   ]
  },
  {
   "cell_type": "code",
   "execution_count": 16,
   "metadata": {},
   "outputs": [
    {
     "name": "stdout",
     "output_type": "stream",
     "text": [
      "RMSE: 84032.32037678786\n",
      "R2 Score: 0.6900202396195119\n"
     ]
    }
   ],
   "source": [
    "# Compute R2 score and RMSE\n",
    "rmse = root_mean_squared_error(predicted,actual)\n",
    "# rmse = math.sqrt(result[0]['test_mean_squared_error'])\n",
    "r2 = r2_score(predicted, actual)\n",
    "print(\"RMSE:\", rmse)\n",
    "print(\"R2 Score:\", r2)"
   ]
  },
  {
   "cell_type": "markdown",
   "metadata": {},
   "source": [
    "Part B, Q3 (10 marks)\n",
    "---\n",
    "Besides ensuring that your neural network performs well, it is important to be able to explain the model’s decision. **Captum** is a very handy library that helps you to do so for PyTorch models.\n",
    "\n",
    "Many model explainability algorithms for deep learning models are available in Captum. These algorithms are often used to generate an attribution score for each feature. Features with larger scores are more ‘important’ and some algorithms also provide information about directionality (i.e. a feature with very negative attribution scores means the larger the value of that feature, the lower the value of the output).\n",
    "\n",
    "In general, these algorithms can be grouped into two paradigms:\n",
    "- **perturbation based approaches** (e.g. Feature Ablation)\n",
    "- **gradient / backpropagation based approaches** (e.g. Saliency)\n",
    "\n",
    "The former adopts a brute-force approach of removing / permuting features one by one and does not scale up well. The latter depends on gradients and they can be computed relatively quickly. But unlike how backpropagation computes gradients with respect to weights, gradients here are computed **with respect to the input**. This gives us a sense of how much a change in the input affects the model’s outputs.\n",
    "\n"
   ]
  },
  {
   "cell_type": "markdown",
   "metadata": {},
   "source": [
    "\n",
    "---\n",
    "\n"
   ]
  },
  {
   "cell_type": "code",
   "execution_count": null,
   "metadata": {},
   "outputs": [],
   "source": [
    "# !pip install captum"
   ]
  },
  {
   "cell_type": "code",
   "execution_count": 17,
   "metadata": {},
   "outputs": [],
   "source": [
    "from captum.attr import Saliency, InputXGradient, IntegratedGradients, GradientShap, FeatureAblation"
   ]
  },
  {
   "cell_type": "markdown",
   "metadata": {},
   "source": [
    "> First, use the train set (year 2020 and before) and test set (year 2021) following the splits in Question B1 (validation set is not required here). To keep things simple, we will **limit our analysis to numeric / continuous features only**. Drop all categorical features from the dataframes. Standardise the features via **StandardScaler** (fit to training set, then transform all)."
   ]
  },
  {
   "cell_type": "code",
   "execution_count": 18,
   "metadata": {},
   "outputs": [
    {
     "name": "stdout",
     "output_type": "stream",
     "text": [
      "   dist_to_nearest_stn  dist_to_dhoby  degree_centrality  \\\n",
      "0             0.417407      -1.010151          -0.136981   \n",
      "1             0.984169      -0.775978          -0.136981   \n",
      "2             0.551474      -0.510894          -0.136981   \n",
      "3             0.287854      -0.887089          -0.136981   \n",
      "4             0.600418      -0.501364          -0.136981   \n",
      "\n",
      "   eigenvector_centrality  remaining_lease_years  floor_area_sqm  \n",
      "0               -0.014527              -1.035566       -2.212177  \n",
      "1               -0.014527              -1.093501       -1.265110  \n",
      "2               -0.196828              -0.951882       -1.265110  \n",
      "3               -0.014527              -0.977631       -1.223934  \n",
      "4               -0.196828              -0.951882       -1.265110  \n",
      "(87370, 6)\n"
     ]
    }
   ],
   "source": [
    "# TODO: Enter your code here\n",
    "from sklearn.preprocessing import StandardScaler\n",
    "df = pd.read_csv('hdb_price_prediction.csv')\n",
    "train_data = df[df['year'] <= 2020]\n",
    "test_data = df[df['year'] == 2021]\n",
    "\n",
    "continuous_cols=[\"dist_to_nearest_stn\", \"dist_to_dhoby\",\n",
    "\"degree_centrality\", \"eigenvector_centrality\", \"remaining_lease_years\",\n",
    "\"floor_area_sqm\"]\n",
    "\n",
    "categorical_cols=[\"month\", \"town\", \"flat_model_type\", \"storey_range\", \"year\",\n",
    "\"full_address\", \"nearest_stn\"]\n",
    "\n",
    "# Drop categorical features\n",
    "train_data = train_data.drop(columns=categorical_cols)\n",
    "test_data = test_data.drop(columns=categorical_cols)\n",
    "\n",
    "# Extract target variable\n",
    "y_train = train_data[\"resale_price\"]\n",
    "y_test = test_data[\"resale_price\"]\n",
    "\n",
    "# Drop target column from feature sets\n",
    "X_train = train_data.drop(columns=[\"resale_price\"])\n",
    "X_test = test_data.drop(columns=[\"resale_price\"])\n",
    "\n",
    "# Standardize continuous features\n",
    "scaler = StandardScaler()\n",
    "\n",
    "# Fit on training data and transform both train and test datasets\n",
    "X_train[continuous_cols] = scaler.fit_transform(X_train[continuous_cols])\n",
    "X_test[continuous_cols] = scaler.transform(X_test[continuous_cols])\n",
    "\n",
    "print(X_train.head())\n",
    "# print(X_test.head())\n",
    "# print(y_train.head())\n",
    "# print(y_test.head())\n",
    "print(X_train.shape)"
   ]
  },
  {
   "cell_type": "markdown",
   "metadata": {},
   "source": [
    "> Follow this tutorial to generate the plot from various model explainability algorithms (https://captum.ai/tutorials/House_Prices_Regression_Interpret).\n",
    "Specifically, make the following changes:\n",
    "- Use a feedforward neural network with 3 hidden layers, each having 5 neurons. Train using Adam optimiser with learning rate of 0.001.\n",
    "- Use Input x Gradients, Integrated Gradients, DeepLift, GradientSHAP, Feature Ablation. To avoid long running time, you can limit the analysis to the first 1000 samples in test set."
   ]
  },
  {
   "cell_type": "code",
   "execution_count": 19,
   "metadata": {},
   "outputs": [
    {
     "name": "stdout",
     "output_type": "stream",
     "text": [
      "ResalePriceModel(\n",
      "  (lin1): Linear(in_features=6, out_features=5, bias=True)\n",
      "  (relu1): ReLU()\n",
      "  (lin2): Linear(in_features=5, out_features=5, bias=True)\n",
      "  (relu2): ReLU()\n",
      "  (lin3): Linear(in_features=5, out_features=5, bias=True)\n",
      "  (relu3): ReLU()\n",
      "  (lin4): Linear(in_features=5, out_features=1, bias=True)\n",
      ")\n"
     ]
    }
   ],
   "source": [
    "# TODO: Enter your code here\n",
    "from torch.utils.data import Dataset\n",
    "\n",
    "X_train_tensor = torch.tensor(X_train.values, dtype=torch.float32)\n",
    "y_train_tensor = torch.tensor(y_train.values, dtype=torch.float32).view(-1, 1)\n",
    "\n",
    "X_test_tensor = torch.tensor(X_test.values, dtype=torch.float32)\n",
    "y_test_tensor = torch.tensor(y_test.values, dtype=torch.float32).view(-1, 1)\n",
    "\n",
    "datasets = torch.utils.data.TensorDataset(X_train_tensor, y_train_tensor)\n",
    "train_iter = torch.utils.data.DataLoader(datasets, batch_size=10, shuffle=True)\n",
    "\n",
    "batch_size = 50\n",
    "num_epochs = 50\n",
    "learning_rate = 0.0001\n",
    "size_hidden1 = 5\n",
    "size_hidden2 = 5\n",
    "size_hidden3 = 5\n",
    "output_size = 1\n",
    "\n",
    "class ResalePriceModel(nn.Module):\n",
    "    def __init__(self):\n",
    "        super().__init__()\n",
    "        self.lin1 = nn.Linear(len(continuous_cols), size_hidden1)\n",
    "        self.relu1 = nn.ReLU()\n",
    "        self.lin2 = nn.Linear(size_hidden1, size_hidden2)\n",
    "        self.relu2 = nn.ReLU()\n",
    "        self.lin3 = nn.Linear(size_hidden2, size_hidden3)\n",
    "        self.relu3 = nn.ReLU()\n",
    "        self.lin4 = nn.Linear(size_hidden3, output_size)\n",
    "\n",
    "    def forward(self, input):\n",
    "        x = self.relu1(self.lin1(input))\n",
    "        x = self.relu2(self.lin2(x))\n",
    "        x = self.relu3(self.lin3(x))\n",
    "        output = self.lin4(x)\n",
    "        return output\n",
    "\n",
    "# Instantiate the model\n",
    "model = ResalePriceModel()\n",
    "\n",
    "# Print the model architecture to verify\n",
    "print(model)"
   ]
  },
  {
   "cell_type": "code",
   "execution_count": 20,
   "metadata": {},
   "outputs": [],
   "source": [
    "criterion = nn.MSELoss(reduction='sum')"
   ]
  },
  {
   "cell_type": "code",
   "execution_count": 21,
   "metadata": {},
   "outputs": [
    {
     "name": "stdout",
     "output_type": "stream",
     "text": [
      "Epoch [1]/[50] running accumulative loss across all batches: 19182054666010624.000\n",
      "Epoch [2]/[50] running accumulative loss across all batches: 19125956694245376.000\n",
      "Epoch [3]/[50] running accumulative loss across all batches: 18881730567602176.000\n",
      "Epoch [4]/[50] running accumulative loss across all batches: 18251406911406080.000\n",
      "Epoch [5]/[50] running accumulative loss across all batches: 17008307518701568.000\n",
      "Epoch [6]/[50] running accumulative loss across all batches: 14947549171417088.000\n",
      "Epoch [7]/[50] running accumulative loss across all batches: 12005668205101056.000\n",
      "Epoch [8]/[50] running accumulative loss across all batches: 8403378647334912.000\n",
      "Epoch [9]/[50] running accumulative loss across all batches: 4833190209196032.000\n",
      "Epoch [10]/[50] running accumulative loss across all batches: 2370631636216832.000\n",
      "Epoch [11]/[50] running accumulative loss across all batches: 1368351660823552.000\n",
      "Epoch [12]/[50] running accumulative loss across all batches: 1002438988203520.000\n",
      "Epoch [13]/[50] running accumulative loss across all batches: 825021655832064.000\n",
      "Epoch [14]/[50] running accumulative loss across all batches: 712857314847488.000\n",
      "Epoch [15]/[50] running accumulative loss across all batches: 634647016849408.000\n",
      "Epoch [16]/[50] running accumulative loss across all batches: 579321153616384.000\n",
      "Epoch [17]/[50] running accumulative loss across all batches: 539323130522880.000\n",
      "Epoch [18]/[50] running accumulative loss across all batches: 510748859371008.000\n",
      "Epoch [19]/[50] running accumulative loss across all batches: 489533760189952.000\n",
      "Epoch [20]/[50] running accumulative loss across all batches: 473763926121216.000\n",
      "Epoch [21]/[50] running accumulative loss across all batches: 461258631943424.000\n",
      "Epoch [22]/[50] running accumulative loss across all batches: 451271497145600.000\n",
      "Epoch [23]/[50] running accumulative loss across all batches: 443195244453120.000\n",
      "Epoch [24]/[50] running accumulative loss across all batches: 436337857049344.000\n",
      "Epoch [25]/[50] running accumulative loss across all batches: 430485883677440.000\n",
      "Epoch [26]/[50] running accumulative loss across all batches: 425351209870848.000\n",
      "Epoch [27]/[50] running accumulative loss across all batches: 420763024607104.000\n",
      "Epoch [28]/[50] running accumulative loss across all batches: 416624295648768.000\n",
      "Epoch [29]/[50] running accumulative loss across all batches: 412817950426752.000\n",
      "Epoch [30]/[50] running accumulative loss across all batches: 409262750311936.000\n",
      "Epoch [31]/[50] running accumulative loss across all batches: 406025825464320.000\n",
      "Epoch [32]/[50] running accumulative loss across all batches: 403061342233856.000\n",
      "Epoch [33]/[50] running accumulative loss across all batches: 400360734119296.000\n",
      "Epoch [34]/[50] running accumulative loss across all batches: 397808276924160.000\n",
      "Epoch [35]/[50] running accumulative loss across all batches: 395427938784000.000\n",
      "Epoch [36]/[50] running accumulative loss across all batches: 393180414961920.000\n",
      "Epoch [37]/[50] running accumulative loss across all batches: 391003571512576.000\n",
      "Epoch [38]/[50] running accumulative loss across all batches: 388874773932800.000\n",
      "Epoch [39]/[50] running accumulative loss across all batches: 386841505714944.000\n",
      "Epoch [40]/[50] running accumulative loss across all batches: 384848373971712.000\n",
      "Epoch [41]/[50] running accumulative loss across all batches: 382914973536384.000\n",
      "Epoch [42]/[50] running accumulative loss across all batches: 381075628696320.000\n",
      "Epoch [43]/[50] running accumulative loss across all batches: 379308036490496.000\n",
      "Epoch [44]/[50] running accumulative loss across all batches: 377673166348544.000\n",
      "Epoch [45]/[50] running accumulative loss across all batches: 376166821300608.000\n",
      "Epoch [46]/[50] running accumulative loss across all batches: 374803622124032.000\n",
      "Epoch [47]/[50] running accumulative loss across all batches: 373548135362560.000\n",
      "Epoch [48]/[50] running accumulative loss across all batches: 372392449934336.000\n",
      "Epoch [49]/[50] running accumulative loss across all batches: 371300455392512.000\n",
      "Epoch [50]/[50] running accumulative loss across all batches: 370311056034816.000\n"
     ]
    }
   ],
   "source": [
    "def train(model_inp, num_epochs = num_epochs):\n",
    "    optimizer = torch.optim.Adam(model.parameters(), lr=learning_rate)\n",
    "    model_inp.train()\n",
    "    for epoch in range(num_epochs):  # loop over the dataset multiple times\n",
    "        running_loss = 0.0\n",
    "        for inputs, labels in train_iter:\n",
    "            # forward pass\n",
    "            outputs = model_inp(inputs)\n",
    "            # defining loss\n",
    "            loss = criterion(outputs, labels)\n",
    "            # zero the parameter gradients\n",
    "            optimizer.zero_grad()\n",
    "            # computing gradients\n",
    "            loss.backward()\n",
    "            # accumulating running loss\n",
    "            running_loss += loss.item()\n",
    "            # updated weights based on computed gradients\n",
    "            optimizer.step()\n",
    "        print('Epoch [%d]/[%d] running accumulative loss across all batches: %.3f' %\n",
    "                  (epoch + 1, num_epochs, running_loss))\n",
    "        running_loss = 0.0\n",
    "\n",
    "train(model)"
   ]
  },
  {
   "cell_type": "code",
   "execution_count": 22,
   "metadata": {},
   "outputs": [
    {
     "name": "stdout",
     "output_type": "stream",
     "text": [
      "tensor([[223153.5938],\n",
      "        [223153.5938],\n",
      "        [289279.0000],\n",
      "        ...,\n",
      "        [616707.6250],\n",
      "        [525419.2500],\n",
      "        [709507.9375]], grad_fn=<AddmmBackward0>)\n"
     ]
    }
   ],
   "source": [
    "model.eval()\n",
    "outputs = model(X_test_tensor)\n",
    "print(outputs)"
   ]
  },
  {
   "cell_type": "code",
   "execution_count": 23,
   "metadata": {},
   "outputs": [
    {
     "name": "stderr",
     "output_type": "stream",
     "text": [
      "c:\\Users\\Alan Wong\\Desktop\\Assignment\\2025_NNDL_IndivAssignment\\.venv\\Lib\\site-packages\\captum\\_utils\\gradient.py:57: UserWarning: Input Tensor 0 did not already require gradients, required_grads has been set automatically.\n",
      "  warnings.warn(\n",
      "c:\\Users\\Alan Wong\\Desktop\\Assignment\\2025_NNDL_IndivAssignment\\.venv\\Lib\\site-packages\\captum\\attr\\_core\\deep_lift.py:304: UserWarning: Setting forward, backward hooks and attributes on non-linear\n",
      "               activations. The hooks and attributes will be removed\n",
      "            after the attribution is finished\n",
      "  warnings.warn(\n"
     ]
    },
    {
     "data": {
      "image/png": "[encoded data removed]",
      "text/plain": [
       "<Figure size 2000x1000 with 1 Axes>"
      ]
     },
     "metadata": {},
     "output_type": "display_data"
    }
   ],
   "source": [
    "# Initialize attribution methods\n",
    "from captum.attr import DeepLift\n",
    "import matplotlib.pyplot as plt\n",
    "\n",
    "input_x_gradient = InputXGradient(model)\n",
    "ig = IntegratedGradients(model)\n",
    "dl = DeepLift(model)\n",
    "gs = GradientShap(model)\n",
    "fa = FeatureAblation(model)\n",
    "\n",
    "# Select first 1000 samples from test set\n",
    "X_test_subset = X_test_tensor[:1000]\n",
    "y_test_subset = y_test_tensor[:1000]\n",
    "\n",
    "baseline_dist = torch.zeros_like(X_test_subset)\n",
    "input_x_gradient_attr_test = input_x_gradient.attribute(X_test_subset)\n",
    "ig_attr_test = ig.attribute(X_test_subset, n_steps=50)\n",
    "dl_attr_test = dl.attribute(X_test_subset)\n",
    "gs_attr_test = gs.attribute(X_test_subset, baseline_dist)\n",
    "fa_attr_test = fa.attribute(X_test_subset)\n",
    "\n",
    "x_axis_data = np.arange(X_test.shape[1])\n",
    "x_axis_data_labels = list(map(lambda idx: continuous_cols[idx], x_axis_data))\n",
    "\n",
    "ig_attr_test_sum = ig_attr_test.detach().numpy().sum(0)\n",
    "ig_attr_test_norm_sum = ig_attr_test_sum / np.linalg.norm(ig_attr_test_sum, ord=1)\n",
    "\n",
    "input_x_gradient_attr_test_sum = input_x_gradient_attr_test.detach().numpy().sum(0)\n",
    "input_x_gradient_attr_test_norm_sum = input_x_gradient_attr_test_sum / np.linalg.norm(input_x_gradient_attr_test_sum, ord=1)\n",
    "\n",
    "dl_attr_test_sum = dl_attr_test.detach().numpy().sum(0)\n",
    "dl_attr_test_norm_sum = dl_attr_test_sum / np.linalg.norm(dl_attr_test_sum, ord=1)\n",
    "\n",
    "gs_attr_test_sum = gs_attr_test.detach().numpy().sum(0)\n",
    "gs_attr_test_norm_sum = gs_attr_test_sum / np.linalg.norm(gs_attr_test_sum, ord=1)\n",
    "\n",
    "fa_attr_test_sum = fa_attr_test.detach().numpy().sum(0)\n",
    "fa_attr_test_norm_sum = fa_attr_test_sum / np.linalg.norm(fa_attr_test_sum, ord=1)\n",
    "\n",
    "lin_weight = model.lin1.weight[0].detach().numpy()\n",
    "y_axis_lin_weight = lin_weight / np.linalg.norm(lin_weight, ord=1)\n",
    "\n",
    "width = 0.14\n",
    "legends = ['Int Grads', 'Int Grads w/SmoothGrad','DeepLift', 'GradientSHAP', 'Feature Ablation', 'Weights']\n",
    "\n",
    "plt.figure(figsize=(20, 10))\n",
    "\n",
    "ax = plt.subplot()\n",
    "ax.set_title('Comparing input feature importances across multiple algorithms and learned weights')\n",
    "ax.set_ylabel('Attributions')\n",
    "\n",
    "FONT_SIZE = 16\n",
    "plt.rc('font', size=FONT_SIZE)            # fontsize of the text sizes\n",
    "plt.rc('axes', titlesize=FONT_SIZE)       # fontsize of the axes title\n",
    "plt.rc('axes', labelsize=FONT_SIZE)       # fontsize of the x and y labels\n",
    "plt.rc('legend', fontsize=FONT_SIZE - 4)  # fontsize of the legend\n",
    "\n",
    "ax.bar(x_axis_data, ig_attr_test_norm_sum, width, align='center', alpha=0.8, color='#eb5e7c')\n",
    "ax.bar(x_axis_data + width, input_x_gradient_attr_test_norm_sum, width, align='center', alpha=0.7, color='#A90000')\n",
    "ax.bar(x_axis_data + 2 * width, dl_attr_test_norm_sum, width, align='center', alpha=0.6, color='#34b8e0')\n",
    "ax.bar(x_axis_data + 3 * width, gs_attr_test_norm_sum, width, align='center',  alpha=0.8, color='#4260f5')\n",
    "ax.bar(x_axis_data + 4 * width, fa_attr_test_norm_sum, width, align='center', alpha=1.0, color='#49ba81')\n",
    "ax.bar(x_axis_data + 5 * width, y_axis_lin_weight, width, align='center', alpha=1.0, color='grey')\n",
    "ax.autoscale_view()\n",
    "plt.tight_layout()\n",
    "\n",
    "ax.set_xticks(x_axis_data + 0.5)\n",
    "ax.set_xticklabels(x_axis_data_labels)\n",
    "\n",
    "plt.legend(legends, loc=3)\n",
    "plt.show()"
   ]
  },
  {
   "cell_type": "markdown",
   "metadata": {},
   "source": [
    "> Read the following [descriptions](https://captum.ai/docs/attribution_algorithms) and [comparisons](https://captum.ai/docs/algorithms_comparison_matrix) in Captum to build up your understanding of the difference of various explainability algorithms. Based on your plot, identify the three most important features for regression. Explain how each of these features influences the regression outcome.\n"
   ]
  },
  {
   "cell_type": "markdown",
   "metadata": {},
   "source": [
    "\\# TODO: \\\n",
    "I would say that from the image/plot above we can see the top 3 most important features being\n",
    "1. dist_to_dhoby (highest positive attribution across all methods)\n",
    "2. remaining_lease_years (strong negative attribution across all methods)\n",
    "3. floor_area_sqm (moderate negative attribution across most methods)\n",
    "\n",
    "The above features do affect the regression outcome of \"resale prices\". In the example of dist_to_dhoby, given that dhoby is a central area, the proximity to public transport enhances convenience and assessibility, making the property more sought after.\n",
    "\n",
    "For remaining lease years, as there is lesser years left, the property value would be lower since there is lesser \"value\" for what potential homeowners would be paying.\n",
    "\n",
    "Lastly, the floor_area_sqm having lower value would mean a smaller property hence lower resale price."
   ]
  },
  {
   "cell_type": "markdown",
   "metadata": {},
   "source": [
    "Part B, Q4 (10 marks)\n",
    "---\n",
    "\n",
    "Model degradation is a common issue faced when deploying machine learning models (including neural networks) in the real world. New data points could exhibit a different pattern from older data points due to factors such as changes in government policy or market sentiments. For instance, housing prices in Singapore have been increasing and the Singapore government has introduced 3 rounds of cooling measures over the past years (16 December 2021, 30 September 2022, 27 April 2023).\n",
    "\n",
    "In such situations, the distribution of the new data points could differ from the original data distribution which the models were trained on. Recall that machine learning models often work with the assumption that the test distribution should be similar to train distribution. When this assumption is violated, model performance will be adversely impacted.  In the last part of this assignment, we will investigate to what extent model degradation has occurred.\n"
   ]
  },
  {
   "cell_type": "markdown",
   "metadata": {},
   "source": [
    "\n",
    "\n",
    "---\n",
    "\n"
   ]
  },
  {
   "cell_type": "code",
   "execution_count": null,
   "metadata": {},
   "outputs": [],
   "source": [
    "# !pip install alibi-detect"
   ]
  },
  {
   "cell_type": "code",
   "execution_count": 24,
   "metadata": {},
   "outputs": [],
   "source": [
    "from alibi_detect.cd import TabularDrift"
   ]
  },
  {
   "cell_type": "markdown",
   "metadata": {},
   "source": [
    "> Evaluate your model from B1 on data from year 2022 and report the test R2."
   ]
  },
  {
   "cell_type": "code",
   "execution_count": 25,
   "metadata": {},
   "outputs": [
    {
     "name": "stderr",
     "output_type": "stream",
     "text": [
      "c:\\Users\\Alan Wong\\Desktop\\Assignment\\2025_NNDL_IndivAssignment\\.venv\\Lib\\site-packages\\pytorch_tabular\\categorical_encoders.py:71: FutureWarning: A value is trying to be set on a copy of a DataFrame or Series through chained assignment using an inplace method.\n",
      "The behavior will change in pandas 3.0. This inplace method will never work because the intermediate object on which we are setting values always behaves as a copy.\n",
      "\n",
      "For example, when doing 'df[col].method(value, inplace=True)', try using 'df.method({col: value}, inplace=True)' or df[col] = df[col].method(value) instead, to perform the operation inplace on the original object.\n",
      "\n",
      "\n",
      "  X_encoded[col].fillna(self._imputed, inplace=True)\n",
      "c:\\Users\\Alan Wong\\Desktop\\Assignment\\2025_NNDL_IndivAssignment\\.venv\\Lib\\site-packages\\pytorch_tabular\\categorical_encoders.py:71: FutureWarning: A value is trying to be set on a copy of a DataFrame or Series through chained assignment using an inplace method.\n",
      "The behavior will change in pandas 3.0. This inplace method will never work because the intermediate object on which we are setting values always behaves as a copy.\n",
      "\n",
      "For example, when doing 'df[col].method(value, inplace=True)', try using 'df.method({col: value}, inplace=True)' or df[col] = df[col].method(value) instead, to perform the operation inplace on the original object.\n",
      "\n",
      "\n",
      "  X_encoded[col].fillna(self._imputed, inplace=True)\n",
      "c:\\Users\\Alan Wong\\Desktop\\Assignment\\2025_NNDL_IndivAssignment\\.venv\\Lib\\site-packages\\pytorch_tabular\\categorical_encoders.py:71: FutureWarning: A value is trying to be set on a copy of a DataFrame or Series through chained assignment using an inplace method.\n",
      "The behavior will change in pandas 3.0. This inplace method will never work because the intermediate object on which we are setting values always behaves as a copy.\n",
      "\n",
      "For example, when doing 'df[col].method(value, inplace=True)', try using 'df.method({col: value}, inplace=True)' or df[col] = df[col].method(value) instead, to perform the operation inplace on the original object.\n",
      "\n",
      "\n",
      "  X_encoded[col].fillna(self._imputed, inplace=True)\n",
      "c:\\Users\\Alan Wong\\Desktop\\Assignment\\2025_NNDL_IndivAssignment\\.venv\\Lib\\site-packages\\pytorch_tabular\\categorical_encoders.py:71: FutureWarning: A value is trying to be set on a copy of a DataFrame or Series through chained assignment using an inplace method.\n",
      "The behavior will change in pandas 3.0. This inplace method will never work because the intermediate object on which we are setting values always behaves as a copy.\n",
      "\n",
      "For example, when doing 'df[col].method(value, inplace=True)', try using 'df.method({col: value}, inplace=True)' or df[col] = df[col].method(value) instead, to perform the operation inplace on the original object.\n",
      "\n",
      "\n",
      "  X_encoded[col].fillna(self._imputed, inplace=True)\n",
      "LOCAL_RANK: 0 - CUDA_VISIBLE_DEVICES: [0]\n"
     ]
    },
    {
     "data": {
      "application/vnd.jupyter.widget-view+json": {
       "model_id": "0de8025f61214a1fa98c1e3b9718ae80",
       "version_major": 2,
       "version_minor": 0
      },
      "text/plain": [
       "Output()"
      ]
     },
     "metadata": {},
     "output_type": "display_data"
    },
    {
     "name": "stderr",
     "output_type": "stream",
     "text": [
      "c:\\Users\\Alan Wong\\Desktop\\Assignment\\2025_NNDL_IndivAssignment\\.venv\\Lib\\site-packages\\pytorch_lightning\\trainer\\connectors\\data_connector.py:424: The 'test_dataloader' does not have many workers which may be a bottleneck. Consider increasing the value of the `num_workers` argument` to `num_workers=11` in the `DataLoader` to improve performance.\n"
     ]
    },
    {
     "data": {
      "text/html": [
       "<pre style=\"white-space:pre;overflow-x:auto;line-height:normal;font-family:Menlo,'DejaVu Sans Mono',consolas,'Courier New',monospace\">┏━━━━━━━━━━━━━━━━━━━━━━━━━━━┳━━━━━━━━━━━━━━━━━━━━━━━━━━━┓\n",
       "┃<span style=\"font-weight: bold\">        Test metric        </span>┃<span style=\"font-weight: bold\">       DataLoader 0        </span>┃\n",
       "┡━━━━━━━━━━━━━━━━━━━━━━━━━━━╇━━━━━━━━━━━━━━━━━━━━━━━━━━━┩\n",
       "│<span style=\"color: #008080; text-decoration-color: #008080\">         test_loss         </span>│<span style=\"color: #800080; text-decoration-color: #800080\">       19127875584.0       </span>│\n",
       "│<span style=\"color: #008080; text-decoration-color: #008080\">  test_mean_squared_error  </span>│<span style=\"color: #800080; text-decoration-color: #800080\">       19127875584.0       </span>│\n",
       "└───────────────────────────┴───────────────────────────┘\n",
       "</pre>\n"
      ],
      "text/plain": [
       "┏━━━━━━━━━━━━━━━━━━━━━━━━━━━┳━━━━━━━━━━━━━━━━━━━━━━━━━━━┓\n",
       "┃\u001b[1m \u001b[0m\u001b[1m       Test metric       \u001b[0m\u001b[1m \u001b[0m┃\u001b[1m \u001b[0m\u001b[1m      DataLoader 0       \u001b[0m\u001b[1m \u001b[0m┃\n",
       "┡━━━━━━━━━━━━━━━━━━━━━━━━━━━╇━━━━━━━━━━━━━━━━━━━━━━━━━━━┩\n",
       "│\u001b[36m \u001b[0m\u001b[36m        test_loss        \u001b[0m\u001b[36m \u001b[0m│\u001b[35m \u001b[0m\u001b[35m      19127875584.0      \u001b[0m\u001b[35m \u001b[0m│\n",
       "│\u001b[36m \u001b[0m\u001b[36m test_mean_squared_error \u001b[0m\u001b[36m \u001b[0m│\u001b[35m \u001b[0m\u001b[35m      19127875584.0      \u001b[0m\u001b[35m \u001b[0m│\n",
       "└───────────────────────────┴───────────────────────────┘\n"
      ]
     },
     "metadata": {},
     "output_type": "display_data"
    },
    {
     "data": {
      "text/html": [
       "<pre style=\"white-space:pre;overflow-x:auto;line-height:normal;font-family:Menlo,'DejaVu Sans Mono',consolas,'Courier New',monospace\"></pre>\n"
      ],
      "text/plain": []
     },
     "metadata": {},
     "output_type": "display_data"
    },
    {
     "name": "stderr",
     "output_type": "stream",
     "text": [
      "c:\\Users\\Alan Wong\\Desktop\\Assignment\\2025_NNDL_IndivAssignment\\.venv\\Lib\\site-packages\\pytorch_tabular\\tabular_model.py:1466: DeprecationWarning: `include_input_features` will be deprecated in the next release. Please add index columns to the test dataframe if you want to retain some features like the key or id\n",
      "  warnings.warn(\n",
      "c:\\Users\\Alan Wong\\Desktop\\Assignment\\2025_NNDL_IndivAssignment\\.venv\\Lib\\site-packages\\pytorch_tabular\\categorical_encoders.py:71: FutureWarning: A value is trying to be set on a copy of a DataFrame or Series through chained assignment using an inplace method.\n",
      "The behavior will change in pandas 3.0. This inplace method will never work because the intermediate object on which we are setting values always behaves as a copy.\n",
      "\n",
      "For example, when doing 'df[col].method(value, inplace=True)', try using 'df.method({col: value}, inplace=True)' or df[col] = df[col].method(value) instead, to perform the operation inplace on the original object.\n",
      "\n",
      "\n",
      "  X_encoded[col].fillna(self._imputed, inplace=True)\n",
      "c:\\Users\\Alan Wong\\Desktop\\Assignment\\2025_NNDL_IndivAssignment\\.venv\\Lib\\site-packages\\pytorch_tabular\\categorical_encoders.py:71: FutureWarning: A value is trying to be set on a copy of a DataFrame or Series through chained assignment using an inplace method.\n",
      "The behavior will change in pandas 3.0. This inplace method will never work because the intermediate object on which we are setting values always behaves as a copy.\n",
      "\n",
      "For example, when doing 'df[col].method(value, inplace=True)', try using 'df.method({col: value}, inplace=True)' or df[col] = df[col].method(value) instead, to perform the operation inplace on the original object.\n",
      "\n",
      "\n",
      "  X_encoded[col].fillna(self._imputed, inplace=True)\n",
      "c:\\Users\\Alan Wong\\Desktop\\Assignment\\2025_NNDL_IndivAssignment\\.venv\\Lib\\site-packages\\pytorch_tabular\\categorical_encoders.py:71: FutureWarning: A value is trying to be set on a copy of a DataFrame or Series through chained assignment using an inplace method.\n",
      "The behavior will change in pandas 3.0. This inplace method will never work because the intermediate object on which we are setting values always behaves as a copy.\n",
      "\n",
      "For example, when doing 'df[col].method(value, inplace=True)', try using 'df.method({col: value}, inplace=True)' or df[col] = df[col].method(value) instead, to perform the operation inplace on the original object.\n",
      "\n",
      "\n",
      "  X_encoded[col].fillna(self._imputed, inplace=True)\n",
      "c:\\Users\\Alan Wong\\Desktop\\Assignment\\2025_NNDL_IndivAssignment\\.venv\\Lib\\site-packages\\pytorch_tabular\\categorical_encoders.py:71: FutureWarning: A value is trying to be set on a copy of a DataFrame or Series through chained assignment using an inplace method.\n",
      "The behavior will change in pandas 3.0. This inplace method will never work because the intermediate object on which we are setting values always behaves as a copy.\n",
      "\n",
      "For example, when doing 'df[col].method(value, inplace=True)', try using 'df.method({col: value}, inplace=True)' or df[col] = df[col].method(value) instead, to perform the operation inplace on the original object.\n",
      "\n",
      "\n",
      "  X_encoded[col].fillna(self._imputed, inplace=True)\n"
     ]
    },
    {
     "name": "stdout",
     "output_type": "stream",
     "text": [
      "RMSE: 138303.56159973293\n",
      "R2 Score: 0.09913872511564703\n"
     ]
    }
   ],
   "source": [
    "# TODO: Enter your code here\n",
    "from sklearn.metrics import r2_score, root_mean_squared_error\n",
    "\n",
    "df = pd.read_csv('hdb_price_prediction.csv')\n",
    "test_data = df[df['year'] == 2022]\n",
    "result = tabular_model.evaluate(test_data)\n",
    "pred_df = tabular_model.predict(test_data)\n",
    "\n",
    "# Extract predicted values\n",
    "predicted = torch.tensor(pred_df[\"resale_price_prediction\"].values)\n",
    "\n",
    "# Extract ground truth values\n",
    "actual = torch.tensor(test_data[\"resale_price\"].values)\n",
    "\n",
    "# Compute R2 score and RMSE\n",
    "rmse = root_mean_squared_error(predicted,actual)\n",
    "# rmse = math.sqrt(result[0]['test_mean_squared_error'])\n",
    "r2 = r2_score(predicted, actual)\n",
    "print(\"RMSE:\", rmse)\n",
    "print(\"R2 Score:\", r2)\n"
   ]
  },
  {
   "cell_type": "markdown",
   "metadata": {},
   "source": [
    "> Evaluate your model from B1 on data from year 2023 and report the test R2."
   ]
  },
  {
   "cell_type": "code",
   "execution_count": 26,
   "metadata": {},
   "outputs": [
    {
     "name": "stderr",
     "output_type": "stream",
     "text": [
      "c:\\Users\\Alan Wong\\Desktop\\Assignment\\2025_NNDL_IndivAssignment\\.venv\\Lib\\site-packages\\pytorch_tabular\\categorical_encoders.py:71: FutureWarning: A value is trying to be set on a copy of a DataFrame or Series through chained assignment using an inplace method.\n",
      "The behavior will change in pandas 3.0. This inplace method will never work because the intermediate object on which we are setting values always behaves as a copy.\n",
      "\n",
      "For example, when doing 'df[col].method(value, inplace=True)', try using 'df.method({col: value}, inplace=True)' or df[col] = df[col].method(value) instead, to perform the operation inplace on the original object.\n",
      "\n",
      "\n",
      "  X_encoded[col].fillna(self._imputed, inplace=True)\n",
      "c:\\Users\\Alan Wong\\Desktop\\Assignment\\2025_NNDL_IndivAssignment\\.venv\\Lib\\site-packages\\pytorch_tabular\\categorical_encoders.py:71: FutureWarning: A value is trying to be set on a copy of a DataFrame or Series through chained assignment using an inplace method.\n",
      "The behavior will change in pandas 3.0. This inplace method will never work because the intermediate object on which we are setting values always behaves as a copy.\n",
      "\n",
      "For example, when doing 'df[col].method(value, inplace=True)', try using 'df.method({col: value}, inplace=True)' or df[col] = df[col].method(value) instead, to perform the operation inplace on the original object.\n",
      "\n",
      "\n",
      "  X_encoded[col].fillna(self._imputed, inplace=True)\n",
      "c:\\Users\\Alan Wong\\Desktop\\Assignment\\2025_NNDL_IndivAssignment\\.venv\\Lib\\site-packages\\pytorch_tabular\\categorical_encoders.py:71: FutureWarning: A value is trying to be set on a copy of a DataFrame or Series through chained assignment using an inplace method.\n",
      "The behavior will change in pandas 3.0. This inplace method will never work because the intermediate object on which we are setting values always behaves as a copy.\n",
      "\n",
      "For example, when doing 'df[col].method(value, inplace=True)', try using 'df.method({col: value}, inplace=True)' or df[col] = df[col].method(value) instead, to perform the operation inplace on the original object.\n",
      "\n",
      "\n",
      "  X_encoded[col].fillna(self._imputed, inplace=True)\n",
      "c:\\Users\\Alan Wong\\Desktop\\Assignment\\2025_NNDL_IndivAssignment\\.venv\\Lib\\site-packages\\pytorch_tabular\\categorical_encoders.py:71: FutureWarning: A value is trying to be set on a copy of a DataFrame or Series through chained assignment using an inplace method.\n",
      "The behavior will change in pandas 3.0. This inplace method will never work because the intermediate object on which we are setting values always behaves as a copy.\n",
      "\n",
      "For example, when doing 'df[col].method(value, inplace=True)', try using 'df.method({col: value}, inplace=True)' or df[col] = df[col].method(value) instead, to perform the operation inplace on the original object.\n",
      "\n",
      "\n",
      "  X_encoded[col].fillna(self._imputed, inplace=True)\n",
      "LOCAL_RANK: 0 - CUDA_VISIBLE_DEVICES: [0]\n"
     ]
    },
    {
     "data": {
      "application/vnd.jupyter.widget-view+json": {
       "model_id": "8b1a200f2f574b6fabf272c9b92362fe",
       "version_major": 2,
       "version_minor": 0
      },
      "text/plain": [
       "Output()"
      ]
     },
     "metadata": {},
     "output_type": "display_data"
    },
    {
     "name": "stderr",
     "output_type": "stream",
     "text": [
      "c:\\Users\\Alan Wong\\Desktop\\Assignment\\2025_NNDL_IndivAssignment\\.venv\\Lib\\site-packages\\pytorch_lightning\\trainer\\connectors\\data_connector.py:424: The 'test_dataloader' does not have many workers which may be a bottleneck. Consider increasing the value of the `num_workers` argument` to `num_workers=11` in the `DataLoader` to improve performance.\n"
     ]
    },
    {
     "data": {
      "text/html": [
       "<pre style=\"white-space:pre;overflow-x:auto;line-height:normal;font-family:Menlo,'DejaVu Sans Mono',consolas,'Courier New',monospace\">┏━━━━━━━━━━━━━━━━━━━━━━━━━━━┳━━━━━━━━━━━━━━━━━━━━━━━━━━━┓\n",
       "┃<span style=\"font-weight: bold\">        Test metric        </span>┃<span style=\"font-weight: bold\">       DataLoader 0        </span>┃\n",
       "┡━━━━━━━━━━━━━━━━━━━━━━━━━━━╇━━━━━━━━━━━━━━━━━━━━━━━━━━━┩\n",
       "│<span style=\"color: #008080; text-decoration-color: #008080\">         test_loss         </span>│<span style=\"color: #800080; text-decoration-color: #800080\">       29402966016.0       </span>│\n",
       "│<span style=\"color: #008080; text-decoration-color: #008080\">  test_mean_squared_error  </span>│<span style=\"color: #800080; text-decoration-color: #800080\">       29402966016.0       </span>│\n",
       "└───────────────────────────┴───────────────────────────┘\n",
       "</pre>\n"
      ],
      "text/plain": [
       "┏━━━━━━━━━━━━━━━━━━━━━━━━━━━┳━━━━━━━━━━━━━━━━━━━━━━━━━━━┓\n",
       "┃\u001b[1m \u001b[0m\u001b[1m       Test metric       \u001b[0m\u001b[1m \u001b[0m┃\u001b[1m \u001b[0m\u001b[1m      DataLoader 0       \u001b[0m\u001b[1m \u001b[0m┃\n",
       "┡━━━━━━━━━━━━━━━━━━━━━━━━━━━╇━━━━━━━━━━━━━━━━━━━━━━━━━━━┩\n",
       "│\u001b[36m \u001b[0m\u001b[36m        test_loss        \u001b[0m\u001b[36m \u001b[0m│\u001b[35m \u001b[0m\u001b[35m      29402966016.0      \u001b[0m\u001b[35m \u001b[0m│\n",
       "│\u001b[36m \u001b[0m\u001b[36m test_mean_squared_error \u001b[0m\u001b[36m \u001b[0m│\u001b[35m \u001b[0m\u001b[35m      29402966016.0      \u001b[0m\u001b[35m \u001b[0m│\n",
       "└───────────────────────────┴───────────────────────────┘\n"
      ]
     },
     "metadata": {},
     "output_type": "display_data"
    },
    {
     "data": {
      "text/html": [
       "<pre style=\"white-space:pre;overflow-x:auto;line-height:normal;font-family:Menlo,'DejaVu Sans Mono',consolas,'Courier New',monospace\"></pre>\n"
      ],
      "text/plain": []
     },
     "metadata": {},
     "output_type": "display_data"
    },
    {
     "name": "stderr",
     "output_type": "stream",
     "text": [
      "c:\\Users\\Alan Wong\\Desktop\\Assignment\\2025_NNDL_IndivAssignment\\.venv\\Lib\\site-packages\\pytorch_tabular\\tabular_model.py:1466: DeprecationWarning: `include_input_features` will be deprecated in the next release. Please add index columns to the test dataframe if you want to retain some features like the key or id\n",
      "  warnings.warn(\n",
      "c:\\Users\\Alan Wong\\Desktop\\Assignment\\2025_NNDL_IndivAssignment\\.venv\\Lib\\site-packages\\pytorch_tabular\\categorical_encoders.py:71: FutureWarning: A value is trying to be set on a copy of a DataFrame or Series through chained assignment using an inplace method.\n",
      "The behavior will change in pandas 3.0. This inplace method will never work because the intermediate object on which we are setting values always behaves as a copy.\n",
      "\n",
      "For example, when doing 'df[col].method(value, inplace=True)', try using 'df.method({col: value}, inplace=True)' or df[col] = df[col].method(value) instead, to perform the operation inplace on the original object.\n",
      "\n",
      "\n",
      "  X_encoded[col].fillna(self._imputed, inplace=True)\n",
      "c:\\Users\\Alan Wong\\Desktop\\Assignment\\2025_NNDL_IndivAssignment\\.venv\\Lib\\site-packages\\pytorch_tabular\\categorical_encoders.py:71: FutureWarning: A value is trying to be set on a copy of a DataFrame or Series through chained assignment using an inplace method.\n",
      "The behavior will change in pandas 3.0. This inplace method will never work because the intermediate object on which we are setting values always behaves as a copy.\n",
      "\n",
      "For example, when doing 'df[col].method(value, inplace=True)', try using 'df.method({col: value}, inplace=True)' or df[col] = df[col].method(value) instead, to perform the operation inplace on the original object.\n",
      "\n",
      "\n",
      "  X_encoded[col].fillna(self._imputed, inplace=True)\n",
      "c:\\Users\\Alan Wong\\Desktop\\Assignment\\2025_NNDL_IndivAssignment\\.venv\\Lib\\site-packages\\pytorch_tabular\\categorical_encoders.py:71: FutureWarning: A value is trying to be set on a copy of a DataFrame or Series through chained assignment using an inplace method.\n",
      "The behavior will change in pandas 3.0. This inplace method will never work because the intermediate object on which we are setting values always behaves as a copy.\n",
      "\n",
      "For example, when doing 'df[col].method(value, inplace=True)', try using 'df.method({col: value}, inplace=True)' or df[col] = df[col].method(value) instead, to perform the operation inplace on the original object.\n",
      "\n",
      "\n",
      "  X_encoded[col].fillna(self._imputed, inplace=True)\n",
      "c:\\Users\\Alan Wong\\Desktop\\Assignment\\2025_NNDL_IndivAssignment\\.venv\\Lib\\site-packages\\pytorch_tabular\\categorical_encoders.py:71: FutureWarning: A value is trying to be set on a copy of a DataFrame or Series through chained assignment using an inplace method.\n",
      "The behavior will change in pandas 3.0. This inplace method will never work because the intermediate object on which we are setting values always behaves as a copy.\n",
      "\n",
      "For example, when doing 'df[col].method(value, inplace=True)', try using 'df.method({col: value}, inplace=True)' or df[col] = df[col].method(value) instead, to perform the operation inplace on the original object.\n",
      "\n",
      "\n",
      "  X_encoded[col].fillna(self._imputed, inplace=True)\n"
     ]
    },
    {
     "name": "stdout",
     "output_type": "stream",
     "text": [
      "RMSE: 171472.94516305818\n",
      "R2 Score: -0.550955929813961\n"
     ]
    }
   ],
   "source": [
    "# TODO: Enter your code here\n",
    "from sklearn.metrics import r2_score, root_mean_squared_error\n",
    "\n",
    "df = pd.read_csv('hdb_price_prediction.csv')\n",
    "test_data = df[df['year'] == 2023]\n",
    "result = tabular_model.evaluate(test_data)\n",
    "pred_df = tabular_model.predict(test_data)\n",
    "\n",
    "# Extract predicted values\n",
    "predicted = torch.tensor(pred_df[\"resale_price_prediction\"].values)\n",
    "\n",
    "# Extract ground truth values\n",
    "actual = torch.tensor(test_data[\"resale_price\"].values)\n",
    "\n",
    "# Compute R2 score and RMSE\n",
    "rmse = root_mean_squared_error(predicted,actual)\n",
    "# rmse = math.sqrt(result[0]['test_mean_squared_error'])\n",
    "r2 = r2_score(predicted, actual)\n",
    "print(\"RMSE:\", rmse)\n",
    "print(\"R2 Score:\", r2)\n",
    "\n"
   ]
  },
  {
   "cell_type": "markdown",
   "metadata": {},
   "source": [
    "> Did model degradation occur for the deep learning model?"
   ]
  },
  {
   "cell_type": "markdown",
   "metadata": {},
   "source": [
    "\\# TODO: \\\n",
    "Yes, the results are below.\\\n",
    "2022\\\n",
    "RMSE: 138303.56159973293\\\n",
    "R2 Score: 0.09913872511564703\\\n",
    "\\\n",
    "2023\\\n",
    "RMSE: 171472.94516305818\\\n",
    "R2 Score: -0.550955929813961\n",
    "\n",
    "As seen from the R2 Score, the value has dropped greatly. The R2 score measures how well a regression model explains the variance in the dependent variable, and a negative value means that the model performs worse than a simple mean-based prediction.\\\n",
    "Having a score of about 0.099, means that it explains about 9.9% of the variance in the dependent variables, while low, it still suggests that the model has some explanatory power, whereas for -0.551, it suggests that the model could have incorrect assumptions."
   ]
  },
  {
   "cell_type": "markdown",
   "metadata": {},
   "source": [
    "Model degradation could be caused by [various data distribution shifts](https://huyenchip.com/2022/02/07/data-distribution-shifts-and-monitoring.html#data-shift-types): covariate shift (features), label shift and/or concept drift (altered relationship between features and labels).\n",
    "There are various conflicting terminologies in the [literature](https://www.sciencedirect.com/science/article/pii/S0950705122002854#tbl1). Let’s stick to this reference for this assignment.\n",
    "\n",
    "> Using the **Alibi Detect** library, apply the **TabularDrift** function with the training data (year 2020 and before) used as the reference and **detect which features have drifted** in the 2023 test dataset. Before running the statistical tests, ensure you **sample 1000 data points** each from the train and test data. Do not use the whole train/test data. (Hint: use this example as a guide https://docs.seldon.io/projects/alibi-detect/en/stable/examples/cd_chi2ks_adult.html)\n"
   ]
  },
  {
   "cell_type": "code",
   "execution_count": 27,
   "metadata": {},
   "outputs": [
    {
     "name": "stdout",
     "output_type": "stream",
     "text": [
      "['month', 'year', 'town', 'full_address', 'nearest_stn', 'dist_to_nearest_stn', 'dist_to_dhoby', 'degree_centrality', 'eigenvector_centrality', 'flat_model_type', 'remaining_lease_years', 'floor_area_sqm', 'storey_range']\n",
      "(87370, 13) (87370,)\n",
      "{0: [1, 2, 3, 4, 5, 6, 7, 8, 9, 10, 11, 12], 2: ['ANG MO KIO', 'BEDOK', 'BISHAN', 'BUKIT BATOK', 'BUKIT MERAH', 'BUKIT PANJANG', 'BUKIT TIMAH', 'CENTRAL AREA', 'CHOA CHU KANG', 'CLEMENTI', 'GEYLANG', 'HOUGANG', 'JURONG EAST', 'JURONG WEST', 'KALLANG/WHAMPOA', 'MARINE PARADE', 'PASIR RIS', 'PUNGGOL', 'QUEENSTOWN', 'SEMBAWANG', 'SENGKANG', 'SERANGOON', 'TAMPINES', 'TOA PAYOH', 'WOODLANDS', 'YISHUN'], 9: ['2 ROOM, Improved', '3 ROOM, New Generation', '4 ROOM, New Generation', '4 ROOM, DBSS', '5 ROOM, Standard', '5 ROOM, Improved', '5 ROOM, DBSS', 'EXECUTIVE, Apartment', '3 ROOM, Improved', '3 ROOM, Simplified', '3 ROOM, Model A', '4 ROOM, Simplified', '4 ROOM, Improved', '4 ROOM, Model A', '4 ROOM, Premium Apartment', '5 ROOM, Adjoined flat', '5 ROOM, Model A', '5 ROOM, Premium Apartment', '5 ROOM, Model A-Maisonette', 'EXECUTIVE, Maisonette', '2 ROOM, Standard', '3 ROOM, Standard', '3 ROOM, Premium Apartment', '4 ROOM, Standard', 'EXECUTIVE, Premium Apartment', '4 ROOM, Type S1', '5 ROOM, Type S2', '4 ROOM, Model A2', '2 ROOM, Model A', '2 ROOM, Premium Apartment', 'EXECUTIVE, Adjoined flat', '1 ROOM, Improved', '3 ROOM, DBSS', '3 ROOM, Terrace', '4 ROOM, Adjoined flat', '5 ROOM, Improved-Maisonette', 'EXECUTIVE, Premium Maisonette', 'MULTI-GENERATION, Multi Generation', '5 ROOM, Premium Apartment Loft', '4 ROOM, Terrace', '2 ROOM, DBSS', '2 ROOM, 2-room', '4 ROOM, Premium Apartment Loft'], 12: ['10 TO 12', '01 TO 03', '04 TO 06', '07 TO 09', '13 TO 15', '19 TO 21', '22 TO 24', '16 TO 18', '34 TO 36', '28 TO 30', '37 TO 39', '49 TO 51', '25 TO 27', '40 TO 42', '31 TO 33', '46 TO 48', '43 TO 45'], 1: [2017, 2018, 2019, 2020], 3: ['406 ANG MO KIO AVENUE 10', '108 ANG MO KIO AVENUE 4', '602 ANG MO KIO AVENUE 5', '465 ANG MO KIO AVENUE 10', '601 ANG MO KIO AVENUE 5', '150 ANG MO KIO AVENUE 5', '447 ANG MO KIO AVENUE 10', '218 ANG MO KIO AVENUE 1', '571 ANG MO KIO AVENUE 3', '534 ANG MO KIO AVENUE 10', '233 ANG MO KIO AVENUE 3', '235 ANG MO KIO AVENUE 3', '219 ANG MO KIO AVENUE 1', '536 ANG MO KIO AVENUE 10', '230 ANG MO KIO AVENUE 3', '570 ANG MO KIO AVENUE 3', '624 ANG MO KIO AVENUE 4', '441 ANG MO KIO AVENUE 10', '625 ANG MO KIO AVENUE 9', '119 ANG MO KIO AVENUE 3', '255 ANG MO KIO AVENUE 4', '432 ANG MO KIO AVENUE 10', '211 ANG MO KIO AVENUE 3', '584 ANG MO KIO AVENUE 3', '118 ANG MO KIO AVENUE 4', '333 ANG MO KIO AVENUE 1', '256 ANG MO KIO AVENUE 4', '330 ANG MO KIO AVENUE 1', '557 ANG MO KIO AVENUE 10', '302 ANG MO KIO AVENUE 3', '575 ANG MO KIO AVENUE 10', '509 ANG MO KIO AVENUE 8', '472 ANG MO KIO AVENUE 10', '475 ANG MO KIO AVENUE 10', '629 ANG MO KIO AVENUE 4', '546 ANG MO KIO AVENUE 10', '131 ANG MO KIO AVENUE 3', '254 ANG MO KIO AVENUE 4', '470 ANG MO KIO AVENUE 10', '463 ANG MO KIO AVENUE 10', '207 ANG MO KIO AVENUE 1', '304 ANG MO KIO AVENUE 1', '646 ANG MO KIO AVENUE 6', '328 ANG MO KIO AVENUE 3', '588C ANG MO KIO STREET 52', '588D ANG MO KIO STREET 52', '101 ANG MO KIO AVENUE 3', '430 ANG MO KIO AVENUE 3', '520 ANG MO KIO AVENUE 5', '716 ANG MO KIO AVENUE 6', '588A ANG MO KIO STREET 52', '310A ANG MO KIO AVENUE 1', '613 ANG MO KIO AVENUE 4', '101 BEDOK NORTH AVENUE 4', '548 BEDOK NORTH AVENUE 1', '75 BEDOK NORTH ROAD', '550 BEDOK NORTH AVENUE 1', '1 BEDOK SOUTH AVENUE 1', '151 BEDOK RESERVOIR ROAD', '54 CHAI CHEE STREET', '50 CHAI CHEE STREET', '105 BEDOK RESERVOIR ROAD', '528 BEDOK NORTH STREET 3', '534 BEDOK NORTH STREET 3', '77 BEDOK NORTH ROAD', '116 BEDOK RESERVOIR ROAD', '18 BEDOK SOUTH ROAD', '40 CHAI CHEE AVENUE', '57 NEW UPPER CHANGI ROAD', '105 BEDOK NORTH AVENUE 4', '709 BEDOK RESERVOIR ROAD', '42 CHAI CHEE STREET', '55 CHAI CHEE DRIVE', '2 BEDOK SOUTH AVENUE 1', '37 CHAI CHEE AVENUE', '425 BEDOK NORTH ROAD', '117 BEDOK NORTH ROAD', '423 BEDOK NORTH AVENUE 1', '533 BEDOK NORTH STREET 3', '149 BEDOK RESERVOIR ROAD', '35 BEDOK SOUTH AVENUE 2', '42 BEDOK SOUTH ROAD', '34 BEDOK SOUTH AVENUE 2', '7 BEDOK SOUTH AVENUE 2', '8 BEDOK SOUTH AVENUE 2', '80 BEDOK NORTH ROAD', '78 BEDOK NORTH ROAD', '135 BEDOK RESERVOIR ROAD', '148 BEDOK RESERVOIR ROAD', '81 BEDOK NORTH ROAD', '142 BEDOK RESERVOIR ROAD', '124 BEDOK NORTH ROAD', '705 BEDOK NORTH ROAD', '554 BEDOK NORTH STREET 3', '602 BEDOK RESERVOIR ROAD', '508 BEDOK NORTH AVENUE 3', '720 BEDOK RESERVOIR ROAD', '765 BEDOK RESERVOIR VIEW', '10 CHAI CHEE ROAD', '185 BEDOK NORTH ROAD', '111 LENGKONG TIGA', '220B BEDOK CENTRAL', '603 BEDOK RESERVOIR ROAD', '21 CHAI CHEE ROAD', '672 JALAN DAMAI', '415 BEDOK NORTH AVENUE 2', '763 BEDOK RESERVOIR VIEW', '805 CHAI CHEE ROAD', '723 BEDOK RESERVOIR ROAD', '722 BEDOK RESERVOIR ROAD', '219C BEDOK CENTRAL', '640 BEDOK RESERVOIR ROAD', '160 BEDOK SOUTH AVENUE 3', '94C BEDOK NORTH AVENUE 4', '22 SIN MING ROAD', '407 SIN MING AVENUE', '105 BISHAN STREET 12', '167 BISHAN STREET 13', '111 BISHAN STREET 12', '181 BISHAN STREET 13', '166 BISHAN STREET 13', '109 BISHAN STREET 12', '115 BISHAN STREET 12', '260 BISHAN STREET 22', '275A BISHAN STREET 24', '214 BISHAN STREET 23', '182 BISHAN STREET 13', '448 BRIGHT HILL DRIVE', '402 SIN MING AVENUE', '128 BISHAN STREET 12', '303 SHUNFU ROAD', '231 BISHAN STREET 23', '134 BISHAN STREET 12', '342 BUKIT BATOK STREET 34', '530 BUKIT BATOK STREET 51', '145 BUKIT BATOK STREET 11', '528 BUKIT BATOK STREET 51', '537 BUKIT BATOK STREET 52', '213 BUKIT BATOK STREET 21', '219 BUKIT BATOK STREET 21', '235 BUKIT BATOK EAST AVENUE 5', '130 BUKIT BATOK WEST AVENUE 6', '212 BUKIT BATOK STREET 21', '346 BUKIT BATOK STREET 34', '226 BUKIT BATOK CENTRAL', '247 BUKIT BATOK EAST AVENUE 5', '169 BUKIT BATOK WEST AVENUE 8', '154 BUKIT BATOK STREET 11', '260 BUKIT BATOK EAST AVENUE 4', '360 BUKIT BATOK STREET 31', '217 BUKIT BATOK STREET 21', '178 BUKIT BATOK WEST AVENUE 8', '265 BUKIT BATOK EAST AVENUE 4', '134 BUKIT BATOK WEST AVENUE 6', '301 BUKIT BATOK STREET 31', '289E BUKIT BATOK STREET 25', '244 BUKIT BATOK EAST AVENUE 5', '248 BUKIT BATOK EAST AVENUE 5', '290D BUKIT BATOK EAST AVENUE 3', '395 BUKIT BATOK WEST AVENUE 5', '642 BUKIT BATOK CENTRAL', '185 BUKIT BATOK WEST AVENUE 6', '106 BUKIT BATOK CENTRAL', '210 BUKIT BATOK STREET 21', '386 BUKIT BATOK WEST AVENUE 5', '394 BUKIT BATOK WEST AVENUE 5', '190 BUKIT BATOK WEST AVENUE 6', '206 BUKIT BATOK STREET 21', '211 BUKIT BATOK STREET 21', '391 BUKIT BATOK WEST AVENUE 5', '205 BUKIT BATOK STREET 21', '193 BUKIT BATOK WEST AVENUE 6', '624 BUKIT BATOK CENTRAL', '290A BUKIT BATOK STREET 24', '141 BUKIT BATOK STREET 11', '120 BUKIT BATOK CENTRAL', '289A BUKIT BATOK STREET 25', '10 JALAN BUKIT HO SWEE', '2 JALAN BUKIT HO SWEE', '45 TELOK BLANGAH DRIVE', '36 BEO CRESCENT', '20 TELOK BLANGAH CRESCENT', '16 TAMAN HO SWEE', '32 TELOK BLANGAH RISE', '33 TELOK BLANGAH WAY', '142 JALAN BUKIT MERAH', '131 JALAN BUKIT MERAH', '30 JALAN KLINIK', '63 TELOK BLANGAH HEIGHTS', '61 TELOK BLANGAH HEIGHTS', '116 BUKIT MERAH VIEW', '44 TELOK BLANGAH DRIVE', '24 BEO CRESCENT', '78 INDUS ROAD', '55 TELOK BLANGAH DRIVE', '130 BUKIT MERAH VIEW', '122 BUKIT MERAH LANE 1', '80C TELOK BLANGAH STREET 31', '50 MOH GUAN TERRACE', '47 MOH GUAN TERRACE', '54 HAVELOCK ROAD', '101 HENDERSON CRESCENT', '23 TELOK BLANGAH CRESCENT', '106 HENDERSON CRESCENT', '115 BUKIT PURMEI ROAD', '108 BUKIT PURMEI ROAD', '129 KIM TIAN ROAD', '106B DEPOT ROAD', '38 JALAN RUMAH TINGGI', '3 DELTA AVENUE', '134 JALAN BUKIT MERAH', '80A TELOK BLANGAH STREET 31', '27A JALAN MEMBINA', '75A REDHILL ROAD', '77A REDHILL ROAD', '57 HAVELOCK ROAD', '48 LENGKOK BAHRU', '35 JALAN RUMAH TINGGI', '46 LENGKOK BAHRU', '67 TELOK BLANGAH DRIVE', '87 ZION ROAD', '1 DELTA AVENUE', '214 PETIR ROAD', '123 PENDING ROAD', '249 BANGKIT ROAD', '458 SEGAR ROAD', '506 JELAPANG ROAD', '621 SENJA ROAD', '402 FAJAR ROAD', '419 FAJAR ROAD', '526 JELAPANG ROAD', '623 SENJA ROAD', '128 PENDING ROAD', '204 PETIR ROAD', '473 SEGAR ROAD', '237 BUKIT PANJANG RING ROAD', '539 BUKIT PANJANG RING ROAD', '516 JELAPANG ROAD', '217 PETIR ROAD', '218 PETIR ROAD', '517 JELAPANG ROAD', '652 SENJA LINK', '624 SENJA ROAD', '629 SENJA ROAD', '455 SEGAR ROAD', '176 LOMPANG ROAD', '418 FAJAR ROAD', '484 SEGAR ROAD', '140 PETIR ROAD', '152 GANGSA ROAD', '537 BUKIT PANJANG RING ROAD', '401 FAJAR ROAD', '242 BUKIT PANJANG RING ROAD', '613 BUKIT PANJANG RING ROAD', '654 SENJA ROAD', '536 JELAPANG ROAD', '154 GANGSA ROAD', '174 LOMPANG ROAD', '177 LOMPANG ROAD', '606 SENJA ROAD', '650 SENJA LINK', '228 PENDING ROAD', '151 PETIR ROAD', '4 TOH YI DRIVE', '5 FARRER ROAD', '15 TOH YI DRIVE', '9 JALAN KUKOH', '640 ROWELL ROAD', '264 WATERLOO STREET', '32 NEW MARKET ROAD', '5 TANJONG PAGAR PLAZA', '271 QUEEN STREET', '232 BAIN STREET', '1C CANTONMENT ROAD', '1F CANTONMENT ROAD', '1B CANTONMENT ROAD', '111 TECK WHYE LANE', '114 TECK WHYE LANE', '460 CHOA CHU KANG AVENUE 4', '121 TECK WHYE LANE', '404 CHOA CHU KANG AVENUE 3', '692B CHOA CHU KANG CRESCENT', '115 TECK WHYE LANE', '422 CHOA CHU KANG AVENUE 4', '680 CHOA CHU KANG CRESCENT', '771 CHOA CHU KANG STREET 54', '229 CHOA CHU KANG CENTRAL', '237 CHOA CHU KANG CENTRAL', '157 JALAN TECK WHYE', '416 CHOA CHU KANG AVENUE 4', '414 CHOA CHU KANG AVENUE 4', '239 CHOA CHU KANG CENTRAL', '423 CHOA CHU KANG AVENUE 4', '621 CHOA CHU KANG STREET 62', '657 CHOA CHU KANG CRESCENT', '418 CHOA CHU KANG AVENUE 4', '608 CHOA CHU KANG STREET 62', '412 CHOA CHU KANG AVENUE 3', '635 CHOA CHU KANG NORTH 6', '353 CHOA CHU KANG CENTRAL', '453 CHOA CHU KANG AVENUE 4', '689A CHOA CHU KANG DRIVE', '692A CHOA CHU KANG CRESCENT', '689B CHOA CHU KANG DRIVE', '760 CHOA CHU KANG NORTH 5', '544 CHOA CHU KANG STREET 52', '690A CHOA CHU KANG CRESCENT', '474 CHOA CHU KANG AVENUE 3', '248 CHOA CHU KANG AVENUE 2', '626 CHOA CHU KANG STREET 62', '789 CHOA CHU KANG NORTH 6', '671 CHOA CHU KANG CRESCENT', '296B CHOA CHU KANG AVENUE 2', '604 CHOA CHU KANG STREET 62', '663 CHOA CHU KANG CRESCENT', '101 TECK WHYE LANE', '715 CLEMENTI WEST STREET 2', '702 WEST COAST ROAD', '607 CLEMENTI WEST STREET 1', '374 CLEMENTI AVENUE 4', '346 CLEMENTI AVENUE 5', '109 CLEMENTI STREET 11', '339 CLEMENTI AVENUE 5', '351 CLEMENTI AVENUE 2', '334 CLEMENTI AVENUE 2', '305 CLEMENTI AVENUE 4', '364 CLEMENTI AVENUE 2', '371 CLEMENTI AVENUE 4', '449 CLEMENTI AVENUE 3', '418 CLEMENTI AVENUE 1', '730 CLEMENTI WEST STREET 2', '716 CLEMENTI WEST STREET 2', '709 CLEMENTI WEST STREET 2', '611 CLEMENTI WEST STREET 1', '348 CLEMENTI AVENUE 5', '411 COMMONWEALTH AVENUE WEST', '324 CLEMENTI AVENUE 5', '307 CLEMENTI AVENUE 4', '461 CLEMENTI AVENUE 3', '723 CLEMENTI WEST STREET 2', '724 CLEMENTI WEST STREET 2', '46 CIRCUIT ROAD', '43 CIRCUIT ROAD', '30 BALAM ROAD', '21 BALAM ROAD', '22 BALAM ROAD', '47 CIRCUIT ROAD', '67 CIRCUIT ROAD', '82 MACPHERSON LANE', '37 CIRCUIT ROAD', '24 BALAM ROAD', '65 CIRCUIT ROAD', '49 CIRCUIT ROAD', '24 EUNOS CRESCENT', '302 UBI AVENUE 1', '4 HAIG ROAD', '95 OLD AIRPORT ROAD', '36 CIRCUIT ROAD', '10 HAIG ROAD', '128 GEYLANG EAST AVENUE 1', '33 EUNOS CRESCENT', '344 UBI AVENUE 1', '40 SIMS DRIVE', '54 PIPIT ROAD', '42 SIMS DRIVE', '42 CIRCUIT ROAD', '120 GEYLANG EAST CENTRAL', '5 HAIG ROAD', '134 GEYLANG EAST AVENUE 1', '411 EUNOS ROAD 5', '30 CASSIA CRESCENT', '986A BUANGKOK CRESCENT', '22 HOUGANG AVENUE 3', '644 HOUGANG AVENUE 8', '24 HOUGANG AVENUE 3', '108 HOUGANG AVENUE 1', '619 HOUGANG AVENUE 8', '623 HOUGANG AVENUE 8', '311 HOUGANG AVENUE 5', '501 HOUGANG AVENUE 8', '698 HOUGANG STREET 61', '307 HOUGANG AVENUE 5', '21 HOUGANG AVENUE 3', '322 HOUGANG AVENUE 5', '308 HOUGANG AVENUE 5', '154 HOUGANG STREET 11', '339 HOUGANG AVENUE 7', '681 HOUGANG AVENUE 8', '314 HOUGANG AVENUE 5', '336 HOUGANG AVENUE 7', '321 HOUGANG AVENUE 5', '602 HOUGANG AVENUE 4', '709 HOUGANG AVENUE 2', '674 HOUGANG AVENUE 8', '165 HOUGANG AVENUE 1', '332 HOUGANG AVENUE 5', '135 LORONG AH SOO', '419 HOUGANG AVENUE 8', '938 HOUGANG STREET 92', '435 HOUGANG AVENUE 8', '699B HOUGANG STREET 52', '155 HOUGANG STREET 11', '445 HOUGANG AVENUE 8', '617 HOUGANG AVENUE 8', '411 HOUGANG AVENUE 10', '448 HOUGANG AVENUE 10', '142 LORONG AH SOO', '557 HOUGANG STREET 51', '465 UPPER SERANGOON ROAD', '835 HOUGANG CENTRAL', '922 HOUGANG STREET 91', '912 HOUGANG STREET 91', '971 HOUGANG STREET 91', '941 HOUGANG STREET 92', '984D BUANGKOK LINK', '978D BUANGKOK CRESCENT', '572 HOUGANG STREET 51', '915 HOUGANG STREET 91', '570 HOUGANG STREET 51', '919 HOUGANG AVENUE 4', '610 HOUGANG AVENUE 8', '958 HOUGANG STREET 91', '929 HOUGANG STREET 91', '456 HOUGANG AVENUE 10', '171 HOUGANG AVENUE 1', '136 LORONG AH SOO', '466 HOUGANG AVENUE 8', '372 HOUGANG STREET 31', '461 HOUGANG AVENUE 10', '940 HOUGANG STREET 92', '538 HOUGANG STREET 52', '628 HOUGANG AVENUE 8', '407 HOUGANG AVENUE 10', '705 HOUGANG AVENUE 2', '410 PANDAN GARDENS', '37 TEBAN GARDENS ROAD', '247 JURONG EAST STREET 24', '250 JURONG EAST STREET 24', '231 JURONG EAST STREET 21', '330 JURONG EAST AVENUE 1', '264 JURONG EAST STREET 24', '411 PANDAN GARDENS', '253 JURONG EAST STREET 24', '207 JURONG EAST STREET 21', '115 JURONG EAST STREET 13', '101 JURONG EAST STREET 13', '211 JURONG EAST STREET 21', '339 JURONG EAST AVENUE 1', '62 TEBAN GARDENS ROAD', '311 JURONG EAST STREET 32', '112 JURONG EAST STREET 13', '283 TOH GUAN ROAD', '310 JURONG EAST STREET 32', '329 JURONG EAST AVENUE 1', '312 JURONG EAST STREET 32', '22 TEBAN GARDENS ROAD', '265 TOH GUAN ROAD', '272 TOH GUAN ROAD', '268 TOH GUAN ROAD', '288E JURONG EAST STREET 21', '307 JURONG EAST STREET 32', '405 PANDAN GARDENS', '111 JURONG EAST STREET 13', '314 JURONG EAST STREET 32', '227 JURONG EAST STREET 21', '45 TEBAN GARDENS ROAD', '990A JURONG WEST STREET 93', '990B JURONG WEST STREET 93', '185 BOON LAY AVENUE', '119 HO CHING ROAD', '174 BOON LAY DRIVE', '113 TAO CHING ROAD', '176 BOON LAY DRIVE', '120 HO CHING ROAD', '914 JURONG WEST STREET 91', '421 JURONG WEST STREET 42', '908 JURONG WEST STREET 91', '915 JURONG WEST STREET 91', '926 JURONG WEST STREET 92', '211 BOON LAY PLACE', '517 JURONG WEST STREET 52', '337A TAH CHING ROAD', '530 JURONG WEST STREET 52', '518 JURONG WEST STREET 52', '511 JURONG WEST STREET 52', '514 JURONG WEST STREET 52', '524 JURONG WEST STREET 52', '813 JURONG WEST STREET 81', '178 YUNG SHENG ROAD', '854 JURONG WEST STREET 81', '276A JURONG WEST STREET 25', '733 JURONG WEST STREET 73', '730 JURONG WEST STREET 72', '273B JURONG WEST AVENUE 3', '936 JURONG WEST STREET 91', '844 JURONG WEST STREET 81', '720 JURONG WEST AVENUE 5', '750 JURONG WEST STREET 73', '848 JURONG WEST STREET 81', '943 JURONG WEST STREET 91', '153 YUNG HO ROAD', '833 JURONG WEST STREET 81', '545 JURONG WEST STREET 42', '950 JURONG WEST STREET 91', '747 JURONG WEST STREET 73', '179 YUNG SHENG ROAD', '756 JURONG WEST STREET 74', '406 JURONG WEST STREET 42', '430 JURONG WEST AVENUE 1', '713 JURONG WEST STREET 71', '259 BOON LAY DRIVE', '450 JURONG WEST STREET 42', '722 JURONG WEST AVENUE 5', '540 JURONG WEST AVENUE 1', '452 JURONG WEST STREET 42', '648D JURONG WEST STREET 61', '988A JURONG WEST STREET 93', '674B JURONG WEST STREET 65', '330 TAH CHING ROAD', '655B JURONG WEST STREET 61', '682C JURONG WEST CENTRAL 1', '619 JURONG WEST STREET 65', '657A JURONG WEST STREET 65', '257 BOON LAY DRIVE', '640 JURONG WEST STREET 61', '664A JURONG WEST STREET 64', '648B JURONG WEST STREET 61', '668D JURONG WEST STREET 64', '663C JURONG WEST STREET 65', '602 JURONG WEST STREET 62', '663D JURONG WEST STREET 65', '476 JURONG WEST STREET 41', '681C JURONG WEST CENTRAL 1', '987C JURONG WEST STREET 93', '934 JURONG WEST STREET 91', '271B JURONG WEST STREET 24', '902 JURONG WEST STREET 91', '273C JURONG WEST AVENUE 3', '272A JURONG WEST STREET 24', '821 JURONG WEST STREET 81', '818 JURONG WEST STREET 81', '843 JURONG WEST STREET 81', '673C JURONG WEST STREET 65', '676B JURONG WEST STREET 64', '198 BOON LAY DRIVE', '401 JURONG WEST STREET 42', '675B JURONG WEST STREET 64', '605 JURONG WEST STREET 62', '659A JURONG WEST STREET 65', '656A JURONG WEST STREET 61', '653A JURONG WEST STREET 61', '610 JURONG WEST STREET 65', '659B JURONG WEST STREET 65', '683C JURONG WEST STREET 64', '517C JURONG WEST STREET 52', '274A JURONG WEST AVENUE 3', '906 JURONG WEST STREET 91', '714 JURONG WEST STREET 71', '671C JURONG WEST STREET 65', '558 JURONG WEST STREET 42', '685A JURONG WEST STREET 64', '628 JURONG WEST STREET 65', '609 JURONG WEST STREET 65', '666B JURONG WEST STREET 65', '683A JURONG WEST CENTRAL 1', '7 JALAN BATU', '27 JALAN BAHAGIA', '76 LORONG LIMAU', \"3 SAINT GEORGE'S ROAD\", '67 KALLANG BAHRU', '49 DORSET ROAD', '57 GEYLANG BAHRU', '30 BENDEMEER ROAD', '6 JALAN BATU', '74 WHAMPOA DRIVE', '11 UPPER BOON KENG ROAD', '93 GEYLANG BAHRU', '685 RACE COURSE ROAD', '46 OWEN ROAD', '16 UPPER BOON KENG ROAD', '468 NORTH BRIDGE ROAD', '107 TOWNER ROAD', '105 TOWNER ROAD', '12 FARRER PARK ROAD', '5A UPPER BOON KENG ROAD', '95 WHAMPOA DRIVE', '123 MCNAIR ROAD', '18 JALAN TENTERAM', '38C BENDEMEER ROAD', '3C UPPER BOON KENG ROAD', '38D BENDEMEER ROAD', '108B MCNAIR ROAD', \"21 SAINT GEORGE'S ROAD\", '48A DORSET ROAD', '55 GEYLANG BAHRU', '59B GEYLANG BAHRU', '9 BOON KENG ROAD', '7 BOON KENG ROAD', '105 JALAN RAJAH', '66 MARINE DRIVE', '32 MARINE CRESCENT', '55 MARINE TERRACE', '62 MARINE DRIVE', '5 CHANGI VILLAGE ROAD', '753 PASIR RIS STREET 71', '743 PASIR RIS STREET 71', '109 PASIR RIS STREET 11', '632 PASIR RIS DRIVE 3', '742 PASIR RIS STREET 71', '473 PASIR RIS DRIVE 6', '121 PASIR RIS STREET 11', '773 PASIR RIS STREET 71', '474 PASIR RIS DRIVE 6', '124 PASIR RIS STREET 11', '215 PASIR RIS STREET 21', '484 PASIR RIS DRIVE 4', '185 PASIR RIS STREET 11', '570 PASIR RIS STREET 53', '701 PASIR RIS DRIVE 10', '416 PASIR RIS DRIVE 6', '519 PASIR RIS STREET 52', '198 PASIR RIS STREET 12', '564 PASIR RIS STREET 51', '231 PASIR RIS DRIVE 4', '720 PASIR RIS STREET 72', '747 PASIR RIS STREET 71', '520 PASIR RIS STREET 52', '515 PASIR RIS STREET 52', '633 PASIR RIS DRIVE 3', '199 PASIR RIS STREET 12', '553 PASIR RIS STREET 51', '514 PASIR RIS STREET 52', '419 PASIR RIS DRIVE 6', '239 PASIR RIS STREET 21', '116 PASIR RIS STREET 11', '237 PASIR RIS STREET 21', '108 PASIR RIS STREET 12', '531 PASIR RIS DRIVE 1', '203B PUNGGOL FIELD', '132 EDGEDALE PLAINS', '128A PUNGGOL FIELD WALK', '106B PUNGGOL FIELD', '614A EDGEFIELD PLAINS', '195E PUNGGOL ROAD', '168B PUNGGOL EAST', '270A PUNGGOL FIELD', '195D PUNGGOL ROAD', '613A PUNGGOL DRIVE', '615B EDGEFIELD PLAINS', '293 PUNGGOL CENTRAL', '602A PUNGGOL CENTRAL', '613D PUNGGOL DRIVE', '269C PUNGGOL FIELD', '601A PUNGGOL CENTRAL', '614B EDGEFIELD PLAINS', '601C PUNGGOL CENTRAL', '268D PUNGGOL FIELD', '305D PUNGGOL DRIVE', '289B PUNGGOL PLACE', '289A PUNGGOL PLACE', '274C PUNGGOL PLACE', '269B PUNGGOL FIELD', '302A PUNGGOL PLACE', '172C EDGEDALE PLAINS', '637A PUNGGOL DRIVE', '118 EDGEFIELD PLAINS', '161B PUNGGOL CENTRAL', '105A EDGEFIELD PLAINS', '106A PUNGGOL FIELD', '102C PUNGGOL FIELD', '196C PUNGGOL FIELD', '104B EDGEFIELD PLAINS', '199B PUNGGOL FIELD', '201A PUNGGOL FIELD', '171C EDGEDALE PLAINS', '166B PUNGGOL CENTRAL', '163A PUNGGOL CENTRAL', '617C PUNGGOL DRIVE', '295 PUNGGOL CENTRAL', '617B PUNGGOL DRIVE', '299 PUNGGOL CENTRAL', '270B PUNGGOL FIELD', '273C PUNGGOL PLACE', '268A PUNGGOL FIELD', '267B PUNGGOL FIELD', '270C PUNGGOL FIELD', '83 COMMONWEALTH CLOSE', '171 STIRLING ROAD', '153 MEI LING STREET', '81 COMMONWEALTH CLOSE', '169 STIRLING ROAD', '109 COMMONWEALTH CRESCENT', '94 COMMONWEALTH DRIVE', '111 COMMONWEALTH CRESCENT', '82 COMMONWEALTH CLOSE', '3 GHIM MOH ROAD', '1 DOVER ROAD', '170 STIRLING ROAD', '1 GHIM MOH ROAD', '6 GHIM MOH ROAD', '8 HOLLAND AVENUE', '86 COMMONWEALTH CLOSE', '60 STRATHMORE AVENUE', '11 HOLLAND DRIVE', '2 HOLLAND AVENUE', '23 GHIM MOH LINK', '52 STRATHMORE AVENUE', '130 CLARENCE LANE', '7 GHIM MOH ROAD', '21 HOLLAND DRIVE', '18 DOVER CRESCENT', '477 SEMBAWANG DRIVE', '322 SEMBAWANG CLOSE', '335 SEMBAWANG CLOSE', '504B MONTREAL DRIVE', '489 ADMIRALTY LINK', '467 ADMIRALTY DRIVE', '413 SEMBAWANG DRIVE', '357 ADMIRALTY DRIVE', '341 SEMBAWANG CLOSE', '327 SEMBAWANG CRESCENT', '420 CANBERRA ROAD', '338 SEMBAWANG CRESCENT', '334 SEMBAWANG CLOSE', '357A ADMIRALTY DRIVE', '353B ADMIRALTY DRIVE', '311 CANBERRA ROAD', '351B CANBERRA ROAD', '589A MONTREAL DRIVE', '351C CANBERRA ROAD', '303 CANBERRA ROAD', '588B MONTREAL DRIVE', '333 SEMBAWANG CLOSE', '337 SEMBAWANG CRESCENT', '441B FERNVALE ROAD', '441A FERNVALE ROAD', '445B FERNVALE ROAD', '445A FERNVALE ROAD', '211D COMPASSVALE LANE', '211C COMPASSVALE LANE', '308C ANCHORVALE ROAD', '124B RIVERVALE DRIVE', '185C RIVERVALE CRESCENT', '184C RIVERVALE CRESCENT', '324D SENGKANG EAST WAY', '183D RIVERVALE CRESCENT', '131 RIVERVALE STREET', '158C RIVERVALE CRESCENT', '130 RIVERVALE STREET', '108 RIVERVALE WALK', '121 RIVERVALE DRIVE', '404A FERNVALE LANE', '303C ANCHORVALE LINK', '128 RIVERVALE STREET', '257A COMPASSVALE ROAD', '123D RIVERVALE DRIVE', '296C COMPASSVALE CRESCENT', '195 RIVERVALE DRIVE', '211A COMPASSVALE LANE', '446C JALAN KAYU', '235 COMPASSVALE WALK', '201C COMPASSVALE DRIVE', '208A COMPASSVALE LANE', '224D COMPASSVALE WALK', '238 COMPASSVALE WALK', '434A FERNVALE ROAD', '410B FERNVALE ROAD', '269A COMPASSVALE LINK', '210C COMPASSVALE LANE', '213B COMPASSVALE LANE', '436B FERNVALE ROAD', '411B FERNVALE ROAD', '212B COMPASSVALE DRIVE', '210A COMPASSVALE LANE', '264E COMPASSVALE BOW', '272D SENGKANG CENTRAL', '272B SENGKANG CENTRAL', '271C SENGKANG CENTRAL', '275B COMPASSVALE LINK', '273D COMPASSVALE LINK', '193 RIVERVALE DRIVE', '311A ANCHORVALE LANE', '121A RIVERVALE DRIVE', '305A ANCHORVALE LINK', '320D ANCHORVALE DRIVE', '192C RIVERVALE DRIVE', '205C COMPASSVALE LANE', '305D ANCHORVALE LINK', '304A ANCHORVALE LINK', '298A COMPASSVALE STREET', '299C COMPASSVALE STREET', '290B COMPASSVALE CRESCENT', '406C FERNVALE ROAD', '112 RIVERVALE WALK', '323B SENGKANG EAST WAY', '435A FERNVALE ROAD', '307B ANCHORVALE ROAD', '203D COMPASSVALE ROAD', '120C RIVERVALE DRIVE', '299B COMPASSVALE STREET', '250B COMPASSVALE STREET', '119A RIVERVALE DRIVE', '262B COMPASSVALE STREET', '225 SERANGOON AVENUE 4', '4 LORONG LEW LIAN', '219 SERANGOON AVENUE 4', '311 SERANGOON AVENUE 2', '221 SERANGOON AVENUE 4', '2 LORONG LEW LIAN', '101 SERANGOON NORTH AVENUE 1', '144 SERANGOON NORTH AVENUE 1', '109 SERANGOON NORTH AVENUE 1', '222 SERANGOON AVENUE 4', '307 SERANGOON AVENUE 2', '401 SERANGOON AVENUE 1', '407 SERANGOON AVENUE 1', '420 SERANGOON CENTRAL', '506 SERANGOON NORTH AVENUE 4', '542 SERANGOON NORTH AVENUE 4', '537 SERANGOON NORTH AVENUE 4', '525 SERANGOON NORTH AVENUE 4', '299A TAMPINES STREET 22', '403 TAMPINES STREET 41', '802 TAMPINES AVENUE 4', '410 TAMPINES STREET 41', '462 TAMPINES STREET 44', '419 TAMPINES STREET 41', '827 TAMPINES STREET 81', '105 TAMPINES STREET 11', '211 TAMPINES STREET 23', '287 TAMPINES STREET 22', '467 TAMPINES STREET 44', '826 TAMPINES STREET 81', '924 TAMPINES STREET 91', '261 TAMPINES STREET 21', '885 TAMPINES STREET 83', '806 TAMPINES AVENUE 4', '270 TAMPINES STREET 21', '828 TAMPINES STREET 81', '810 TAMPINES AVENUE 4', '236 TAMPINES STREET 21', '458 TAMPINES STREET 42', '714 TAMPINES STREET 71', '489A TAMPINES STREET 45', '369 TAMPINES STREET 34', '832 TAMPINES STREET 82', '487B TAMPINES STREET 45', '489B TAMPINES STREET 45', '870 TAMPINES STREET 83', '272 TAMPINES STREET 22', '421 TAMPINES STREET 41', '448 TAMPINES STREET 42', '811 TAMPINES AVENUE 4', '486B TAMPINES AVENUE 9', '104 TAMPINES STREET 11', '227 TAMPINES STREET 23', '734 TAMPINES STREET 71', '498L TAMPINES STREET 45', '721 TAMPINES STREET 71', '295 TAMPINES STREET 22', '497B TAMPINES STREET 45', '497H TAMPINES STREET 45', '731 TAMPINES STREET 71', '726 TAMPINES STREET 71', '724 TAMPINES STREET 71', '116 SIMEI STREET 1', '732 TAMPINES STREET 71', '888 TAMPINES STREET 81', '246 SIMEI STREET 5', '253 TAMPINES STREET 21', '486A TAMPINES AVENUE 9', '491G TAMPINES STREET 45', '741 TAMPINES STREET 72', '233 TAMPINES STREET 21', '491H TAMPINES STREET 45', '491B TAMPINES AVENUE 9', '216 TAMPINES STREET 23', '498B TAMPINES STREET 45', '135 SIMEI STREET 1', '716 TAMPINES STREET 71', '723 TAMPINES STREET 72', '871A TAMPINES STREET 84', '729 TAMPINES STREET 71', '889A TAMPINES STREET 81', '141 SIMEI STREET 2', '518A TAMPINES CENTRAL 7', '518B TAMPINES CENTRAL 7', '315 TAMPINES STREET 33', '497D TAMPINES STREET 45', '895A TAMPINES STREET 81', '313 TAMPINES STREET 33', '327 TAMPINES STREET 32', '860 TAMPINES AVENUE 5', '856B TAMPINES STREET 82', '55 LORONG 5 TOA PAYOH', '9 LORONG 7 TOA PAYOH', '66 LORONG 4 TOA PAYOH', '163 LORONG 1 TOA PAYOH', '13 LORONG 7 TOA PAYOH', '108 LORONG 1 TOA PAYOH', '20 LORONG 7 TOA PAYOH', '25 TOA PAYOH EAST', '119 POTONG PASIR AVENUE 1', '203 TOA PAYOH NORTH', '34 LORONG 5 TOA PAYOH', '114 LORONG 1 TOA PAYOH', '232 LORONG 8 TOA PAYOH', '199 TOA PAYOH NORTH', '91 LORONG 3 TOA PAYOH', '123 LORONG 1 TOA PAYOH', '53 LORONG 5 TOA PAYOH', '109 POTONG PASIR AVENUE 1', '142 POTONG PASIR AVENUE 3', '157 LORONG 1 TOA PAYOH', '101 POTONG PASIR AVENUE 1', '18 JOO SENG ROAD', '143 LORONG 2 TOA PAYOH', '81A LORONG 4 TOA PAYOH', '121 LORONG 2 TOA PAYOH', '144 LORONG 2 TOA PAYOH', '145 LORONG 2 TOA PAYOH', '79E TOA PAYOH CENTRAL', '79C TOA PAYOH CENTRAL', '223 LORONG 8 TOA PAYOH', '141 LORONG 2 TOA PAYOH', '81 LORONG 4 TOA PAYOH', '129 POTONG PASIR AVENUE 1', '23 MARSILING DRIVE', '30 MARSILING DRIVE', '1 MARSILING DRIVE', '103 WOODLANDS STREET 13', '201 MARSILING DRIVE', '620 WOODLANDS DRIVE 52', '5A MARSILING DRIVE', '436 WOODLANDS STREET 41', '428 WOODLANDS STREET 41', '217 MARSILING CRESCENT', '108 WOODLANDS STREET 13', '854 WOODLANDS STREET 83', '742 WOODLANDS CIRCLE', '106 WOODLANDS STREET 13', '702 WOODLANDS DRIVE 40', '421 WOODLANDS STREET 41', '317 WOODLANDS STREET 31', '577 WOODLANDS DRIVE 16', '824 WOODLANDS STREET 81', '628A WOODLANDS RING ROAD', '668 WOODLANDS RING ROAD', '110 WOODLANDS STREET 13', '408 WOODLANDS STREET 41', '554 WOODLANDS DRIVE 53', '684C WOODLANDS DRIVE 62', '633 WOODLANDS RING ROAD', '644 WOODLANDS RING ROAD', '667 WOODLANDS RING ROAD', '540 WOODLANDS DRIVE 16', '588 WOODLANDS DRIVE 16', '711 WOODLANDS DRIVE 70', '162 WOODLANDS STREET 13', '707 WOODLANDS DRIVE 40', '734 WOODLANDS CIRCLE', '604 WOODLANDS DRIVE 42', '716 WOODLANDS DRIVE 70', '894D WOODLANDS DRIVE 50', '897B WOODLANDS DRIVE 50', '792 WOODLANDS AVENUE 6', '522 WOODLANDS DRIVE 14', '369 WOODLANDS AVENUE 1', '651 WOODLANDS RING ROAD', '364 WOODLANDS AVENUE 5', '509 WOODLANDS DRIVE 14', '511 WOODLANDS DRIVE 14', '35 MARSILING DRIVE', '425 WOODLANDS STREET 41', '587 WOODLANDS DRIVE 16', '681C WOODLANDS DRIVE 62', '120 MARSILING RISE', '787E WOODLANDS CRESCENT', '686C WOODLANDS DRIVE 73', '416 WOODLANDS STREET 41', '551 WOODLANDS DRIVE 44', '717 WOODLANDS DRIVE 70', '518 WOODLANDS DRIVE 14', '777 WOODLANDS CRESCENT', '576 WOODLANDS DRIVE 16', '631 WOODLANDS RING ROAD', '173 WOODLANDS STREET 13', '680 WOODLANDS AVENUE 6', '525 WOODLANDS DRIVE 14', '503 WOODLANDS DRIVE 14', '538 WOODLANDS DRIVE 16', '549 WOODLANDS DRIVE 44', '726 WOODLANDS CIRCLE', '683C WOODLANDS DRIVE 62', '727 WOODLANDS CIRCLE', '515 WOODLANDS DRIVE 14', '650 WOODLANDS RING ROAD', '865 WOODLANDS STREET 83', '893D WOODLANDS DRIVE 50', '516 WOODLANDS DRIVE 14', '893A WOODLANDS DRIVE 50', '451 YISHUN RING ROAD', '773 YISHUN AVENUE 3', '774 YISHUN AVENUE 3', '618 YISHUN RING ROAD', '126 YISHUN STREET 11', '661 YISHUN AVENUE 4', '273 YISHUN STREET 22', '725 YISHUN STREET 71', '117 YISHUN RING ROAD', '147 YISHUN STREET 11', '354 YISHUN RING ROAD', '160 YISHUN STREET 11', '701 YISHUN AVENUE 5', '107 YISHUN RING ROAD', '621 YISHUN RING ROAD', '849 YISHUN RING ROAD', '217 YISHUN STREET 21', '242 YISHUN RING ROAD', '861 YISHUN AVENUE 4', '454 YISHUN STREET 41', '216 YISHUN STREET 21', '853 YISHUN RING ROAD', '636 YISHUN STREET 61', '646 YISHUN STREET 61', '435 YISHUN AVENUE 6', '167 YISHUN RING ROAD', '252 YISHUN RING ROAD', '262 YISHUN STREET 22', '439 YISHUN AVENUE 11', '662 YISHUN AVENUE 4', '645 YISHUN STREET 61', '302 YISHUN CENTRAL', '641 YISHUN STREET 61', '868 YISHUN STREET 81', '425 YISHUN AVENUE 11', '738 YISHUN STREET 72', '330 YISHUN RING ROAD', '237 YISHUN RING ROAD', '264 YISHUN STREET 22', '443 YISHUN AVENUE 11', '778 YISHUN AVENUE 2', '756 YISHUN STREET 72', '871 YISHUN STREET 81', '139 YISHUN RING ROAD', '450 YISHUN RING ROAD', '825 YISHUN STREET 81', '873 YISHUN STREET 81', '222 YISHUN STREET 21', '617 YISHUN RING ROAD', '449 YISHUN RING ROAD', '238 YISHUN RING ROAD', '288 YISHUN AVENUE 6', '613 YISHUN STREET 61', '717 YISHUN STREET 71', '149 YISHUN STREET 11', '412 YISHUN RING ROAD', '625 YISHUN STREET 61', '322 YISHUN CENTRAL', '608 YISHUN STREET 61', '812 YISHUN RING ROAD', '328 YISHUN RING ROAD', '387 YISHUN RING ROAD', '877 YISHUN STREET 81', '836 YISHUN STREET 81', '633A YISHUN STREET 61', '709 YISHUN AVENUE 5', '323 ANG MO KIO AVENUE 3', '510 ANG MO KIO AVENUE 8', '180 ANG MO KIO AVENUE 5', '608 ANG MO KIO AVENUE 5', '605 ANG MO KIO AVENUE 5', '202 ANG MO KIO AVENUE 3', '133 ANG MO KIO AVENUE 3', '564 ANG MO KIO AVENUE 3', '577 ANG MO KIO AVENUE 10', '556 ANG MO KIO AVENUE 10', '319 ANG MO KIO AVENUE 1', '110 ANG MO KIO AVENUE 4', '126 ANG MO KIO AVENUE 3', '120 ANG MO KIO AVENUE 3', '106 ANG MO KIO AVENUE 4', '345 ANG MO KIO AVENUE 3', '329 ANG MO KIO AVENUE 3', '424 ANG MO KIO AVENUE 3', '308B ANG MO KIO AVENUE 1', '322 ANG MO KIO AVENUE 3', '310C ANG MO KIO AVENUE 1', '543 ANG MO KIO AVENUE 10', '633 ANG MO KIO AVENUE 6', '222 ANG MO KIO AVENUE 1', '512 ANG MO KIO AVENUE 8', '427 ANG MO KIO AVENUE 3', '351 ANG MO KIO STREET 32', '596A ANG MO KIO STREET 52', '596D ANG MO KIO STREET 52', '459 ANG MO KIO AVENUE 10', '729 ANG MO KIO AVENUE 6', '317 ANG MO KIO STREET 31', '541 BEDOK NORTH STREET 3', '617 BEDOK RESERVOIR ROAD', '501 BEDOK NORTH STREET 3', '540 BEDOK NORTH STREET 3', '20 CHAI CHEE ROAD', '102 BEDOK RESERVOIR ROAD', '529 BEDOK NORTH STREET 3', '134 BEDOK NORTH STREET 2', '713 BEDOK RESERVOIR ROAD', '41 CHAI CHEE STREET', '23 BEDOK SOUTH AVENUE 1', '28 NEW UPPER CHANGI ROAD', '126 BEDOK NORTH STREET 2', '536 BEDOK NORTH STREET 3', '122 BEDOK NORTH STREET 2', '712 BEDOK RESERVOIR ROAD', '740 BEDOK RESERVOIR ROAD', '107 BEDOK NORTH ROAD', '545 BEDOK NORTH STREET 3', '214 BEDOK NORTH STREET 1', '525 BEDOK NORTH STREET 3', '526 BEDOK NORTH STREET 3', '201 BEDOK NORTH STREET 1', '420 BEDOK NORTH STREET 1', '219D BEDOK CENTRAL', '43 BEDOK SOUTH ROAD', '95 BEDOK NORTH AVENUE 4', '150 BEDOK RESERVOIR ROAD', '156 BEDOK SOUTH AVENUE 3', '51 NEW UPPER CHANGI ROAD', '524 BEDOK NORTH STREET 3', '421 BEDOK NORTH ROAD', '404 BEDOK NORTH AVENUE 3', '609 BEDOK RESERVOIR ROAD', '648 JALAN TENAGA', '646 JALAN TENAGA', '761 BEDOK RESERVOIR VIEW', '654 JALAN TENAGA', '181 BEDOK NORTH ROAD', '180 BEDOK NORTH ROAD', '101 BEDOK RESERVOIR ROAD', '601 BEDOK RESERVOIR ROAD', '613 BEDOK RESERVOIR ROAD', '613B BEDOK RESERVOIR ROAD', '607 BEDOK RESERVOIR ROAD', '52 CHAI CHEE STREET', '91 BEDOK NORTH STREET 4', '549 BEDOK NORTH AVENUE 1', '767 BEDOK RESERVOIR VIEW', '60 NEW UPPER CHANGI ROAD', '405 BEDOK NORTH AVENUE 3', '31 BEDOK SOUTH AVENUE 2', '10B BEDOK SOUTH AVENUE 2', '176 BISHAN STREET 13', '110 BISHAN STREET 12', '308 SHUNFU ROAD', '106 BISHAN STREET 12', '254 BISHAN STREET 22', '250 BISHAN STREET 22', '441 SIN MING AVENUE', '230 BISHAN STREET 23', '265 BISHAN STREET 24', '293 BISHAN STREET 22', '263 BISHAN STREET 22', '204 BISHAN STREET 23', '241 BISHAN STREET 22', '273A BISHAN STREET 24', '310 SHUNFU ROAD', '220 BISHAN STREET 23', '447 BRIGHT HILL DRIVE', '161 BISHAN STREET 13', '190 BISHAN STREET 13', '405 SIN MING AVENUE', '168 BISHAN STREET 13', '291 BISHAN STREET 24', '288 BISHAN STREET 24', '215 BISHAN STREET 23', '292 BISHAN STREET 22', '273B BISHAN STREET 24', '159 BISHAN STREET 13', '167 BUKIT BATOK WEST AVENUE 8', '533 BUKIT BATOK STREET 51', '505 BUKIT BATOK STREET 52', '173 BUKIT BATOK WEST AVENUE 8', '239 BUKIT BATOK EAST AVENUE 5', '411 BUKIT BATOK WEST AVENUE 4', '136 BUKIT BATOK WEST AVENUE 6', '138 BUKIT BATOK WEST AVENUE 6', '163 BUKIT BATOK STREET 11', '162 BUKIT BATOK STREET 11', '501 BUKIT BATOK STREET 52', '340 BUKIT BATOK STREET 34', '288E BUKIT BATOK STREET 25', '202 BUKIT BATOK STREET 21', '393 BUKIT BATOK WEST AVENUE 5', '288A BUKIT BATOK STREET 25', '117 BUKIT BATOK WEST AVENUE 6', '103 BUKIT BATOK CENTRAL', '221 BUKIT BATOK EAST AVENUE 3', '137 JALAN BUKIT MERAH', '109 BUKIT PURMEI ROAD', '28 JALAN BUKIT MERAH', '2 JALAN BUKIT MERAH', '60 TELOK BLANGAH HEIGHTS', '26 JALAN KLINIK', '103 BUKIT PURMEI ROAD', '119 BUKIT MERAH VIEW', '40 BEO CRESCENT', '129 BUKIT MERAH VIEW', '64 TELOK BLANGAH DRIVE', '22 HAVELOCK ROAD', '12 CANTONMENT CLOSE', '24 TELOK BLANGAH CRESCENT', '51 TELOK BLANGAH DRIVE', '102 HENDERSON CRESCENT', '111 BUKIT PURMEI ROAD', '128 KIM TIAN ROAD', '43 LENGKOK BAHRU', '6B BOON TIONG ROAD', '21 JALAN MEMBINA', '23 JALAN MEMBINA', '52 HAVELOCK ROAD', '4B BOON TIONG ROAD', '104B DEPOT ROAD', '110 SPOTTISWOODE PARK ROAD', '87 REDHILL CLOSE', '123 KIM TIAN ROAD', '121A KIM TIAN PLACE', '68 REDHILL CLOSE', '56 HAVELOCK ROAD', '19 JALAN MEMBINA', '53 HAVELOCK ROAD', '206 PETIR ROAD', '112 PENDING ROAD', '149 PETIR ROAD', '447 BUKIT PANJANG RING ROAD', '479 SEGAR ROAD', '618 SENJA ROAD', '509 JELAPANG ROAD', '534 JELAPANG ROAD', '626 SENJA ROAD', '538 JELAPANG ROAD', '631 SENJA ROAD', '167 PETIR ROAD', '466 SEGAR ROAD', '622 SENJA ROAD', '244 BUKIT PANJANG RING ROAD', '121 PENDING ROAD', '612 SENJA ROAD', '605 SENJA ROAD', '422 FAJAR ROAD', '107 GANGSA ROAD', '133 CASHEW ROAD', \"4 QUEEN'S ROAD\", '17 TOH YI DRIVE', '5 TOH YI DRIVE', '7 TOH YI DRIVE', '668 CHANDER ROAD', '28 KELANTAN ROAD', '4 SAGO LANE', '4 TANJONG PAGAR PLAZA', '532 UPPER CROSS STREET', '53 CHIN SWEE ROAD', '335B SMITH STREET', '1E CANTONMENT ROAD', '1D CANTONMENT ROAD', '19 TECK WHYE LANE', '106 TECK WHYE LANE', '4 TECK WHYE AVENUE', '26 TECK WHYE LANE', '688C CHOA CHU KANG CRESCENT', '25 TECK WHYE LANE', '686A CHOA CHU KANG CRESCENT', '289 CHOA CHU KANG AVENUE 3', '504 CHOA CHU KANG STREET 51', '102 TECK WHYE LANE', '152 JALAN TECK WHYE', '506 CHOA CHU KANG STREET 51', '406 CHOA CHU KANG AVENUE 3', '444 CHOA CHU KANG AVENUE 4', '216 CHOA CHU KANG CENTRAL', '613 CHOA CHU KANG STREET 62', '790 CHOA CHU KANG NORTH 6', '765 CHOA CHU KANG NORTH 5', '401 CHOA CHU KANG AVENUE 3', '476B CHOA CHU KANG AVENUE 5', '476C CHOA CHU KANG AVENUE 5', '634 CHOA CHU KANG NORTH 6', '227 CHOA CHU KANG CENTRAL', '483 CHOA CHU KANG AVENUE 5', '516 CHOA CHU KANG STREET 51', '686B CHOA CHU KANG CRESCENT', '297B CHOA CHU KANG AVENUE 2', '18 TECK WHYE LANE', '674 CHOA CHU KANG CRESCENT', '677 CHOA CHU KANG CRESCENT', '691A CHOA CHU KANG CRESCENT', '461 CHOA CHU KANG AVENUE 4', '684D CHOA CHU KANG CRESCENT', '213 CHOA CHU KANG CENTRAL', '130 CHOA CHU KANG AVENUE 1', '531 CHOA CHU KANG STREET 51', '163 JALAN TECK WHYE', '120 TECK WHYE LANE', '207 CHOA CHU KANG CENTRAL', '704 WEST COAST ROAD', '705 CLEMENTI WEST STREET 2', '507 WEST COAST DRIVE', '602 CLEMENTI WEST STREET 1', '362 CLEMENTI AVENUE 2', '303 CLEMENTI AVENUE 4', '430 CLEMENTI AVENUE 3', '433 CLEMENTI AVENUE 3', '363 CLEMENTI AVENUE 2', '375 CLEMENTI AVENUE 4', '511 WEST COAST DRIVE', '410 COMMONWEALTH AVENUE WEST', '350 CLEMENTI AVENUE 2', '333 CLEMENTI AVENUE 2', '315 CLEMENTI AVENUE 4', '327 CLEMENTI AVENUE 5', '462 CLEMENTI AVENUE 3', '68 CIRCUIT ROAD', '44 CIRCUIT ROAD', '91 PAYA LEBAR WAY', '45 CIRCUIT ROAD', '57 CIRCUIT ROAD', '66 CIRCUIT ROAD', '19 EUNOS CRESCENT', '99 ALJUNIED CRESCENT', '321 UBI AVENUE 1', '301 UBI AVENUE 1', '106 ALJUNIED CRESCENT', '45 SIMS DRIVE', '36 CASSIA CRESCENT', '111 ALJUNIED CRESCENT', '4 JOO CHIAT ROAD', '10 PINE CLOSE', '315 UBI AVENUE 1', '349 UBI AVENUE 1', '121 PAYA LEBAR WAY', '2 HAIG ROAD', '5 PINE CLOSE', '11 PINE CLOSE', '53 PIPIT ROAD', '335 UBI AVENUE 1', '2 HOUGANG AVENUE 3', '677 HOUGANG AVENUE 8', '679 HOUGANG AVENUE 8', '645 HOUGANG AVENUE 8', '240 HOUGANG STREET 22', '986B BUANGKOK CRESCENT', '125 HOUGANG AVENUE 1', '317 HOUGANG AVENUE 7', '611 HOUGANG AVENUE 8', '606 HOUGANG AVENUE 4', '980C BUANGKOK CRESCENT', '910 HOUGANG STREET 91', '248 HOUGANG AVENUE 3', '328 HOUGANG AVENUE 5', '690 HOUGANG STREET 61', '554 HOUGANG STREET 51', '710 HOUGANG AVENUE 2', '980D BUANGKOK CRESCENT', '978C BUANGKOK CRESCENT', '952 HOUGANG AVENUE 9', '417 HOUGANG AVENUE 8', '568 HOUGANG STREET 51', '981D BUANGKOK CRESCENT', '161 HOUGANG STREET 11', '457 HOUGANG AVENUE 10', '468 HOUGANG AVENUE 8', '167 HOUGANG AVENUE 1', '918 HOUGANG AVENUE 9', '979C BUANGKOK CRESCENT', '251 HOUGANG AVENUE 3', '436 HOUGANG AVENUE 8', '306 HOUGANG AVENUE 5', '526 HOUGANG AVENUE 6', '16 HOUGANG AVENUE 3', '649 HOUGANG AVENUE 8', '699A HOUGANG STREET 52', '917 HOUGANG AVENUE 9', '655 HOUGANG AVENUE 8', '467 HOUGANG AVENUE 8', '838 HOUGANG CENTRAL', '974 HOUGANG STREET 91', '959 HOUGANG STREET 91', '961 HOUGANG AVENUE 9', '640 HOUGANG AVENUE 8', '455 HOUGANG AVENUE 10', '852 HOUGANG CENTRAL', '237 HOUGANG STREET 21', '23 TEBAN GARDENS ROAD', '249 JURONG EAST STREET 24', '412 PANDAN GARDENS', '252 JURONG EAST STREET 24', '245 JURONG EAST STREET 24', '40 TEBAN GARDENS ROAD', '241 JURONG EAST STREET 24', '243 JURONG EAST STREET 24', '244 JURONG EAST STREET 24', '308 JURONG EAST STREET 32', '52 TEBAN GARDENS ROAD', '217 JURONG EAST STREET 21', '282 TOH GUAN ROAD', '21 TEBAN GARDENS ROAD', '260 JURONG EAST STREET 24', '240 JURONG EAST STREET 21', '209 JURONG EAST STREET 21', '276 TOH GUAN ROAD', '50 TEBAN GARDENS ROAD', '285D TOH GUAN ROAD', '287D JURONG EAST STREET 21', '287C JURONG EAST STREET 21', '191 BOON LAY DRIVE', '515 JURONG WEST STREET 52', '455 JURONG WEST STREET 42', '462 JURONG WEST STREET 41', '939 JURONG WEST STREET 91', '412 JURONG WEST STREET 42', '920 JURONG WEST STREET 92', '736 JURONG WEST STREET 75', '812 JURONG WEST STREET 81', '924 JURONG WEST STREET 92', '826 JURONG WEST STREET 81', '735 JURONG WEST STREET 75', '718 JURONG WEST STREET 71', '276D JURONG WEST STREET 25', '814 JURONG WEST STREET 81', '543 JURONG WEST STREET 42', '483 JURONG WEST STREET 41', '664C JURONG WEST STREET 64', '676A JURONG WEST STREET 64', '620 JURONG WEST STREET 65', '486 JURONG WEST AVENUE 1', '348 KANG CHING ROAD', '649A JURONG WEST STREET 61', '645 JURONG WEST STREET 61', '685B JURONG WEST STREET 64', '687 JURONG WEST CENTRAL 1', '520 JURONG WEST STREET 52', '276C JURONG WEST STREET 25', '852 JURONG WEST STREET 81', '667B JURONG WEST STREET 65', '725 JURONG WEST AVENUE 5', '654A JURONG WEST STREET 61', '631 JURONG WEST STREET 65', '678C JURONG WEST STREET 64', '664B JURONG WEST STREET 64', '658B JURONG WEST STREET 65', '988C JURONG WEST STREET 93', '989C JURONG WEST STREET 93', '681B JURONG WEST CENTRAL 1', '661C JURONG WEST STREET 64', '9 JALAN BATU', '28 JALAN BAHAGIA', '85 WHAMPOA DRIVE', '73 GEYLANG BAHRU', '35 JALAN BAHAGIA', '44 BENDEMEER ROAD', '4 JALAN BATU', '1 KAMPONG KAYU ROAD', '95 GEYLANG BAHRU', '86 WHAMPOA DRIVE', '68 GEYLANG BAHRU', '94 GEYLANG BAHRU', '462 CRAWFORD LANE', '34 WHAMPOA WEST', '3 BEACH ROAD', '99 WHAMPOA DRIVE', \"11 SAINT GEORGE'S ROAD\", '101 JALAN RAJAH', '43 CAMBRIDGE ROAD', '38A BENDEMEER ROAD', '2B UPPER BOON KENG ROAD', '2A UPPER BOON KENG ROAD', '48 DORSET ROAD', \"4C SAINT GEORGE'S LANE\", '12 NORTH BRIDGE ROAD', '11 JALAN BATU', '3B UPPER BOON KENG ROAD', '815 JELLICOE ROAD', '108C MCNAIR ROAD', '8 BOON KENG ROAD', '10 JALAN BATU', '5 MARINE TERRACE', '18 MARINE TERRACE', '45 MARINE CRESCENT', '60 MARINE DRIVE', '61 MARINE DRIVE', '2 MARINE TERRACE', '78 MARINE DRIVE', '72 MARINE DRIVE', '560 PASIR RIS STREET 51', '768 PASIR RIS STREET 71', '723 PASIR RIS STREET 72', '115 PASIR RIS STREET 11', '411 PASIR RIS DRIVE 6', '476 PASIR RIS DRIVE 6', '574 PASIR RIS STREET 53', '754 PASIR RIS STREET 71', '760 PASIR RIS STREET 71', '146 PASIR RIS STREET 11', '634 PASIR RIS DRIVE 1', '417 PASIR RIS DRIVE 6', '273 PASIR RIS STREET 21', '746 PASIR RIS STREET 71', '644 PASIR RIS DRIVE 10', '267 PASIR RIS STREET 21', '710 PASIR RIS STREET 72', '203 PASIR RIS STREET 21', '651 PASIR RIS DRIVE 10', '246 PASIR RIS STREET 21', '456 PASIR RIS DRIVE 4', '101 PASIR RIS STREET 12', '544 PASIR RIS STREET 51', '448 PASIR RIS DRIVE 6', '779 PASIR RIS STREET 71', '604 ELIAS ROAD', '175A PUNGGOL FIELD', '134 EDGEDALE PLAINS', '126A EDGEDALE PLAINS', '604B PUNGGOL ROAD', '635A PUNGGOL DRIVE', '641A PUNGGOL DRIVE', '603B PUNGGOL ROAD', '268C PUNGGOL FIELD', '613C PUNGGOL DRIVE', '617D PUNGGOL DRIVE', '615A EDGEFIELD PLAINS', '612D PUNGGOL DRIVE', '267A PUNGGOL FIELD', '305A PUNGGOL ROAD', '303B PUNGGOL CENTRAL', '289D PUNGGOL PLACE', '288C PUNGGOL PLACE', '109B EDGEDALE PLAINS', '138 EDGEDALE PLAINS', '110D PUNGGOL FIELD', '117 EDGEFIELD PLAINS', '176D EDGEFIELD PLAINS', '649 PUNGGOL CENTRAL', '103A EDGEFIELD PLAINS', '173B PUNGGOL FIELD', '185 EDGEFIELD PLAINS', '173D PUNGGOL FIELD', '638C PUNGGOL DRIVE', '160A PUNGGOL CENTRAL', '294 PUNGGOL CENTRAL', '298 PUNGGOL CENTRAL', '267C PUNGGOL FIELD', '288A PUNGGOL PLACE', '190 PUNGGOL CENTRAL', '111 EDGEFIELD PLAINS', '92 COMMONWEALTH DRIVE', '4 GHIM MOH ROAD', '4 HOLLAND CLOSE', '28C DOVER CRESCENT', '89 TANGLIN HALT ROAD', '22 GHIM MOH LINK', '28B DOVER CRESCENT', '18C HOLLAND DRIVE', '27 DOVER CRESCENT', '28D DOVER CRESCENT', '7 COMMONWEALTH AVENUE', '150 MEI LING STREET', '482 ADMIRALTY LINK', '485 ADMIRALTY LINK', '329 SEMBAWANG CLOSE', '479 SEMBAWANG DRIVE', '406 SEMBAWANG DRIVE', '507C WELLINGTON CIRCLE', '490 ADMIRALTY LINK', '509A WELLINGTON CIRCLE', '503B CANBERRA LINK', '508B WELLINGTON CIRCLE', '352C CANBERRA ROAD', '401 ADMIRALTY LINK', '407 SEMBAWANG DRIVE', '412 SEMBAWANG DRIVE', '510B WELLINGTON CIRCLE', '484 ADMIRALTY LINK', '504D MONTREAL DRIVE', '357B ADMIRALTY DRIVE', '501A WELLINGTON CIRCLE', '321 SEMBAWANG CLOSE', '360B ADMIRALTY DRIVE', '353C ADMIRALTY DRIVE', '506A WELLINGTON CIRCLE', '469 ADMIRALTY DRIVE', '408 SEMBAWANG DRIVE', '468C ADMIRALTY DRIVE', '357C ADMIRALTY DRIVE', '339A SEMBAWANG CLOSE', '308 CANBERRA ROAD', '439B SENGKANG WEST AVENUE', '295B COMPASSVALE CRESCENT', '185D RIVERVALE CRESCENT', '295A COMPASSVALE CRESCENT', '188C RIVERVALE DRIVE', '407A FERNVALE ROAD', '304B ANCHORVALE LINK', '104 RIVERVALE WALK', '203E COMPASSVALE ROAD', '408A FERNVALE ROAD', '318A ANCHORVALE LINK', '408C FERNVALE ROAD', '207A COMPASSVALE LANE', '441C FERNVALE ROAD', '411A FERNVALE ROAD', '270A SENGKANG CENTRAL', '259B COMPASSVALE ROAD', '443C FERNVALE ROAD', '439A SENGKANG WEST AVENUE', '410A FERNVALE ROAD', '434B FERNVALE ROAD', '435B FERNVALE ROAD', '212C COMPASSVALE DRIVE', '264B COMPASSVALE BOW', '265A COMPASSVALE LINK', '265D COMPASSVALE BOW', '272C SENGKANG CENTRAL', '264D COMPASSVALE BOW', '277A COMPASSVALE LINK', '273C COMPASSVALE LINK', '183B RIVERVALE CRESCENT', '308A ANCHORVALE ROAD', '192A RIVERVALE DRIVE', '303A ANCHORVALE LINK', '122A SENGKANG EAST WAY', '116B RIVERVALE DRIVE', '157D RIVERVALE CRESCENT', '309B ANCHORVALE ROAD', '117C RIVERVALE DRIVE', '292B COMPASSVALE STREET', '224C COMPASSVALE WALK', '252 COMPASSVALE STREET', '200A SENGKANG EAST ROAD', '302A ANCHORVALE LINK', '200B SENGKANG EAST ROAD', '316A ANCHORVALE LINK', '405B FERNVALE LANE', '241 COMPASSVALE WALK', '260B SENGKANG EAST WAY', '212A COMPASSVALE DRIVE', '316B ANCHORVALE LINK', '189A RIVERVALE DRIVE', '135 RIVERVALE STREET', '189B RIVERVALE DRIVE', '314D ANCHORVALE LINK', '315B ANCHORVALE ROAD', '225C COMPASSVALE WALK', '202A COMPASSVALE DRIVE', '316C ANCHORVALE LINK', '250D COMPASSVALE STREET', '120B RIVERVALE DRIVE', '320C ANCHORVALE DRIVE', '108 SERANGOON NORTH AVENUE 1', '113 SERANGOON NORTH AVENUE 1', '105 SERANGOON NORTH AVENUE 1', '153 SERANGOON NORTH AVENUE 1', '215 SERANGOON AVENUE 4', '253 SERANGOON CENTRAL DRIVE', '323 SERANGOON AVENUE 3', '203 SERANGOON CENTRAL', '103 SERANGOON NORTH AVENUE 1', '126 SERANGOON NORTH AVENUE 1', '528 SERANGOON NORTH AVENUE 4', '226 SERANGOON AVENUE 4', '554 SERANGOON NORTH AVENUE 3', '224 SERANGOON AVENUE 4', '308 SERANGOON AVENUE 2', '335 SERANGOON AVENUE 3', '328 SERANGOON AVENUE 3', '232 SERANGOON AVENUE 3', '233 SERANGOON AVENUE 3', '505 SERANGOON NORTH AVENUE 4', '512 SERANGOON NORTH AVENUE 4', '552 SERANGOON NORTH AVENUE 3', '123 SERANGOON NORTH AVENUE 1', '526 SERANGOON NORTH AVENUE 4', '423 SERANGOON CENTRAL', '849 TAMPINES STREET 83', '879 TAMPINES AVENUE 8', '219 TAMPINES STREET 24', '809 TAMPINES AVENUE 4', '213 TAMPINES STREET 23', '267 TAMPINES STREET 21', '130 SIMEI STREET 1', '841 TAMPINES STREET 83', '347 TAMPINES STREET 33', '348 TAMPINES STREET 33', '840 TAMPINES STREET 82', '355 TAMPINES STREET 33', '367 TAMPINES STREET 34', '401 TAMPINES STREET 41', '447 TAMPINES STREET 42', '719 TAMPINES STREET 72', '891 TAMPINES AVENUE 8', '109 TAMPINES STREET 11', '166 TAMPINES STREET 12', '164 TAMPINES STREET 12', '842H TAMPINES STREET 82', '247 TAMPINES STREET 21', '842D TAMPINES STREET 82', '167D SIMEI LANE', '112 SIMEI STREET 1', '298 TAMPINES STREET 22', '358 TAMPINES STREET 33', '368 TAMPINES STREET 34', '498F TAMPINES STREET 45', '857A TAMPINES STREET 83', '494B TAMPINES AVENUE 9', '479 TAMPINES STREET 44', '149 SIMEI STREET 1', '491C TAMPINES STREET 45', '498E TAMPINES STREET 45', '388 TAMPINES STREET 32', '361 TAMPINES STREET 34', '279 TAMPINES STREET 22', '497G TAMPINES STREET 45', '322 TAMPINES STREET 33', '254 TAMPINES STREET 21', '880 TAMPINES AVENUE 8', '411 TAMPINES STREET 41', '153 SIMEI STREET 1', '142 TAMPINES STREET 12', '119 SIMEI STREET 1', '244 SIMEI STREET 5', '167B SIMEI LANE', '167A SIMEI LANE', '738 TAMPINES STREET 72', '892 TAMPINES AVENUE 8', '874A TAMPINES STREET 84', '125 TAMPINES STREET 11', '336 TAMPINES STREET 32', '105 SIMEI STREET 1', '147 TAMPINES AVENUE 5', '229 SIMEI STREET 4', '856D TAMPINES STREET 82', '52 LORONG 6 TOA PAYOH', '69 LORONG 4 TOA PAYOH', '12 LORONG 7 TOA PAYOH', '119 LORONG 1 TOA PAYOH', '110 LORONG 1 TOA PAYOH', '113 POTONG PASIR AVENUE 1', '117 POTONG PASIR AVENUE 1', '115 POTONG PASIR AVENUE 1', '124 LORONG 1 TOA PAYOH', '96 LORONG 3 TOA PAYOH', '85B LORONG 4 TOA PAYOH', '85C LORONG 4 TOA PAYOH', '108 POTONG PASIR AVENUE 1', '227 LORONG 8 TOA PAYOH', '15 JOO SENG ROAD', '37 LORONG 5 TOA PAYOH', '153A LORONG 1 TOA PAYOH', '79B TOA PAYOH CENTRAL', '81B LORONG 4 TOA PAYOH', '146 LORONG 2 TOA PAYOH', '155 LORONG 1 TOA PAYOH', '241 KIM KEAT LINK', '229 LORONG 8 TOA PAYOH', '36 LORONG 5 TOA PAYOH', '35 LORONG 5 TOA PAYOH', '121 POTONG PASIR AVENUE 1', '237 LORONG 1 TOA PAYOH', '132 POTONG PASIR AVENUE 1', '24 MARSILING DRIVE', '130 MARSILING RISE', '131 MARSILING RISE', '13 MARSILING LANE', '129 MARSILING RISE', '816 WOODLANDS STREET 82', '18 MARSILING LANE', '159 WOODLANDS STREET 13', '8 MARSILING DRIVE', '437 WOODLANDS STREET 41', '739 WOODLANDS CIRCLE', '771 WOODLANDS DRIVE 60', '840 WOODLANDS STREET 82', '601 WOODLANDS DRIVE 42', '29 MARSILING DRIVE', '575 WOODLANDS DRIVE 16', '619 WOODLANDS DRIVE 52', '348 WOODLANDS AVENUE 3', '723 WOODLANDS AVENUE 6', '749 WOODLANDS CIRCLE', '28 MARSILING DRIVE', '743 WOODLANDS CIRCLE', '767 WOODLANDS CIRCLE', '690F WOODLANDS DRIVE 75', '618 WOODLANDS AVENUE 4', '786F WOODLANDS DRIVE 60', '859 WOODLANDS STREET 83', '689D WOODLANDS DRIVE 75', '403 WOODLANDS STREET 41', '871 WOODLANDS STREET 81', '345 WOODLANDS STREET 32', '791 WOODLANDS AVENUE 6', '553 WOODLANDS DRIVE 44', '690A WOODLANDS DRIVE 75', '689E WOODLANDS DRIVE 75', '365 WOODLANDS AVENUE 5', '899B WOODLANDS DRIVE 50', '414 WOODLANDS STREET 41', '682C WOODLANDS DRIVE 73', '688A WOODLANDS DRIVE 75', '552 WOODLANDS DRIVE 44', '614 WOODLANDS AVENUE 4', '543 WOODLANDS DRIVE 16', '580 WOODLANDS DRIVE 16', '686A WOODLANDS DRIVE 73', '632 WOODLANDS RING ROAD', '753 WOODLANDS CIRCLE', '681D WOODLANDS DRIVE 62', '350 WOODLANDS AVENUE 3', '685B WOODLANDS DRIVE 73', '514 WOODLANDS DRIVE 14', '893C WOODLANDS DRIVE 50', '536 WOODLANDS DRIVE 14', '531 WOODLANDS DRIVE 14', '681A WOODLANDS DRIVE 62', '520 WOODLANDS DRIVE 14', '652 WOODLANDS RING ROAD', '647 WOODLANDS RING ROAD', '118 MARSILING RISE', '307 WOODLANDS AVENUE 1', '172 YISHUN AVENUE 7', '266 YISHUN STREET 22', '393 YISHUN AVENUE 6', '362 YISHUN RING ROAD', '241 YISHUN RING ROAD', '702 YISHUN AVENUE 5', '703 YISHUN AVENUE 5', '133 YISHUN STREET 11', '110 YISHUN RING ROAD', '134 YISHUN STREET 11', '736 YISHUN STREET 72', '720 YISHUN STREET 71', '634 YISHUN STREET 61', '642 YISHUN STREET 61', '174 YISHUN AVENUE 7', '272 YISHUN STREET 22', '766 YISHUN AVENUE 3', '255 YISHUN RING ROAD', '261 YISHUN STREET 22', '765 YISHUN STREET 72', '279 YISHUN STREET 22', '637 YISHUN STREET 61', '433 YISHUN AVENUE 6', '171 YISHUN AVENUE 7', '365 YISHUN RING ROAD', '314 YISHUN RING ROAD', '293 YISHUN STREET 22', '452 YISHUN RING ROAD', '875 YISHUN STREET 81', '795A YISHUN RING ROAD', '234 YISHUN STREET 21', '349 YISHUN AVENUE 11', '229 YISHUN STREET 21', '808 YISHUN RING ROAD', '833 YISHUN STREET 81', '455 YISHUN STREET 41', '456 YISHUN STREET 41', '750 YISHUN STREET 72', '830 YISHUN STREET 81', '852 YISHUN STREET 81', '628 YISHUN STREET 61', '737 YISHUN STREET 72', '445 YISHUN AVENUE 11', '115A YISHUN RING ROAD', '607 YISHUN STREET 61', '775 YISHUN RING ROAD', '240 YISHUN RING ROAD', '161 YISHUN STREET 11', '838 YISHUN STREET 81', '841 YISHUN STREET 81', '391 YISHUN AVENUE 6', '351 YISHUN AVENUE 11', '326 YISHUN RING ROAD', '352 YISHUN RING ROAD', '614 YISHUN STREET 61', '791 YISHUN AVENUE 2', '508 ANG MO KIO AVENUE 8', '213 ANG MO KIO AVENUE 3', '558 ANG MO KIO AVENUE 10', '565 ANG MO KIO AVENUE 3', '434 ANG MO KIO AVENUE 10', '154 ANG MO KIO AVENUE 5', '466 ANG MO KIO AVENUE 10', '452 ANG MO KIO AVENUE 10', '442 ANG MO KIO AVENUE 10', '540 ANG MO KIO AVENUE 10', '440 ANG MO KIO AVENUE 10', '533 ANG MO KIO AVENUE 5', '445 ANG MO KIO AVENUE 10', '607 ANG MO KIO AVENUE 4', '476 ANG MO KIO AVENUE 10', '215 ANG MO KIO AVENUE 1', '216 ANG MO KIO AVENUE 1', '524 ANG MO KIO AVENUE 5', '128 ANG MO KIO AVENUE 3', '178 ANG MO KIO AVENUE 4', '507 ANG MO KIO AVENUE 8', '586 ANG MO KIO AVENUE 3', '639 ANG MO KIO AVENUE 6', '435 ANG MO KIO AVENUE 10', '157 ANG MO KIO AVENUE 4', '117 ANG MO KIO AVENUE 4', '542 ANG MO KIO AVENUE 10', '649 ANG MO KIO AVENUE 5', '417 ANG MO KIO AVENUE 10', '422 ANG MO KIO AVENUE 3', '122 ANG MO KIO AVENUE 3', '155 ANG MO KIO AVENUE 4', '471 ANG MO KIO AVENUE 10', '320 ANG MO KIO AVENUE 1', '419 ANG MO KIO AVENUE 10', '513 ANG MO KIO AVENUE 8', '209 ANG MO KIO AVENUE 3', '153 ANG MO KIO AVENUE 5', '562 ANG MO KIO AVENUE 3', '537 ANG MO KIO AVENUE 5', '438 ANG MO KIO AVENUE 10', '544 ANG MO KIO AVENUE 10', '173 ANG MO KIO AVENUE 4', '428 ANG MO KIO AVENUE 3', '412 ANG MO KIO AVENUE 10', '127 ANG MO KIO AVENUE 3', '134 ANG MO KIO AVENUE 3', '344 ANG MO KIO AVENUE 3', '309A ANG MO KIO STREET 31', '354 ANG MO KIO STREET 32', '307C ANG MO KIO AVENUE 1', '539 ANG MO KIO AVENUE 10', '104B ANG MO KIO STREET 11', '553 ANG MO KIO AVENUE 10', '431 ANG MO KIO AVENUE 10', '305 ANG MO KIO AVENUE 1', '588B ANG MO KIO STREET 52', '700B ANG MO KIO AVENUE 6', '596B ANG MO KIO STREET 52', '616 ANG MO KIO AVENUE 4', '620 BEDOK RESERVOIR ROAD', '539 BEDOK NORTH STREET 3', '144 BEDOK RESERVOIR ROAD', '703 BEDOK RESERVOIR ROAD', '504 BEDOK NORTH STREET 3', '530 BEDOK NORTH STREET 3', '628 BEDOK RESERVOIR ROAD', '74 BEDOK NORTH ROAD', '29 NEW UPPER CHANGI ROAD', '107 BEDOK RESERVOIR ROAD', '30 NEW UPPER CHANGI ROAD', '32 CHAI CHEE AVENUE', '424 BEDOK NORTH AVENUE 1', '110 BEDOK NORTH ROAD', '521 BEDOK NORTH AVENUE 1', '125 BEDOK NORTH ROAD', '27 NEW UPPER CHANGI ROAD', '419 BEDOK NORTH STREET 1', '204 BEDOK NORTH STREET 1', '104 BEDOK NORTH AVENUE 4', '59 CHAI CHEE ROAD', '418 BEDOK NORTH AVENUE 2', '202 BEDOK NORTH STREET 1', '416 BEDOK NORTH AVENUE 2', '221B BEDOK CENTRAL', '5 BEDOK SOUTH AVENUE 2', '52 NEW UPPER CHANGI ROAD', '512 BEDOK NORTH AVENUE 2', '707 BEDOK NORTH ROAD', '120 BEDOK RESERVOIR ROAD', '169 BEDOK SOUTH AVENUE 3', '64 NEW UPPER CHANGI ROAD', '507 BEDOK NORTH AVENUE 3', '718 BEDOK RESERVOIR ROAD', '428 BEDOK NORTH ROAD', '666 JALAN DAMAI', '651 JALAN TENAGA', '771 BEDOK RESERVOIR VIEW', '770 BEDOK RESERVOIR VIEW', '183 BEDOK NORTH ROAD', '221A BEDOK CENTRAL', '182 BEDOK NORTH ROAD', '114 LENGKONG TIGA', '221C BEDOK CENTRAL', '604 BEDOK RESERVOIR ROAD', '140 BEDOK RESERVOIR ROAD', '146 BEDOK RESERVOIR ROAD', '711 BEDOK RESERVOIR ROAD', '139 BEDOK NORTH AVENUE 3', '99 BEDOK NORTH AVENUE 4', '552 BEDOK NORTH AVENUE 1', '645 JALAN TENAGA', '656 JALAN TENAGA', '33 CHAI CHEE AVENUE', '407 BEDOK NORTH AVENUE 3', '72 BEDOK SOUTH AVENUE 3', '61 NEW UPPER CHANGI ROAD', '636 BEDOK RESERVOIR ROAD', '661 JALAN DAMAI', '29A CHAI CHEE AVENUE', '23 SIN MING ROAD', '24 SIN MING ROAD', '406 SIN MING AVENUE', '146 BISHAN STREET 11', '272 BISHAN STREET 24', '443 SIN MING AVENUE', '107 BISHAN STREET 12', '113 BISHAN STREET 12', '153 BISHAN STREET 13', '123 BISHAN STREET 12', '445 SIN MING AVENUE', '114 BISHAN STREET 12', '191 BISHAN STREET 13', '256 BISHAN STREET 22', '189 BISHAN STREET 13', '195 BISHAN STREET 13', '503 BISHAN STREET 11', '135 BISHAN STREET 12', '157 BISHAN STREET 13', '444 SIN MING AVENUE', '228 BISHAN STREET 23', '290 BISHAN STREET 24', '179 BISHAN STREET 13', '238 BISHAN STREET 22', '245 BISHAN STREET 22', '186 BISHAN STREET 13', '420 BUKIT BATOK WEST AVENUE 2', '267 BUKIT BATOK EAST AVENUE 4', '523 BUKIT BATOK STREET 52', '283 BUKIT BATOK EAST AVENUE 3', '271 BUKIT BATOK EAST AVENUE 4', '272 BUKIT BATOK EAST AVENUE 4', '316 BUKIT BATOK STREET 32', '160 BUKIT BATOK STREET 11', '229 BUKIT BATOK EAST AVENUE 3', '417 BUKIT BATOK WEST AVENUE 4', '175 BUKIT BATOK WEST AVENUE 8', '180 BUKIT BATOK WEST AVENUE 8', '321 BUKIT BATOK STREET 33', '409 BUKIT BATOK WEST AVENUE 4', '161 BUKIT BATOK STREET 11', '225 BUKIT BATOK CENTRAL', '363 BUKIT BATOK STREET 31', '233 BUKIT BATOK EAST AVENUE 5', '164 BUKIT BATOK STREET 11', '231 BUKIT BATOK EAST AVENUE 5', '238 BUKIT BATOK EAST AVENUE 5', '258 BUKIT BATOK EAST AVENUE 4', '207 BUKIT BATOK STREET 21', '311 BUKIT BATOK STREET 32', '510 BUKIT BATOK STREET 52', '333 BUKIT BATOK STREET 32', '146 BUKIT BATOK WEST AVENUE 6', '148 BUKIT BATOK WEST AVENUE 6', '105 BUKIT BATOK CENTRAL', '302 BUKIT BATOK STREET 31', '337 BUKIT BATOK STREET 34', '313 BUKIT BATOK STREET 32', '288D BUKIT BATOK STREET 25', '266 BUKIT BATOK EAST AVENUE 4', '392 BUKIT BATOK WEST AVENUE 5', '291A BUKIT BATOK STREET 24', '367 BUKIT BATOK STREET 31', '108 BUKIT BATOK WEST AVENUE 6', '290E BUKIT BATOK STREET 24', '383 BUKIT BATOK WEST AVENUE 5', '201 BUKIT BATOK STREET 21', '290F BUKIT BATOK STREET 24', '291E BUKIT BATOK STREET 24', '419 BUKIT BATOK WEST AVENUE 2', '191 BUKIT BATOK WEST AVENUE 6', '189 BUKIT BATOK WEST AVENUE 6', '390 BUKIT BATOK WEST AVENUE 5', '297 BUKIT BATOK STREET 22', '286 BUKIT BATOK EAST AVENUE 3', '110 BUKIT BATOK WEST AVENUE 6', '402 BUKIT BATOK WEST AVENUE 7', '406 BUKIT BATOK WEST AVENUE 7', '526 BUKIT BATOK STREET 51', '140 BUKIT BATOK STREET 11', '7 TELOK BLANGAH CRESCENT', '8 TELOK BLANGAH CRESCENT', '42 TELOK BLANGAH RISE', '43 TELOK BLANGAH RISE', '28 HOY FATT ROAD', '138 JALAN BUKIT MERAH', '86 REDHILL CLOSE', '31 TELOK BLANGAH RISE', '1 TELOK BLANGAH CRESCENT', '30 TELOK BLANGAH RISE', '14 TAMAN HO SWEE', '46 JALAN BUKIT HO SWEE', '22 TELOK BLANGAH CRESCENT', '148 SILAT AVENUE', '62 TELOK BLANGAH HEIGHTS', '128 BUKIT MERAH VIEW', '1A CANTONMENT ROAD', '5 EVERTON PARK', '2 EVERTON PARK', '55 HAVELOCK ROAD', '26D JALAN MEMBINA', '51 LENGKOK BAHRU', '65 TELOK BLANGAH DRIVE', '54 LENGKOK BAHRU', '108 JALAN BUKIT MERAH', '40 JALAN RUMAH TINGGI', '8 JALAN RUMAH TINGGI', '12 JALAN BUKIT MERAH', '18 CANTONMENT CLOSE', '75B REDHILL ROAD', '13 CANTONMENT CLOSE', '120A KIM TIAN PLACE', '6A BOON TIONG ROAD', '126C KIM TIAN ROAD', '73 TELOK BLANGAH HEIGHTS', '117 BUKIT MERAH CENTRAL', '104A DEPOT ROAD', '103B DEPOT ROAD', '112B DEPOT ROAD', '9 JALAN RUMAH TINGGI', '2 DELTA AVENUE', '9 CANTONMENT CLOSE', '70 REDHILL CLOSE', '118B JALAN MEMBINA', '131 CASHEW ROAD', '229 PENDING ROAD', '109 GANGSA ROAD', '137 PETIR ROAD', '143 PETIR ROAD', '257 BANGKIT ROAD', '611 BUKIT PANJANG RING ROAD', '512 JELAPANG ROAD', '221 PENDING ROAD', '145 PETIR ROAD', '477 SEGAR ROAD', '504 JELAPANG ROAD', '216 PETIR ROAD', '525 JELAPANG ROAD', '630 SENJA ROAD', '166 GANGSA ROAD', '457 SEGAR ROAD', '170 GANGSA ROAD', '178 LOMPANG ROAD', '163 GANGSA ROAD', '181 JELEBU ROAD', '483 SEGAR ROAD', '136 PETIR ROAD', '481 SEGAR ROAD', '608 SENJA ROAD', '173 GANGSA ROAD', '183 JELEBU ROAD', '470 SEGAR ROAD', '130 CASHEW ROAD', '527 JELAPANG ROAD', '542 JELAPANG ROAD', '8 EMPRESS ROAD', '18 TOH YI DRIVE', '6 FARRER ROAD', '11 TOH YI DRIVE', '10 JALAN KUKOH', '34 UPPER CROSS STREET', '2 TANJONG PAGAR PLAZA', '533 UPPER CROSS STREET', '3 TANJONG PAGAR PLAZA', '269B QUEEN STREET', '632 VEERASAMY ROAD', '1G CANTONMENT ROAD', '10 TECK WHYE AVENUE', '442 CHOA CHU KANG AVENUE 4', '688A CHOA CHU KANG DRIVE', '17 TECK WHYE LANE', '542 CHOA CHU KANG STREET 52', '297A CHOA CHU KANG AVENUE 2', '456 CHOA CHU KANG AVENUE 4', '484A CHOA CHU KANG AVENUE 5', '20 TECK WHYE LANE', '470 CHOA CHU KANG AVENUE 3', '485 CHOA CHU KANG AVENUE 5', '427 CHOA CHU KANG AVENUE 4', '471 CHOA CHU KANG AVENUE 3', '673A CHOA CHU KANG CRESCENT', '441 CHOA CHU KANG AVENUE 4', '687B CHOA CHU KANG DRIVE', '465 CHOA CHU KANG AVENUE 4', '681 CHOA CHU KANG CRESCENT', '219 CHOA CHU KANG CENTRAL', '217 CHOA CHU KANG CENTRAL', '627 CHOA CHU KANG STREET 62', '642 CHOA CHU KANG STREET 64', '639 CHOA CHU KANG STREET 64', '501 CHOA CHU KANG STREET 51', '224 CHOA CHU KANG CENTRAL', '702 CHOA CHU KANG STREET 53', '690C CHOA CHU KANG CRESCENT', '686D CHOA CHU KANG CRESCENT', '670 CHOA CHU KANG CRESCENT', '154 JALAN TECK WHYE', '656 CHOA CHU KANG CRESCENT', '752 CHOA CHU KANG NORTH 5', '562 CHOA CHU KANG STREET 52', '641 CHOA CHU KANG STREET 64', '632 CHOA CHU KANG NORTH 6', '792 CHOA CHU KANG NORTH 6', '618 CHOA CHU KANG NORTH 7', '133 TECK WHYE LANE', '606 CHOA CHU KANG STREET 62', '164 JALAN TECK WHYE', '287 CHOA CHU KANG AVENUE 2', '448 CHOA CHU KANG AVENUE 4', '768 CHOA CHU KANG STREET 54', '711 CLEMENTI WEST STREET 2', '701 WEST COAST ROAD', '508 WEST COAST DRIVE', '335 CLEMENTI AVENUE 2', '343 CLEMENTI AVENUE 5', '365 CLEMENTI AVENUE 2', '341 CLEMENTI AVENUE 5', '366 CLEMENTI AVENUE 2', '608 CLEMENTI WEST STREET 1', '506 WEST COAST DRIVE', '610 CLEMENTI WEST STREET 1', '707 CLEMENTI WEST STREET 2', '609 CLEMENTI WEST STREET 1', '205 CLEMENTI AVENUE 6', '347 CLEMENTI AVENUE 5', '379 CLEMENTI AVENUE 5', '316 CLEMENTI AVENUE 4', '317 CLEMENTI AVENUE 4', '421 CLEMENTI AVENUE 1', '424 CLEMENTI AVENUE 1', '605 CLEMENTI WEST STREET 1', '414 COMMONWEALTH AVENUE WEST', '337 CLEMENTI AVENUE 2', '458 CLEMENTI AVENUE 3', '416 CLEMENTI AVENUE 1', '115 CLEMENTI STREET 13', '116 CLEMENTI STREET 13', '87 CIRCUIT ROAD', '19 BALAM ROAD', '60 CIRCUIT ROAD', '48 CIRCUIT ROAD', '38 CIRCUIT ROAD', '25 EUNOS CRESCENT', '62 CIRCUIT ROAD', '305 UBI AVENUE 1', '108 ALJUNIED CRESCENT', '124 GEYLANG EAST AVENUE 1', '31 EUNOS CRESCENT', '348 UBI AVENUE 1', '314 UBI AVENUE 1', '351 UBI AVENUE 1', '43A SIMS DRIVE', '107 ALJUNIED CRESCENT', '32 CASSIA CRESCENT', '34 CASSIA CRESCENT', '3A GEYLANG SERAI', '35 EUNOS CRESCENT', '2B GEYLANG SERAI', '39 JALAN TIGA', '45 JALAN TIGA', '125 ALJUNIED ROAD', '50 SIMS DRIVE', '56 PIPIT ROAD', '23 HAIG ROAD', '1 HOUGANG AVENUE 3', '6 HOUGANG AVENUE 3', '114 HOUGANG AVENUE 1', '327 HOUGANG AVENUE 5', '660 HOUGANG AVENUE 8', '17 HOUGANG AVENUE 3', '653 HOUGANG AVENUE 8', '309 HOUGANG AVENUE 5', '19 HOUGANG AVENUE 3', '688 HOUGANG STREET 61', '117 HOUGANG AVENUE 1', '123 HOUGANG AVENUE 1', '401 HOUGANG AVENUE 10', '528 HOUGANG AVENUE 6', '523 HOUGANG AVENUE 6', '944 HOUGANG STREET 92', '607 HOUGANG AVENUE 4', '532 HOUGANG AVENUE 6', '711 HOUGANG AVENUE 2', '980A BUANGKOK CRESCENT', '101 HOUGANG AVENUE 1', '402 HOUGANG AVENUE 10', '650 HOUGANG AVENUE 8', '551 HOUGANG STREET 51', '925 HOUGANG STREET 91', '242 HOUGANG STREET 22', '981A BUANGKOK CRESCENT', '20 HOUGANG AVENUE 3', '943 HOUGANG STREET 92', '976 HOUGANG STREET 91', '979A BUANGKOK CRESCENT', '661 HOUGANG AVENUE 4', '567 HOUGANG STREET 51', '166 HOUGANG AVENUE 1', '138 LORONG AH SOO', '550 HOUGANG STREET 51', '629 HOUGANG AVENUE 8', '143 LORONG AH SOO', '134 LORONG AH SOO', '433 HOUGANG AVENUE 8', '580 HOUGANG AVENUE 4', '575 HOUGANG STREET 51', '630 HOUGANG AVENUE 8', '624 HOUGANG AVENUE 8', '921 HOUGANG STREET 91', '542 HOUGANG AVENUE 8', '946 HOUGANG STREET 92', '699 HOUGANG STREET 52', '158 HOUGANG STREET 11', '233 HOUGANG STREET 21', '231 HOUGANG STREET 21', '577 HOUGANG AVENUE 4', '563 HOUGANG STREET 51', '960 HOUGANG AVENUE 9', '633 HOUGANG AVENUE 8', '157 HOUGANG STREET 11', '698D HOUGANG STREET 52', '141 LORONG AH SOO', '712 HOUGANG AVENUE 2', '558 HOUGANG STREET 51', '431 HOUGANG AVENUE 6', '36 TEBAN GARDENS ROAD', '261 JURONG EAST STREET 24', '214 JURONG EAST STREET 21', '215 JURONG EAST STREET 21', '256 JURONG EAST STREET 24', '306 JURONG EAST STREET 32', '313 JURONG EAST STREET 32', '248 JURONG EAST STREET 24', '408 PANDAN GARDENS', '409 PANDAN GARDENS', '32 TEBAN GARDENS ROAD', '332 JURONG EAST AVENUE 1', '221A JURONG EAST STREET 21', '305 JURONG EAST STREET 32', '407 PANDAN GARDENS', '64 TEBAN GARDENS ROAD', '238 JURONG EAST STREET 21', '406 PANDAN GARDENS', '234 JURONG EAST STREET 21', '331 JURONG EAST AVENUE 1', '288A JURONG EAST STREET 21', '285A TOH GUAN ROAD', '214 BOON LAY PLACE', '492 JURONG WEST STREET 41', '186 BOON LAY AVENUE', '187 BOON LAY AVENUE', '209 BOON LAY PLACE', '208 BOON LAY PLACE', '207 BOON LAY PLACE', '925 JURONG WEST STREET 92', '463 JURONG WEST STREET 41', '484 JURONG WEST AVENUE 1', '423 JURONG WEST AVENUE 1', '459 JURONG WEST STREET 41', '525 JURONG WEST STREET 52', '480 JURONG WEST STREET 41', '489 JURONG WEST AVENUE 1', '535 JURONG WEST STREET 52', '481 JURONG WEST STREET 41', '528 JURONG WEST STREET 52', '425 JURONG WEST AVENUE 1', '513 JURONG WEST STREET 52', '339A KANG CHING ROAD', '339D KANG CHING ROAD', '338B KANG CHING ROAD', '952 JURONG WEST STREET 91', '724 JURONG WEST STREET 72', '816 JURONG WEST STREET 81', '526 JURONG WEST STREET 52', '941 JURONG WEST STREET 91', '158 YUNG LOH ROAD', '847 JURONG WEST STREET 81', '624 JURONG WEST STREET 61', '764 JURONG WEST STREET 74', '273D JURONG WEST AVENUE 3', '759 JURONG WEST STREET 74', '268A BOON LAY DRIVE', '413 JURONG WEST STREET 42', '765 JURONG WEST STREET 74', '555 JURONG WEST STREET 42', '460 JURONG WEST STREET 41', '727 JURONG WEST AVENUE 5', '337D TAH CHING ROAD', '621 JURONG WEST STREET 65', '458 JURONG WEST STREET 41', '339B KANG CHING ROAD', '659D JURONG WEST STREET 65', '663A JURONG WEST STREET 65', '475 JURONG WEST STREET 41', '346 KANG CHING ROAD', '686C JURONG WEST CENTRAL 1', '684C JURONG WEST STREET 64', '612 JURONG WEST STREET 65', '510 JURONG WEST STREET 52', '683B JURONG WEST CENTRAL 1', '517D JURONG WEST STREET 52', '946 JURONG WEST STREET 91', '840 JURONG WEST STREET 81', '221 BOON LAY PLACE', '268C BOON LAY DRIVE', '426 JURONG WEST AVENUE 1', '276B JURONG WEST AVENUE 3', '672A JURONG WEST STREET 65', '633 JURONG WEST STREET 65', '201 BOON LAY DRIVE', '832 JURONG WEST STREET 81', '275A JURONG WEST STREET 25', '182 YUNG SHENG ROAD', '272D JURONG WEST STREET 24', '909 JURONG WEST STREET 91', '658C JURONG WEST STREET 65', '987D JURONG WEST STREET 93', '184 YUNG SHENG ROAD', '359 YUNG AN ROAD', '654C JURONG WEST STREET 61', '635 JURONG WEST STREET 65', '453 JURONG WEST STREET 42', '467 JURONG WEST STREET 41', '653C JURONG WEST STREET 61', '986C JURONG WEST STREET 93', '321 TAH CHING ROAD', '517E JURONG WEST STREET 52', '910 JURONG WEST STREET 91', '830 JURONG WEST STREET 81', '682A JURONG WEST CENTRAL 1', '409 JURONG WEST STREET 42', '656D JURONG WEST STREET 61', '556 JURONG WEST STREET 42', '630 JURONG WEST STREET 65', '151 YUNG HO ROAD', '469 JURONG WEST STREET 41', '692 JURONG WEST CENTRAL 1', '8 JALAN BATU', '33 JALAN BAHAGIA', '72 GEYLANG BAHRU', '43 BENDEMEER ROAD', '98 WHAMPOA DRIVE', '75 WHAMPOA DRIVE', \"8 SAINT GEORGE'S LANE\", '5 JALAN BATU', '96 GEYLANG BAHRU', '2 BEACH ROAD', \"53 JALAN MA'MOR\", '94 WHAMPOA DRIVE', '83 WHAMPOA DRIVE', '22 BOON KENG ROAD', \"18 SAINT GEORGE'S ROAD\", \"15 SAINT GEORGE'S ROAD\", \"9 SAINT GEORGE'S ROAD\", '15 BEACH ROAD', '111 WHAMPOA ROAD', '60 GEYLANG BAHRU', '112 LORONG 3 GEYLANG', '103 TOWNER ROAD', '6 BOON KENG ROAD', '14 UPPER BOON KENG ROAD', '39A BENDEMEER ROAD', '16 JALAN TENTERAM', '56 GEYLANG BAHRU', \"4B SAINT GEORGE'S LANE\", '11 FARRER PARK ROAD', '33 MARINE CRESCENT', '31 MARINE CRESCENT', '20 MARINE TERRACE', '34 MARINE CRESCENT', '54 MARINE TERRACE', '17 MARINE TERRACE', '29 MARINE CRESCENT', '73 MARINE DRIVE', '427 PASIR RIS DRIVE 6', '142 PASIR RIS STREET 11', '104 PASIR RIS STREET 12', '751 PASIR RIS STREET 71', '426 PASIR RIS DRIVE 6', '118 PASIR RIS STREET 11', '227 PASIR RIS STREET 21', '257 PASIR RIS STREET 21', '126 PASIR RIS STREET 11', '127 PASIR RIS STREET 11', '119 PASIR RIS STREET 11', '481 PASIR RIS DRIVE 4', '196 PASIR RIS STREET 12', '213 PASIR RIS STREET 21', '610 ELIAS ROAD', '117 PASIR RIS STREET 11', '741 PASIR RIS STREET 71', '483 PASIR RIS DRIVE 4', '572 PASIR RIS STREET 53', '573 PASIR RIS STREET 53', '144 PASIR RIS STREET 11', '149 PASIR RIS STREET 13', '636 PASIR RIS DRIVE 1', '557 PASIR RIS STREET 51', '769 PASIR RIS STREET 71', '764 PASIR RIS STREET 71', '232 PASIR RIS DRIVE 4', '763 PASIR RIS STREET 71', '750 PASIR RIS STREET 71', '770 PASIR RIS STREET 71', '467 PASIR RIS DRIVE 6', '554 PASIR RIS STREET 51', '188 PASIR RIS STREET 12', '191 PASIR RIS STREET 12', '428 PASIR RIS DRIVE 6', '630 PASIR RIS DRIVE 3', '195 PASIR RIS STREET 12', '552 PASIR RIS STREET 51', '562 PASIR RIS STREET 51', '613 ELIAS ROAD', '555 PASIR RIS STREET 51', '571 PASIR RIS STREET 53', '251 PASIR RIS STREET 21', '156 PASIR RIS STREET 13', '219 PASIR RIS STREET 21', '208 PASIR RIS STREET 21', '220 PASIR RIS STREET 21', '224 PASIR RIS STREET 21', '245 PASIR RIS STREET 21', '500 PASIR RIS STREET 52', '607 ELIAS ROAD', '646 PASIR RIS DRIVE 10', '413 PASIR RIS DRIVE 6', '778 PASIR RIS STREET 71', '422 PASIR RIS DRIVE 6', '505 PASIR RIS STREET 52', '534 PASIR RIS DRIVE 1', '533 PASIR RIS DRIVE 1', '601D PUNGGOL CENTRAL', '306D PUNGGOL DRIVE', '306C PUNGGOL PLACE', '195B PUNGGOL ROAD', '296 PUNGGOL CENTRAL', '204B PUNGGOL FIELD', '203A PUNGGOL FIELD', '204A PUNGGOL FIELD', '171A EDGEDALE PLAINS', '642A PUNGGOL DRIVE', '116 EDGEFIELD PLAINS', '646 PUNGGOL CENTRAL', '648 PUNGGOL CENTRAL', '613B PUNGGOL DRIVE', '612B PUNGGOL DRIVE', '615C EDGEFIELD PLAINS', '619C PUNGGOL DRIVE', '619A PUNGGOL DRIVE', '288B PUNGGOL PLACE', '612C PUNGGOL DRIVE', '618C PUNGGOL DRIVE', '301A PUNGGOL CENTRAL', '612A PUNGGOL DRIVE', '303C PUNGGOL CENTRAL', '303A PUNGGOL CENTRAL', '301B PUNGGOL CENTRAL', '302B PUNGGOL PLACE', '268B PUNGGOL FIELD', '273D PUNGGOL PLACE', '273B PUNGGOL PLACE', '274D PUNGGOL PLACE', '102D PUNGGOL FIELD', '643 PUNGGOL CENTRAL', '175D PUNGGOL FIELD', '199D PUNGGOL FIELD', '176B EDGEFIELD PLAINS', '130 EDGEDALE PLAINS', '128B PUNGGOL FIELD WALK', '173A PUNGGOL FIELD', '166A PUNGGOL CENTRAL', '205A PUNGGOL FIELD', '174B EDGEDALE PLAINS', '199C PUNGGOL FIELD', '197B PUNGGOL FIELD', '102B PUNGGOL FIELD', '104A EDGEFIELD PLAINS', '637C PUNGGOL DRIVE', '202A PUNGGOL FIELD', '171B EDGEDALE PLAINS', '638A PUNGGOL DRIVE', '642D PUNGGOL DRIVE', '618B PUNGGOL DRIVE', '289C PUNGGOL PLACE', '182 EDGEFIELD PLAINS', '184 EDGEFIELD PLAINS', '97 COMMONWEALTH CRESCENT', '110 COMMONWEALTH CRESCENT', '85 COMMONWEALTH CLOSE', '164 STIRLING ROAD', '88 COMMONWEALTH CLOSE', '168 STIRLING ROAD', '98 COMMONWEALTH CRESCENT', '161 MEI LING STREET', '162 MEI LING STREET', '160 MEI LING STREET', '6 HOLLAND CLOSE', '12 HOLLAND AVENUE', '61B STRATHMORE AVENUE', '26 GHIM MOH LINK', '18B HOLLAND DRIVE', '18A HOLLAND DRIVE', '56 STIRLING ROAD', '55 STIRLING ROAD', '17 DOVER CRESCENT', '5 DOVER CRESCENT', \"21 QUEEN'S CLOSE\", \"20 QUEEN'S CLOSE\", '55 STRATHMORE AVENUE', '18D HOLLAND DRIVE', '30 HOLLAND CLOSE', '91 TANGLIN HALT ROAD', '28A DOVER CRESCENT', '28 GHIM MOH LINK', '80 STRATHMORE AVENUE', '12 DOVER CLOSE EAST', '81 STRATHMORE AVENUE', '147 MEI LING STREET', '470 SEMBAWANG DRIVE', '493 ADMIRALTY LINK', '487 ADMIRALTY LINK', '300 CANBERRA ROAD', '589C MONTREAL DRIVE', '331 SEMBAWANG CLOSE', '356B ADMIRALTY DRIVE', '488 ADMIRALTY LINK', '501C WELLINGTON CIRCLE', '466C SEMBAWANG DRIVE', '352B CANBERRA ROAD', '483 ADMIRALTY LINK', '468D ADMIRALTY DRIVE', '466A SEMBAWANG DRIVE', '307 CANBERRA ROAD', '492 ADMIRALTY LINK', '422 CANBERRA ROAD', '341A SEMBAWANG CLOSE', '316 SEMBAWANG VISTA', '466B SEMBAWANG DRIVE', '588A MONTREAL DRIVE', '350A CANBERRA ROAD', '354A ADMIRALTY DRIVE', '423 CANBERRA ROAD', '360C ADMIRALTY DRIVE', '415 SEMBAWANG DRIVE', '351D CANBERRA ROAD', '447A JALAN KAYU', '154 RIVERVALE CRESCENT', '230 COMPASSVALE WALK', '194 RIVERVALE DRIVE', '111 RIVERVALE WALK', '299A COMPASSVALE STREET', '186A RIVERVALE DRIVE', '202C SENGKANG EAST ROAD', '207B COMPASSVALE LANE', '129 RIVERVALE STREET', '322B ANCHORVALE DRIVE', '291D COMPASSVALE STREET', '404B FERNVALE LANE', '151 RIVERVALE CRESCENT', '319B ANCHORVALE DRIVE', '290A COMPASSVALE CRESCENT', '321C ANCHORVALE DRIVE', '301C ANCHORVALE DRIVE', '207D COMPASSVALE LANE', '309C ANCHORVALE ROAD', '150 RIVERVALE CRESCENT', '123A RIVERVALE DRIVE', '236 COMPASSVALE WALK', '142 RIVERVALE CRESCENT', '309D ANCHORVALE ROAD', '211B COMPASSVALE LANE', '209B COMPASSVALE LANE', '208B COMPASSVALE LANE', '213A COMPASSVALE LANE', '267B COMPASSVALE LINK', '443B FERNVALE ROAD', '435C FERNVALE ROAD', '436A FERNVALE ROAD', '438A SENGKANG WEST AVENUE', '410C FERNVALE ROAD', '269C COMPASSVALE LINK', '268C COMPASSVALE LINK', '265C COMPASSVALE LINK', '264A COMPASSVALE BOW', '271A SENGKANG CENTRAL', '277B COMPASSVALE LINK', '265B COMPASSVALE LINK', '277C COMPASSVALE LINK', '277D COMPASSVALE LINK', '305B ANCHORVALE LINK', '405A FERNVALE LANE', '186D RIVERVALE DRIVE', '296B COMPASSVALE CRESCENT', '157C RIVERVALE CRESCENT', '203A COMPASSVALE ROAD', '123B RIVERVALE DRIVE', '251 COMPASSVALE STREET', '183C RIVERVALE CRESCENT', '158B RIVERVALE CRESCENT', '298D COMPASSVALE STREET', '191A RIVERVALE DRIVE', '201B COMPASSVALE DRIVE', '248 COMPASSVALE ROAD', '313A ANCHORVALE ROAD', '229 COMPASSVALE WALK', '109 RIVERVALE WALK', '317B ANCHORVALE ROAD', '301D ANCHORVALE DRIVE', '115 RIVERVALE WALK', '325B SENGKANG EAST WAY', '240 COMPASSVALE WALK', '258B COMPASSVALE ROAD', '258A COMPASSVALE ROAD', '250A COMPASSVALE STREET', '102 RIVERVALE WALK', '302C ANCHORVALE LINK', '262C COMPASSVALE STREET', '226C COMPASSVALE WALK', '302D ANCHORVALE LINK', '152 SERANGOON NORTH AVENUE 1', '147 SERANGOON NORTH AVENUE 1', '3 LORONG LEW LIAN', '217 SERANGOON AVENUE 4', '261 SERANGOON CENTRAL DRIVE', '303 SERANGOON AVENUE 2', '1 LORONG LEW LIAN', '206 SERANGOON CENTRAL', '127 SERANGOON NORTH AVENUE 1', '510 SERANGOON NORTH AVENUE 4', '553 SERANGOON NORTH AVENUE 3', '507 SERANGOON NORTH AVENUE 4', '227 SERANGOON AVENUE 4', '118 SERANGOON NORTH AVENUE 1', '330 SERANGOON AVENUE 3', '551 SERANGOON NORTH AVENUE 3', '231 SERANGOON AVENUE 3', '210 SERANGOON CENTRAL', '234 SERANGOON AVENUE 3', '408 SERANGOON AVENUE 1', '402 SERANGOON AVENUE 1', '426 SERANGOON AVENUE 1', '419 SERANGOON CENTRAL', '548 SERANGOON NORTH AVENUE 3', '540 SERANGOON NORTH AVENUE 4', '212 SERANGOON AVENUE 4', '331 SERANGOON AVENUE 3', '257 SERANGOON CENTRAL DRIVE', '506B SERANGOON NORTH AVENUE 4', '535 SERANGOON NORTH AVENUE 4', '142 SERANGOON NORTH AVENUE 1', '125 SERANGOON NORTH AVENUE 1', '234A SERANGOON AVENUE 2', '232A SERANGOON AVENUE 2', '321 SERANGOON AVENUE 2', '406 TAMPINES STREET 41', '255 TAMPINES STREET 21', '420 TAMPINES STREET 41', '452 TAMPINES STREET 42', '850 TAMPINES STREET 82', '818 TAMPINES STREET 81', '202 TAMPINES STREET 21', '846 TAMPINES STREET 82', '290 TAMPINES STREET 22', '112 TAMPINES STREET 11', '206 TAMPINES STREET 21', '297 TAMPINES STREET 22', '877 TAMPINES STREET 84', '875 TAMPINES STREET 84', '102 TAMPINES STREET 11', '205 TAMPINES STREET 21', '258 TAMPINES STREET 21', '878 TAMPINES AVENUE 8', '808 TAMPINES AVENUE 4', '226 TAMPINES STREET 23', '209 TAMPINES STREET 21', '288 TAMPINES STREET 22', '339 TAMPINES STREET 33', '855 TAMPINES STREET 83', '365 TAMPINES STREET 34', '707 TAMPINES STREET 71', '704 TAMPINES STREET 71', '362 TAMPINES STREET 34', '894A TAMPINES STREET 81', '228 TAMPINES STREET 23', '898A TAMPINES STREET 81', '133 SIMEI STREET 1', '864A TAMPINES STREET 83', '916 TAMPINES STREET 91', '120 SIMEI STREET 1', '833 TAMPINES STREET 83', '367A TAMPINES STREET 34', '882 TAMPINES STREET 84', '928 TAMPINES STREET 91', '725 TAMPINES STREET 71', '881 TAMPINES STREET 84', '701 TAMPINES STREET 71', '437 TAMPINES STREET 43', '273 TAMPINES STREET 22', '218 TAMPINES STREET 24', '228 SIMEI STREET 4', '123 SIMEI STREET 1', '148 SIMEI STREET 1', '883 TAMPINES STREET 84', '911 TAMPINES STREET 91', '107 SIMEI STREET 1', '222 SIMEI STREET 4', '241 TAMPINES STREET 21', '101 SIMEI STREET 1', '253 SIMEI STREET 1', '493D TAMPINES STREET 43', '341 TAMPINES STREET 33', '360 TAMPINES STREET 34', '161 SIMEI ROAD', '922 TAMPINES STREET 91', '712 TAMPINES STREET 71', '160 SIMEI ROAD', '706 TAMPINES STREET 71', '321 TAMPINES STREET 33', '234 SIMEI STREET 4', '256 TAMPINES STREET 21', '165 SIMEI ROAD', '862 TAMPINES STREET 83', '842B TAMPINES STREET 82', '515B TAMPINES CENTRAL 7', '168C SIMEI LANE', '168A SIMEI LANE', '495C TAMPINES STREET 43', '124 TAMPINES STREET 11', '895 TAMPINES STREET 81', '312 TAMPINES STREET 33', '937 TAMPINES AVENUE 5', '857 TAMPINES STREET 83', '941 TAMPINES AVENUE 5', '943 TAMPINES AVENUE 5', '51 LORONG 6 TOA PAYOH', '195 KIM KEAT AVENUE', '3 UPPER ALJUNIED LANE', '225 LORONG 8 TOA PAYOH', '5 UPPER ALJUNIED LANE', '194 KIM KEAT AVENUE', '26 TOA PAYOH EAST', '73 LORONG 4 TOA PAYOH', '3 LORONG 7 TOA PAYOH', '113 LORONG 1 TOA PAYOH', '128 LORONG 1 TOA PAYOH', '116 LORONG 2 TOA PAYOH', '115 LORONG 1 TOA PAYOH', '117 LORONG 1 TOA PAYOH', '207 TOA PAYOH NORTH', '109 LORONG 1 TOA PAYOH', '158 LORONG 1 TOA PAYOH', '105 POTONG PASIR AVENUE 1', '146 POTONG PASIR AVENUE 1', '220 LORONG 8 TOA PAYOH', '213 LORONG 8 TOA PAYOH', '204 TOA PAYOH NORTH', '208 TOA PAYOH NORTH', '12 JOO SENG ROAD', '172A LORONG 1 TOA PAYOH', '247 KIM KEAT LINK', '144 POTONG PASIR AVENUE 2', '14A LORONG 7 TOA PAYOH', '171 LORONG 1 TOA PAYOH', '143 POTONG PASIR AVENUE 2', '134 POTONG PASIR AVENUE 3', '122 LORONG 2 TOA PAYOH', '79D TOA PAYOH CENTRAL', '11 LORONG 8 TOA PAYOH', '255 KIM KEAT AVENUE', '60 LORONG 4 TOA PAYOH', '154 LORONG 2 TOA PAYOH', '22 MARSILING DRIVE', '202 MARSILING DRIVE', '2 MARSILING DRIVE', '6 MARSILING DRIVE', '213 MARSILING CRESCENT', '31 MARSILING DRIVE', '12 MARSILING LANE', '15 MARSILING LANE', '146 WOODLANDS STREET 13', '101 WOODLANDS STREET 13', '33 MARSILING DRIVE', '627 WOODLANDS AVENUE 6', '843 WOODLANDS STREET 82', '25 MARSILING DRIVE', '728 WOODLANDS CIRCLE', '779 WOODLANDS CRESCENT', '842 WOODLANDS STREET 82', '730 WOODLANDS CIRCLE', '550 WOODLANDS DRIVE 44', '732 WOODLANDS CIRCLE', '424 WOODLANDS STREET 41', '427 WOODLANDS STREET 41', '640 WOODLANDS RING ROAD', '321 WOODLANDS STREET 32', '760 WOODLANDS AVENUE 6', '787B WOODLANDS CRESCENT', '881 WOODLANDS STREET 82', '311 WOODLANDS STREET 31', '638 WOODLANDS RING ROAD', '708 WOODLANDS DRIVE 70', '148 WOODLANDS STREET 13', '584 WOODLANDS DRIVE 16', '786E WOODLANDS DRIVE 60', '528 WOODLANDS DRIVE 14', '643 WOODLANDS RING ROAD', '534 WOODLANDS DRIVE 14', '895A WOODLANDS DRIVE 50', '709 WOODLANDS DRIVE 70', '687B WOODLANDS DRIVE 75', '794 WOODLANDS DRIVE 72', '371 WOODLANDS AVENUE 1', '572B WOODLANDS AVENUE 1', '719 WOODLANDS AVENUE 6', '686B WOODLANDS DRIVE 73', '688F WOODLANDS DRIVE 75', '535 WOODLANDS DRIVE 14', '894C WOODLANDS DRIVE 50', '12B MARSILING LANE', '139 MARSILING ROAD', '9 MARSILING DRIVE', '10 MARSILING DRIVE', '786D WOODLANDS DRIVE 60', '688B WOODLANDS DRIVE 75', '801 WOODLANDS STREET 81', '787C WOODLANDS CRESCENT', '690C WOODLANDS DRIVE 75', '687C WOODLANDS DRIVE 75', '882 WOODLANDS STREET 82', '214 MARSILING LANE', '755 WOODLANDS AVENUE 4', '844 WOODLANDS AVENUE 4', '671 WOODLANDS DRIVE 71', '615 WOODLANDS AVENUE 4', '704 WOODLANDS DRIVE 40', '504 WOODLANDS DRIVE 14', '896A WOODLANDS DRIVE 50', '519 WOODLANDS DRIVE 14', '688C WOODLANDS DRIVE 75', '304 WOODLANDS STREET 31', '589 WOODLANDS DRIVE 16', '862 WOODLANDS STREET 83', '526 WOODLANDS DRIVE 14', '687A WOODLANDS DRIVE 75', '657 WOODLANDS RING ROAD', '714 WOODLANDS DRIVE 70', '673 WOODLANDS DRIVE 71', '724 WOODLANDS AVENUE 6', '502A WOODLANDS DRIVE 14', '178 WOODLANDS STREET 13', '542 WOODLANDS DRIVE 16', '521 WOODLANDS DRIVE 14', '367 WOODLANDS AVENUE 5', '585 WOODLANDS DRIVE 16', '788B WOODLANDS CRESCENT', '302 WOODLANDS STREET 31', '808 WOODLANDS STREET 81', '128 MARSILING RISE', '405 WOODLANDS STREET 41', '834 WOODLANDS STREET 83', '122 YISHUN STREET 11', '142 YISHUN RING ROAD', '640 YISHUN STREET 61', '137 YISHUN RING ROAD', '345 YISHUN AVENUE 11', '233 YISHUN STREET 21', '710 YISHUN AVENUE 5', '394 YISHUN AVENUE 6', '878 YISHUN STREET 81', '654 YISHUN AVENUE 4', '629 YISHUN STREET 61', '236 YISHUN RING ROAD', '150 YISHUN STREET 11', '108 YISHUN RING ROAD', '263 YISHUN STREET 22', '615 YISHUN RING ROAD', '706 YISHUN AVENUE 5', '114 YISHUN RING ROAD', '829 YISHUN STREET 81', '204 YISHUN STREET 21', '303 YISHUN CENTRAL', '219 YISHUN STREET 21', '208 YISHUN STREET 21', '741 YISHUN AVENUE 5', '746 YISHUN STREET 72', '745 YISHUN STREET 72', '802 YISHUN RING ROAD', '146 YISHUN STREET 11', '389 YISHUN AVENUE 6', '407 YISHUN AVENUE 6', '658 YISHUN AVENUE 4', '390 YISHUN AVENUE 6', '329 YISHUN RING ROAD', '249 YISHUN AVENUE 9', '289 YISHUN AVENUE 6', '772 YISHUN AVENUE 3', '635 YISHUN STREET 61', '759 YISHUN STREET 72', '111 YISHUN RING ROAD', '388 YISHUN RING ROAD', '762 YISHUN STREET 72', '760 YISHUN STREET 72', '401 YISHUN AVENUE 6', '879 YISHUN STREET 81', '309 YISHUN RING ROAD', '630 YISHUN STREET 61', '655 YISHUN AVENUE 4', '457 YISHUN STREET 41', '839 YISHUN STREET 81', '453 YISHUN STREET 41', '296 YISHUN STREET 20', '771 YISHUN AVENUE 3', '734 YISHUN AVENUE 5', '446 YISHUN AVENUE 11', '627 YISHUN STREET 61', '821 YISHUN STREET 81', '776 YISHUN AVENUE 2', '386 YISHUN RING ROAD', '231 YISHUN STREET 21', '874 YISHUN STREET 81', '357 YISHUN RING ROAD', '758 YISHUN STREET 72', '796 YISHUN RING ROAD', '305 YISHUN CENTRAL', '297 YISHUN STREET 20', '785 YISHUN AVENUE 2', '643 YISHUN STREET 61', '406 YISHUN AVENUE 6', '665 YISHUN AVENUE 4', '170 ANG MO KIO AVENUE 4', '174 ANG MO KIO AVENUE 4', '314 ANG MO KIO AVENUE 3', '163 ANG MO KIO AVENUE 4', '124 ANG MO KIO AVENUE 6', '156 ANG MO KIO AVENUE 4', '631 ANG MO KIO AVENUE 4', '541 ANG MO KIO AVENUE 10', '535 ANG MO KIO AVENUE 5', '621 ANG MO KIO AVENUE 9', '107 ANG MO KIO AVENUE 4', '502 ANG MO KIO AVENUE 5', '416 ANG MO KIO AVENUE 10', '443 ANG MO KIO AVENUE 10', '559 ANG MO KIO AVENUE 10', '456 ANG MO KIO AVENUE 10', '182 ANG MO KIO AVENUE 5', '425 ANG MO KIO AVENUE 3', '346 ANG MO KIO AVENUE 3', '547 ANG MO KIO AVENUE 10', '177 ANG MO KIO AVENUE 4', '612 ANG MO KIO AVENUE 4', '511 ANG MO KIO AVENUE 8', '523 ANG MO KIO AVENUE 5', '563 ANG MO KIO AVENUE 3', '640 ANG MO KIO AVENUE 6', '334 ANG MO KIO AVENUE 1', '111 ANG MO KIO AVENUE 4', '335 ANG MO KIO AVENUE 1', '411 ANG MO KIO AVENUE 10', '636 ANG MO KIO AVENUE 6', '326 ANG MO KIO AVENUE 3', '700A ANG MO KIO AVENUE 6', '310B ANG MO KIO AVENUE 1', '622 ANG MO KIO AVENUE 9', '221 ANG MO KIO AVENUE 1', '648 ANG MO KIO AVENUE 5', '551 ANG MO KIO AVENUE 10', '627 ANG MO KIO AVENUE 9', '253 ANG MO KIO STREET 21', '714 ANG MO KIO AVENUE 6', '501 ANG MO KIO AVENUE 5', '596C ANG MO KIO STREET 52', '614 ANG MO KIO AVENUE 4', '106 BEDOK NORTH AVENUE 4', '535 BEDOK NORTH STREET 3', '502 BEDOK NORTH STREET 3', '19 CHAI CHEE ROAD', '510 BEDOK NORTH STREET 3', '58 CHAI CHEE DRIVE', '129 BEDOK RESERVOIR ROAD', '503 BEDOK NORTH STREET 3', '100 BEDOK NORTH AVENUE 4', '401 BEDOK NORTH AVENUE 3', '123 BEDOK NORTH STREET 2', '126 BEDOK RESERVOIR ROAD', '4 BEDOK SOUTH AVENUE 1', '520 BEDOK NORTH AVENUE 1', '515 BEDOK NORTH AVENUE 2', '143 BEDOK RESERVOIR ROAD', '616 BEDOK RESERVOIR ROAD', '606 BEDOK RESERVOIR ROAD', '117 BEDOK RESERVOIR ROAD', '701 BEDOK RESERVOIR ROAD', '412 BEDOK NORTH AVENUE 2', '409 BEDOK NORTH AVENUE 2', '220A BEDOK CENTRAL', '37 BEDOK SOUTH AVENUE 2', '41 BEDOK SOUTH ROAD', '136 BEDOK RESERVOIR ROAD', '106 BEDOK RESERVOIR ROAD', '44 BEDOK SOUTH ROAD', '113 BEDOK RESERVOIR ROAD', '131 BEDOK RESERVOIR ROAD', '79 BEDOK NORTH ROAD', '139 BEDOK RESERVOIR ROAD', '110 BEDOK RESERVOIR ROAD', '124 BEDOK RESERVOIR ROAD', '125 BEDOK RESERVOIR ROAD', '546 BEDOK NORTH STREET 3', '622 BEDOK RESERVOIR ROAD', '82 BEDOK NORTH ROAD', '165 BEDOK SOUTH ROAD', '655 JALAN TENAGA', '65 NEW UPPER CHANGI ROAD', '422 BEDOK NORTH ROAD', '768 BEDOK RESERVOIR VIEW', '219B BEDOK CENTRAL', '111 BEDOK NORTH ROAD', '98 BEDOK NORTH AVENUE 4', '660 JALAN TENAGA', '658 JALAN TENAGA', '171 BEDOK SOUTH ROAD', '772 BEDOK RESERVOIR VIEW', '803 CHAI CHEE ROAD', '68 BEDOK SOUTH AVENUE 3', '19 BEDOK SOUTH ROAD', '32 BEDOK SOUTH AVENUE 2', '716 BEDOK RESERVOIR ROAD', '130 BEDOK RESERVOIR ROAD', '664 JALAN DAMAI', '665 JALAN DAMAI', '132 BISHAN STREET 12', '309 SHUNFU ROAD', '148 BISHAN STREET 11', '147 BISHAN STREET 11', '180 BISHAN STREET 13', '122 BISHAN STREET 12', '175 BISHAN STREET 13', '281 BISHAN STREET 24', '226 BISHAN STREET 23', '125 BISHAN STREET 12', '455 SIN MING AVENUE', '289 BISHAN STREET 24', '141 BISHAN STREET 12', '164 BISHAN STREET 13', '165 BISHAN STREET 13', '208 BISHAN STREET 23', '174 BISHAN STREET 13', '341 BUKIT BATOK STREET 34', '259 BUKIT BATOK EAST AVENUE 4', '425 BUKIT BATOK WEST AVENUE 2', '536 BUKIT BATOK STREET 52', '413 BUKIT BATOK WEST AVENUE 4', '182 BUKIT BATOK WEST AVENUE 8', '359 BUKIT BATOK STREET 31', '230 BUKIT BATOK EAST AVENUE 3', '345 BUKIT BATOK STREET 34', '129 BUKIT BATOK WEST AVENUE 6', '241 BUKIT BATOK EAST AVENUE 5', '109 BUKIT BATOK WEST AVENUE 6', '227 BUKIT BATOK CENTRAL', '514 BUKIT BATOK STREET 52', '365 BUKIT BATOK STREET 31', '315 BUKIT BATOK STREET 32', '308 BUKIT BATOK STREET 31', '358 BUKIT BATOK STREET 31', '309 BUKIT BATOK STREET 31', '186 BUKIT BATOK WEST AVENUE 6', '291B BUKIT BATOK STREET 24', '511 BUKIT BATOK STREET 52', '289F BUKIT BATOK STREET 25', '113 BUKIT BATOK WEST AVENUE 6', '187 BUKIT BATOK WEST AVENUE 6', '385 BUKIT BATOK WEST AVENUE 5', '101 BUKIT BATOK WEST AVENUE 6', '384 BUKIT BATOK WEST AVENUE 5', '626 BUKIT BATOK CENTRAL', '388 BUKIT BATOK WEST AVENUE 5', '291C BUKIT BATOK STREET 24', '387 BUKIT BATOK WEST AVENUE 5', '203 BUKIT BATOK STREET 21', '142 BUKIT BATOK STREET 11', '627 BUKIT BATOK CENTRAL', '37 JALAN RUMAH TINGGI', '21 TELOK BLANGAH CRESCENT', '101 BUKIT PURMEI ROAD', '77 TELOK BLANGAH DRIVE', '13 TELOK BLANGAH CRESCENT', '34 JALAN BUKIT HO SWEE', '145 JALAN BUKIT MERAH', '54 TELOK BLANGAH DRIVE', '16 CANTONMENT CLOSE', '127A KIM TIAN ROAD', '24 TIONG BAHRU ROAD', '120 BUKIT MERAH VIEW', '40 TELOK BLANGAH RISE', '111A DEPOT ROAD', '22 JALAN MEMBINA', '113 BUKIT PURMEI ROAD', '112A DEPOT ROAD', '5 DELTA AVENUE', '111B DEPOT ROAD', '88 TELOK BLANGAH HEIGHTS', '69 REDHILL CLOSE', '119B KIM TIAN ROAD', '26C JALAN MEMBINA', '58 HAVELOCK ROAD', '127D KIM TIAN ROAD', '8B BOON TIONG ROAD', '115 BUKIT MERAH CENTRAL', '85 TELOK BLANGAH HEIGHTS', '219 PETIR ROAD', '139 PETIR ROAD', '230 PENDING ROAD', '102 GANGSA ROAD', '223 PENDING ROAD', '633A SENJA ROAD', '104 GANGSA ROAD', '240 BUKIT PANJANG RING ROAD', '403 FAJAR ROAD', '275 BANGKIT ROAD', '132 CASHEW ROAD', '118 PENDING ROAD', '236 BUKIT PANJANG RING ROAD', '114 PENDING ROAD', '406 FAJAR ROAD', '150 PETIR ROAD', '501 JELAPANG ROAD', '482 SEGAR ROAD', '246 BANGKIT ROAD', '456 SEGAR ROAD', '508 JELAPANG ROAD', '172 GANGSA ROAD', '601 SENJA ROAD', '633B SENJA ROAD', '184 JELEBU ROAD', '468 SEGAR ROAD', '203 PETIR ROAD', '272 BANGKIT ROAD', '429 BUKIT PANJANG RING ROAD', '476 SEGAR ROAD', '248 BANGKIT ROAD', '519 JELAPANG ROAD', '518 JELAPANG ROAD', '625 SENJA ROAD', '111 GANGSA ROAD', '165 GANGSA ROAD', '179 LOMPANG ROAD', '239 BUKIT PANJANG RING ROAD', '13 TOH YI DRIVE', '16 TOH YI DRIVE', '3 TOH YI DRIVE', '6 TOH YI DRIVE', '633 VEERASAMY ROAD', '536 UPPER CROSS STREET', '1 TANJONG PAGAR PLAZA', '672A KLANG LANE', '3 TECK WHYE AVENUE', '476A CHOA CHU KANG AVENUE 5', '11 TECK WHYE LANE', '136 TECK WHYE LANE', '6 TECK WHYE AVENUE', '673 CHOA CHU KANG CRESCENT', '473 CHOA CHU KANG AVENUE 3', '296A CHOA CHU KANG AVENUE 2', '280 CHOA CHU KANG AVENUE 3', '486 CHOA CHU KANG AVENUE 5', '543 CHOA CHU KANG STREET 52', '548 CHOA CHU KANG STREET 52', '160 JALAN TECK WHYE', '659 CHOA CHU KANG CRESCENT', '251 CHOA CHU KANG AVENUE 2', '230 CHOA CHU KANG CENTRAL', '284 CHOA CHU KANG AVENUE 3', '667 CHOA CHU KANG CRESCENT', '472 CHOA CHU KANG AVENUE 3', '295 CHOA CHU KANG AVENUE 2', '435 CHOA CHU KANG AVENUE 4', '283 CHOA CHU KANG AVENUE 3', '676A CHOA CHU KANG CRESCENT', '615 CHOA CHU KANG STREET 62', '238 CHOA CHU KANG CENTRAL', '307 CHOA CHU KANG AVENUE 4', '476D CHOA CHU KANG AVENUE 5', '508 CHOA CHU KANG STREET 51', '541 CHOA CHU KANG STREET 52', '225 CHOA CHU KANG CENTRAL', '683A CHOA CHU KANG CRESCENT', '691B CHOA CHU KANG CRESCENT', '547 CHOA CHU KANG STREET 52', '250 CHOA CHU KANG AVENUE 2', '457 CHOA CHU KANG AVENUE 4', '770 CHOA CHU KANG STREET 54', '620 CHOA CHU KANG STREET 62', '220 CHOA CHU KANG CENTRAL', '344 CHOA CHU KANG LOOP', '343 CHOA CHU KANG LOOP', '271 CHOA CHU KANG AVENUE 2', '601 CHOA CHU KANG STREET 62', '755 CHOA CHU KANG NORTH 5', '706 CLEMENTI WEST STREET 2', '713 CLEMENTI WEST STREET 2', '731 CLEMENTI WEST STREET 2', '426 CLEMENTI AVENUE 3', '308 CLEMENTI AVENUE 4', '309 CLEMENTI AVENUE 4', '310 CLEMENTI AVENUE 4', '345 CLEMENTI AVENUE 5', '320 CLEMENTI AVENUE 4', '434 CLEMENTI AVENUE 3', '510 WEST COAST DRIVE', '101 CLEMENTI STREET 14', '412 COMMONWEALTH AVENUE WEST', '420 CLEMENTI AVENUE 1', '456 CLEMENTI AVENUE 3', '117 CLEMENTI STREET 13', '415 COMMONWEALTH AVENUE WEST', '459 CLEMENTI AVENUE 3', '441A CLEMENTI AVENUE 3', '81 MACPHERSON LANE', '63 CIRCUIT ROAD', '40 CIRCUIT ROAD', '97 ALJUNIED CRESCENT', '16 EUNOS CRESCENT', '312 UBI AVENUE 1', '53 SIMS PLACE', '316 UBI AVENUE 1', '9 HAIG ROAD', '41 SIMS DRIVE', '304 UBI AVENUE 1', '352 UBI AVENUE 1', '8 HAIG ROAD', '2A GEYLANG SERAI', '28 CASSIA CRESCENT', '2D GEYLANG SERAI', '336 UBI AVENUE 1', '110 ALJUNIED CRESCENT', '130 GEYLANG EAST AVENUE 1', '133 GEYLANG EAST AVENUE 1', '701 HOUGANG AVENUE 2', '642 HOUGANG AVENUE 8', '704 HOUGANG AVENUE 2', '340 HOUGANG AVENUE 7', '511 HOUGANG AVENUE 10', '110 HOUGANG AVENUE 1', '529 HOUGANG AVENUE 6', '412 HOUGANG AVENUE 10', '669 HOUGANG AVENUE 8', '323 HOUGANG AVENUE 5', '954 HOUGANG AVENUE 9', '969 HOUGANG STREET 91', '648 HOUGANG AVENUE 8', '512 HOUGANG AVENUE 10', '984A BUANGKOK LINK', '920 HOUGANG STREET 91', '253 HOUGANG AVENUE 3', '517 HOUGANG AVENUE 10', '541 HOUGANG AVENUE 8', '556 HOUGANG STREET 51', '553 HOUGANG STREET 51', '139 LORONG AH SOO', '951 HOUGANG AVENUE 9', '414 HOUGANG AVENUE 10', '425 HOUGANG AVENUE 6', '537 HOUGANG STREET 52', '462 HOUGANG AVENUE 10', '698A HOUGANG STREET 61', '220 HOUGANG STREET 21', '966 HOUGANG AVENUE 9', '980B BUANGKOK CRESCENT', '571 HOUGANG STREET 51', '965 HOUGANG AVENUE 9', '363 HOUGANG AVENUE 5', '420 HOUGANG AVENUE 10', '103 HOUGANG AVENUE 1', '424 HOUGANG AVENUE 6', '942 HOUGANG STREET 92', '464 UPPER SERANGOON ROAD', '302 HOUGANG AVENUE 5', '362 HOUGANG AVENUE 5', '160 HOUGANG STREET 11', '837 HOUGANG CENTRAL', '230 HOUGANG AVENUE 1', '967 HOUGANG AVENUE 9', '634 HOUGANG AVENUE 8', '972 HOUGANG STREET 91', '975 HOUGANG STREET 91', '128 LORONG AH SOO', '561 HOUGANG STREET 51', '659 HOUGANG AVENUE 8', '221 HOUGANG STREET 21', '262 JURONG EAST STREET 24', '233 JURONG EAST STREET 21', '321 JURONG EAST STREET 31', '301 JURONG EAST STREET 32', '53 TEBAN GARDENS ROAD', '402 PANDAN GARDENS', '30 TEBAN GARDENS ROAD', '257 JURONG EAST STREET 24', '65 TEBAN GARDENS ROAD', '113 JURONG EAST STREET 13', '210 JURONG EAST STREET 21', '105 JURONG EAST STREET 13', '267 TOH GUAN ROAD', '239 JURONG EAST STREET 21', '316 JURONG EAST STREET 32', '228 JURONG EAST STREET 21', '270 TOH GUAN ROAD', '269 TOH GUAN ROAD', '288B JURONG EAST STREET 21', '112 HO CHING ROAD', '422 JURONG WEST STREET 42', '210 BOON LAY PLACE', '122 YUAN CHING ROAD', '498 JURONG WEST STREET 41', '446 JURONG WEST STREET 42', '477 JURONG WEST STREET 41', '339C KANG CHING ROAD', '864 JURONG WEST STREET 81', '721 JURONG WEST AVENUE 5', '728 JURONG WEST AVENUE 5', '275C JURONG WEST STREET 25', '707 JURONG WEST STREET 71', '863 JURONG WEST STREET 81', '417 JURONG WEST STREET 42', '729 JURONG WEST AVENUE 5', '978 JURONG WEST STREET 93', '673A JURONG WEST STREET 65', '853 JURONG WEST STREET 81', '836 JURONG WEST STREET 81', '737 JURONG WEST STREET 75', '550 JURONG WEST STREET 42', '904 JURONG WEST STREET 91', '361 YUNG AN ROAD', '748 JURONG WEST STREET 73', '478 JURONG WEST STREET 41', '636 JURONG WEST STREET 65', '433 JURONG WEST STREET 42', '650B JURONG WEST STREET 61', '454 JURONG WEST STREET 42', '436 JURONG WEST AVENUE 1', '431 JURONG WEST AVENUE 1', '368 CORPORATION DRIVE', '641 JURONG WEST STREET 61', '668C JURONG WEST STREET 64', '647 JURONG WEST STREET 61', '657B JURONG WEST STREET 65', '686A JURONG WEST CENTRAL 1', '745 JURONG WEST STREET 73', '907 JURONG WEST STREET 91', '206 BOON LAY DRIVE', '766 JURONG WEST STREET 74', '552 JURONG WEST STREET 42', '360 YUNG AN ROAD', '661D JURONG WEST STREET 64', '653B JURONG WEST STREET 61', '358 YUNG AN ROAD', '662B JURONG WEST STREET 64', '618 JURONG WEST STREET 65', '468 JURONG WEST STREET 41', '523 JURONG WEST STREET 52', '661A JURONG WEST STREET 64', '532 JURONG WEST STREET 52', '684A JURONG WEST STREET 64', '161 YUNG PING ROAD', '548 JURONG WEST STREET 42', '656C JURONG WEST STREET 61', '656B JURONG WEST STREET 61', '472 JURONG WEST STREET 41', '34 JALAN BAHAGIA', '47 BENDEMEER ROAD', \"7 SAINT GEORGE'S LANE\", '2 JALAN BATU', '97 GEYLANG BAHRU', '1 BEACH ROAD', '50 DORSET ROAD', \"5 SAINT GEORGE'S LANE\", '101 TOWNER ROAD', '96 WHAMPOA DRIVE', '49 WHAMPOA SOUTH', '119 MCNAIR ROAD', '124 MCNAIR ROAD', '120 MCNAIR ROAD', '111 MCNAIR ROAD', '110 WHAMPOA ROAD', '683 TESSENSOHN ROAD', '112 WHAMPOA ROAD', '59A GEYLANG BAHRU', '3A UPPER BOON KENG ROAD', '3D UPPER BOON KENG ROAD', '39 UPPER BOON KENG ROAD', '102 JALAN DUSUN', '17 JALAN TENTERAM', '54 GEYLANG BAHRU', \"22 SAINT GEORGE'S ROAD\", '103 JALAN RAJAH', '14A UPPER BOON KENG ROAD', '110 MCNAIR ROAD', '16 MARINE TERRACE', '57 MARINE TERRACE', '46 MARINE CRESCENT', '8 MARINE TERRACE', '7 MARINE TERRACE', '65 MARINE DRIVE', '74 MARINE DRIVE', '3 MARINE TERRACE', '13 MARINE TERRACE', '27 MARINE CRESCENT', '28 MARINE CRESCENT', '4 CHANGI VILLAGE ROAD', '755 PASIR RIS STREET 71', '105 PASIR RIS STREET 12', '256 PASIR RIS STREET 21', '639 PASIR RIS DRIVE 1', '738 PASIR RIS DRIVE 10', '635 PASIR RIS DRIVE 1', '756 PASIR RIS STREET 71', '759 PASIR RIS STREET 71', '253 PASIR RIS STREET 21', '748 PASIR RIS STREET 71', '151 PASIR RIS STREET 13', '757 PASIR RIS STREET 71', '113 PASIR RIS STREET 11', '211 PASIR RIS STREET 21', '706 PASIR RIS DRIVE 10', '180 PASIR RIS STREET 11', '638 PASIR RIS DRIVE 1', '631 PASIR RIS DRIVE 3', '771 PASIR RIS STREET 71', '615 ELIAS ROAD', '212 PASIR RIS STREET 21', '268 PASIR RIS STREET 21', '269 PASIR RIS STREET 21', '648 PASIR RIS DRIVE 10', '158 PASIR RIS STREET 13', '504 PASIR RIS STREET 52', '780 PASIR RIS STREET 71', '782 PASIR RIS STREET 71', '609 ELIAS ROAD', '583 PASIR RIS STREET 53', '454 PASIR RIS DRIVE 6', '408 PASIR RIS DRIVE 6', '601B PUNGGOL CENTRAL', '133 EDGEDALE PLAINS', '176C EDGEFIELD PLAINS', '172A EDGEDALE PLAINS', '101D PUNGGOL FIELD', '297 PUNGGOL CENTRAL', '167A PUNGGOL EAST', '633B PUNGGOL DRIVE', '618D PUNGGOL DRIVE', '604A PUNGGOL ROAD', '618A PUNGGOL DRIVE', '619B PUNGGOL DRIVE', '303D PUNGGOL PLACE', '305B PUNGGOL ROAD', '302D PUNGGOL PLACE', '274A PUNGGOL PLACE', '110B PUNGGOL FIELD', '181 EDGEFIELD PLAINS', '173C PUNGGOL FIELD', '637D PUNGGOL DRIVE', '101C PUNGGOL FIELD', '645 PUNGGOL CENTRAL', '637B PUNGGOL DRIVE', '647 PUNGGOL CENTRAL', '186 PUNGGOL CENTRAL', '188 PUNGGOL CENTRAL', '192 PUNGGOL CENTRAL', '89 COMMONWEALTH DRIVE', '165 STIRLING ROAD', '2 GHIM MOH ROAD', '19 GHIM MOH ROAD', '152 MEI LING STREET', '157 MEI LING STREET', '90 TANGLIN HALT ROAD', '168A QUEENSWAY', '7A COMMONWEALTH AVENUE', '50 STRATHMORE AVENUE', '3 HOLLAND CLOSE', '59 STRATHMORE AVENUE', '51 STRATHMORE AVENUE', '83 STRATHMORE AVENUE', '145 MEI LING STREET', '510A WELLINGTON CIRCLE', '481 SEMBAWANG DRIVE', '473 SEMBAWANG DRIVE', '486 ADMIRALTY LINK', '508A WELLINGTON CIRCLE', '360A ADMIRALTY DRIVE', '332 SEMBAWANG CLOSE', '356A ADMIRALTY DRIVE', '352A CANBERRA ROAD', '404 ADMIRALTY LINK', '403 ADMIRALTY LINK', '507A WELLINGTON CIRCLE', '304 CANBERRA ROAD', '467B ADMIRALTY DRIVE', '359C ADMIRALTY DRIVE', '312 SEMBAWANG DRIVE', '416 CANBERRA ROAD', '469A ADMIRALTY DRIVE', '469B ADMIRALTY DRIVE', '502A WELLINGTON CIRCLE', '336 SEMBAWANG CRESCENT', '302B ANCHORVALE LINK', '124C RIVERVALE DRIVE', '156 RIVERVALE CRESCENT', '406A FERNVALE ROAD', '153 RIVERVALE CRESCENT', '223D COMPASSVALE WALK', '320A ANCHORVALE DRIVE', '201A COMPASSVALE DRIVE', '110 RIVERVALE WALK', '297A COMPASSVALE STREET', '209A COMPASSVALE LANE', '436C FERNVALE ROAD', '210B COMPASSVALE LANE', '322A ANCHORVALE DRIVE', '408B FERNVALE ROAD', '127 RIVERVALE STREET', '322C ANCHORVALE DRIVE', '443A FERNVALE ROAD', '439C SENGKANG WEST AVENUE', '265E COMPASSVALE BOW', '225A COMPASSVALE WALK', '261B SENGKANG EAST WAY', '264F COMPASSVALE BOW', '266A COMPASSVALE BOW', '272A SENGKANG CENTRAL', '275D COMPASSVALE LINK', '275C COMPASSVALE LINK', '184A RIVERVALE CRESCENT', '184B RIVERVALE CRESCENT', '141 RIVERVALE STREET', '310A ANCHORVALE ROAD', '201D COMPASSVALE DRIVE', '307C ANCHORVALE ROAD', '308B ANCHORVALE ROAD', '405C FERNVALE LANE', '152 RIVERVALE CRESCENT', '315C ANCHORVALE ROAD', '307D ANCHORVALE ROAD', '413B FERNVALE LINK', '298B COMPASSVALE STREET', '409A FERNVALE ROAD', '412A FERNVALE LINK', '244 COMPASSVALE ROAD', '258C COMPASSVALE ROAD', '319A ANCHORVALE DRIVE', '321A ANCHORVALE DRIVE', '223A COMPASSVALE WALK', '257C COMPASSVALE ROAD', '268B COMPASSVALE LINK', '306B ANCHORVALE LINK', '298C COMPASSVALE STREET', '143 RIVERVALE DRIVE', '317D ANCHORVALE ROAD', '5 LORONG LEW LIAN', '306 SERANGOON AVENUE 2', '107 SERANGOON NORTH AVENUE 1', '302 SERANGOON AVENUE 2', '201 SERANGOON CENTRAL', '254 SERANGOON CENTRAL DRIVE', '154 SERANGOON NORTH AVENUE 1', '508 SERANGOON NORTH AVENUE 4', '214 SERANGOON AVENUE 4', '246 SERANGOON AVENUE 3', '235 SERANGOON AVENUE 3', '230 SERANGOON AVENUE 4', '327 SERANGOON AVENUE 3', '240 SERANGOON AVENUE 2', '425 SERANGOON AVENUE 1', '117 SERANGOON NORTH AVENUE 1', '529 SERANGOON NORTH AVENUE 4', '143 SERANGOON NORTH AVENUE 1', '504 SERANGOON NORTH AVENUE 4', '500 SERANGOON NORTH AVENUE 4', '533 SERANGOON NORTH AVENUE 4', '258 SERANGOON CENTRAL DRIVE', '544 SERANGOON NORTH AVENUE 3', '516 SERANGOON NORTH AVENUE 4', '318 SERANGOON AVENUE 2', '404 TAMPINES STREET 41', '259 TAMPINES STREET 21', '412 TAMPINES STREET 41', '830 TAMPINES STREET 82', '801 TAMPINES AVENUE 4', '434 TAMPINES STREET 43', '103 TAMPINES STREET 11', '139 TAMPINES STREET 11', '436 TAMPINES STREET 43', '237 TAMPINES STREET 21', '207 TAMPINES STREET 21', '138 TAMPINES STREET 11', '242 TAMPINES STREET 21', '203 TAMPINES STREET 21', '819 TAMPINES STREET 81', '157 TAMPINES STREET 12', '244 TAMPINES STREET 21', '907 TAMPINES AVENUE 4', '150 TAMPINES STREET 12', '432 TAMPINES STREET 41', '842 TAMPINES STREET 82', '263 TAMPINES STREET 21', '117 SIMEI STREET 1', '110 TAMPINES STREET 11', '416 TAMPINES STREET 41', '874 TAMPINES STREET 84', '132 SIMEI STREET 1', '264 TAMPINES STREET 21', '283 TAMPINES STREET 22', '897A TAMPINES STREET 81', '486C TAMPINES AVENUE 9', '859A TAMPINES AVENUE 5', '733 TAMPINES STREET 71', '858A TAMPINES AVENUE 5', '872 TAMPINES STREET 84', '718 TAMPINES STREET 72', '897 TAMPINES STREET 81', '275 TAMPINES STREET 22', '140 TAMPINES STREET 12', '101 TAMPINES STREET 11', '929 TAMPINES STREET 91', '921 TAMPINES STREET 91', '271 TAMPINES STREET 21', '891A TAMPINES AVENUE 8', '230 SIMEI STREET 4', '254 SIMEI STREET 1', '167C SIMEI LANE', '349 TAMPINES STREET 33', '492B TAMPINES AVENUE 9', '493E TAMPINES STREET 43', '126 TAMPINES STREET 11', '443 TAMPINES STREET 43', '843 TAMPINES STREET 83', '134 SIMEI STREET 1', '493C TAMPINES STREET 43', '815 TAMPINES AVENUE 4', '425 TAMPINES STREET 41', '316 TAMPINES STREET 33', '945 TAMPINES AVENUE 4', '491A TAMPINES AVENUE 9', '912 TAMPINES STREET 91', '715 TAMPINES STREET 71', '229 TAMPINES STREET 23', '124 SIMEI STREET 1', '156 SIMEI ROAD', '842E TAMPINES STREET 82', '142 SIMEI STREET 2', '515C TAMPINES CENTRAL 7', '168B SIMEI LANE', '518D TAMPINES CENTRAL 7', '497F TAMPINES STREET 45', '427 TAMPINES STREET 41', '333 TAMPINES STREET 32', '430 TAMPINES STREET 41', '308 TAMPINES STREET 32', '938 TAMPINES AVENUE 5', '893A TAMPINES AVENUE 8', '151 TAMPINES STREET 12', '149 TAMPINES STREET 12', '71 LORONG 4 TOA PAYOH', '92 LORONG 4 TOA PAYOH', '8 LORONG 7 TOA PAYOH', '18 LORONG 7 TOA PAYOH', '118 POTONG PASIR AVENUE 1', '27 TOA PAYOH EAST', '98 LORONG 1 TOA PAYOH', '183 TOA PAYOH CENTRAL', '205 TOA PAYOH NORTH', '85A LORONG 4 TOA PAYOH', '201 TOA PAYOH NORTH', '222 LORONG 8 TOA PAYOH', '228 LORONG 8 TOA PAYOH', '10B LORONG 7 TOA PAYOH', '147 LORONG 2 TOA PAYOH', '256 KIM KEAT AVENUE', '8 JOO SENG ROAD', '236 LORONG 1 TOA PAYOH', '101A LORONG 2 TOA PAYOH', '203 MARSILING DRIVE', '212 MARSILING CRESCENT', '17 MARSILING LANE', '152 WOODLANDS STREET 13', '32 MARSILING DRIVE', '204 MARSILING DRIVE', '314 WOODLANDS STREET 31', '318 WOODLANDS STREET 31', '12A MARSILING LANE', '315 WOODLANDS STREET 31', '154 WOODLANDS STREET 13', '336 WOODLANDS AVENUE 1', '338 WOODLANDS AVENUE 1', '420 WOODLANDS STREET 41', '751 WOODLANDS CIRCLE', '557 WOODLANDS DRIVE 53', '765 WOODLANDS CIRCLE', '322 WOODLANDS STREET 32', '113 WOODLANDS STREET 13', '629 WOODLANDS RING ROAD', '690E WOODLANDS DRIVE 75', '653 WOODLANDS RING ROAD', '701 WOODLANDS DRIVE 40', '105 WOODLANDS STREET 13', '710 WOODLANDS DRIVE 70', '860 WOODLANDS STREET 83', '776 WOODLANDS CRESCENT', '12C MARSILING LANE', '662 WOODLANDS RING ROAD', '720 WOODLANDS AVENUE 6', '366 WOODLANDS AVENUE 5', '875 WOODLANDS STREET 82', '530 WOODLANDS DRIVE 14', '363 WOODLANDS AVENUE 5', '510 WOODLANDS DRIVE 14', '899C WOODLANDS DRIVE 50', '795 WOODLANDS DRIVE 72', '688D WOODLANDS DRIVE 75', '787D WOODLANDS CRESCENT', '541 WOODLANDS DRIVE 16', '778 WOODLANDS DRIVE 60', '880 WOODLANDS STREET 82', '897C WOODLANDS DRIVE 50', '125 MARSILING RISE', '134 MARSILING ROAD', '725 WOODLANDS AVENUE 6', '722 WOODLANDS AVENUE 6', '352 WOODLANDS AVENUE 1', '740 WOODLANDS CIRCLE', '891A WOODLANDS DRIVE 50', '660 WOODLANDS RING ROAD', '370 WOODLANDS AVENUE 1', '822 WOODLANDS STREET 82', '368 WOODLANDS AVENUE 1', '817 WOODLANDS STREET 82', '330 WOODLANDS AVENUE 1', '798 WOODLANDS DRIVE 72', '797 WOODLANDS DRIVE 72', '320 WOODLANDS STREET 32', '141 MARSILING ROAD', '326 WOODLANDS STREET 32', '359 WOODLANDS AVENUE 5', '866 WOODLANDS STREET 83', '119 MARSILING RISE', '308 WOODLANDS AVENUE 1', '438 YISHUN AVENUE 11', '718 YISHUN STREET 71', '101 YISHUN AVENUE 5', '268 YISHUN STREET 22', '789 YISHUN AVENUE 2', '731 YISHUN STREET 72', '116 YISHUN RING ROAD', '282 YISHUN AVENUE 6', '140 YISHUN RING ROAD', '124 YISHUN STREET 11', '207 YISHUN STREET 21', '118 YISHUN RING ROAD', '707 YISHUN AVENUE 5', '220 YISHUN STREET 21', '145 YISHUN STREET 11', '153 YISHUN STREET 11', '201 YISHUN STREET 21', '132 YISHUN STREET 11', '784 YISHUN AVENUE 2', '427 YISHUN AVENUE 11', '423 YISHUN AVENUE 11', '312 YISHUN RING ROAD', '403 YISHUN AVENUE 6', '166 YISHUN RING ROAD', '311 YISHUN RING ROAD', '437 YISHUN AVENUE 6', '125 YISHUN STREET 11', '609 YISHUN STREET 61', '764 YISHUN STREET 72', '404 YISHUN AVENUE 6', '397 YISHUN AVENUE 6', '620 YISHUN RING ROAD', '860 YISHUN AVENUE 4', '246 YISHUN AVENUE 9', '411 YISHUN RING ROAD', '610 YISHUN STREET 61', '458 YISHUN AVENUE 11', '865 YISHUN STREET 81', '612 YISHUN STREET 61', '367 YISHUN RING ROAD', '343 YISHUN AVENUE 11', '130 YISHUN STREET 11', '783 YISHUN RING ROAD', '867 YISHUN STREET 81', '148 YISHUN STREET 11', '306 YISHUN CENTRAL', '752 YISHUN STREET 72', '603 YISHUN STREET 61', '647 YISHUN STREET 61', '840 YISHUN STREET 81', '804 YISHUN RING ROAD', '310 YISHUN RING ROAD', '876 YISHUN STREET 81', '154 YISHUN STREET 11', '364 YISHUN RING ROAD', '355 YISHUN RING ROAD', '325 YISHUN CENTRAL', '824 YISHUN STREET 81', '611 ANG MO KIO AVENUE 5', '109 ANG MO KIO AVENUE 4', '172 ANG MO KIO AVENUE 4', '468 ANG MO KIO AVENUE 10', '610 ANG MO KIO AVENUE 4', '214 ANG MO KIO AVENUE 3', '635 ANG MO KIO AVENUE 6', '404 ANG MO KIO AVENUE 10', '201 ANG MO KIO AVENUE 3', '403 ANG MO KIO AVENUE 10', '585 ANG MO KIO AVENUE 3', '103 ANG MO KIO AVENUE 3', '728 ANG MO KIO AVENUE 6', '308A ANG MO KIO AVENUE 1', '210 ANG MO KIO AVENUE 3', '473 ANG MO KIO AVENUE 10', '105 ANG MO KIO AVENUE 4', '229 ANG MO KIO AVENUE 3', '572 ANG MO KIO AVENUE 3', '350 ANG MO KIO STREET 32', '620 ANG MO KIO AVENUE 9', '519 BEDOK NORTH AVENUE 1', '115 BEDOK NORTH ROAD', '522 BEDOK NORTH AVENUE 1', '619 BEDOK RESERVOIR ROAD', '542 BEDOK NORTH STREET 3', '742 BEDOK RESERVOIR ROAD', '103 BEDOK NORTH AVENUE 4', '128 BEDOK NORTH STREET 2', '22 BEDOK SOUTH AVENUE 1', '24 NEW UPPER CHANGI ROAD', '36 BEDOK SOUTH AVENUE 2', '631 BEDOK RESERVOIR ROAD', '547 BEDOK NORTH STREET 3', '93 BEDOK NORTH AVENUE 4', '119 BEDOK NORTH ROAD', '403 BEDOK NORTH AVENUE 3', '513 BEDOK NORTH AVENUE 2', '108 BEDOK RESERVOIR ROAD', '523 BEDOK NORTH STREET 3', '532 BEDOK NORTH STREET 3', '517 BEDOK NORTH AVENUE 2', '132 BEDOK NORTH STREET 2', '164 BEDOK SOUTH ROAD', '157 BEDOK SOUTH AVENUE 3', '611 BEDOK RESERVOIR ROAD', '612 BEDOK RESERVOIR ROAD', '710 BEDOK RESERVOIR ROAD', '649 JALAN TENAGA', '94E BEDOK NORTH AVENUE 4', '96 BEDOK NORTH AVENUE 4', '629 BEDOK RESERVOIR ROAD', '413 BEDOK NORTH AVENUE 2', '114 BEDOK RESERVOIR ROAD', '643 BEDOK RESERVOIR ROAD', '104 LENGKONG TIGA', '151 BISHAN STREET 11', '133 BISHAN STREET 12', '150 BISHAN STREET 11', '145 BISHAN STREET 11', '127 BISHAN STREET 12', '138 BISHAN STREET 12', '307 SHUNFU ROAD', '197 BISHAN STREET 13', '203 BISHAN STREET 23', '124 BISHAN STREET 12', '163 BISHAN STREET 13', '126 BISHAN STREET 12', '216 BISHAN STREET 23', '206 BISHAN STREET 23', '103 BISHAN STREET 12', '312 SHUNFU ROAD', '239 BISHAN STREET 22', '261 BISHAN STREET 22', '201 BISHAN STREET 23', '506 BUKIT BATOK STREET 52', '251 BUKIT BATOK EAST AVENUE 5', '249 BUKIT BATOK EAST AVENUE 5', '534 BUKIT BATOK STREET 51', '407 BUKIT BATOK WEST AVENUE 4', '135 BUKIT BATOK WEST AVENUE 6', '306 BUKIT BATOK STREET 31', '312 BUKIT BATOK STREET 32', '157 BUKIT BATOK STREET 11', '507 BUKIT BATOK STREET 52', '339 BUKIT BATOK STREET 34', '348 BUKIT BATOK STREET 34', '305 BUKIT BATOK STREET 31', '414 BUKIT BATOK WEST AVENUE 4', '343 BUKIT BATOK STREET 34', '165 BUKIT BATOK WEST AVENUE 8', '304 BUKIT BATOK STREET 31', '104 BUKIT BATOK CENTRAL', '426 BUKIT BATOK WEST AVENUE 2', '288B BUKIT BATOK STREET 25', '170 BUKIT BATOK WEST AVENUE 8', '622 BUKIT BATOK CENTRAL', '354 BUKIT BATOK STREET 31', '524 BUKIT BATOK STREET 52', '299 BUKIT BATOK STREET 22', '288G BUKIT BATOK STREET 25', '16 TELOK BLANGAH CRESCENT', '12 TAMAN HO SWEE', '12 TELOK BLANGAH CRESCENT', '146 JALAN BUKIT MERAH', '104 BUKIT PURMEI ROAD', '18 TAMAN HO SWEE', '112 BUKIT PURMEI ROAD', '4 EVERTON PARK', '127C KIM TIAN ROAD', '38 KIM PONG ROAD', '34 KIM CHENG STREET', '103 HENDERSON CRESCENT', '52 LENGKOK BAHRU', '14A TELOK BLANGAH CRESCENT', '103A DEPOT ROAD', '118D JALAN MEMBINA', '126A KIM TIAN ROAD', '124A BUKIT MERAH VIEW', '73A REDHILL ROAD', '74A REDHILL ROAD', '76A REDHILL ROAD', '72 TELOK BLANGAH HEIGHTS', '106 SPOTTISWOODE PARK ROAD', '87 TELOK BLANGAH HEIGHTS', '86 TELOK BLANGAH HEIGHTS', '125 KIM TIAN ROAD', '75C REDHILL ROAD', '49 TELOK BLANGAH DRIVE', '19 CANTONMENT CLOSE', '120 KIM TIAN PLACE', '121 KIM TIAN PLACE', '63B LENGKOK BAHRU', '227 PENDING ROAD', '205 PETIR ROAD', '226 PENDING ROAD', '409 SAUJANA ROAD', '472 SEGAR ROAD', '208 PETIR ROAD', '609 BUKIT PANJANG RING ROAD', '421 FAJAR ROAD', '436 FAJAR ROAD', '502 JELAPANG ROAD', '415 SAUJANA ROAD', '171 GANGSA ROAD', '185 JELEBU ROAD', '182 JELEBU ROAD', '603 SENJA ROAD', '452 FAJAR ROAD', '465 SEGAR ROAD', '201 PETIR ROAD', '273 BANGKIT ROAD', '515 JELAPANG ROAD', '627 SENJA ROAD', '617 BUKIT PANJANG RING ROAD', '133A CASHEW ROAD', '155 GANGSA ROAD', '503 JELAPANG ROAD', '12 TOH YI DRIVE', \"1 QUEEN'S ROAD\", '2 TOH YI DRIVE', '635 VEERASAMY ROAD', '637 VEERASAMY ROAD', '661 BUFFALO ROAD', '233 BAIN STREET', '8 TANJONG PAGAR PLAZA', '16 TECK WHYE LANE', '252 CHOA CHU KANG AVENUE 2', '660 CHOA CHU KANG CRESCENT', '690D CHOA CHU KANG CRESCENT', '296 CHOA CHU KANG AVENUE 2', '484B CHOA CHU KANG AVENUE 5', '234 CHOA CHU KANG CENTRAL', '410 CHOA CHU KANG AVENUE 3', '685A CHOA CHU KANG CRESCENT', '413 CHOA CHU KANG AVENUE 3', '158 JALAN TECK WHYE', '212 CHOA CHU KANG CENTRAL', '607 CHOA CHU KANG STREET 62', '636 CHOA CHU KANG NORTH 6', '688B CHOA CHU KANG DRIVE', '13 TECK WHYE LANE', '296C CHOA CHU KANG AVENUE 2', '687D CHOA CHU KANG DRIVE', '614 CHOA CHU KANG STREET 62', '510 CHOA CHU KANG STREET 51', '162 JALAN TECK WHYE', '669 CHOA CHU KANG CRESCENT', '665 CHOA CHU KANG CRESCENT', '546 CHOA CHU KANG STREET 52', '785 CHOA CHU KANG DRIVE', '786 CHOA CHU KANG DRIVE', '638 CHOA CHU KANG STREET 64', '561 CHOA CHU KANG NORTH 6', '555 CHOA CHU KANG NORTH 6', '714 CLEMENTI WEST STREET 2', '509 WEST COAST DRIVE', '612 CLEMENTI WEST STREET 1', '376 CLEMENTI AVENUE 4', '105 CLEMENTI STREET 12', '330 CLEMENTI AVENUE 2', '712 CLEMENTI WEST STREET 2', '373 CLEMENTI AVENUE 4', '301 CLEMENTI AVENUE 4', '460 CLEMENTI AVENUE 3', '457 CLEMENTI AVENUE 3', '425 CLEMENTI AVENUE 1', '441B CLEMENTI AVENUE 3', '204 CLEMENTI AVENUE 6', '338 CLEMENTI AVENUE 2', '109 ALJUNIED CRESCENT', '93 PAYA LEBAR WAY', '23 BALAM ROAD', '69 CIRCUIT ROAD', '18 EUNOS CRESCENT', '83 MACPHERSON LANE', '52 CIRCUIT ROAD', '64 CIRCUIT ROAD', '61 CIRCUIT ROAD', '12 PINE CLOSE', '339 UBI AVENUE 1', '11 EUNOS CRESCENT', '49 JALAN TIGA', '330 UBI AVENUE 1', '22 EUNOS CRESCENT', '120 PAYA LEBAR WAY', '123 GEYLANG EAST CENTRAL', '9 PINE CLOSE', '60 DAKOTA CRESCENT', '626 HOUGANG AVENUE 8', '244 HOUGANG STREET 22', '126 HOUGANG AVENUE 1', '620 HOUGANG AVENUE 8', '631 HOUGANG AVENUE 8', '304 HOUGANG AVENUE 5', '524 HOUGANG AVENUE 6', '703 HOUGANG AVENUE 2', '115 HOUGANG AVENUE 1', '15 HOUGANG AVENUE 3', '605 HOUGANG AVENUE 4', '552 HOUGANG STREET 51', '706 HOUGANG AVENUE 2', '515 HOUGANG AVENUE 10', '968 HOUGANG AVENUE 9', '354 HOUGANG AVENUE 7', '109 HOUGANG AVENUE 1', '352 HOUGANG AVENUE 7', '702 HOUGANG AVENUE 2', '927 HOUGANG STREET 91', '301 HOUGANG AVENUE 5', '574 HOUGANG STREET 51', '156 HOUGANG STREET 11', '506 HOUGANG AVENUE 8', '241 HOUGANG STREET 22', '548 HOUGANG STREET 51', '159 HOUGANG STREET 11', '544 HOUGANG AVENUE 8', '361 HOUGANG AVENUE 5', '962 HOUGANG AVENUE 9', '981C BUANGKOK CRESCENT', '984B BUANGKOK LINK', '616 HOUGANG AVENUE 8', '432 HOUGANG AVENUE 6', '926 HOUGANG STREET 91', '502 HOUGANG AVENUE 8', '956 HOUGANG STREET 91', '957 HOUGANG STREET 91', '531 HOUGANG AVENUE 6', '641 HOUGANG AVENUE 8', '421 HOUGANG AVENUE 10', '830 HOUGANG CENTRAL', '120 HOUGANG AVENUE 1', '539 HOUGANG STREET 52', '144 LORONG AH SOO', '446 HOUGANG AVENUE 8', '560 HOUGANG STREET 51', '428 HOUGANG AVENUE 6', '145 LORONG AH SOO', '850 HOUGANG CENTRAL', '358 HOUGANG AVENUE 5', '834 HOUGANG CENTRAL', '562 HOUGANG STREET 51', '33 TEBAN GARDENS ROAD', '35 TEBAN GARDENS ROAD', '202 JURONG EAST STREET 21', '229 JURONG EAST STREET 21', '341 JURONG EAST AVENUE 1', '110 JURONG EAST STREET 13', '24 TEBAN GARDENS ROAD', '302 JURONG EAST STREET 32', '315 JURONG EAST STREET 32', '204 JURONG EAST STREET 21', '286A TOH GUAN ROAD', '60 TEBAN GARDENS ROAD', '320 JURONG EAST STREET 31', '219A JURONG EAST STREET 21', '281 TOH GUAN ROAD', '337 JURONG EAST AVENUE 1', '213 BOON LAY PLACE', '215 BOON LAY PLACE', '121 YUAN CHING ROAD', '485 JURONG WEST AVENUE 1', '917 JURONG WEST STREET 91', '504 JURONG WEST STREET 51', '474 JURONG WEST STREET 41', '516 JURONG WEST STREET 52', '271A JURONG WEST STREET 24', '903 JURONG WEST STREET 91', '815 JURONG WEST STREET 81', '938 JURONG WEST STREET 91', '824 JURONG WEST STREET 81', '835 JURONG WEST STREET 81', '837 JURONG WEST STREET 81', '420 JURONG WEST STREET 42', '711 JURONG WEST STREET 71', '706 JURONG WEST STREET 71', '980 JURONG WEST STREET 93', '464 JURONG WEST STREET 41', '668B JURONG WEST STREET 64', '415 JURONG WEST STREET 42', '655A JURONG WEST STREET 61', '432 JURONG WEST STREET 42', '744 JURONG WEST STREET 73', '183 YUNG SHENG ROAD', '667D JURONG WEST STREET 65', '632 JURONG WEST STREET 65', '990C JURONG WEST STREET 93', '693 JURONG WEST CENTRAL 1', '352 KANG CHING ROAD', '648C JURONG WEST STREET 61', '447 JURONG WEST STREET 42', '262 BOON LAY DRIVE', '351 CORPORATION DRIVE', '987A JURONG WEST STREET 93', '345 KANG CHING ROAD', '608 JURONG WEST STREET 65', '694 JURONG WEST CENTRAL 1', '684B JURONG WEST STREET 64', '275D JURONG WEST STREET 25', '949 JURONG WEST STREET 91', '273A JURONG WEST AVENUE 3', '268B BOON LAY DRIVE', '271C JURONG WEST STREET 24', '204 BOON LAY DRIVE', '811 JURONG WEST STREET 81', '677C JURONG WEST STREET 64', '623 JURONG WEST STREET 61', '674A JURONG WEST STREET 65', '670A JURONG WEST STREET 65', '678D JURONG WEST STREET 64', '677A JURONG WEST STREET 64', '365 CORPORATION DRIVE', '705 JURONG WEST STREET 71', '539 JURONG WEST AVENUE 1', '437 JURONG WEST AVENUE 1', '644 JURONG WEST STREET 61', '180 YUNG SHENG ROAD', '408 JURONG WEST STREET 42', '553 JURONG WEST STREET 42', '648A JURONG WEST STREET 61', '660A JURONG WEST STREET 64', '654B JURONG WEST STREET 61', '604 JURONG WEST STREET 62', '263 BOON LAY DRIVE', '989D JURONG WEST STREET 93', '274B JURONG WEST STREET 25', '601 JURONG WEST STREET 62', '410 JURONG WEST STREET 42', '828A JURONG WEST STREET 81', '669C JURONG WEST STREET 64', '160 YUNG PING ROAD', '606 JURONG WEST STREET 65', '666A JURONG WEST STREET 65', '6 BEACH ROAD', '32 JALAN BAHAGIA', '63 KALLANG BAHRU', '24 BENDEMEER ROAD', '684 RACE COURSE ROAD', '12 UPPER BOON KENG ROAD', '65 KALLANG BAHRU', \"20 SAINT GEORGE'S ROAD\", '801 FRENCH ROAD', '10 GLOUCESTER ROAD', '14 KAMPONG ARANG ROAD', \"59 JALAN MA'MOR\", '30 JALAN BAHAGIA', '9 GLOUCESTER ROAD', '121 MCNAIR ROAD', '466 CRAWFORD LANE', '69 MOULMEIN ROAD', '52 KENT ROAD', '59C GEYLANG BAHRU', '37 CAMBRIDGE ROAD', '39 CAMBRIDGE ROAD', '53 GEYLANG BAHRU', '113 WHAMPOA ROAD', \"13 SAINT GEORGE'S ROAD\", '104 WHAMPOA DRIVE', '103 AH HOOD ROAD', '58 MARINE TERRACE', '75 MARINE DRIVE', '1 MARINE TERRACE', '107 PASIR RIS STREET 12', '765 PASIR RIS STREET 71', '559 PASIR RIS STREET 51', '767 PASIR RIS STREET 71', '641 PASIR RIS DRIVE 1', '429 PASIR RIS DRIVE 6', '627 PASIR RIS DRIVE 3', '775 PASIR RIS STREET 71', '626 PASIR RIS DRIVE 3', '521 PASIR RIS STREET 52', '216 PASIR RIS STREET 21', '440 PASIR RIS DRIVE 4', '414 PASIR RIS DRIVE 6', '640 PASIR RIS DRIVE 1', '725 PASIR RIS STREET 72', '234 PASIR RIS DRIVE 4', '568 PASIR RIS STREET 51', '709 PASIR RIS DRIVE 10', '487 PASIR RIS DRIVE 4', '752 PASIR RIS STREET 71', '745 PASIR RIS STREET 71', '407 PASIR RIS DRIVE 6', '194 PASIR RIS STREET 12', '576 PASIR RIS STREET 53', '248 PASIR RIS STREET 21', '240 PASIR RIS STREET 21', '210 PASIR RIS STREET 21', '241 PASIR RIS STREET 21', '247 PASIR RIS STREET 21', '157 PASIR RIS STREET 13', '204 PASIR RIS STREET 21', '538 PASIR RIS STREET 51', '715 PASIR RIS STREET 72', '547 PASIR RIS STREET 51', '165A PUNGGOL CENTRAL', '105C EDGEFIELD PLAINS', '201D PUNGGOL FIELD', '114 EDGEFIELD PLAINS', '306A PUNGGOL PLACE', '269A PUNGGOL FIELD', '273A PUNGGOL PLACE', '135 EDGEDALE PLAINS', '126B EDGEDALE PLAINS', '183 EDGEFIELD PLAINS', '107A EDGEFIELD PLAINS', '165B PUNGGOL CENTRAL', '105D EDGEFIELD PLAINS', '178 EDGEFIELD PLAINS', '193 EDGEFIELD PLAINS', '651 PUNGGOL CENTRAL', '274B PUNGGOL PLACE', '191 PUNGGOL CENTRAL', '113 COMMONWEALTH CRESCENT', '3 DOVER ROAD', '31 HOLLAND CLOSE', '13 HOLLAND DRIVE', '9 HOLLAND AVENUE', '53 STIRLING ROAD', '10 HOLLAND AVENUE', '15 GHIM MOH ROAD', '56 STRATHMORE AVENUE', '181 STIRLING ROAD', '182 STIRLING ROAD', '61A STRATHMORE AVENUE', '49 STRATHMORE AVENUE', '62A STRATHMORE AVENUE', '478 SEMBAWANG DRIVE', '507B WELLINGTON CIRCLE', '314 SEMBAWANG DRIVE', '315 SEMBAWANG VISTA', '350B CANBERRA ROAD', '339B SEMBAWANG CLOSE', '320 SEMBAWANG CLOSE', '317 SEMBAWANG VISTA', '402 ADMIRALTY LINK', '409 SEMBAWANG DRIVE', '411 SEMBAWANG DRIVE', '491 ADMIRALTY LINK', '330 SEMBAWANG CLOSE', '325 SEMBAWANG CRESCENT', '589B MONTREAL DRIVE', '471 SEMBAWANG DRIVE', '501D WELLINGTON CIRCLE', '507D WELLINGTON CIRCLE', '310 CANBERRA ROAD', '441D FERNVALE ROAD', '306C ANCHORVALE LINK', '146 RIVERVALE DRIVE', '314A ANCHORVALE LINK', '132 RIVERVALE STREET', '122 SENGKANG EAST WAY', '120A RIVERVALE DRIVE', '114 RIVERVALE WALK', '116C RIVERVALE DRIVE', '268A COMPASSVALE LINK', '271B SENGKANG CENTRAL', '275A COMPASSVALE LINK', '292A COMPASSVALE STREET', '122D RIVERVALE DRIVE', '158D RIVERVALE CRESCENT', '121D SENGKANG EAST WAY', '157A RIVERVALE CRESCENT', '121C SENGKANG EAST WAY', '119B RIVERVALE DRIVE', '301A ANCHORVALE DRIVE', '291A COMPASSVALE STREET', '301B ANCHORVALE DRIVE', '319C ANCHORVALE DRIVE', '190A RIVERVALE DRIVE', '306A ANCHORVALE LINK', '412B FERNVALE LINK', '237 COMPASSVALE WALK', '413A FERNVALE LINK', '409B FERNVALE ROAD', '407B FERNVALE ROAD', '260A SENGKANG EAST WAY', '232 COMPASSVALE WALK', '268D COMPASSVALE LINK', '312B ANCHORVALE LANE', '250C COMPASSVALE STREET', '122C SENGKANG EAST WAY', '313D ANCHORVALE ROAD', '138 RIVERVALE STREET', '530 SERANGOON NORTH AVENUE 4', '518 SERANGOON NORTH AVENUE 4', '111 SERANGOON NORTH AVENUE 1', '538 SERANGOON NORTH AVENUE 4', '141 SERANGOON NORTH AVENUE 2', '521 SERANGOON NORTH AVENUE 4', '208 SERANGOON CENTRAL', '325 SERANGOON AVENUE 3', '409 SERANGOON CENTRAL', '549 SERANGOON NORTH AVENUE 3', '532 SERANGOON NORTH AVENUE 4', '411 SERANGOON CENTRAL', '329 SERANGOON AVENUE 3', '416 SERANGOON CENTRAL', '851 TAMPINES STREET 83', '405 TAMPINES STREET 41', '217 TAMPINES STREET 23', '252 TAMPINES STREET 21', '111 TAMPINES STREET 11', '847 TAMPINES STREET 83', '280 TAMPINES STREET 22', '898 TAMPINES STREET 81', '251 TAMPINES STREET 21', '853 TAMPINES STREET 83', '915 TAMPINES STREET 91', '145 TAMPINES STREET 12', '269 TAMPINES STREET 21', '235 TAMPINES STREET 21', '453 TAMPINES STREET 42', '346 TAMPINES STREET 33', '126 SIMEI STREET 1', '487A TAMPINES AVENUE 9', '374 TAMPINES STREET 34', '908 TAMPINES AVENUE 4', '450E TAMPINES STREET 42', '444 TAMPINES STREET 42', '450C TAMPINES STREET 42', '242 SIMEI STREET 5', '503 TAMPINES CENTRAL 1', '265 TAMPINES STREET 21', '285 TAMPINES STREET 22', '498J TAMPINES STREET 45', '859 TAMPINES AVENUE 5', '221 SIMEI STREET 4', '418 TAMPINES STREET 41', '390 TAMPINES AVENUE 7', '248 TAMPINES STREET 21', '131 SIMEI STREET 1', '255 SIMEI STREET 1', '158 TAMPINES STREET 12', '496E TAMPINES AVENUE 9', '359 TAMPINES STREET 34', '887A TAMPINES STREET 81', '496C TAMPINES STREET 43', '307 TAMPINES STREET 32', '450F TAMPINES STREET 42', '887 TAMPINES STREET 81', '247 SIMEI STREET 5', '108 SIMEI STREET 1', '102 SIMEI STREET 1', '146 SIMEI STREET 2', '114 TAMPINES STREET 11', '231 SIMEI STREET 4', '109 SIMEI STREET 1', '164 SIMEI ROAD', '143 TAMPINES STREET 12', '243 SIMEI STREET 5', '515A TAMPINES CENTRAL 7', '495D TAMPINES STREET 43', '230J TAMPINES STREET 21', '740 TAMPINES STREET 72', '325 TAMPINES STREET 32', '311 TAMPINES STREET 33', '330 TAMPINES STREET 32', '896A TAMPINES STREET 81', '144 SIMEI STREET 2', '156 TAMPINES STREET 12', '161 LORONG 1 TOA PAYOH', '58 LORONG 4 TOA PAYOH', '234 LORONG 8 TOA PAYOH', '1 LORONG 7 TOA PAYOH', '169 LORONG 1 TOA PAYOH', '112 LORONG 1 TOA PAYOH', '38 LORONG 5 TOA PAYOH', '125 LORONG 1 TOA PAYOH', '100 LORONG 1 TOA PAYOH', '114 POTONG PASIR AVENUE 1', '17 LORONG 7 TOA PAYOH', '118 LORONG 1 TOA PAYOH', '177 TOA PAYOH CENTRAL', '104 POTONG PASIR AVENUE 1', '226 LORONG 8 TOA PAYOH', '221 LORONG 8 TOA PAYOH', '200 TOA PAYOH NORTH', '179 TOA PAYOH CENTRAL', '148 POTONG PASIR AVENUE 1', '142 LORONG 2 TOA PAYOH', '141 POTONG PASIR AVENUE 3', '239 LORONG 1 TOA PAYOH', '135 POTONG PASIR AVENUE 3', '10 LORONG 7 TOA PAYOH', '79A TOA PAYOH CENTRAL', '10 JOO SENG ROAD', '97 LORONG 3 TOA PAYOH', '138B LORONG 1A TOA PAYOH', '136 POTONG PASIR AVENUE 3', '145 POTONG PASIR AVENUE 2', '19 MARSILING LANE', '166 WOODLANDS STREET 13', '206 MARSILING DRIVE', '218 MARSILING CRESCENT', '331 WOODLANDS AVENUE 1', '160 WOODLANDS STREET 13', '7 MARSILING DRIVE', '617 WOODLANDS AVENUE 4', '774 WOODLANDS CRESCENT', '850 WOODLANDS STREET 82', '579 WOODLANDS DRIVE 16', '666 WOODLANDS RING ROAD', '612 WOODLANDS AVENUE 4', '669 WOODLANDS RING ROAD', '758 WOODLANDS AVENUE 6', '802 WOODLANDS STREET 81', '406 WOODLANDS STREET 41', '847 WOODLANDS STREET 82', '876 WOODLANDS AVENUE 9', '547 WOODLANDS DRIVE 16', '413 WOODLANDS STREET 41', '172 WOODLANDS STREET 13', '772 WOODLANDS DRIVE 60', '703 WOODLANDS DRIVE 40', '769 WOODLANDS DRIVE 60', '898A WOODLANDS DRIVE 50', '689B WOODLANDS DRIVE 75', '603 WOODLANDS DRIVE 42', '354 WOODLANDS AVENUE 1', '764 WOODLANDS CIRCLE', '36 MARSILING DRIVE', '623 WOODLANDS DRIVE 52', '621 WOODLANDS DRIVE 52', '137 MARSILING ROAD', '759 WOODLANDS AVENUE 6', '733 WOODLANDS CIRCLE', '215 MARSILING LANE', '607 WOODLANDS RING ROAD', '752 WOODLANDS CIRCLE', '544 WOODLANDS DRIVE 16', '578 WOODLANDS DRIVE 16', '655 WOODLANDS RING ROAD', '659 WOODLANDS RING ROAD', '672 WOODLANDS DRIVE 71', '537 WOODLANDS DRIVE 16', '683D WOODLANDS DRIVE 62', '501 WOODLANDS DRIVE 14', '524 WOODLANDS DRIVE 14', '513 WOODLANDS DRIVE 14', '825 WOODLANDS STREET 81', '586 WOODLANDS DRIVE 16', '789 WOODLANDS AVENUE 6', '637 WOODLANDS RING ROAD', '656 WOODLANDS RING ROAD', '358 WOODLANDS AVENUE 5', '635 WOODLANDS RING ROAD', '124 MARSILING RISE', '818 WOODLANDS STREET 82', '459 YISHUN AVENUE 11', '753 YISHUN STREET 72', '243 YISHUN RING ROAD', '767 YISHUN AVENUE 3', '269 YISHUN STREET 22', '138 YISHUN RING ROAD', '129 YISHUN STREET 11', '210 YISHUN STREET 21', '127 YISHUN STREET 11', '151 YISHUN STREET 11', '287 YISHUN AVENUE 6', '409 YISHUN RING ROAD', '806 YISHUN RING ROAD', '215 YISHUN STREET 21', '740 YISHUN AVENUE 5', '202 YISHUN STREET 21', '395 YISHUN RING ROAD', '713 YISHUN STREET 71', '408 YISHUN AVENUE 6', '619 YISHUN RING ROAD', '275 YISHUN STREET 22', '631 YISHUN STREET 61', '660 YISHUN AVENUE 4', '657 YISHUN AVENUE 4', '415 YISHUN AVENUE 11', '722 YISHUN STREET 71', '346 YISHUN AVENUE 11', '726 YISHUN STREET 71', '768 YISHUN AVENUE 3', '727 YISHUN STREET 71', '605 YISHUN STREET 61', '816 YISHUN STREET 81', '115C YISHUN RING ROAD', '835 YISHUN STREET 81', '858 YISHUN AVENUE 4', '321 YISHUN CENTRAL', '743 YISHUN AVENUE 5', '205 YISHUN STREET 21', '832 YISHUN STREET 81', '932 YISHUN CENTRAL 1', '170 YISHUN AVENUE 7', '212 YISHUN STREET 21', '716 YISHUN STREET 71', '786 YISHUN RING ROAD', '927 YISHUN CENTRAL 1', '866 YISHUN STREET 81', '733 YISHUN AVENUE 5', '360 YISHUN RING ROAD', '616 YISHUN RING ROAD', '151 ANG MO KIO AVENUE 5', '576 ANG MO KIO AVENUE 10', '603 ANG MO KIO AVENUE 5', '208 ANG MO KIO AVENUE 1', '450 ANG MO KIO AVENUE 10', '129 ANG MO KIO AVENUE 3', '623 ANG MO KIO AVENUE 9', '405 ANG MO KIO AVENUE 10', '461 ANG MO KIO AVENUE 10', '448 ANG MO KIO AVENUE 10', '643 ANG MO KIO AVENUE 5', '121 ANG MO KIO AVENUE 3', '418 ANG MO KIO AVENUE 10', '313 ANG MO KIO AVENUE 3', '130 ANG MO KIO AVENUE 3', '175 ANG MO KIO AVENUE 4', '561 ANG MO KIO AVENUE 10', '637 ANG MO KIO AVENUE 6', '573 ANG MO KIO AVENUE 3', '426 ANG MO KIO AVENUE 3', '327 ANG MO KIO AVENUE 3', '325 ANG MO KIO AVENUE 3', '634 ANG MO KIO AVENUE 6', '316A ANG MO KIO STREET 31', '234 ANG MO KIO AVENUE 3', '176 ANG MO KIO AVENUE 4', '642 ANG MO KIO AVENUE 5', '617 ANG MO KIO AVENUE 4', '102 ANG MO KIO AVENUE 3', '171 ANG MO KIO AVENUE 4', '353 ANG MO KIO STREET 32', '700C ANG MO KIO AVENUE 6', '615 ANG MO KIO AVENUE 4', '45 CHAI CHEE STREET', '39 BEDOK SOUTH ROAD', '127 BEDOK NORTH STREET 2', '89 BEDOK NORTH STREET 4', '116 BEDOK NORTH ROAD', '35 CHAI CHEE AVENUE', '121 BEDOK NORTH ROAD', '15 BEDOK SOUTH ROAD', '130 BEDOK NORTH STREET 2', '90 BEDOK NORTH STREET 4', '518 BEDOK NORTH AVENUE 2', '724 BEDOK RESERVOIR ROAD', '766 BEDOK RESERVOIR VIEW', '147 BEDOK RESERVOIR ROAD', '120 BEDOK NORTH STREET 2', '669 JALAN DAMAI', '804 CHAI CHEE ROAD', '140 BEDOK NORTH STREET 2', '20 BEDOK SOUTH ROAD', '721 BEDOK RESERVOIR ROAD', '719 BEDOK RESERVOIR ROAD', '663 JALAN DAMAI', '403 SIN MING AVENUE', '193 BISHAN STREET 13', '108 BISHAN STREET 12', '304 SHUNFU ROAD', '112 BISHAN STREET 12', '131 BISHAN STREET 12', '243 BISHAN STREET 22', '286 BISHAN STREET 24', '255 BISHAN STREET 22', '171 BISHAN STREET 13', '236 BISHAN STREET 22', '223 BISHAN STREET 23', '242 BISHAN STREET 22', '172 BISHAN STREET 13', '229 BISHAN STREET 23', '213 BISHAN STREET 23', '251 BISHAN STREET 22', '237 BISHAN STREET 22', '452 SIN MING AVENUE', '169 BISHAN STREET 13', '324 BUKIT BATOK STREET 33', '416 BUKIT BATOK WEST AVENUE 4', '504 BUKIT BATOK STREET 52', '375 BUKIT BATOK STREET 31', '250 BUKIT BATOK EAST AVENUE 5', '127 BUKIT BATOK WEST AVENUE 6', '240 BUKIT BATOK EAST AVENUE 5', '336 BUKIT BATOK STREET 32', '329 BUKIT BATOK STREET 33', '269 BUKIT BATOK EAST AVENUE 4', '327 BUKIT BATOK STREET 33', '215 BUKIT BATOK STREET 21', '107 BUKIT BATOK WEST AVENUE 6', '171 BUKIT BATOK WEST AVENUE 8', '177 BUKIT BATOK WEST AVENUE 8', '289G BUKIT BATOK STREET 25', '131 BUKIT BATOK WEST AVENUE 6', '102 BUKIT BATOK WEST AVENUE 6', '625 BUKIT BATOK CENTRAL', '236 BUKIT BATOK EAST AVENUE 5', '192 BUKIT BATOK WEST AVENUE 6', '289D BUKIT BATOK STREET 25', '620 BUKIT BATOK CENTRAL', '512 BUKIT BATOK STREET 52', '535 BUKIT BATOK STREET 52', '76 TELOK BLANGAH DRIVE', '48 LOWER DELTA ROAD', '113 JALAN BUKIT MERAH', '150 SILAT AVENUE', '75 TELOK BLANGAH DRIVE', '80B TELOK BLANGAH STREET 31', '49 HOY FATT ROAD', '105 BUKIT PURMEI ROAD', '109 JALAN BUKIT MERAH', '68 TELOK BLANGAH HEIGHTS', '110 BUKIT PURMEI ROAD', '26B JALAN MEMBINA', '39 TELOK BLANGAH RISE', '18 TELOK BLANGAH CRESCENT', '48 TELOK BLANGAH DRIVE', '47 LENGKOK BAHRU', '8 CANTONMENT CLOSE', '119C KIM TIAN ROAD', '108 GANGSA ROAD', '220 PETIR ROAD', '106 GANGSA ROAD', '435 BUKIT PANJANG RING ROAD', '449 BUKIT PANJANG RING ROAD', '416 SAUJANA ROAD', '505 JELAPANG ROAD', '270 BANGKIT ROAD', '434 BUKIT PANJANG RING ROAD', '510 JELAPANG ROAD', '616 SENJA ROAD', '541 BUKIT PANJANG RING ROAD', '448 BUKIT PANJANG RING ROAD', '471 SEGAR ROAD', '411 SAUJANA ROAD', '135 CASHEW ROAD', '180 LOMPANG ROAD', \"2 QUEEN'S ROAD\", '1 TOH YI DRIVE', '14 TOH YI DRIVE', '269A QUEEN STREET', '641 ROWELL ROAD', '634 VEERASAMY ROAD', '113 TECK WHYE LANE', '291 CHOA CHU KANG AVENUE 3', '223 CHOA CHU KANG CENTRAL', '514 CHOA CHU KANG STREET 51', '685C CHOA CHU KANG CRESCENT', '405 CHOA CHU KANG AVENUE 3', '455 CHOA CHU KANG AVENUE 4', '281 CHOA CHU KANG AVENUE 3', '485A CHOA CHU KANG AVENUE 5', '277 CHOA CHU KANG AVENUE 2', '236 CHOA CHU KANG CENTRAL', '122 TECK WHYE LANE', '678 CHOA CHU KANG CRESCENT', '682 CHOA CHU KANG CRESCENT', '661 CHOA CHU KANG CRESCENT', '787 CHOA CHU KANG NORTH 6', '210 CHOA CHU KANG CENTRAL', '640 CHOA CHU KANG STREET 64', '340 CHOA CHU KANG LOOP', '683C CHOA CHU KANG CRESCENT', '690B CHOA CHU KANG CRESCENT', '687A CHOA CHU KANG DRIVE', '685B CHOA CHU KANG CRESCENT', '112 TECK WHYE LANE', '684A CHOA CHU KANG CRESCENT', '703 CHOA CHU KANG STREET 53', '670A CHOA CHU KANG CRESCENT', '249 CHOA CHU KANG AVENUE 2', '666 CHOA CHU KANG CRESCENT', '454 CHOA CHU KANG AVENUE 4', '272 CHOA CHU KANG AVENUE 2', '758 CHOA CHU KANG NORTH 5', '282 CHOA CHU KANG AVENUE 3', '759 CHOA CHU KANG NORTH 5', '558 CHOA CHU KANG NORTH 6', '523 CHOA CHU KANG STREET 51', '431 CLEMENTI AVENUE 3', '329 CLEMENTI AVENUE 2', '450 CLEMENTI AVENUE 3', '432 CLEMENTI AVENUE 3', '423 CLEMENTI AVENUE 1', '512 WEST COAST DRIVE', '358 CLEMENTI AVENUE 2', '454 CLEMENTI AVENUE 3', '71 CIRCUIT ROAD', '97 JALAN DUA', '39 CIRCUIT ROAD', '20 BALAM ROAD', '34 CIRCUIT ROAD', '3 HAIG ROAD', '342 UBI AVENUE 1', '95 ALJUNIED CRESCENT', '1 HAIG ROAD', '52 SIMS PLACE', '22 HAIG ROAD', '343 UBI AVENUE 1', '122 PAYA LEBAR WAY', '338 UBI AVENUE 1', '10 EUNOS CRESCENT', '11 HAIG ROAD', '2C GEYLANG SERAI', '311 UBI AVENUE 1', '13 EUNOS CRESCENT', '36 EUNOS CRESCENT', '7 PINE CLOSE', '1 PINE CLOSE', '119 HOUGANG AVENUE 1', '514 HOUGANG AVENUE 10', '671 HOUGANG AVENUE 8', '305 HOUGANG AVENUE 5', '210 HOUGANG STREET 21', '911 HOUGANG STREET 91', '635 HOUGANG AVENUE 8', '337 HOUGANG AVENUE 7', '708 HOUGANG AVENUE 2', '458 HOUGANG AVENUE 10', '569 HOUGANG STREET 51', '643 HOUGANG AVENUE 8', '351 HOUGANG AVENUE 7', '310 HOUGANG AVENUE 5', '924 HOUGANG AVENUE 9', '930 HOUGANG STREET 91', '460 HOUGANG AVENUE 10', '111 HOUGANG AVENUE 1', '373 HOUGANG STREET 31', '132 LORONG AH SOO', '639 HOUGANG AVENUE 8', '615 HOUGANG AVENUE 8', '522 HOUGANG AVENUE 6', '357 HOUGANG AVENUE 7', '449 HOUGANG AVENUE 10', '374 HOUGANG STREET 31', '851 HOUGANG CENTRAL', '31 TEBAN GARDENS ROAD', '414 PANDAN GARDENS', '280 TOH GUAN ROAD', '285B TOH GUAN ROAD', '246 JURONG EAST STREET 24', '336 JURONG EAST AVENUE 1', '325 JURONG EAST STREET 31', '322A JURONG EAST STREET 31', '223A JURONG EAST STREET 21', '285C TOH GUAN ROAD', '111 HO CHING ROAD', '494 JURONG WEST STREET 41', '916 JURONG WEST STREET 91', '429 JURONG WEST AVENUE 1', '503 JURONG WEST AVENUE 1', '810 JURONG WEST STREET 81', '739 JURONG WEST STREET 73', '929 JURONG WEST STREET 92', '746 JURONG WEST STREET 73', '850 JURONG WEST STREET 81', '274D JURONG WEST AVENUE 3', '531 JURONG WEST STREET 52', '931 JURONG WEST STREET 92', '845 JURONG WEST STREET 81', '448 JURONG WEST STREET 42', '732 JURONG WEST STREET 73', '858 JURONG WEST STREET 81', '948 JURONG WEST STREET 91', '643 JURONG WEST STREET 61', '856 JURONG WEST STREET 81', '367 CORPORATION DRIVE', '634 JURONG WEST STREET 65', '659C JURONG WEST STREET 65', '660D JURONG WEST STREET 64', '271D JURONG WEST STREET 24', '751 JURONG WEST STREET 73', '865 JURONG WEST STREET 81', '703 JURONG WEST STREET 71', '678A JURONG WEST STREET 64', '444 JURONG WEST AVENUE 1', '461 JURONG WEST STREET 41', '652B JURONG WEST STREET 61', '663B JURONG WEST STREET 65', '607 JURONG WEST STREET 65', '261 BOON LAY DRIVE', '533 JURONG WEST STREET 52', '660C JURONG WEST STREET 64', '680C JURONG WEST CENTRAL 1', '274C JURONG WEST STREET 25', '726 JURONG WEST AVENUE 5', '115 HO CHING ROAD', '861 JURONG WEST STREET 81', '709 JURONG WEST STREET 71', '159 YUNG PING ROAD', '710 JURONG WEST STREET 71', '64 KALLANG BAHRU', '66 KALLANG BAHRU', '55 JALAN BAHAGIA', '38 JALAN BAHAGIA', '84 WHAMPOA DRIVE', '102 JALAN RAJAH', '51 KENT ROAD', '109 WHAMPOA ROAD', '13 FARRER PARK ROAD', '13 UPPER BOON KENG ROAD', '109 MCNAIR ROAD', '2D UPPER BOON KENG ROAD', '106 TOWNER ROAD', '30 MARINE CRESCENT', '64 MARINE DRIVE', '19 MARINE TERRACE', '63 MARINE DRIVE', '1 CHANGI VILLAGE ROAD', '482 PASIR RIS DRIVE 4', '724 PASIR RIS STREET 72', '229 PASIR RIS STREET 21', '469 PASIR RIS DRIVE 6', '103 PASIR RIS STREET 12', '409 PASIR RIS DRIVE 6', '718 PASIR RIS STREET 72', '479 PASIR RIS DRIVE 4', '707 PASIR RIS DRIVE 10', '766 PASIR RIS STREET 71', '719 PASIR RIS STREET 72', '182 PASIR RIS STREET 11', '274 PASIR RIS STREET 21', '744 PASIR RIS STREET 71', '405 PASIR RIS DRIVE 6', '236 PASIR RIS STREET 21', '223 PASIR RIS STREET 21', '218 PASIR RIS STREET 21', '508 PASIR RIS STREET 52', '541 PASIR RIS STREET 51', '501 PASIR RIS STREET 52', '578 PASIR RIS STREET 53', '540 PASIR RIS STREET 51', '306B PUNGGOL PLACE', '623C PUNGGOL CENTRAL', '623A PUNGGOL CENTRAL', '636A PUNGGOL DRIVE', '636B PUNGGOL DRIVE', '604C PUNGGOL ROAD', '619D PUNGGOL DRIVE', '602B PUNGGOL CENTRAL', '602C PUNGGOL CENTRAL', '624C PUNGGOL CENTRAL', '603A PUNGGOL ROAD', '302C PUNGGOL PLACE', '301C PUNGGOL CENTRAL', '176A EDGEFIELD PLAINS', '109D EDGEDALE PLAINS', '126C EDGEDALE PLAINS', '187 PUNGGOL CENTRAL', '101B PUNGGOL FIELD', '197A PUNGGOL FIELD', '174D EDGEDALE PLAINS', '160B PUNGGOL CENTRAL', '18 GHIM MOH ROAD', '163 STIRLING ROAD', '96 COMMONWEALTH CRESCENT', \"23A QUEEN'S CLOSE\", '166 STIRLING ROAD', '100 COMMONWEALTH CRESCENT', '5 GHIM MOH ROAD', '20 DOVER CRESCENT', '51 COMMONWEALTH DRIVE', '27 GHIM MOH LINK', '143 MEI LING STREET', '61C STRATHMORE AVENUE', '53 COMMONWEALTH DRIVE', '50 COMMONWEALTH DRIVE', '8 GHIM MOH ROAD', '13 DOVER CLOSE EAST', '132 CLARENCE LANE', '149 MEI LING STREET', '414 SEMBAWANG DRIVE', '318 SEMBAWANG VISTA', '356C ADMIRALTY DRIVE', '353A ADMIRALTY DRIVE', '501B WELLINGTON CIRCLE', '421 CANBERRA ROAD', '417 CANBERRA ROAD', '588C MONTREAL DRIVE', '468B ADMIRALTY DRIVE', '359A ADMIRALTY DRIVE', '503A CANBERRA LINK', '309 CANBERRA ROAD', '730 TAMPINES STREET 71', '438B SENGKANG WEST AVENUE', '209C COMPASSVALE LANE', '313C ANCHORVALE ROAD', '188B RIVERVALE DRIVE', '204C COMPASSVALE DRIVE', '185A RIVERVALE CRESCENT', '122E RIVERVALE DRIVE', '107 RIVERVALE WALK', '317A ANCHORVALE ROAD', '259A COMPASSVALE ROAD', '313B ANCHORVALE ROAD', '318D ANCHORVALE LINK', '446B JALAN KAYU', '324A SENGKANG EAST WAY', '226A COMPASSVALE WALK', '267A COMPASSVALE LINK', '273A COMPASSVALE LINK', '158A RIVERVALE CRESCENT', '183A RIVERVALE CRESCENT', '311D ANCHORVALE LANE', '157B RIVERVALE CRESCENT', '403D FERNVALE LANE', '117B RIVERVALE DRIVE', '318C ANCHORVALE LINK', '245 COMPASSVALE ROAD', '148 RIVERVALE CRESCENT', '260C SENGKANG EAST WAY', '196 RIVERVALE DRIVE', '206D COMPASSVALE LANE', '197 RIVERVALE DRIVE', '403B FERNVALE LANE', '224B COMPASSVALE WALK', '121B RIVERVALE DRIVE', '256 COMPASSVALE ROAD', '312A ANCHORVALE LANE', '310B ANCHORVALE ROAD', '315A ANCHORVALE ROAD', '205A COMPASSVALE LANE', '324C SENGKANG EAST WAY', '511 SERANGOON NORTH AVENUE 4', '315 SERANGOON AVENUE 2', '211 SERANGOON AVENUE 4', '204 SERANGOON CENTRAL', '413 SERANGOON CENTRAL', '517 SERANGOON NORTH AVENUE 4', '135 SERANGOON NORTH AVENUE 2', '539 SERANGOON NORTH AVENUE 4', '319 SERANGOON AVENUE 2', '831 TAMPINES STREET 83', '215 TAMPINES STREET 23', '438 TAMPINES STREET 43', '221 TAMPINES STREET 24', '463 TAMPINES STREET 44', '884 TAMPINES STREET 83', '274 TAMPINES STREET 22', '234 TAMPINES STREET 21', '817 TAMPINES STREET 81', '107 TAMPINES STREET 11', '161 TAMPINES STREET 12', '136 SIMEI STREET 1', '317 TAMPINES STREET 33', '805 TAMPINES AVENUE 4', '113 SIMEI STREET 1', '717 TAMPINES STREET 72', '702 TAMPINES STREET 71', '423 TAMPINES STREET 41', '710 TAMPINES STREET 71', '127 SIMEI STREET 1', '266 TAMPINES STREET 21', '293 TAMPINES STREET 22', '497C TAMPINES STREET 45', '222 TAMPINES STREET 24', '409 TAMPINES STREET 41', '868 TAMPINES STREET 83', '249 TAMPINES STREET 21', '814 TAMPINES STREET 81', '159 TAMPINES STREET 12', '163 TAMPINES STREET 12', '210 TAMPINES STREET 23', '925 TAMPINES STREET 91', '933 TAMPINES STREET 91', '262 TAMPINES STREET 21', '342 TAMPINES STREET 33', '366 TAMPINES STREET 34', '395 TAMPINES AVENUE 7', '385 TAMPINES STREET 32', '158 SIMEI ROAD', '880A TAMPINES AVENUE 8', '493B TAMPINES AVENUE 9', '233 SIMEI STREET 4', '417 TAMPINES STREET 41', '384 TAMPINES STREET 32', '515D TAMPINES CENTRAL 7', '497J TAMPINES STREET 45', '495F TAMPINES STREET 43', '226 SIMEI STREET 4', '160 LORONG 1 TOA PAYOH', '120 LORONG 2 TOA PAYOH', '54 LORONG 5 TOA PAYOH', '59 LORONG 5 TOA PAYOH', '233 LORONG 8 TOA PAYOH', '206 TOA PAYOH NORTH', '168 LORONG 1 TOA PAYOH', '102 POTONG PASIR AVENUE 1', '214 LORONG 8 TOA PAYOH', '219 LORONG 8 TOA PAYOH', '248 KIM KEAT LINK', '259 KIM KEAT AVENUE', '45 LORONG 5 TOA PAYOH', '14 LORONG 7 TOA PAYOH', '152 LORONG 2 TOA PAYOH', '139A LORONG 1A TOA PAYOH', '11 JOO SENG ROAD', '14 JOO SENG ROAD', '238 LORONG 1 TOA PAYOH', '122 POTONG PASIR AVENUE 1', '138A LORONG 1A TOA PAYOH', '257 KIM KEAT AVENUE', '254 KIM KEAT AVENUE', '99B LORONG 2 TOA PAYOH', '155 WOODLANDS STREET 13', '339 WOODLANDS AVENUE 1', '855 WOODLANDS STREET 83', '343 WOODLANDS AVENUE 1', '665 WOODLANDS RING ROAD', '810 WOODLANDS STREET 81', '426 WOODLANDS STREET 41', '429 WOODLANDS STREET 41', '754 WOODLANDS CIRCLE', '715 WOODLANDS DRIVE 70', '102 WOODLANDS STREET 13', '853 WOODLANDS STREET 83', '616 WOODLANDS AVENUE 4', '839 WOODLANDS STREET 82', '764A WOODLANDS CIRCLE', '682A WOODLANDS DRIVE 62', '506 WOODLANDS DRIVE 14', '895C WOODLANDS DRIVE 50', '689F WOODLANDS DRIVE 75', '649 WOODLANDS RING ROAD', '355 WOODLANDS AVENUE 1', '713 WOODLANDS DRIVE 70', '570C WOODLANDS AVENUE 1', '353 WOODLANDS AVENUE 1', '512 WOODLANDS DRIVE 14', '745 WOODLANDS CIRCLE', '582 WOODLANDS DRIVE 16', '625B WOODLANDS DRIVE 52', '555 WOODLANDS DRIVE 53', '690D WOODLANDS DRIVE 75', '744 WOODLANDS CIRCLE', '136 MARSILING ROAD', '409 WOODLANDS STREET 41', '168 WOODLANDS STREET 11', '892A WOODLANDS DRIVE 50', '581 WOODLANDS DRIVE 16', '138 MARSILING ROAD', '788E WOODLANDS CRESCENT', '827 WOODLANDS STREET 81', '323 WOODLANDS STREET 32', '361 WOODLANDS AVENUE 5', '111 WOODLANDS STREET 13', '807 WOODLANDS STREET 81', '763 YISHUN STREET 72', '123 YISHUN STREET 11', '399 YISHUN AVENUE 6', '121 YISHUN STREET 11', '144 YISHUN STREET 11', '402 YISHUN RING ROAD', '131 YISHUN STREET 11', '442 YISHUN AVENUE 11', '704 YISHUN AVENUE 5', '320 YISHUN CENTRAL', '440 YISHUN AVENUE 11', '250 YISHUN AVENUE 9', '639 YISHUN STREET 61', '653 YISHUN AVENUE 4', '254 YISHUN RING ROAD', '638 YISHUN STREET 61', '626 YISHUN STREET 61', '864 YISHUN AVENUE 4', '203 YISHUN STREET 21', '157 YISHUN STREET 11', '120 YISHUN RING ROAD', '602 YISHUN STREET 61', '232 YISHUN STREET 21', '792 YISHUN RING ROAD', '663A YISHUN AVENUE 4', '181 ANG MO KIO AVENUE 5', '212 ANG MO KIO AVENUE 3', '503 ANG MO KIO AVENUE 5', '449 ANG MO KIO AVENUE 10', '114 ANG MO KIO AVENUE 4', '560 ANG MO KIO AVENUE 10', '644 ANG MO KIO AVENUE 4', '578 ANG MO KIO AVENUE 10', '444 ANG MO KIO AVENUE 10', '321 ANG MO KIO AVENUE 1', '638 ANG MO KIO AVENUE 6', '415 ANG MO KIO AVENUE 10', '402 ANG MO KIO AVENUE 10', '725 ANG MO KIO AVENUE 6', '521 ANG MO KIO AVENUE 5', '352 ANG MO KIO STREET 32', '259 ANG MO KIO AVENUE 2', '36 CHAI CHEE AVENUE', '109 BEDOK NORTH ROAD', '86 BEDOK NORTH STREET 4', '426 BEDOK NORTH ROAD', '608 BEDOK RESERVOIR ROAD', '626 BEDOK RESERVOIR ROAD', '43 CHAI CHEE STREET', '708 BEDOK NORTH ROAD', '667 JALAN DAMAI', '408 BEDOK NORTH AVENUE 2', '764 BEDOK RESERVOIR VIEW', '112 BEDOK RESERVOIR ROAD', '51 CHAI CHEE STREET', '670 JALAN DAMAI', '553 BEDOK NORTH AVENUE 1', '714 BEDOK RESERVOIR ROAD', '506 BEDOK NORTH AVENUE 3', '21 BEDOK SOUTH ROAD', '34 CHAI CHEE AVENUE', '10E BEDOK SOUTH AVENUE 2', '108 LENGKONG TIGA', '188 BISHAN STREET 13', '267 BISHAN STREET 24', '207 BISHAN STREET 23', '264 BISHAN STREET 24', '246 BISHAN STREET 22', '158 BISHAN STREET 13', '183 BISHAN STREET 13', '101 BISHAN STREET 12', '219 BISHAN STREET 23', '374 BUKIT BATOK STREET 31', '280 BUKIT BATOK EAST AVENUE 3', '318 BUKIT BATOK STREET 32', '242 BUKIT BATOK EAST AVENUE 5', '232 BUKIT BATOK EAST AVENUE 5', '540 BUKIT BATOK STREET 52', '208 BUKIT BATOK STREET 21', '331 BUKIT BATOK STREET 33', '310 BUKIT BATOK STREET 32', '262 BUKIT BATOK EAST AVENUE 4', '112 BUKIT BATOK WEST AVENUE 6', '621 BUKIT BATOK CENTRAL', '290G BUKIT BATOK STREET 24', '366 BUKIT BATOK STREET 31', '122 BUKIT BATOK CENTRAL', '50 HAVELOCK ROAD', '20 JALAN KLINIK', '107 BUKIT PURMEI ROAD', '1 JALAN BUKIT MERAH', '141 JALAN BUKIT MERAH', '5 TELOK BLANGAH CRESCENT', '15 TELOK BLANGAH CRESCENT', '6 TELOK BLANGAH CRESCENT', '149 SILAT AVENUE', '1 EVERTON PARK', '49 KIM PONG ROAD', '59 TELOK BLANGAH HEIGHTS', '109A DEPOT ROAD', '119D KIM TIAN ROAD', '25B JALAN MEMBINA', '20 JALAN MEMBINA', '8A BOON TIONG ROAD', '113 DEPOT ROAD', '106A DEPOT ROAD', '26 TELOK BLANGAH CRESCENT', '84 TELOK BLANGAH HEIGHTS', '122 KIM TIAN ROAD', '25A JALAN MEMBINA', '63A LENGKOK BAHRU', '4A BOON TIONG ROAD', '105 GANGSA ROAD', '431 BUKIT PANJANG RING ROAD', '524 JELAPANG ROAD', '274 BANGKIT ROAD', '520 JELAPANG ROAD', '441 FAJAR ROAD', '238 BUKIT PANJANG RING ROAD', '615 BUKIT PANJANG RING ROAD', '450 BUKIT PANJANG RING ROAD', '602 SENJA ROAD', '633C SENJA ROAD', '478 SEGAR ROAD', '439 FAJAR ROAD', '432 BUKIT PANJANG RING ROAD', '474 SEGAR ROAD', '610 SENJA ROAD', '210 PETIR ROAD', '153 GANGSA ROAD', '467 SEGAR ROAD', '254 BANGKIT ROAD', '531 JELAPANG ROAD', '607 SENJA ROAD', '8 SELEGIE ROAD', '663 BUFFALO ROAD', '671B KLANG LANE', '110 TECK WHYE LANE', '118 TECK WHYE LANE', '296D CHOA CHU KANG AVENUE 2', '701 CHOA CHU KANG STREET 53', '2 TECK WHYE AVENUE', '226 CHOA CHU KANG CENTRAL', '658 CHOA CHU KANG CRESCENT', '686C CHOA CHU KANG CRESCENT', '439 CHOA CHU KANG AVENUE 4', '751 CHOA CHU KANG NORTH 5', '569 CHOA CHU KANG STREET 52', '568 CHOA CHU KANG STREET 52', '463 CHOA CHU KANG AVENUE 4', '507 CHOA CHU KANG STREET 51', '451 CHOA CHU KANG AVENUE 4', '484C CHOA CHU KANG AVENUE 5', '297C CHOA CHU KANG AVENUE 2', '155 JALAN TECK WHYE', '7 TECK WHYE AVENUE', '526 CHOA CHU KANG STREET 51', '108 TECK WHYE LANE', '235 CHOA CHU KANG CENTRAL', '109 TECK WHYE LANE', '203 CHOA CHU KANG AVENUE 1', '557 CHOA CHU KANG NORTH 6', '436 CHOA CHU KANG AVENUE 4', '306 CLEMENTI AVENUE 4', '304 CLEMENTI AVENUE 4', '326 CLEMENTI AVENUE 5', '703 WEST COAST ROAD', '381 CLEMENTI AVENUE 5', '417 CLEMENTI AVENUE 1', '118 CLEMENTI STREET 13', '111 CLEMENTI STREET 13', '85 CIRCUIT ROAD', '20 EUNOS CRESCENT', '329 UBI AVENUE 1', '9 EUNOS CRESCENT', '32 EUNOS CRESCENT', '47 JALAN TIGA', '51 SIMS DRIVE', '29 BALAM ROAD', '33 BALAM ROAD', '846 SIMS AVENUE', '132 GEYLANG EAST AVENUE 1', '341 HOUGANG AVENUE 7', '254 HOUGANG AVENUE 3', '909 HOUGANG STREET 91', '418 HOUGANG AVENUE 8', '939 HOUGANG STREET 92', '950 HOUGANG STREET 91', '133 LORONG AH SOO', '444 HOUGANG AVENUE 8', '565 HOUGANG STREET 51', '137 LORONG AH SOO', '439 HOUGANG AVENUE 8', '234 HOUGANG AVENUE 1', '973 HOUGANG STREET 91', '945 HOUGANG STREET 92', '533 HOUGANG AVENUE 6', '54 TEBAN GARDENS ROAD', '102 JURONG EAST STREET 13', '47 TEBAN GARDENS ROAD', '275 TOH GUAN ROAD', '266 TOH GUAN ROAD', '404 PANDAN GARDENS', '263 JURONG EAST STREET 24', '413 PANDAN GARDENS', '309 JURONG EAST STREET 32', '106 JURONG EAST STREET 13', '440 JURONG WEST AVENUE 1', '502 JURONG WEST AVENUE 1', '534 JURONG WEST STREET 52', '495 JURONG WEST STREET 41', '823 JURONG WEST STREET 81', '921 JURONG WEST STREET 92', '527 JURONG WEST STREET 52', '557 JURONG WEST STREET 42', '731 JURONG WEST STREET 72', '152 YUNG HO ROAD', '457 JURONG WEST STREET 41', '490 JURONG WEST AVENUE 1', '650C JURONG WEST STREET 61', '337B TAH CHING ROAD', '661B JURONG WEST STREET 64', '988B JURONG WEST STREET 93', '622 JURONG WEST STREET 61', '658D JURONG WEST STREET 65', '673B JURONG WEST STREET 65', '637 JURONG WEST STREET 61', '625 JURONG WEST STREET 61', '662A JURONG WEST STREET 64', '611 JURONG WEST STREET 65', '860 JURONG WEST STREET 81', '162 YUNG PING ROAD', '689 JURONG WEST CENTRAL 1', '77 LORONG LIMAU', '45 BENDEMEER ROAD', '23 BENDEMEER ROAD', '463 CRAWFORD LANE', \"6 SAINT GEORGE'S LANE\", '19 JALAN TENTERAM', '44 OWEN ROAD', '48 BENDEMEER ROAD', '47 MARINE CRESCENT', '67 MARINE DRIVE', '76 MARINE DRIVE', '254 PASIR RIS STREET 21', '772 PASIR RIS STREET 71', '450 PASIR RIS DRIVE 6', '758 PASIR RIS STREET 71', '485 PASIR RIS DRIVE 4', '472 PASIR RIS DRIVE 6', '415 PASIR RIS DRIVE 6', '551 PASIR RIS STREET 51', '708 PASIR RIS DRIVE 10', '556 PASIR RIS STREET 51', '160 PASIR RIS STREET 13', '206 PASIR RIS STREET 21', '136 PASIR RIS STREET 11', '250 PASIR RIS STREET 21', '717 PASIR RIS STREET 72', '603 ELIAS ROAD', '457 PASIR RIS DRIVE 4', '235 PASIR RIS STREET 21', '585 PASIR RIS STREET 53', '623B PUNGGOL CENTRAL', '161A PUNGGOL CENTRAL', '174C EDGEDALE PLAINS', '167C PUNGGOL EAST', '195A PUNGGOL ROAD', '109A EDGEDALE PLAINS', '172B EDGEDALE PLAINS', '201B PUNGGOL FIELD', '175B PUNGGOL FIELD', '162A PUNGGOL CENTRAL', '110A PUNGGOL FIELD', '107D EDGEFIELD PLAINS', '115 EDGEFIELD PLAINS', '93 COMMONWEALTH DRIVE', '99 COMMONWEALTH CRESCENT', '32 HOLLAND CLOSE', '158 MEI LING STREET', '42 HOLLAND DRIVE', '62B STRATHMORE AVENUE', '52 COMMONWEALTH DRIVE', '48 STRATHMORE AVENUE', '22 DOVER CRESCENT', '148 MEI LING STREET', '405 ADMIRALTY LINK', '480 SEMBAWANG DRIVE', '475 SEMBAWANG DRIVE', '467A ADMIRALTY DRIVE', '466D SEMBAWANG DRIVE', '354C ADMIRALTY DRIVE', '359 ADMIRALTY DRIVE', '328 SEMBAWANG CRESCENT', '504C CANBERRA LINK', '418 CANBERRA ROAD', '340A SEMBAWANG CLOSE', '305 CANBERRA ROAD', '354B ADMIRALTY DRIVE', '359B ADMIRALTY DRIVE', '447B JALAN KAYU', '247 COMPASSVALE ROAD', '204A COMPASSVALE DRIVE', '249 COMPASSVALE ROAD', '117A RIVERVALE DRIVE', '269D COMPASSVALE LINK', '269B COMPASSVALE LINK', '231 COMPASSVALE WALK', '145 RIVERVALE DRIVE', '186B RIVERVALE DRIVE', '200D SENGKANG EAST ROAD', '226B COMPASSVALE WALK', '206B COMPASSVALE LANE', '318B ANCHORVALE LINK', '290C COMPASSVALE CRESCENT', '207C COMPASSVALE LANE', '325C SENGKANG EAST WAY', '291C COMPASSVALE STREET', '202B SENGKANG EAST ROAD', '237 SERANGOON AVENUE 3', '151 SERANGOON NORTH AVENUE 2', '541 SERANGOON NORTH AVENUE 4', '509 SERANGOON NORTH AVENUE 4', '229 SERANGOON AVENUE 4', '7 LORONG LEW LIAN', '332 SERANGOON AVENUE 3', '534 SERANGOON NORTH AVENUE 4', '121 SERANGOON NORTH AVENUE 1', '256 SERANGOON CENTRAL DRIVE', '506A SERANGOON NORTH AVENUE 4', '236A SERANGOON AVENUE 2', '829 TAMPINES STREET 81', '824 TAMPINES STREET 81', '277 TAMPINES STREET 22', '813 TAMPINES STREET 81', '807 TAMPINES AVENUE 4', '231 TAMPINES STREET 21', '250 TAMPINES STREET 21', '340 TAMPINES STREET 33', '351 TAMPINES STREET 33', '345 TAMPINES STREET 33', '834 TAMPINES STREET 82', '138 SIMEI STREET 1', '876 TAMPINES STREET 84', '845 TAMPINES STREET 83', '735 TAMPINES STREET 72', '863A TAMPINES STREET 83', '450A TAMPINES STREET 42', '861A TAMPINES AVENUE 5', '286 TAMPINES STREET 22', '141 TAMPINES STREET 12', '864 TAMPINES STREET 83', '936 TAMPINES AVENUE 5', '162 SIMEI ROAD', '508 TAMPINES CENTRAL 1', '494C TAMPINES STREET 43', '496D TAMPINES AVENUE 9', '230B TAMPINES STREET 24', '804 TAMPINES AVENUE 4', '381 TAMPINES STREET 32', '842C TAMPINES STREET 82', '168D SIMEI LANE', '739 TAMPINES STREET 72', '498D TAMPINES STREET 45', '495E TAMPINES STREET 43', '230F TAMPINES STREET 24', '230G TAMPINES STREET 21', '331 TAMPINES STREET 32', '245 TAMPINES STREET 21', '147 SIMEI STREET 2', '4 LORONG 7 TOA PAYOH', '159 LORONG 1 TOA PAYOH', '107 POTONG PASIR AVENUE 1', '138C LORONG 1A TOA PAYOH', '202 TOA PAYOH NORTH', '175 LORONG 2 TOA PAYOH', '84A LORONG 2 TOA PAYOH', '244 KIM KEAT LINK', '86 LORONG 2 TOA PAYOH', '140 POTONG PASIR AVENUE 3', '139B LORONG 1A TOA PAYOH', '127 POTONG PASIR AVENUE 1', '16 MARSILING LANE', '149 WOODLANDS STREET 13', '319 WOODLANDS STREET 31', '27 MARSILING DRIVE', '347 WOODLANDS AVENUE 3', '689A WOODLANDS DRIVE 75', '750 WOODLANDS AVENUE 4', '335 WOODLANDS STREET 32', '150 WOODLANDS STREET 13', '123 MARSILING RISE', '688E WOODLANDS DRIVE 75', '164 WOODLANDS STREET 13', '870 WOODLANDS STREET 81', '721 WOODLANDS CIRCLE', '874 WOODLANDS STREET 82', '690B WOODLANDS DRIVE 75', '163 WOODLANDS STREET 13', '684A WOODLANDS DRIVE 73', '718 WOODLANDS AVENUE 6', '37 MARSILING DRIVE', '622 WOODLANDS DRIVE 52', '349 WOODLANDS AVENUE 3', '763 WOODLANDS AVENUE 6', '545 WOODLANDS DRIVE 16', '685C WOODLANDS DRIVE 73', '864 WOODLANDS STREET 83', '625A WOODLANDS DRIVE 52', '788D WOODLANDS CRESCENT', '636 WOODLANDS RING ROAD', '356 WOODLANDS AVENUE 5', '805 WOODLANDS STREET 81', '303 WOODLANDS STREET 31', '820 WOODLANDS STREET 82', '135 YISHUN STREET 11', '115 YISHUN RING ROAD', '803 YISHUN RING ROAD', '283 YISHUN AVENUE 6', '136 YISHUN RING ROAD', '807 YISHUN RING ROAD', '173 YISHUN AVENUE 7', '715 YISHUN STREET 71', '278 YISHUN STREET 22', '790 YISHUN AVENUE 2', '755 YISHUN STREET 72', '757 YISHUN STREET 72', '247 YISHUN AVENUE 9', '280 YISHUN STREET 22', '218 YISHUN STREET 21', '810 YISHUN RING ROAD', '324 YISHUN CENTRAL', '611 YISHUN STREET 61', '650 YISHUN AVENUE 4', '232 ANG MO KIO AVENUE 3', '587 ANG MO KIO AVENUE 3', '506 ANG MO KIO AVENUE 8', '421 ANG MO KIO AVENUE 10', '231 ANG MO KIO AVENUE 3', '226 ANG MO KIO AVENUE 1', '609 ANG MO KIO AVENUE 4', '307A ANG MO KIO AVENUE 1', '401 ANG MO KIO AVENUE 10', '460 ANG MO KIO AVENUE 10', '102 BEDOK NORTH AVENUE 4', '88 BEDOK NORTH STREET 4', '702 BEDOK RESERVOIR ROAD', '410 BEDOK NORTH AVENUE 2', '704 BEDOK RESERVOIR ROAD', '213 BEDOK NORTH STREET 1', '61 CHAI CHEE ROAD', '123 BEDOK RESERVOIR ROAD', '63 NEW UPPER CHANGI ROAD', '671 JALAN DAMAI', '411 BEDOK NORTH AVENUE 2', '762 BEDOK RESERVOIR VIEW', '159 BEDOK SOUTH AVENUE 3', '25 CHAI CHEE ROAD', '115 LENGKONG TIGA', '53 CHAI CHEE STREET', '774 BEDOK RESERVOIR VIEW', '172 BEDOK SOUTH ROAD', '773 BEDOK RESERVOIR VIEW', '406 BEDOK NORTH AVENUE 3', '54 NEW UPPER CHANGI ROAD', '11 CHAI CHEE ROAD', '717 BEDOK RESERVOIR ROAD', '112 LENGKONG TIGA', '10D BEDOK SOUTH AVENUE 2', '25 SIN MING ROAD', '449 SIN MING AVENUE', '155 BISHAN STREET 13', '248 BISHAN STREET 22', '270 BISHAN STREET 24', '269 BISHAN STREET 24', '259 BISHAN STREET 22', '232 BISHAN STREET 22', '285 BISHAN STREET 22', '212 BISHAN STREET 23', '301 SHUNFU ROAD', '139 BUKIT BATOK WEST AVENUE 6', '264 BUKIT BATOK EAST AVENUE 4', '317 BUKIT BATOK STREET 32', '531 BUKIT BATOK STREET 51', '263 BUKIT BATOK EAST AVENUE 4', '209 BUKIT BATOK STREET 21', '172 BUKIT BATOK WEST AVENUE 8', '214 BUKIT BATOK STREET 21', '107 JALAN BUKIT MERAH', '132 JALAN BUKIT MERAH', '77 INDUS ROAD', '34 TELOK BLANGAH WAY', '56 TELOK BLANGAH HEIGHTS', '17A TELOK BLANGAH CRESCENT', '135 JALAN BUKIT MERAH', '83 REDHILL LANE', '27B JALAN MEMBINA', '139 JALAN BUKIT MERAH', '115 PENDING ROAD', '207 PETIR ROAD', '475 SEGAR ROAD', '148 GANGSA ROAD', '255 BANGKIT ROAD', '412 SAUJANA ROAD', '251 BANGKIT ROAD', '259 BUKIT PANJANG RING ROAD', '252 BANGKIT ROAD', '530 JELAPANG ROAD', '540 JELAPANG ROAD', '442 FAJAR ROAD', '451 FAJAR ROAD', '614 SENJA ROAD', '146 GANGSA ROAD', '480 SEGAR ROAD', '535 BUKIT PANJANG RING ROAD', '426 FAJAR ROAD', '655 SENJA ROAD', '9 SELEGIE ROAD', '263 WATERLOO STREET', '671A KLANG LANE', '639 ROWELL ROAD', '535 CHOA CHU KANG STREET 51', '288 CHOA CHU KANG AVENUE 3', '464 CHOA CHU KANG AVENUE 4', '675 CHOA CHU KANG CRESCENT', '205 CHOA CHU KANG CENTRAL', '58 CIRCUIT ROAD', '469 CHOA CHU KANG AVENUE 3', '761 CHOA CHU KANG NORTH 5', '762 CHOA CHU KANG NORTH 5', '769 CHOA CHU KANG STREET 54', '431 CHOA CHU KANG AVENUE 4', '610 CHOA CHU KANG STREET 62', '616 CHOA CHU KANG STREET 62', '14 TECK WHYE LANE', '485D CHOA CHU KANG AVENUE 5', '354 CHOA CHU KANG CENTRAL', '503 CHOA CHU KANG STREET 51', '671A CHOA CHU KANG CRESCENT', '417 CHOA CHU KANG AVENUE 4', '560 CHOA CHU KANG NORTH 6', '292 CHOA CHU KANG AVENUE 3', '367 CLEMENTI AVENUE 2', '429 CLEMENTI AVENUE 3', '318 CLEMENTI AVENUE 4', '201 CLEMENTI AVENUE 6', '32 BALAM ROAD', '17 EUNOS CRESCENT', '54 CASSIA CRESCENT', '42 CASSIA CRESCENT', '35 CIRCUIT ROAD', '346 UBI AVENUE 1', '327 UBI AVENUE 1', '44 SIMS DRIVE', '323 UBI AVENUE 1', '31 BALAM ROAD', '105 ALJUNIED CRESCENT', '126 GEYLANG EAST AVENUE 1', '322 UBI AVENUE 1', '126 ALJUNIED ROAD', '6 HAIG ROAD', '62 DAKOTA CRESCENT', '334 UBI AVENUE 1', '632 HOUGANG AVENUE 8', '7 HOUGANG AVENUE 3', '658 HOUGANG AVENUE 8', '23 HOUGANG AVENUE 3', '689 HOUGANG STREET 61', '662 HOUGANG AVENUE 4', '627 HOUGANG AVENUE 8', '636 HOUGANG AVENUE 8', '970 HOUGANG STREET 91', '510 HOUGANG AVENUE 10', '981B BUANGKOK CRESCENT', '516 HOUGANG AVENUE 10', '18 HOUGANG AVENUE 3', '540 HOUGANG AVENUE 8', '831 HOUGANG CENTRAL', '453 HOUGANG AVENUE 10', '170 HOUGANG AVENUE 1', '405 HOUGANG AVENUE 10', '370 HOUGANG STREET 31', '320 HOUGANG AVENUE 5', '985B BUANGKOK CRESCENT', '913 HOUGANG STREET 91', '979B BUANGKOK CRESCENT', '964 HOUGANG AVENUE 9', '576 HOUGANG AVENUE 4', '521 HOUGANG AVENUE 6', '129 LORONG AH SOO', '122 HOUGANG AVENUE 1', '312 HOUGANG AVENUE 5', '853 HOUGANG CENTRAL', '215A JURONG EAST STREET 21', '208 JURONG EAST STREET 21', '20 TEBAN GARDENS ROAD', '340 JURONG EAST AVENUE 1', '288D JURONG EAST STREET 21', '286D TOH GUAN ROAD', '327 JURONG EAST STREET 31', '323 JURONG EAST STREET 31', '287B JURONG EAST STREET 21', '114 HO CHING ROAD', '473 JURONG WEST STREET 41', '536 JURONG WEST STREET 52', '414 JURONG WEST STREET 42', '944 JURONG WEST STREET 91', '922 JURONG WEST STREET 92', '717 JURONG WEST STREET 71', '923 JURONG WEST STREET 92', '977 JURONG WEST STREET 93', '554 JURONG WEST STREET 42', '465 JURONG WEST STREET 41', '546 JURONG WEST STREET 42', '642 JURONG WEST STREET 61', '350 CORPORATION DRIVE', '691 JURONG WEST CENTRAL 1', '913 JURONG WEST STREET 91', '272B JURONG WEST STREET 24', '849 JURONG WEST STREET 81', '675A JURONG WEST STREET 64', '667C JURONG WEST STREET 65', '986A JURONG WEST STREET 93', '987B JURONG WEST STREET 93', '989A JURONG WEST STREET 93', '529 JURONG WEST STREET 52', '682B JURONG WEST CENTRAL 1', '405 JURONG WEST STREET 42', '859 JURONG WEST STREET 81', '331 TAH CHING ROAD', '669D JURONG WEST STREET 64', '334 KANG CHING ROAD', '82 WHAMPOA DRIVE', '97 WHAMPOA DRIVE', \"2 SAINT GEORGE'S ROAD\", \"14 SAINT GEORGE'S ROAD\", '38B BENDEMEER ROAD', '467 NORTH BRIDGE ROAD', \"806 KING GEORGE'S AVENUE\", '26 BENDEMEER ROAD', '28 BENDEMEER ROAD', \"23 SAINT GEORGE'S ROAD\", '15 UPPER BOON KENG ROAD', '15 FARRER PARK ROAD', '114 WHAMPOA ROAD', '38 CAMBRIDGE ROAD', '101 AH HOOD ROAD', '106 JALAN RAJAH', '6 MARINE TERRACE', '14 MARINE TERRACE', '150 PASIR RIS STREET 13', '446 PASIR RIS DRIVE 6', '762 PASIR RIS STREET 71', '749 PASIR RIS STREET 71', '451 PASIR RIS DRIVE 6', '214 PASIR RIS STREET 21', '569 PASIR RIS STREET 51', '193 PASIR RIS STREET 12', '143 PASIR RIS STREET 11', '145 PASIR RIS STREET 11', '776 PASIR RIS STREET 71', '275 PASIR RIS STREET 21', '272 PASIR RIS STREET 21', '740 PASIR RIS STREET 71', '244 PASIR RIS STREET 21', '463 PASIR RIS STREET 41', '601 ELIAS ROAD', '128 PASIR RIS STREET 11', '537 PASIR RIS STREET 51', '459 PASIR RIS DRIVE 4', '466 PASIR RIS STREET 41', '586 PASIR RIS STREET 53', '635B PUNGGOL DRIVE', '110C PUNGGOL FIELD', '195C PUNGGOL ROAD', '168A PUNGGOL EAST', '169B PUNGGOL FIELD', '168C PUNGGOL FIELD', '168D PUNGGOL FIELD', '106D PUNGGOL FIELD', '128C PUNGGOL FIELD WALK', '107B EDGEFIELD PLAINS', '202B PUNGGOL FIELD', '642B PUNGGOL DRIVE', '271B PUNGGOL WALK', '87 COMMONWEALTH CLOSE', '21 DOVER CRESCENT', '19 DOVER CRESCENT', '5 HOLLAND CLOSE', \"19 QUEEN'S CLOSE\", '129 CLARENCE LANE', '82 STRATHMORE AVENUE', '589D MONTREAL DRIVE', '302 CANBERRA ROAD', '436D FERNVALE ROAD', '406B FERNVALE ROAD', '264C COMPASSVALE BOW', '187B RIVERVALE DRIVE', '309A ANCHORVALE ROAD', '124 RIVERVALE DRIVE', '246 COMPASSVALE ROAD', '253 COMPASSVALE STREET', '311B ANCHORVALE LANE', '134 RIVERVALE STREET', '254 COMPASSVALE ROAD', '291B COMPASSVALE STREET', '116A RIVERVALE DRIVE', '403A FERNVALE LANE', '259C COMPASSVALE ROAD', '204B COMPASSVALE DRIVE', '103 RIVERVALE WALK', '147 RIVERVALE CRESCENT', '136 RIVERVALE STREET', '106 SERANGOON NORTH AVENUE 1', '535A SERANGOON NORTH AVENUE 4', '546 SERANGOON NORTH AVENUE 3', '245 SERANGOON AVENUE 2', '6 LORONG LEW LIAN', '414 SERANGOON CENTRAL', '427 SERANGOON CENTRAL', '523 SERANGOON NORTH AVENUE 4', '213 SERANGOON AVENUE 4', '333 SERANGOON AVENUE 3', '138 SERANGOON NORTH AVENUE 2', '223 TAMPINES STREET 24', '407 TAMPINES STREET 41', '291 TAMPINES STREET 22', '446 TAMPINES STREET 42', '451 TAMPINES STREET 42', '319 TAMPINES STREET 33', '856 TAMPINES STREET 82', '867 TAMPINES STREET 83', '708 TAMPINES STREET 71', '927 TAMPINES STREET 91', '498A TAMPINES STREET 45', '705 TAMPINES STREET 71', '909 TAMPINES AVENUE 4', '902 TAMPINES AVENUE 4', '278 TAMPINES STREET 22', '294 TAMPINES STREET 22', '154 SIMEI STREET 1', '289 TAMPINES STREET 22', '449 TAMPINES STREET 42', '926 TAMPINES STREET 91', '498H TAMPINES STREET 45', '373 TAMPINES STREET 34', '127 TAMPINES STREET 11', '497A TAMPINES STREET 45', '394 TAMPINES AVENUE 7', '230C TAMPINES STREET 24', '727 TAMPINES STREET 71', '145 SIMEI STREET 2', '518C TAMPINES CENTRAL 7', '148 TAMPINES AVENUE 5', '889 TAMPINES STREET 81', '431 TAMPINES STREET 41', '310 TAMPINES STREET 32', '893 TAMPINES AVENUE 8', '863 TAMPINES STREET 83', '94 LORONG 4 TOA PAYOH', '4 UPPER ALJUNIED LANE', '2 UPPER ALJUNIED LANE', '231 LORONG 8 TOA PAYOH', '126 LORONG 1 TOA PAYOH', '174 LORONG 1 TOA PAYOH', '249 KIM KEAT LINK', '250 KIM KEAT LINK', '82 LORONG 4 TOA PAYOH', '138 POTONG PASIR AVENUE 3', '84 LORONG 2 TOA PAYOH', '80A LORONG 4 TOA PAYOH', '217 LORONG 8 TOA PAYOH', '215 LORONG 8 TOA PAYOH', '216 LORONG 8 TOA PAYOH', '50 LORONG 5 TOA PAYOH', '172 LORONG 1 TOA PAYOH', '151 WOODLANDS STREET 13', '570A WOODLANDS AVENUE 1', '570B WOODLANDS AVENUE 1', '748 WOODLANDS CIRCLE', '756 WOODLANDS AVENUE 4', '645 WOODLANDS RING ROAD', '664 WOODLANDS RING ROAD', '630 WOODLANDS RING ROAD', '736 WOODLANDS CIRCLE', '602 WOODLANDS DRIVE 42', '344 WOODLANDS STREET 32', '896B WOODLANDS DRIVE 50', '682D WOODLANDS DRIVE 73', '679 WOODLANDS AVENUE 6', '517 WOODLANDS DRIVE 14', '681B WOODLANDS DRIVE 62', '410 WOODLANDS STREET 41', '746 WOODLANDS CIRCLE', '897A WOODLANDS DRIVE 50', '417 WOODLANDS STREET 41', '683A WOODLANDS DRIVE 62', '762 WOODLANDS AVENUE 6', '770 WOODLANDS DRIVE 60', '747 WOODLANDS CIRCLE', '301 WOODLANDS STREET 31', '891B WOODLANDS DRIVE 50', '868 WOODLANDS STREET 83', '646 WOODLANDS RING ROAD', '341 WOODLANDS AVENUE 1', '848 WOODLANDS STREET 82', '342 WOODLANDS AVENUE 1', '803 WOODLANDS STREET 81', '832 WOODLANDS STREET 83', '705 YISHUN AVENUE 5', '353 YISHUN RING ROAD', '274 YISHUN STREET 22', '708 YISHUN AVENUE 5', '141 YISHUN RING ROAD', '112 YISHUN RING ROAD', '227 YISHUN STREET 21', '128 YISHUN STREET 11', '744 YISHUN STREET 72', '739 YISHUN AVENUE 5', '224 YISHUN STREET 21', '211 YISHUN STREET 21', '327 YISHUN RING ROAD', '284 YISHUN AVENUE 6', '286 YISHUN AVENUE 6', '244 YISHUN RING ROAD', '870 YISHUN STREET 81', '350 YISHUN AVENUE 11', '788 YISHUN AVENUE 2', '448 YISHUN RING ROAD', '749 YISHUN STREET 72', '844 YISHUN STREET 81', '413 YISHUN RING ROAD', '223 YISHUN STREET 21', '298 YISHUN STREET 20', '854 YISHUN RING ROAD', '299 YISHUN STREET 20', '851 YISHUN STREET 81', '795 YISHUN RING ROAD', '359 YISHUN RING ROAD', '606 YISHUN STREET 61', '723 YISHUN STREET 71', '664 YISHUN AVENUE 4', '474 ANG MO KIO AVENUE 10', '550 ANG MO KIO AVENUE 10', '331 ANG MO KIO AVENUE 1', '348 ANG MO KIO AVENUE 3', '538 ANG MO KIO AVENUE 5', '113 ANG MO KIO AVENUE 4', '179 ANG MO KIO AVENUE 5', '414 ANG MO KIO AVENUE 10', '337 ANG MO KIO AVENUE 1', '132 ANG MO KIO AVENUE 3', '504 ANG MO KIO AVENUE 8', '618 BEDOK RESERVOIR ROAD', '76 BEDOK NORTH ROAD', '121 BEDOK RESERVOIR ROAD', '537 BEDOK NORTH STREET 3', '138 BEDOK NORTH STREET 2', '84 BEDOK NORTH STREET 4', '70 BEDOK SOUTH ROAD', '33 BEDOK SOUTH AVENUE 2', '40 BEDOK SOUTH ROAD', '53 NEW UPPER CHANGI ROAD', '133 BEDOK RESERVOIR ROAD', '118 BEDOK RESERVOIR ROAD', '56 CHAI CHEE DRIVE', '623 BEDOK RESERVOIR ROAD', '112 BEDOK NORTH ROAD', '427 BEDOK NORTH ROAD', '131 BEDOK NORTH AVENUE 3', '769 BEDOK RESERVOIR VIEW', '605 BEDOK RESERVOIR ROAD', '621 BEDOK RESERVOIR ROAD', '66 BEDOK SOUTH AVENUE 3', '417 BEDOK NORTH AVENUE 2', '220C BEDOK CENTRAL', '634 BEDOK RESERVOIR ROAD', '154 BISHAN STREET 13', '185 BISHAN STREET 13', '446 BRIGHT HILL DRIVE', '271 BISHAN STREET 24', '502 BISHAN STREET 11', '130 BISHAN STREET 12', '506 BISHAN STREET 11', '408 SIN MING AVENUE', '222 BISHAN STREET 23', '453 SIN MING AVENUE', '371 BUKIT BATOK STREET 31', '322 BUKIT BATOK STREET 33', '307 BUKIT BATOK STREET 31', '268 BUKIT BATOK EAST AVENUE 4', '335 BUKIT BATOK STREET 32', '237 BUKIT BATOK EAST AVENUE 5', '527 BUKIT BATOK STREET 51', '298 BUKIT BATOK STREET 22', '290B BUKIT BATOK STREET 24', '125 BUKIT BATOK CENTRAL', '289B BUKIT BATOK STREET 25', '47 TELOK BLANGAH DRIVE', '102 BUKIT PURMEI ROAD', '32 JALAN BUKIT HO SWEE', '4 DELTA AVENUE', '2A BOON TIONG ROAD', '140 JALAN BUKIT MERAH', '37 TELOK BLANGAH RISE', '66 TELOK BLANGAH DRIVE', '95 HAVELOCK ROAD', '81 REDHILL LANE', '82 REDHILL LANE', '2C BOON TIONG ROAD', '8 KIM TIAN PLACE', '125 PENDING ROAD', '529 JELAPANG ROAD', '633D SENJA ROAD', '175 LOMPANG ROAD', '164 GANGSA ROAD', '211 PETIR ROAD', '620 BUKIT PANJANG RING ROAD', '604 SENJA ROAD', '453 FAJAR ROAD', '138 PETIR ROAD', '651 SENJA LINK', '532 JELAPANG ROAD', '19 TOH YI DRIVE', '10 SELEGIE ROAD', '30 KELANTAN ROAD', '7 TANJONG PAGAR PLAZA', '105 TECK WHYE LANE', '440 CHOA CHU KANG AVENUE 4', '297D CHOA CHU KANG AVENUE 2', '426 CHOA CHU KANG AVENUE 4', '202 CHOA CHU KANG AVENUE 1', '684C CHOA CHU KANG CRESCENT', '447 CHOA CHU KANG AVENUE 4', '672 CHOA CHU KANG CRESCENT', '5 TECK WHYE AVENUE', '705 CHOA CHU KANG STREET 53', '443 CHOA CHU KANG AVENUE 4', '767 CHOA CHU KANG STREET 54', '433 CHOA CHU KANG AVENUE 4', '763 CHOA CHU KANG NORTH 5', '12 TECK WHYE LANE', '567 CHOA CHU KANG STREET 52', '159 JALAN TECK WHYE', '619 CHOA CHU KANG NORTH 7', '420 CHOA CHU KANG AVENUE 4', '757 CHOA CHU KANG NORTH 5', '505 WEST COAST DRIVE', '319 CLEMENTI AVENUE 4', '601 CLEMENTI WEST STREET 1', '708 CLEMENTI WEST STREET 2', '206 CLEMENTI AVENUE 6', '58 DAKOTA CRESCENT', '112 ALJUNIED CRESCENT', '318 UBI AVENUE 1', '56 CASSIA CRESCENT', '14 EUNOS CRESCENT', '23 EUNOS CRESCENT', '28 BALAM ROAD', '247 HOUGANG AVENUE 3', '333 HOUGANG AVENUE 5', '507 HOUGANG AVENUE 8', '169 HOUGANG AVENUE 1', '555 HOUGANG STREET 51', '334 HOUGANG AVENUE 5', '543 HOUGANG AVENUE 8', '549 HOUGANG STREET 51', '422 HOUGANG AVENUE 6', '463 HOUGANG AVENUE 10', '832 HOUGANG CENTRAL', '325 HOUGANG AVENUE 7', '984C BUANGKOK LINK', '936 HOUGANG STREET 92', '707 HOUGANG AVENUE 2', '249 HOUGANG AVENUE 3', '579 HOUGANG AVENUE 4', '698C HOUGANG STREET 52', '43 TEBAN GARDENS ROAD', '304 JURONG EAST STREET 32', '41 TEBAN GARDENS ROAD', '218 JURONG EAST STREET 21', '491 JURONG WEST AVENUE 1', '947 JURONG WEST STREET 91', '538 JURONG WEST AVENUE 1', '156 YUNG LOH ROAD', '403 JURONG WEST STREET 42', '177 YUNG SHENG ROAD', '260 BOON LAY DRIVE', '357 YUNG AN ROAD', '266 BOON LAY DRIVE', '667A JURONG WEST STREET 65', '649B JURONG WEST STREET 61', '265 BOON LAY DRIVE', '650A JURONG WEST STREET 61', '664D JURONG WEST STREET 64', '603 JURONG WEST STREET 62', '275B JURONG WEST STREET 25', '817 JURONG WEST STREET 81', '639 JURONG WEST STREET 61', '679B JURONG WEST CENTRAL 1', '522 JURONG WEST STREET 52', '549 JURONG WEST STREET 42', '912 JURONG WEST STREET 91', '626 JURONG WEST STREET 65', '828 JURONG WEST STREET 81', '680A JURONG WEST CENTRAL 1', '679A JURONG WEST CENTRAL 1', '102 TOWNER ROAD', \"54 JALAN MA'MOR\", '101 WHAMPOA DRIVE', '112 MCNAIR ROAD', '2C UPPER BOON KENG ROAD', '54 KENT ROAD', '816 JELLICOE ROAD', '59 MARINE TERRACE', '700 PASIR RIS DRIVE 10', '702 PASIR RIS DRIVE 10', '628 PASIR RIS DRIVE 3', '192 PASIR RIS STREET 12', '425 PASIR RIS DRIVE 6', '517 PASIR RIS STREET 52', '205 PASIR RIS STREET 21', '645 PASIR RIS DRIVE 10', '460 PASIR RIS DRIVE 4', '249 PASIR RIS STREET 21', '622A PUNGGOL CENTRAL', '105B EDGEFIELD PLAINS', '632B PUNGGOL DRIVE', '167D PUNGGOL EAST', '617A PUNGGOL DRIVE', '126D EDGEDALE PLAINS', '175C PUNGGOL FIELD', '204C PUNGGOL FIELD', '103C EDGEFIELD PLAINS', '21 GHIM MOH ROAD', '30A HOLLAND CLOSE', '20 HOLLAND DRIVE', '513 WELLINGTON CIRCLE', '351A CANBERRA ROAD', '313 SEMBAWANG DRIVE', '155 RIVERVALE CRESCENT', '321B ANCHORVALE DRIVE', '144 RIVERVALE DRIVE', '403C FERNVALE LANE', '124A RIVERVALE DRIVE', '305C ANCHORVALE LINK', '206C COMPASSVALE LANE', '119D RIVERVALE DRIVE', '205B COMPASSVALE LANE', '124 SERANGOON NORTH AVENUE 1', '209 SERANGOON CENTRAL', '146 SERANGOON NORTH AVENUE 1', '514 SERANGOON NORTH AVENUE 4', '236 SERANGOON AVENUE 3', '238 SERANGOON AVENUE 2', '242 SERANGOON AVENUE 3', '243 SERANGOON AVENUE 2', '415 SERANGOON CENTRAL', '422 SERANGOON CENTRAL', '148 SERANGOON NORTH AVENUE 1', '520 SERANGOON NORTH AVENUE 4', '204 TAMPINES STREET 21', '413 TAMPINES STREET 41', '822 TAMPINES STREET 81', '225 TAMPINES STREET 23', '899A TAMPINES STREET 81', '276 TAMPINES STREET 22', '866 TAMPINES STREET 83', '709 TAMPINES STREET 71', '854 TAMPINES STREET 82', '392 TAMPINES AVENUE 7', '865 TAMPINES STREET 83', '414 TAMPINES STREET 41', '492D TAMPINES STREET 45', '461 TAMPINES STREET 44', '387 TAMPINES STREET 32', '223 SIMEI STREET 4', '334 TAMPINES STREET 32', '428 TAMPINES STREET 41', '942 TAMPINES AVENUE 5', '858 TAMPINES AVENUE 5', '235 LORONG 8 TOA PAYOH', '173 LORONG 1 TOA PAYOH', '44 LORONG 5 TOA PAYOH', '6 LORONG 7 TOA PAYOH', '153 LORONG 2 TOA PAYOH', '310 WOODLANDS STREET 31', '5 MARSILING DRIVE', '831 WOODLANDS STREET 83', '205 MARSILING DRIVE', '626 WOODLANDS AVENUE 6', '775 WOODLANDS CRESCENT', '104 WOODLANDS STREET 13', '527 WOODLANDS DRIVE 14', '729 WOODLANDS CIRCLE', '689C WOODLANDS DRIVE 75', '731 WOODLANDS CIRCLE', '605 WOODLANDS DRIVE 42', '639 WOODLANDS RING ROAD', '895B WOODLANDS DRIVE 50', '898B WOODLANDS DRIVE 50', '556 WOODLANDS DRIVE 53', '677 WOODLANDS AVENUE 6', '684D WOODLANDS DRIVE 73', '786C WOODLANDS DRIVE 60', '741 WOODLANDS CIRCLE', '663 WOODLANDS RING ROAD', '634 WOODLANDS RING ROAD', '170 WOODLANDS STREET 11', '861 WOODLANDS STREET 83', '571A WOODLANDS AVENUE 1', '175 WOODLANDS STREET 13', '583 WOODLANDS DRIVE 16', '788C WOODLANDS CRESCENT', '114 MARSILING RISE', '404 WOODLANDS STREET 41', '228 YISHUN STREET 21', '719 YISHUN STREET 71', '119 YISHUN RING ROAD', '152 YISHUN STREET 11', '781 YISHUN RING ROAD', '735 YISHUN STREET 72', '304 YISHUN CENTRAL', '253 YISHUN RING ROAD', '276 YISHUN STREET 22', '410 YISHUN RING ROAD', '604 YISHUN STREET 61', '805 YISHUN RING ROAD', '798 YISHUN RING ROAD', '930 YISHUN CENTRAL 1', '622 YISHUN RING ROAD', '416 YISHUN AVENUE 11', '633 YISHUN STREET 61', '451 ANG MO KIO AVENUE 10', '606 ANG MO KIO AVENUE 5', '549 ANG MO KIO AVENUE 10', '433 ANG MO KIO AVENUE 10', '462 ANG MO KIO AVENUE 10', '505 ANG MO KIO AVENUE 8', '604 ANG MO KIO AVENUE 5', '436 ANG MO KIO AVENUE 10', '551 BEDOK NORTH AVENUE 1', '129 BEDOK NORTH STREET 2', '205 BEDOK NORTH STREET 1', '44 CHAI CHEE STREET', '219A BEDOK CENTRAL', '119 BEDOK RESERVOIR ROAD', '128 BEDOK RESERVOIR ROAD', '6 BEDOK SOUTH AVENUE 2', '706 BEDOK NORTH ROAD', '543 BEDOK NORTH STREET 3', '92 BEDOK NORTH AVENUE 4', '127 BEDOK RESERVOIR ROAD', '133 BEDOK NORTH AVENUE 3', '116 LENGKONG TIGA', '2 CHAI CHEE ROAD', '110 LENGKONG TIGA', '115 BEDOK RESERVOIR ROAD', '725 BEDOK RESERVOIR ROAD', '167 BEDOK SOUTH AVENUE 3', '106 LENGKONG TIGA', '177 BISHAN STREET 13', '178 BISHAN STREET 13', '210 BISHAN STREET 23', '450 SIN MING AVENUE', '192 BISHAN STREET 13', '227 BISHAN STREET 23', '257 BISHAN STREET 22', '421 BUKIT BATOK WEST AVENUE 2', '422 BUKIT BATOK WEST AVENUE 2', '281 BUKIT BATOK EAST AVENUE 3', '255 BUKIT BATOK EAST AVENUE 4', '166 BUKIT BATOK WEST AVENUE 8', '224 BUKIT BATOK STREET 21', '508 BUKIT BATOK STREET 52', '253 BUKIT BATOK EAST AVENUE 5', '176 BUKIT BATOK WEST AVENUE 8', '223 BUKIT BATOK EAST AVENUE 3', '288F BUKIT BATOK STREET 25', '7 EVERTON PARK', '26A JALAN MEMBINA', '22 TIONG BAHRU ROAD', '45 KIM CHENG STREET', '57 TELOK BLANGAH HEIGHTS', '125 BUKIT MERAH VIEW', '143 JALAN BUKIT MERAH', '36 JALAN RUMAH TINGGI', '13 JALAN BUKIT MERAH', '114 BUKIT PURMEI ROAD', '109 SPOTTISWOODE PARK ROAD', '131C KIM TIAN ROAD', '407 FAJAR ROAD', '440 FAJAR ROAD', '469 SEGAR ROAD', '253 BANGKIT ROAD', '430 BUKIT PANJANG RING ROAD', '276 BANGKIT ROAD', '110 GANGSA ROAD', '168 PETIR ROAD', '233 PENDING ROAD', '408 FAJAR ROAD', '528 JELAPANG ROAD', '335A SMITH STREET', '538 UPPER CROSS STREET', '8 TECK WHYE AVENUE', '1 TECK WHYE AVENUE', '296E CHOA CHU KANG AVENUE 2', '438 CHOA CHU KANG AVENUE 4', '784 CHOA CHU KANG DRIVE', '788 CHOA CHU KANG NORTH 6', '484 CHOA CHU KANG AVENUE 5', '141 TECK WHYE LANE', '679 CHOA CHU KANG CRESCENT', '530 CHOA CHU KANG STREET 51', '753 CHOA CHU KANG NORTH 5', '528 CHOA CHU KANG STREET 51', '273 CHOA CHU KANG AVENUE 2', '275 CHOA CHU KANG AVENUE 2', '351 CHOA CHU KANG CENTRAL', '427 CLEMENTI AVENUE 3', '728 CLEMENTI WEST STREET 2', '428 CLEMENTI AVENUE 3', '377 CLEMENTI AVENUE 5', '349 CLEMENTI AVENUE 2', '613 CLEMENTI WEST STREET 1', '435 CLEMENTI AVENUE 3', '455 CLEMENTI AVENUE 3', '606 CLEMENTI WEST STREET 1', '319 UBI AVENUE 1', '125 GEYLANG EAST AVENUE 1', '412 EUNOS ROAD 5', '123 PAYA LEBAR WAY', '7 HAIG ROAD', '684 HOUGANG AVENUE 8', '116 HOUGANG AVENUE 1', '694 HOUGANG STREET 61', '520 HOUGANG AVENUE 6', '601 HOUGANG AVENUE 4', '324 HOUGANG AVENUE 5', '603 HOUGANG AVENUE 4', '914 HOUGANG STREET 91', '172 HOUGANG AVENUE 1', '450 HOUGANG AVENUE 10', '113 HOUGANG AVENUE 1', '654 HOUGANG AVENUE 8', '508 HOUGANG AVENUE 10', '429 HOUGANG AVENUE 6', '441 HOUGANG AVENUE 8', '833 HOUGANG CENTRAL', '34 TEBAN GARDENS ROAD', '232 JURONG EAST STREET 21', '224 JURONG EAST STREET 21', '63 TEBAN GARDENS ROAD', '279 TOH GUAN ROAD', '284 TOH GUAN ROAD', '712 JURONG WEST STREET 71', '822 JURONG WEST STREET 81', '411 JURONG WEST STREET 42', '157 YUNG LOH ROAD', '723 JURONG WEST AVENUE 5', '322 TAH CHING ROAD', '427 JURONG WEST AVENUE 1', '660B JURONG WEST STREET 64', '617 JURONG WEST STREET 65', '678B JURONG WEST STREET 64', '651A JURONG WEST STREET 61', '690 JURONG WEST CENTRAL 1', '338A TAH CHING ROAD', '851 JURONG WEST STREET 81', '203 BOON LAY DRIVE', '326 TAH CHING ROAD', '181 YUNG SHENG ROAD', '681A JURONG WEST CENTRAL 1', '662C JURONG WEST STREET 64', '696 JURONG WEST CENTRAL 1', '407 JURONG WEST STREET 42', '754 JURONG WEST STREET 74', '335 KANG CHING ROAD', '686B JURONG WEST CENTRAL 1', '108 MCNAIR ROAD', \"56 JALAN MA'MOR\", '29 JALAN BAHAGIA', '115 WHAMPOA ROAD', '114 LORONG 3 GEYLANG', '46 BENDEMEER ROAD', '35 MARINE CRESCENT', '255 PASIR RIS STREET 21', '106 PASIR RIS STREET 12', '705 PASIR RIS DRIVE 10', '637 PASIR RIS DRIVE 1', '252 PASIR RIS STREET 21', '712 PASIR RIS STREET 72', '605 ELIAS ROAD', '714 PASIR RIS STREET 72', '608 ELIAS ROAD', '502 PASIR RIS STREET 52', '509 PASIR RIS STREET 52', '582 PASIR RIS STREET 53', '532 PASIR RIS DRIVE 1', '624B PUNGGOL CENTRAL', '169C PUNGGOL FIELD', '271D PUNGGOL WALK', '272B PUNGGOL WALK', '271A PUNGGOL WALK', '109C EDGEDALE PLAINS', '107C EDGEFIELD PLAINS', '271C PUNGGOL WALK', '112 EDGEFIELD PLAINS', '102 COMMONWEALTH CRESCENT', '95 COMMONWEALTH DRIVE', '474 SEMBAWANG DRIVE', '468A ADMIRALTY DRIVE', '227C COMPASSVALE DRIVE', '266C COMPASSVALE BOW', '239 COMPASSVALE WALK', '311C ANCHORVALE LANE', '149 RIVERVALE CRESCENT', '297B COMPASSVALE STREET', '203C COMPASSVALE ROAD', '260D SENGKANG EAST WAY', '122B SENGKANG EAST WAY', '204D COMPASSVALE DRIVE', '223 SERANGOON AVENUE 4', '207 SERANGOON CENTRAL', '305 SERANGOON AVENUE 2', '136 SERANGOON NORTH AVENUE 2', '205 SERANGOON CENTRAL', '239 SERANGOON AVENUE 2', '114 SERANGOON NORTH AVENUE 1', '137 SERANGOON NORTH AVENUE 2', '216 SERANGOON AVENUE 4', '312 SERANGOON AVENUE 2', '202 SERANGOON CENTRAL', '848 TAMPINES STREET 82', '470 TAMPINES STREET 44', '489C TAMPINES STREET 45', '736 TAMPINES STREET 72', '896 TAMPINES STREET 81', '350 TAMPINES STREET 33', '323 TAMPINES STREET 33', '225 SIMEI STREET 4', '257 TAMPINES STREET 21', '391 TAMPINES AVENUE 7', '491D TAMPINES STREET 45', '305 TAMPINES STREET 32', '728 TAMPINES STREET 71', '151 SIMEI STREET 1', '495B TAMPINES STREET 43', '480 TAMPINES STREET 44', '329 TAMPINES STREET 32', '944 TAMPINES AVENUE 5', '856F TAMPINES STREET 82', '13 JOO SENG ROAD', '224 LORONG 8 TOA PAYOH', '218 LORONG 8 TOA PAYOH', '258 KIM KEAT AVENUE', '84B LORONG 2 TOA PAYOH', '21 JOO SENG ROAD', '99A LORONG 2 TOA PAYOH', '157 WOODLANDS STREET 13', '571C WOODLANDS AVENUE 1', '773 WOODLANDS DRIVE 60', '738 WOODLANDS CIRCLE', '757 WOODLANDS AVENUE 4', '845 WOODLANDS STREET 82', '571B WOODLANDS AVENUE 1', '529 WOODLANDS DRIVE 14', '613 WOODLANDS AVENUE 4', '606 WOODLANDS RING ROAD', '735 WOODLANDS CIRCLE', '705 WOODLANDS DRIVE 40', '823 WOODLANDS STREET 82', '533 WOODLANDS DRIVE 14', '661 WOODLANDS RING ROAD', '877 WOODLANDS AVENUE 9', '415 WOODLANDS STREET 41', '609 WOODLANDS RING ROAD', '706 WOODLANDS DRIVE 40', '846 WOODLANDS AVENUE 4', '826 WOODLANDS STREET 81', '658 WOODLANDS RING ROAD', '819 WOODLANDS STREET 82', '357 WOODLANDS AVENUE 5', '835 WOODLANDS STREET 83', '821 WOODLANDS STREET 82', '256 YISHUN RING ROAD', '235 YISHUN STREET 21', '113 YISHUN RING ROAD', '214 YISHUN STREET 21', '801 YISHUN RING ROAD', '644 YISHUN STREET 61', '260 YISHUN STREET 22', '754 YISHUN STREET 72', '787 YISHUN RING ROAD', '714 YISHUN STREET 71', '721 YISHUN STREET 71', '637A YISHUN STREET 61', '817 YISHUN STREET 81', '863 YISHUN AVENUE 4', '356 YISHUN RING ROAD', '301 ANG MO KIO AVENUE 3', '303 ANG MO KIO AVENUE 1', '315A ANG MO KIO STREET 31', '306 ANG MO KIO AVENUE 1', '71 BEDOK SOUTH ROAD', '69 BEDOK SOUTH AVENUE 3', '614 BEDOK RESERVOIR ROAD', '170 BEDOK SOUTH ROAD', '62 NEW UPPER CHANGI ROAD', '26 CHAI CHEE ROAD', '97 BEDOK NORTH AVENUE 4', '653 JALAN TENAGA', '55 NEW UPPER CHANGI ROAD', '102 LENGKONG TIGA', '116 BISHAN STREET 12', '136 BISHAN STREET 12', '196 BISHAN STREET 13', '313 SHUNFU ROAD', '287 BISHAN STREET 24', '306 SHUNFU ROAD', '262 BISHAN STREET 22', '234 BISHAN STREET 22', '501 BISHAN STREET 11', '137 BISHAN STREET 12', '184 BUKIT BATOK WEST AVENUE 8', '278 BUKIT BATOK EAST AVENUE 3', '168 BUKIT BATOK WEST AVENUE 8', '364 BUKIT BATOK STREET 31', '349 BUKIT BATOK STREET 34', '423 BUKIT BATOK WEST AVENUE 2', '325 BUKIT BATOK STREET 33', '183 BUKIT BATOK WEST AVENUE 8', '350 BUKIT BATOK STREET 34', '204 BUKIT BATOK STREET 21', '389 BUKIT BATOK WEST AVENUE 5', '188 BUKIT BATOK WEST AVENUE 6', '28 JALAN KLINIK', '136 JALAN BUKIT MERAH', '20 TIONG BAHRU ROAD', '19 LIM LIAK STREET', '43 MOH GUAN TERRACE', '39 JALAN RUMAH TINGGI', '118A JALAN MEMBINA', '3 EVERTON PARK', '17 TELOK BLANGAH CRESCENT', '113 PENDING ROAD', '619 BUKIT PANJANG RING ROAD', '120 PENDING ROAD', '533 BUKIT PANJANG RING ROAD', '522 JELAPANG ROAD', '544 JELAPANG ROAD', '10 TOH YI DRIVE', '8 JALAN KUKOH', '26 JALAN BERSEH', '103 TECK WHYE LANE', '445 CHOA CHU KANG AVENUE 4', '411 CHOA CHU KANG AVENUE 3', '429 CHOA CHU KANG AVENUE 4', '625 CHOA CHU KANG STREET 62', '123 TECK WHYE LANE', '206 CHOA CHU KANG CENTRAL', '549 CHOA CHU KANG STREET 52', '566 CHOA CHU KANG STREET 52', '559 CHOA CHU KANG NORTH 6', '328 CLEMENTI AVENUE 2', '336 CLEMENTI AVENUE 2', '355 CLEMENTI AVENUE 2', '710 CLEMENTI WEST STREET 2', '72 CIRCUIT ROAD', '93 JALAN DUA', '102 ALJUNIED CRESCENT', '325 UBI AVENUE 1', '341 UBI AVENUE 1', '324 UBI AVENUE 1', '92 PIPIT ROAD', '417 EUNOS ROAD 5', '678 HOUGANG AVENUE 8', '252 HOUGANG AVENUE 3', '127 HOUGANG AVENUE 1', '685 HOUGANG STREET 61', '696 HOUGANG STREET 61', '625 HOUGANG AVENUE 8', '667 HOUGANG AVENUE 4', '404 HOUGANG AVENUE 10', '608 HOUGANG AVENUE 4', '604 HOUGANG AVENUE 4', '675 HOUGANG AVENUE 8', '693 HOUGANG STREET 61', '566 HOUGANG STREET 51', '923 HOUGANG AVENUE 9', '434 HOUGANG AVENUE 8', '916 HOUGANG AVENUE 9', '238 HOUGANG AVENUE 1', '578 HOUGANG AVENUE 4', '237 JURONG EAST STREET 21', '206 JURONG EAST STREET 21', '317 JURONG EAST STREET 31', '322 JURONG EAST STREET 31', '116 JURONG EAST STREET 13', '277 TOH GUAN ROAD', '103 JURONG EAST STREET 13', '333 JURONG EAST AVENUE 1', '820 JURONG WEST STREET 81', '976 JURONG WEST STREET 93', '424 JURONG WEST AVENUE 1', '979 JURONG WEST STREET 93', '272C JURONG WEST STREET 24', '449 JURONG WEST STREET 42', '940 JURONG WEST STREET 91', '716 JURONG WEST STREET 71', '537 JURONG WEST AVENUE 1', '651B JURONG WEST STREET 61', '181A BOON LAY DRIVE', '755 JURONG WEST STREET 74', '551 JURONG WEST STREET 42', '825 JURONG WEST STREET 81', '662D JURONG WEST STREET 64', '677B JURONG WEST STREET 64', '652C JURONG WEST STREET 61', '680B JURONG WEST CENTRAL 1', '830A JURONG WEST STREET 81', '831 JURONG WEST STREET 81', '671B JURONG WEST STREET 65', '665A JURONG WEST STREET 64', '613 JURONG WEST STREET 62', \"16 SAINT GEORGE'S ROAD\", \"804 KING GEORGE'S AVENUE\", '106 JALAN DUSUN', \"807 KING GEORGE'S AVENUE\", '71 MARINE DRIVE', '125 PASIR RIS STREET 11', '458 PASIR RIS DRIVE 4', '477 PASIR RIS DRIVE 6', '629 PASIR RIS DRIVE 3', '184 PASIR RIS STREET 11', '140 PASIR RIS STREET 11', '230 PASIR RIS STREET 21', '612 ELIAS ROAD', '774 PASIR RIS STREET 71', '189 PASIR RIS STREET 12', '511 PASIR RIS STREET 52', '716 PASIR RIS STREET 72', '129 PASIR RIS STREET 11', '209 PASIR RIS STREET 21', '649 PASIR RIS DRIVE 10', '465 PASIR RIS STREET 41', '622B PUNGGOL CENTRAL', '603C PUNGGOL ROAD', '167B PUNGGOL EAST', '170C PUNGGOL FIELD', '624A PUNGGOL CENTRAL', '208C PUNGGOL PLACE', '272A PUNGGOL WALK', '272C PUNGGOL WALK', '102A PUNGGOL FIELD', '103B EDGEFIELD PLAINS', '638B PUNGGOL DRIVE', '199A PUNGGOL FIELD', '170B PUNGGOL FIELD', '169A PUNGGOL FIELD', '207A PUNGGOL PLACE', '167 STIRLING ROAD', '13 GHIM MOH ROAD', '184 STIRLING ROAD', '323 SEMBAWANG CLOSE', '419 CANBERRA ROAD', '425 CANBERRA ROAD', '354D ADMIRALTY DRIVE', '185B RIVERVALE CRESCENT', '273B COMPASSVALE LINK', '133 RIVERVALE STREET', '206A COMPASSVALE LANE', '137 RIVERVALE STREET', '104 SERANGOON NORTH AVENUE 1', '220 SERANGOON AVENUE 4', '547 SERANGOON NORTH AVENUE 3', '228 SERANGOON AVENUE 4', '404 SERANGOON AVENUE 1', '421 SERANGOON CENTRAL', '116 SERANGOON NORTH AVENUE 1', '322 SERANGOON AVENUE 3', '408 TAMPINES STREET 41', '113 TAMPINES STREET 11', '469 TAMPINES STREET 44', '240 TAMPINES STREET 21', '201A TAMPINES STREET 21', '839 TAMPINES STREET 83', '939 TAMPINES AVENUE 5', '713 TAMPINES STREET 71', '862A TAMPINES STREET 83', '861 TAMPINES AVENUE 5', '352 TAMPINES STREET 33', '490B TAMPINES STREET 45', '114 SIMEI STREET 1', '338 TAMPINES STREET 33', '372 TAMPINES STREET 34', '304 TAMPINES STREET 32', '260 TAMPINES STREET 21', '224 SIMEI STREET 4', '122 SIMEI STREET 1', '842F TAMPINES STREET 82', '892A TAMPINES AVENUE 8', '314 TAMPINES STREET 33', '737 TAMPINES STREET 72', '426 TAMPINES STREET 41', '940 TAMPINES AVENUE 5', '56 LORONG 4 TOA PAYOH', '178 TOA PAYOH CENTRAL', '17 JOO SENG ROAD', '209 TOA PAYOH NORTH', '43 LORONG 5 TOA PAYOH', '7 LORONG 7 TOA PAYOH', '80B LORONG 4 TOA PAYOH', '786B WOODLANDS DRIVE 60', '610 WOODLANDS AVENUE 4', '171 WOODLANDS STREET 11', '878 WOODLANDS AVENUE 9', '873 WOODLANDS STREET 81', '684B WOODLANDS DRIVE 73', '712 WOODLANDS DRIVE 70', '796 WOODLANDS DRIVE 72', '177 WOODLANDS STREET 13', '418 WOODLANDS STREET 41', '546 WOODLANDS DRIVE 16', '841 WOODLANDS STREET 82', '851 WOODLANDS STREET 83', '523 WOODLANDS DRIVE 14', '572A WOODLANDS AVENUE 1', '893B WOODLANDS DRIVE 50', '419 WOODLANDS STREET 41', '267 YISHUN STREET 22', '366 YISHUN RING ROAD', '331 YISHUN RING ROAD', '226 YISHUN STREET 21', '175 YISHUN AVENUE 7', '624 YISHUN RING ROAD', '859 YISHUN AVENUE 4', '855 YISHUN RING ROAD', '742 YISHUN AVENUE 5', '155 YISHUN STREET 11', '398 YISHUN RING ROAD', '651 YISHUN AVENUE 4', '770 YISHUN AVENUE 3', '827 YISHUN STREET 81', '828 YISHUN STREET 81', '666 YISHUN AVENUE 4', '116 ANG MO KIO AVENUE 4', '225 ANG MO KIO AVENUE 1', '220 ANG MO KIO AVENUE 1', '457 ANG MO KIO AVENUE 10', '112 ANG MO KIO AVENUE 4', '223 ANG MO KIO AVENUE 1', '134 BEDOK RESERVOIR ROAD', '122 BEDOK RESERVOIR ROAD', '141 BEDOK RESERVOIR ROAD', '414 BEDOK NORTH AVENUE 2', '104 BEDOK RESERVOIR ROAD', '9 BEDOK SOUTH AVENUE 2', '14 BEDOK SOUTH AVENUE 2', '1 CHAI CHEE ROAD', '94B BEDOK NORTH AVENUE 4', '639 BEDOK RESERVOIR ROAD', '235 BISHAN STREET 22', '268 BISHAN STREET 24', '311 SHUNFU ROAD', '117 BISHAN STREET 12', '253 BISHAN STREET 22', '221 BISHAN STREET 23', '401 SIN MING AVENUE', '220 BUKIT BATOK EAST AVENUE 3', '332 BUKIT BATOK STREET 32', '539 BUKIT BATOK STREET 52', '133 BUKIT BATOK WEST AVENUE 6', '368 BUKIT BATOK STREET 31', '257 BUKIT BATOK EAST AVENUE 4', '287 BUKIT BATOK EAST AVENUE 3', '351 BUKIT BATOK STREET 34', '38 BEO CRESCENT', '6 EVERTON PARK', '28 TIONG BAHRU ROAD', '142 PETIR ROAD', '404 FAJAR ROAD', '511 JELAPANG ROAD', '141 PETIR ROAD', '413 SAUJANA ROAD', '507 JELAPANG ROAD', '656 SENJA ROAD', '433 BUKIT PANJANG RING ROAD', \"3 QUEEN'S ROAD\", '8 TOH YI DRIVE', '29 KELANTAN ROAD', '403 CHOA CHU KANG AVENUE 3', '425 CHOA CHU KANG AVENUE 4', '687C CHOA CHU KANG DRIVE', '505 CHOA CHU KANG STREET 51', '552 CHOA CHU KANG STREET 52', '151 JALAN TECK WHYE', '458 CHOA CHU KANG AVENUE 4', '484D CHOA CHU KANG AVENUE 5', '485B CHOA CHU KANG AVENUE 5', '345 CHOA CHU KANG LOOP', '791 CHOA CHU KANG NORTH 6', '633 CHOA CHU KANG NORTH 6', '617 CHOA CHU KANG NORTH 7', '156 JALAN TECK WHYE', '525 CHOA CHU KANG STREET 51', '34 EUNOS CRESCENT', '413 EUNOS ROAD 5', '842 SIMS AVENUE', '652 HOUGANG AVENUE 8', '573 HOUGANG STREET 51', '937 HOUGANG STREET 92', '130 LORONG AH SOO', '360 HOUGANG AVENUE 5', '953 HOUGANG AVENUE 9', '928 HOUGANG STREET 91', '372 JURONG EAST STREET 32', '205 JURONG EAST STREET 21', '221 JURONG EAST STREET 21', '225 JURONG EAST STREET 21', '251 JURONG EAST STREET 24', '201 JURONG EAST STREET 21', '278 TOH GUAN ROAD', '216 JURONG EAST STREET 21', '286C TOH GUAN ROAD', '180A BOON LAY DRIVE', '435 JURONG WEST STREET 42', '646 JURONG WEST STREET 61', '668A JURONG WEST STREET 64', '734 JURONG WEST STREET 73', '738 JURONG WEST STREET 75', '327 TAH CHING ROAD', '155 YUNG LOH ROAD', '695 JURONG WEST CENTRAL 1', '911 JURONG WEST STREET 91', '325 TAH CHING ROAD', '665B JURONG WEST STREET 64', '629 JURONG WEST STREET 65', '362 YUNG AN ROAD', \"65 JALAN MA'MOR\", \"62 JALAN MA'MOR\", '93 WHAMPOA DRIVE', '42 CAMBRIDGE ROAD', '40 CAMBRIDGE ROAD', '100 WHAMPOA DRIVE', '682 RACE COURSE ROAD', '453 PASIR RIS DRIVE 6', '181 PASIR RIS STREET 11', '233 PASIR RIS DRIVE 4', '558 PASIR RIS STREET 51', '243 PASIR RIS STREET 21', '711 PASIR RIS STREET 72', '622C PUNGGOL CENTRAL', '196D PUNGGOL FIELD', '207B PUNGGOL PLACE', '163B PUNGGOL CENTRAL', '58 STRATHMORE AVENUE', '131 CLARENCE LANE', '306 CANBERRA ROAD', '508C WELLINGTON CIRCLE', '424 CANBERRA ROAD', '303B ANCHORVALE LINK', '307A ANCHORVALE ROAD', '113 RIVERVALE WALK', '106 RIVERVALE WALK', '450A SENGKANG WEST WAY', '296A COMPASSVALE CRESCENT', '227B COMPASSVALE DRIVE', '258D COMPASSVALE ROAD', '223B COMPASSVALE WALK', '233 COMPASSVALE WALK', '228C COMPASSVALE WALK', '125 RIVERVALE STREET', '119C RIVERVALE DRIVE', '189C RIVERVALE DRIVE', '140 SERANGOON NORTH AVENUE 2', '139 SERANGOON NORTH AVENUE 2', '317 SERANGOON AVENUE 2', '543 SERANGOON NORTH AVENUE 3', '499B TAMPINES AVENUE 9', '433 TAMPINES STREET 43', '899 TAMPINES STREET 81', '803 TAMPINES AVENUE 4', '357 TAMPINES STREET 33', '498G TAMPINES STREET 45', '838 TAMPINES STREET 82', '836 TAMPINES STREET 82', '837 TAMPINES STREET 83', '869 TAMPINES STREET 83', '934 TAMPINES STREET 91', '165 TAMPINES STREET 12', '932 TAMPINES STREET 91', '111 SIMEI STREET 1', '856C TAMPINES STREET 82', '867A TAMPINES STREET 83', '460 TAMPINES STREET 42', '57 LORONG 5 TOA PAYOH', '245 KIM KEAT LINK', '80 LORONG 4 TOA PAYOH', '139 POTONG PASIR AVENUE 3', '26 MARSILING DRIVE', '34 MARSILING DRIVE', '115 MARSILING RISE', '879 WOODLANDS STREET 82', '858 WOODLANDS STREET 83', '788 WOODLANDS AVENUE 6', '670 WOODLANDS DRIVE 71', '402 WOODLANDS STREET 41', '804 WOODLANDS STREET 81', '632 YISHUN STREET 61', '656 YISHUN AVENUE 4', '396 YISHUN AVENUE 6', '225 YISHUN STREET 21', '291 YISHUN STREET 22', '730 YISHUN STREET 71', '820 YISHUN STREET 81', '928 YISHUN CENTRAL 1', '826 YISHUN STREET 81', '152 ANG MO KIO AVENUE 5', '204 ANG MO KIO AVENUE 3', '458 ANG MO KIO AVENUE 10', '618 ANG MO KIO AVENUE 4', '168 BEDOK SOUTH AVENUE 3', '3 BEDOK SOUTH AVENUE 1', '615 BEDOK RESERVOIR ROAD', '132 BEDOK RESERVOIR ROAD', '516 BEDOK NORTH AVENUE 2', '145 BEDOK RESERVOIR ROAD', '150A BISHAN STREET 11', '144 BISHAN STREET 12', '347 BUKIT BATOK STREET 34', '410 BUKIT BATOK WEST AVENUE 4', '330 BUKIT BATOK STREET 33', '628 BUKIT BATOK CENTRAL', '8 JALAN BUKIT HO SWEE', '11 CANTONMENT CLOSE', '50 TELOK BLANGAH DRIVE', '116 PENDING ROAD', '523 JELAPANG ROAD', '290 CHOA CHU KANG AVENUE 3', '117 TECK WHYE LANE', '15 TECK WHYE LANE', '408 CHOA CHU KANG AVENUE 3', '233 CHOA CHU KANG CENTRAL', '511 CHOA CHU KANG STREET 51', '540 CHOA CHU KANG STREET 52', '346 CHOA CHU KANG LOOP', '524 CHOA CHU KANG STREET 51', '437 CHOA CHU KANG AVENUE 4', '302 CLEMENTI AVENUE 4', '21 EUNOS CRESCENT', '43 SIMS DRIVE', '3 PINE CLOSE', '326 UBI AVENUE 1', '665 HOUGANG AVENUE 4', '437 HOUGANG AVENUE 8', '375 HOUGANG STREET 31', '38 TEBAN GARDENS ROAD', '416 PANDAN GARDENS', '274 TOH GUAN ROAD', '109 JURONG EAST STREET 13', '230 JURONG EAST STREET 21', '180B BOON LAY DRIVE', '521 JURONG WEST STREET 52', '965 JURONG WEST STREET 93', '975 JURONG WEST STREET 93', '857 JURONG WEST STREET 81', '355 KANG CHING ROAD', '669B JURONG WEST STREET 64', \"63 JALAN MA'MOR\", '17 BEACH ROAD', '43 MARINE CRESCENT', '12 MARINE TERRACE', '486 PASIR RIS DRIVE 4', '470 PASIR RIS DRIVE 6', '516 PASIR RIS STREET 52', '421 PASIR RIS DRIVE 6', '506 PASIR RIS STREET 52', '123 PASIR RIS STREET 11', '424 PASIR RIS DRIVE 6', '207C PUNGGOL PLACE', '272D PUNGGOL WALK', '174A EDGEDALE PLAINS', '196B PUNGGOL FIELD', '90 COMMONWEALTH DRIVE', '84 COMMONWEALTH CLOSE', '14 GHIM MOH ROAD', '340B SEMBAWANG CLOSE', '319 SEMBAWANG CLOSE', '295C COMPASSVALE CRESCENT', '188A RIVERVALE DRIVE', '262D COMPASSVALE STREET', '261D SENGKANG EAST WAY', '8 LORONG LEW LIAN', '112 SERANGOON NORTH AVENUE 1', '110 SERANGOON NORTH AVENUE 1', '309 SERANGOON AVENUE 2', '550 SERANGOON NORTH AVENUE 3', '424 TAMPINES STREET 41', '464 TAMPINES STREET 44', '353 TAMPINES STREET 33', '282 TAMPINES STREET 22', '301 TAMPINES STREET 32', '455 TAMPINES STREET 42', '157 SIMEI ROAD', '931 TAMPINES STREET 91', '910 TAMPINES STREET 91', '163 SIMEI ROAD', '485B TAMPINES AVENUE 9', '303 TAMPINES STREET 32', '496B TAMPINES STREET 43', '703 TAMPINES STREET 71', '354 TAMPINES STREET 33', '150 SIMEI STREET 1', '495A TAMPINES STREET 43', '894 TAMPINES STREET 81', '146 TAMPINES AVENUE 5', '106 POTONG PASIR AVENUE 1', '191 LORONG 4 TOA PAYOH', '123 POTONG PASIR AVENUE 1', '133 POTONG PASIR AVENUE 1', '158 WOODLANDS STREET 13', '337 WOODLANDS AVENUE 1', '127 MARSILING RISE', '761 WOODLANDS AVENUE 6', '169 WOODLANDS STREET 11', '346 WOODLANDS STREET 32', '712 YISHUN AVENUE 5', '257 YISHUN RING ROAD', '652 YISHUN AVENUE 4', '245 YISHUN AVENUE 9', '159 YISHUN STREET 11', '277 YISHUN STREET 22', '554 ANG MO KIO AVENUE 10', '324 ANG MO KIO AVENUE 3', '208 NEW UPPER CHANGI ROAD', '108 BEDOK NORTH ROAD', '650 JALAN TENAGA', '27 CHAI CHEE ROAD', '137 BEDOK NORTH AVENUE 3', '137 BEDOK RESERVOIR ROAD', '637 BEDOK RESERVOIR ROAD', '252 BUKIT BATOK EAST AVENUE 5', '328 BUKIT BATOK STREET 33', '116 BUKIT BATOK WEST AVENUE 6', '289C BUKIT BATOK STREET 25', '130 KIM TIAN ROAD', '147 SILAT AVENUE', '131B KIM TIAN ROAD', '103 SPOTTISWOODE PARK ROAD', '437 FAJAR ROAD', '235 BUKIT PANJANG RING ROAD', '277 BANGKIT ROAD', '662 BUFFALO ROAD', '428 CHOA CHU KANG AVENUE 4', '124 TECK WHYE LANE', '668 CHOA CHU KANG CRESCENT', '215 CHOA CHU KANG CENTRAL', '294 CHOA CHU KANG AVENUE 2', '211 CHOA CHU KANG CENTRAL', '107 TECK WHYE LANE', '341 CHOA CHU KANG LOOP', '354 CLEMENTI AVENUE 2', '113 CLEMENTI STREET 13', '729 CLEMENTI WEST STREET 2', '357 CLEMENTI AVENUE 2', '110 CLEMENTI STREET 13', '122 GEYLANG EAST CENTRAL', '415 EUNOS ROAD 5', '319 HOUGANG AVENUE 5', '666 HOUGANG AVENUE 4', '440 HOUGANG AVENUE 8', '686 HOUGANG STREET 61', '637 HOUGANG AVENUE 8', '426 HOUGANG AVENUE 6', '698B HOUGANG STREET 61', '371 HOUGANG STREET 31', '430 HOUGANG AVENUE 6', '287A JURONG EAST STREET 21', '508 JURONG WEST STREET 52', '180C BOON LAY DRIVE', '419 JURONG WEST STREET 42', '541 JURONG WEST AVENUE 1', '757 JURONG WEST STREET 74', '547 JURONG WEST STREET 42', '337C TAH CHING ROAD', '347 KANG CHING ROAD', '685C JURONG WEST CENTRAL 1', '627 JURONG WEST STREET 65', '52 JALAN BAHAGIA', '104 TOWNER ROAD', '108 JALAN RAJAH', '4 MARINE TERRACE', '480 PASIR RIS DRIVE 4', '122 PASIR RIS STREET 11', '190 PASIR RIS STREET 12', '138 PASIR RIS STREET 11', '575 PASIR RIS STREET 53', '647 PASIR RIS DRIVE 10', '208B PUNGGOL PLACE', '211B PUNGGOL WALK', '170A PUNGGOL FIELD', '207D PUNGGOL PLACE', '641C PUNGGOL DRIVE', '196A PUNGGOL FIELD', \"22 QUEEN'S CLOSE\", '133 CLARENCE LANE', '123C RIVERVALE DRIVE', '203B COMPASSVALE ROAD', '323A SENGKANG EAST WAY', '405 SERANGOON AVENUE 1', '502 SERANGOON NORTH AVENUE 4', '519 SERANGOON NORTH AVENUE 4', '296 TAMPINES STREET 22', '930 TAMPINES STREET 91', '238 TAMPINES STREET 21', '812 TAMPINES AVENUE 4', '491E TAMPINES STREET 45', '935 TAMPINES STREET 91', '106 SIMEI STREET 1', '393 TAMPINES AVENUE 7', '335 TAMPINES STREET 32', '2 LORONG 7 TOA PAYOH', '156 LORONG 1 TOA PAYOH', '16 JOO SENG ROAD', '82A LORONG 4 TOA PAYOH', '20 JOO SENG ROAD', '340 WOODLANDS AVENUE 1', '682B WOODLANDS DRIVE 62', '790 WOODLANDS AVENUE 6', '894B WOODLANDS DRIVE 50', '833 WOODLANDS STREET 83', '869 WOODLANDS STREET 83', '270 YISHUN STREET 22', '115B YISHUN RING ROAD', '728 YISHUN STREET 71', '729 YISHUN STREET 71', '109 YISHUN RING ROAD', '392 YISHUN AVENUE 6', '405 YISHUN AVENUE 6', '713 ANG MO KIO AVENUE 6', '467 ANG MO KIO AVENUE 10', '38 BEDOK SOUTH ROAD', '135 BEDOK NORTH STREET 2', '210 NEW UPPER CHANGI ROAD', '111 BEDOK RESERVOIR ROAD', '103 BEDOK RESERVOIR ROAD', '166 BEDOK SOUTH AVENUE 3', '118 BEDOK NORTH STREET 2', '170 BISHAN STREET 13', '454 SIN MING AVENUE', '225 BISHAN STREET 23', '442 SIN MING AVENUE', '194 BISHAN STREET 13', '160 BISHAN STREET 13', '451 SIN MING AVENUE', '179 BUKIT BATOK WEST AVENUE 8', '361 BUKIT BATOK STREET 31', '370 BUKIT BATOK STREET 31', '408 BUKIT BATOK WEST AVENUE 4', '114 BUKIT BATOK WEST AVENUE 6', '356 BUKIT BATOK STREET 31', '105 HENDERSON CRESCENT', '10 TELOK BLANGAH CRESCENT', '26 TIONG BAHRU ROAD', '58 TELOK BLANGAH HEIGHTS', '69 TELOK BLANGAH HEIGHTS', '438 FAJAR ROAD', '410 SAUJANA ROAD', '545 BUKIT PANJANG RING ROAD', '653 SENJA LINK', '124 PENDING ROAD', '101 GANGSA ROAD', '543 JELAPANG ROAD', '262 WATERLOO STREET', '672B KLANG LANE', '407 CHOA CHU KANG AVENUE 3', '643 CHOA CHU KANG STREET 64', '683B CHOA CHU KANG CRESCENT', '430 CHOA CHU KANG AVENUE 4', '459 CHOA CHU KANG AVENUE 4', '529 CHOA CHU KANG STREET 51', '662 CHOA CHU KANG CRESCENT', '603 CHOA CHU KANG STREET 62', '764 CHOA CHU KANG NORTH 5', '754 CHOA CHU KANG NORTH 5', '342 CLEMENTI AVENUE 5', '413 COMMONWEALTH AVENUE WEST', '372 CLEMENTI AVENUE 4', '114 CLEMENTI STREET 13', '59 CIRCUIT ROAD', '99 OLD AIRPORT ROAD', '101 ALJUNIED CRESCENT', '618 HOUGANG AVENUE 8', '985A BUANGKOK CRESCENT', '680 HOUGANG AVENUE 8', '406 HOUGANG AVENUE 10', '447 HOUGANG AVENUE 10', '987A BUANGKOK GREEN', '236 HOUGANG AVENUE 1', '232 HOUGANG AVENUE 1', '657 HOUGANG AVENUE 8', '955 HOUGANG AVENUE 9', '371 JURONG EAST STREET 32', '318 JURONG EAST STREET 31', '203 JURONG EAST STREET 21', '319 JURONG EAST STREET 31', '271 TOH GUAN ROAD', '324 JURONG EAST STREET 31', '258 JURONG EAST STREET 24', '334 JURONG EAST AVENUE 1', '175 BOON LAY DRIVE', '212 BOON LAY PLACE', '928 JURONG WEST STREET 92', '688 JURONG WEST CENTRAL 1', '932 JURONG WEST STREET 92', '200 BOON LAY DRIVE', '743 JURONG WEST STREET 73', '719 JURONG WEST AVENUE 5', '753 JURONG WEST STREET 74', '829 JURONG WEST STREET 81', '669A JURONG WEST STREET 64', '671A JURONG WEST STREET 65', '333 KANG CHING ROAD', '471 JURONG WEST STREET 41', \"1 SAINT GEORGE'S ROAD\", '5 BOON KENG ROAD', '114 PASIR RIS STREET 11', '112 PASIR RIS STREET 11', '475 PASIR RIS DRIVE 6', '228 PASIR RIS STREET 21', '238 PASIR RIS STREET 21', '217 PASIR RIS STREET 21', '153 PASIR RIS STREET 13', '132 PASIR RIS STREET 11', '130 PASIR RIS STREET 11', '221 PASIR RIS STREET 21', '642 PASIR RIS DRIVE 10', '510 PASIR RIS STREET 52', '209C PUNGGOL PLACE', '208A PUNGGOL PLACE', '632C PUNGGOL DRIVE', '162B PUNGGOL CENTRAL', '204D PUNGGOL FIELD', '91 COMMONWEALTH DRIVE', '183 STIRLING ROAD', '3A HOLLAND CLOSE', '324 SEMBAWANG CLOSE', '180A RIVERVALE CRESCENT', '450B SENGKANG WEST WAY', '140 RIVERVALE STREET', '227A COMPASSVALE DRIVE', '178D RIVERVALE CRESCENT', '224A COMPASSVALE WALK', '448A SENGKANG WEST WAY', '186C RIVERVALE DRIVE', '430D FERNVALE LINK', '115 SERANGOON NORTH AVENUE 1', '120 SERANGOON NORTH AVENUE 1', '218 SERANGOON AVENUE 4', '314 SERANGOON AVENUE 2', '241 SERANGOON AVENUE 3', '145 SERANGOON NORTH AVENUE 1', '545 SERANGOON NORTH AVENUE 3', '527 SERANGOON NORTH AVENUE 4', '825 TAMPINES STREET 81', '499A TAMPINES AVENUE 9', '477 TAMPINES STREET 43', '456 TAMPINES STREET 42', '722 TAMPINES STREET 72', '505 TAMPINES CENTRAL 1', '243 TAMPINES STREET 21', '484 TAMPINES STREET 43', '306 TAMPINES STREET 32', '903 TAMPINES AVENUE 4', '162 TAMPINES STREET 12', '324 TAMPINES STREET 32', '476 TAMPINES STREET 44', '61 LORONG 5 TOA PAYOH', '83 LORONG 2 TOA PAYOH', '82B LORONG 4 TOA PAYOH', '145 WOODLANDS STREET 13', '887C WOODLANDS DRIVE 50', '312 WOODLANDS STREET 31', '532 WOODLANDS DRIVE 14', '896C WOODLANDS DRIVE 50', '892B WOODLANDS DRIVE 50', '838 WOODLANDS STREET 82', '837 WOODLANDS STREET 82', '867 WOODLANDS STREET 83', '794 YISHUN RING ROAD', '751 YISHUN STREET 72', '935 YISHUN CENTRAL 1', '799 YISHUN RING ROAD', '724 YISHUN STREET 71', '332 ANG MO KIO AVENUE 1', '336 ANG MO KIO AVENUE 1', '311 ANG MO KIO AVENUE 3', '87 BEDOK NORTH STREET 4', '138 BEDOK RESERVOIR ROAD', '657 JALAN TENAGA', '638 BEDOK RESERVOIR ROAD', '209 BISHAN STREET 23', '244 BISHAN STREET 22', '128 BUKIT BATOK WEST AVENUE 6', '144 BUKIT BATOK WEST AVENUE 6', '126 BUKIT BATOK CENTRAL', '228 BUKIT BATOK CENTRAL', '303 BUKIT BATOK STREET 31', '369 BUKIT BATOK STREET 31', '334 BUKIT BATOK STREET 32', '338 BUKIT BATOK STREET 34', '319 BUKIT BATOK STREET 33', '291D BUKIT BATOK STREET 24', '254 BUKIT BATOK EAST AVENUE 4', '111 BUKIT BATOK WEST AVENUE 6', '326 BUKIT BATOK STREET 33', '355 BUKIT BATOK STREET 31', '133 JALAN BUKIT MERAH', '28 TELOK BLANGAH RISE', '18 TIONG BAHRU ROAD', '53 LENGKOK BAHRU', '116 BUKIT MERAH CENTRAL', '118C JALAN MEMBINA', '17 CANTONMENT CLOSE', '126 PENDING ROAD', '417 FAJAR ROAD', '642 ROWELL ROAD', '449 CHOA CHU KANG AVENUE 4', '232 CHOA CHU KANG CENTRAL', '150 JALAN TECK WHYE', '415 CHOA CHU KANG AVENUE 4', '485C CHOA CHU KANG AVENUE 5', '515 CHOA CHU KANG STREET 51', '119 TECK WHYE LANE', '446 CHOA CHU KANG AVENUE 4', '704 CHOA CHU KANG STREET 53', '434 CHOA CHU KANG AVENUE 4', '228 CHOA CHU KANG CENTRAL', '331 CLEMENTI AVENUE 2', '356 CLEMENTI AVENUE 2', '51 CIRCUIT ROAD', '98 ALJUNIED CRESCENT', '15 EUNOS CRESCENT', '333 UBI AVENUE 1', '112 HOUGANG AVENUE 1', '527 HOUGANG AVENUE 6', '416 HOUGANG AVENUE 10', '931 HOUGANG STREET 91', '454 HOUGANG AVENUE 10', '108 JURONG EAST STREET 13', '328 JURONG EAST STREET 31', '181B BOON LAY DRIVE', '953 JURONG WEST STREET 91', '986B JURONG WEST STREET 93', '258 BOON LAY DRIVE', '353 KANG CHING ROAD', '443 JURONG WEST AVENUE 1', '841 JURONG WEST STREET 81', '163 YUNG PING ROAD', '102 PASIR RIS STREET 12', '561 PASIR RIS STREET 51', '110 PASIR RIS STREET 11', '226 PASIR RIS STREET 21', '761 PASIR RIS STREET 71', '614 ELIAS ROAD', '271 PASIR RIS STREET 21', '550 PASIR RIS STREET 51', '418 PASIR RIS DRIVE 6', '579 PASIR RIS STREET 53', '464 PASIR RIS STREET 41', '542 PASIR RIS STREET 51', '548 PASIR RIS STREET 51', '26 DOVER CRESCENT', '14 DOVER CLOSE EAST', '146 MEI LING STREET', '350C CANBERRA ROAD', '180D RIVERVALE CRESCENT', '430C FERNVALE LINK', '450C SENGKANG WEST WAY', '228B COMPASSVALE WALK', '261C SENGKANG EAST WAY', '433B SENGKANG WEST WAY', '314B ANCHORVALE LINK', '261A SENGKANG EAST WAY', '403 SERANGOON AVENUE 1', '255 SERANGOON CENTRAL DRIVE', '281 TAMPINES STREET 22', '208 TAMPINES STREET 21', '139 SIMEI STREET 1', '445 TAMPINES STREET 42', '906 TAMPINES AVENUE 4', '364 TAMPINES STREET 34', '742 TAMPINES STREET 72', '232 SIMEI STREET 4', '852 TAMPINES STREET 82', '343 TAMPINES STREET 33', '227 SIMEI STREET 4', '873 TAMPINES STREET 84', '711 TAMPINES STREET 71', '816 TAMPINES AVENUE 4', '328 TAMPINES STREET 32', '230D TAMPINES STREET 24', '161 WOODLANDS STREET 13', '132 MARSILING RISE', '683B WOODLANDS DRIVE 62', '502 WOODLANDS DRIVE 14', '165 WOODLANDS STREET 13', '648 WOODLANDS RING ROAD', '325 WOODLANDS STREET 32', '103 YISHUN RING ROAD', '106 YISHUN RING ROAD', '308 YISHUN RING ROAD', '350A YISHUN AVENUE 11', '292 YISHUN STREET 22', '226B ANG MO KIO AVENUE 1', '619 ANG MO KIO AVENUE 4', '104A ANG MO KIO STREET 11', '632 BEDOK RESERVOIR ROAD', '624 BEDOK RESERVOIR ROAD', '103 LENGKONG TIGA', '184 BISHAN STREET 13', '149 BISHAN STREET 11', '156 BISHAN STREET 13', '150 BUKIT BATOK STREET 11', '288C BUKIT BATOK STREET 25', '216 BUKIT BATOK STREET 21', '290C BUKIT BATOK EAST AVENUE 3', '94 HAVELOCK ROAD', '126 BUKIT MERAH VIEW', '425 FAJAR ROAD', '245 BUKIT PANJANG RING ROAD', '513 JELAPANG ROAD', '423 FAJAR ROAD', '674A CHOA CHU KANG CRESCENT', '274 CHOA CHU KANG AVENUE 2', '204 CHOA CHU KANG AVENUE 1', '419 CHOA CHU KANG AVENUE 4', '603 CLEMENTI WEST STREET 1', '359 CLEMENTI AVENUE 2', '331 UBI AVENUE 1', '673 HOUGANG AVENUE 8', '987B BUANGKOK GREEN', '613 HOUGANG AVENUE 8', '534 HOUGANG STREET 52', '513 HOUGANG AVENUE 10', '326 HOUGANG AVENUE 7', '451 HOUGANG AVENUE 10', '239 HOUGANG STREET 22', '245 HOUGANG STREET 22', '546 HOUGANG STREET 51', '836 HOUGANG CENTRAL', '609 HOUGANG AVENUE 8', '621 HOUGANG AVENUE 8', '353 HOUGANG AVENUE 7', '225A JURONG EAST STREET 21', '401 PANDAN GARDENS', '213 JURONG EAST STREET 21', '434 JURONG WEST STREET 42', '267 BOON LAY DRIVE', '323 TAH CHING ROAD', '329 TAH CHING ROAD', '679C JURONG WEST CENTRAL 1', '404 JURONG WEST STREET 42', '154 YUNG HO ROAD', '12 KAMPONG ARANG ROAD', '44 JALAN BAHAGIA', \"10 SAINT GEORGE'S ROAD\", '44 MARINE CRESCENT', '513 PASIR RIS STREET 52', '565 PASIR RIS STREET 51', '452 PASIR RIS DRIVE 6', '468 PASIR RIS DRIVE 6', '137 PASIR RIS STREET 11', '134 PASIR RIS STREET 11', '650 PASIR RIS DRIVE 10', '266 PASIR RIS STREET 21', '131 PASIR RIS STREET 11', '781 PASIR RIS STREET 71', '447 PASIR RIS DRIVE 6', '602 ELIAS ROAD', '581 PASIR RIS STREET 53', '471 PASIR RIS DRIVE 6', '211D PUNGGOL WALK', '211A PUNGGOL WALK', '210B PUNGGOL PLACE', '106C PUNGGOL FIELD', '41 HOLLAND DRIVE', '23 DOVER CRESCENT', '476 SEMBAWANG DRIVE', '180B RIVERVALE CRESCENT', '314C ANCHORVALE LINK', '101 RIVERVALE WALK', '123E RIVERVALE DRIVE', '126 RIVERVALE STREET', '432B SENGKANG WEST WAY', '323C SENGKANG EAST WAY', '202 COMPASSVALE DRIVE', '178A RIVERVALE CRESCENT', '102 SERANGOON NORTH AVENUE 1', '531 SERANGOON NORTH AVENUE 4', '201D TAMPINES STREET 21', '450 TAMPINES STREET 42', '246 TAMPINES STREET 21', '144 TAMPINES STREET 12', '490A TAMPINES STREET 45', '871 TAMPINES STREET 84', '284 TAMPINES STREET 22', '155 SIMEI ROAD', '386 TAMPINES STREET 32', '491F TAMPINES STREET 45', '232 TAMPINES STREET 21', '106 TAMPINES STREET 11', '245 SIMEI STREET 5', '429 TAMPINES STREET 41', '337 TAMPINES STREET 32', '47 LORONG 6 TOA PAYOH', '830 WOODLANDS STREET 83', '886D WOODLANDS DRIVE 50', '628B WOODLANDS RING ROAD', '507 WOODLANDS DRIVE 14', '809 WOODLANDS STREET 81', '887A WOODLANDS DRIVE 50', '11 MARSILING DRIVE', '793 WOODLANDS AVENUE 6', '539 WOODLANDS DRIVE 16', '505 WOODLANDS DRIVE 14', '142 MARSILING ROAD', '862 YISHUN AVENUE 4', '259 YISHUN STREET 22', '779 YISHUN AVENUE 2', '711 YISHUN AVENUE 5', '419 YISHUN AVENUE 11', '663 YISHUN AVENUE 4', '720 ANG MO KIO AVENUE 6', '315B ANG MO KIO STREET 31', '113 BEDOK NORTH STREET 2', '627 BEDOK RESERVOIR ROAD', '109 LENGKONG TIGA', '62 CHAI CHEE ROAD', '67 BEDOK SOUTH AVENUE 3', '142 BISHAN STREET 12', '118 BISHAN STREET 12', '302 SHUNFU ROAD', '143 BISHAN STREET 12', '224 BISHAN STREET 23', '233 BISHAN STREET 22', '102 BISHAN STREET 12', '258 BISHAN STREET 22', '119 BISHAN STREET 12', '323 BUKIT BATOK STREET 33', '119 BUKIT BATOK WEST AVENUE 6', '623 BUKIT BATOK CENTRAL', '41 KIM CHENG STREET', '74 TELOK BLANGAH HEIGHTS', '109B DEPOT ROAD', '232 PENDING ROAD', '243 BUKIT PANJANG RING ROAD', '521 JELAPANG ROAD', '427 BUKIT PANJANG RING ROAD', '241 BUKIT PANJANG RING ROAD', '279 CHOA CHU KANG AVENUE 3', '286 CHOA CHU KANG AVENUE 3', '684B CHOA CHU KANG CRESCENT', '421 CHOA CHU KANG AVENUE 4', '612 CHOA CHU KANG STREET 62', '545 CHOA CHU KANG STREET 52', '355 CHOA CHU KANG CENTRAL', '350 CHOA CHU KANG CENTRAL', '344 CLEMENTI AVENUE 5', '340 CLEMENTI AVENUE 5', '112 CLEMENTI STREET 13', '50 CIRCUIT ROAD', '127 GEYLANG EAST AVENUE 1', '987C BUANGKOK GREEN', '695 HOUGANG STREET 61', '535 HOUGANG STREET 52', '988A BUANGKOK GREEN', '988C BUANGKOK GREEN', '423 HOUGANG AVENUE 6', '408 HOUGANG AVENUE 10', '217A JURONG EAST STREET 21', '48 TEBAN GARDENS ROAD', '219 JURONG EAST STREET 21', '51 TEBAN GARDENS ROAD', '286B TOH GUAN ROAD', '438 JURONG WEST AVENUE 1', '866 JURONG WEST STREET 81', '451 JURONG WEST STREET 42', '324 TAH CHING ROAD', '704 JURONG WEST STREET 71', '758 JURONG WEST STREET 74', '416 JURONG WEST STREET 42', '652A JURONG WEST STREET 61', '862 JURONG WEST STREET 81', '46 JALAN BAHAGIA', \"58 JALAN MA'MOR\", '461 CRAWFORD LANE', '79 MARINE DRIVE', '141 PASIR RIS STREET 11', '187 PASIR RIS STREET 11', '222 PASIR RIS STREET 21', '111 PASIR RIS STREET 11', '211C PUNGGOL WALK', '210C PUNGGOL PLACE', '632A PUNGGOL DRIVE', '641B PUNGGOL DRIVE', '201C PUNGGOL FIELD', '101A PUNGGOL FIELD', '213B PUNGGOL WALK', '341B SEMBAWANG CLOSE', '472 SEMBAWANG DRIVE', '504A MONTREAL DRIVE', '448B SENGKANG WEST WAY', '180C RIVERVALE CRESCENT', '266B COMPASSVALE BOW', '228A COMPASSVALE WALK', '317C ANCHORVALE ROAD', '190B RIVERVALE DRIVE', '320B ANCHORVALE DRIVE', '515 SERANGOON NORTH AVENUE 4', '522 SERANGOON NORTH AVENUE 4', '415 TAMPINES STREET 41', '292 TAMPINES STREET 22', '465 TAMPINES STREET 44', '435 TAMPINES STREET 43', '720 TAMPINES STREET 72', '488B TAMPINES STREET 45', '842G TAMPINES STREET 82', '493A TAMPINES AVENUE 9', '450D TAMPINES STREET 42', '95 LORONG 4 TOA PAYOH', '193 LORONG 4 TOA PAYOH', '14B LORONG 7 TOA PAYOH', '62 LORONG 4 TOA PAYOH', '99C LORONG 2 TOA PAYOH', '316 WOODLANDS STREET 31', '887B WOODLANDS DRIVE 50', '624B WOODLANDS DRIVE 52', '143 MARSILING ROAD', '140 MARSILING ROAD', '899A WOODLANDS DRIVE 50', '508 WOODLANDS DRIVE 14', '886C WOODLANDS DRIVE 50', '766 WOODLANDS CIRCLE', '611 WOODLANDS RING ROAD', '872 WOODLANDS STREET 81', '165 YISHUN RING ROAD', '156 YISHUN STREET 11', '271 YISHUN STREET 22', '221 YISHUN STREET 21', '872 YISHUN STREET 81', '323 YISHUN CENTRAL', '446 ANG MO KIO AVENUE 10', '522 ANG MO KIO AVENUE 5', '514 BEDOK NORTH AVENUE 2', '402 BEDOK NORTH AVENUE 3', '744 BEDOK RESERVOIR ROAD', '659 JALAN TENAGA', '668 JALAN DAMAI', '647 JALAN TENAGA', '641 BEDOK RESERVOIR ROAD', '644 BEDOK RESERVOIR ROAD', '509 BUKIT BATOK STREET 52', '174 BUKIT BATOK WEST AVENUE 8', '256 BUKIT BATOK EAST AVENUE 4', '243 BUKIT BATOK EAST AVENUE 5', '404 BUKIT BATOK WEST AVENUE 7', '4 JALAN BUKIT HO SWEE', '44 MOH GUAN TERRACE', '42 KIM CHENG STREET', '14 TELOK BLANGAH CRESCENT', '9B BOON TIONG ROAD', '250 BANGKIT ROAD', '9 TOH YI DRIVE', '142 TECK WHYE LANE', '276 CHOA CHU KANG AVENUE 2', '402 CHOA CHU KANG AVENUE 3', '517 CHOA CHU KANG STREET 51', '293 CHOA CHU KANG AVENUE 3', '672A CHOA CHU KANG CRESCENT', '565 CHOA CHU KANG STREET 52', '707 CHOA CHU KANG STREET 53', '553 CHOA CHU KANG NORTH 6', '342 CHOA CHU KANG LOOP', '604 CLEMENTI WEST STREET 1', '104 CLEMENTI STREET 14', '313 UBI AVENUE 1', '320 UBI AVENUE 1', '963 HOUGANG AVENUE 9', '442 HOUGANG AVENUE 8', '547 HOUGANG STREET 51', '699C HOUGANG STREET 52', '536 HOUGANG STREET 52', '410 HOUGANG AVENUE 10', '988B BUANGKOK GREEN', '504 HOUGANG AVENUE 8', '651 HOUGANG AVENUE 8', '235 HOUGANG STREET 21', '44 TEBAN GARDENS ROAD', '104 JURONG EAST STREET 13', '222 JURONG EAST STREET 21', '46 TEBAN GARDENS ROAD', '445 JURONG WEST STREET 42', '942 JURONG WEST STREET 91', '264 BOON LAY DRIVE', '205 BOON LAY DRIVE', '658A JURONG WEST STREET 65', '989B JURONG WEST STREET 93', '559 JURONG WEST STREET 42', '332 TAH CHING ROAD', '3 JALAN BATU', '122 MCNAIR ROAD', '53 KENT ROAD', '681 RACE COURSE ROAD', '113 LORONG 3 GEYLANG', '38 UPPER BOON KENG ROAD', '577 PASIR RIS STREET 53', '442 PASIR RIS DRIVE 6', '739 PASIR RIS DRIVE 10', '518 PASIR RIS STREET 52', '507 PASIR RIS STREET 52', '606 ELIAS ROAD', '642C PUNGGOL DRIVE', '210A PUNGGOL PLACE', '212A PUNGGOL WALK', '209A PUNGGOL PLACE', '128D PUNGGOL FIELD WALK', '213A PUNGGOL WALK', '154 MEI LING STREET', '2 DOVER ROAD', '410 SEMBAWANG DRIVE', '503C CANBERRA LINK', '255 COMPASSVALE ROAD', '430A FERNVALE LINK', '430B FERNVALE LINK', '227D COMPASSVALE DRIVE', '310 SERANGOON AVENUE 2', '424 SERANGOON CENTRAL', '417 SERANGOON CENTRAL', '214 TAMPINES STREET 23', '108 TAMPINES STREET 11', '946 TAMPINES AVENUE 4', '212 TAMPINES STREET 23', '440 TAMPINES STREET 43', '492C TAMPINES STREET 45', '326 TAMPINES STREET 32', '309 TAMPINES STREET 32', '472 TAMPINES STREET 44', '23 TOA PAYOH EAST', '313 WOODLANDS STREET 31', '608 WOODLANDS RING ROAD', '737 WOODLANDS CIRCLE', '886B WOODLANDS DRIVE 50', '829 WOODLANDS STREET 83', '782 YISHUN RING ROAD', '265 YISHUN STREET 22', '363 YISHUN RING ROAD', '332 YISHUN RING ROAD', '834 YISHUN STREET 81', '709 ANG MO KIO AVENUE 8', '343 ANG MO KIO AVENUE 3', '413 ANG MO KIO AVENUE 10', '552 ANG MO KIO AVENUE 10', '312 ANG MO KIO AVENUE 3', '218 BEDOK NORTH STREET 1', '610 BEDOK RESERVOIR ROAD', '60 CHAI CHEE ROAD', '211 NEW UPPER CHANGI ROAD', '94D BEDOK NORTH AVENUE 4', '104 BISHAN STREET 12', '240 BISHAN STREET 22', '415 BUKIT BATOK WEST AVENUE 4', '115 BUKIT BATOK WEST AVENUE 6', '639 BUKIT BATOK CENTRAL', '161 BUKIT MERAH CENTRAL', '106 BUKIT PURMEI ROAD', '36 MOH GUAN TERRACE', '9A BOON TIONG ROAD', '50 HOY FATT ROAD', '225 PENDING ROAD', '420 FAJAR ROAD', '637 CHOA CHU KANG NORTH 6', '513 CHOA CHU KANG STREET 51', '509 CHOA CHU KANG STREET 51', '676 CHOA CHU KANG CRESCENT', '602 CHOA CHU KANG STREET 62', '214 CHOA CHU KANG CENTRAL', '328 UBI AVENUE 1', '106 HOUGANG AVENUE 1', '804 HOUGANG CENTRAL', '174A HOUGANG AVENUE 1', '140 LORONG AH SOO', '559 HOUGANG STREET 51', '668 HOUGANG AVENUE 8', '222 HOUGANG STREET 21', '242 JURONG EAST STREET 24', '188 BOON LAY DRIVE', '418 JURONG WEST STREET 42', '442 JURONG WEST AVENUE 1', '919 JURONG WEST STREET 91', '945 JURONG WEST STREET 91', '846 JURONG WEST STREET 81', '838 JURONG WEST STREET 81', '402 JURONG WEST STREET 42', '933 JURONG WEST STREET 91', '354 KANG CHING ROAD', '369 YUNG AN ROAD', '104 JALAN RAJAH', '104 JALAN DUSUN', '412 PASIR RIS DRIVE 6', '139 PASIR RIS STREET 11', '270 PASIR RIS STREET 21', '212B PUNGGOL WALK', '209B PUNGGOL PLACE', '301D PUNGGOL PLACE', '213C PUNGGOL WALK', '101 COMMONWEALTH CRESCENT', '355A SEMBAWANG WAY', '178B RIVERVALE CRESCENT', '433A SENGKANG WEST WAY', '257B COMPASSVALE ROAD', '432A SENGKANG WEST WAY', '191B RIVERVALE DRIVE', '262A COMPASSVALE STREET', '439 TAMPINES STREET 43', '363 TAMPINES STREET 34', '370 TAMPINES STREET 34', '320 TAMPINES STREET 33', '498M TAMPINES STREET 45', '356 TAMPINES STREET 33', '389 TAMPINES STREET 32', '184 TOA PAYOH CENTRAL', '49 LORONG 5 TOA PAYOH', '886A WOODLANDS DRIVE 50', '156 WOODLANDS STREET 13', '306 WOODLANDS STREET 31', '362 WOODLANDS AVENUE 5', '360 WOODLANDS AVENUE 5', '777 YISHUN AVENUE 2', '239 YISHUN RING ROAD', '206 YISHUN STREET 21', '880 YISHUN STREET 81', '848 YISHUN STREET 81', '793 YISHUN RING ROAD', '630 ANG MO KIO AVENUE 4', '429 ANG MO KIO AVENUE 3', '710 ANG MO KIO AVENUE 8', '57 CHAI CHEE DRIVE', '625 BEDOK RESERVOIR ROAD', '715 BEDOK RESERVOIR ROAD', '187 BISHAN STREET 13', '275 BUKIT BATOK EAST AVENUE 4', '152 BUKIT BATOK STREET 11', '118 BUKIT BATOK WEST AVENUE 6', '121 BUKIT BATOK CENTRAL', '38 TELOK BLANGAH RISE', '144 JALAN BUKIT MERAH', '17 TIONG BAHRU ROAD', '10A BOON TIONG ROAD', '570 CHOA CHU KANG STREET 52', '409 CHOA CHU KANG AVENUE 3', '352 CHOA CHU KANG CENTRAL', '573 CHOA CHU KANG STREET 52', '706 CHOA CHU KANG STREET 53', '352 CLEMENTI AVENUE 2', '347 UBI AVENUE 1', '27 BALAM ROAD', '121 HOUGANG AVENUE 1', '246 HOUGANG STREET 22', '124 HOUGANG AVENUE 1', '415 HOUGANG AVENUE 10', '318 HOUGANG AVENUE 5', '118 HOUGANG AVENUE 1', '622 HOUGANG AVENUE 8', '223 JURONG EAST STREET 21', '482 JURONG WEST STREET 41', '441 JURONG WEST AVENUE 1', '905 JURONG WEST STREET 91', '466 JURONG WEST STREET 41', '183A BOON LAY AVENUE', '183D BOON LAY AVENUE', '760 JURONG WEST STREET 74', '41 JALAN BAHAGIA', '737 PASIR RIS DRIVE 10', '147 PASIR RIS STREET 13', '721 PASIR RIS STREET 72', '225 PASIR RIS STREET 21', '154 PASIR RIS STREET 13', '159 PASIR RIS STREET 13', '135 PASIR RIS STREET 11', '549 PASIR RIS STREET 51', '652 PUNGGOL CENTRAL', '112 COMMONWEALTH CRESCENT', '463B SEMBAWANG DRIVE', '509B WELLINGTON CIRCLE', '178C RIVERVALE CRESCENT', '418 SERANGOON CENTRAL', '224 TAMPINES STREET 23', '820 TAMPINES STREET 81', '914 TAMPINES STREET 91', '268 TAMPINES STREET 21', '332 TAMPINES STREET 32', '857 WOODLANDS STREET 83', '351 WOODLANDS AVENUE 1', '624A WOODLANDS DRIVE 52', '836 WOODLANDS STREET 83', '856 WOODLANDS STREET 83', '179 WOODLANDS STREET 13', '209 YISHUN STREET 21', '426A YISHUN AVENUE 11', '347A YISHUN AVENUE 11', '439 ANG MO KIO AVENUE 10', '505 BEDOK NORTH AVENUE 3', '29 CHAI CHEE AVENUE', '53 TELOK BLANGAH DRIVE', '7 KIM TIAN PLACE', '488 SEGAR ROAD', '119 PENDING ROAD', '127 PENDING ROAD', '122 PENDING ROAD', '518 CHOA CHU KANG STREET 51', '452 CHOA CHU KANG AVENUE 4', '766 CHOA CHU KANG NORTH 5', '572 CHOA CHU KANG STREET 52', '574 CHOA CHU KANG STREET 52', '502 CHOA CHU KANG STREET 51', '131 CHOA CHU KANG AVENUE 1', '527 CHOA CHU KANG STREET 51', '102 HOUGANG AVENUE 1', '409 HOUGANG AVENUE 10', '236 JURONG EAST STREET 21', '183C BOON LAY AVENUE', '517A JURONG WEST STREET 52', '752 JURONG WEST STREET 74', '336 TAH CHING ROAD', '61 JALAN TENTERAM', '813 JELLICOE ROAD', '148 PASIR RIS STREET 13', '155 PASIR RIS STREET 13', '713 PASIR RIS STREET 72', '535 PASIR RIS DRIVE 1', '265A PUNGGOL WAY', '47 STIRLING ROAD', '463C SEMBAWANG DRIVE', '326 SEMBAWANG CRESCENT', '234 COMPASSVALE WALK', '451A SENGKANG WEST WAY', '524 SERANGOON NORTH AVENUE 4', '536 SERANGOON NORTH AVENUE 4', '334 SERANGOON AVENUE 3', '316 SERANGOON AVENUE 2', '913 TAMPINES STREET 91', '256 SIMEI STREET 1', '488A TAMPINES AVENUE 9', '454 TAMPINES STREET 42', '230 LORONG 8 TOA PAYOH', '332 WOODLANDS AVENUE 1', '401 WOODLANDS STREET 41', '174 WOODLANDS STREET 13', '348D YISHUN AVENUE 11', '426C YISHUN AVENUE 11', '336B YISHUN STREET 31', '426D YISHUN AVENUE 11', '336C YISHUN STREET 31', '527 BEDOK NORTH STREET 3', '217 BEDOK NORTH STREET 1', '662 JALAN DAMAI', '140 BISHAN STREET 12', '266 BISHAN STREET 24', '285 BUKIT BATOK EAST AVENUE 3', '362 BUKIT BATOK STREET 31', '11 JALAN BUKIT MERAH', '27 TELOK BLANGAH WAY', '114 DEPOT ROAD', '25 TELOK BLANGAH CRESCENT', '486 SEGAR ROAD', '487 SEGAR ROAD', '213 PETIR ROAD', '129 PENDING ROAD', '535 UPPER CROSS STREET', '166A TECK WHYE CRESCENT', '137 TECK WHYE LANE', '672B CHOA CHU KANG CRESCENT', '462 CHOA CHU KANG AVENUE 4', '550 CHOA CHU KANG STREET 52', '611 CHOA CHU KANG STREET 62', '202 CLEMENTI AVENUE 6', '717 CLEMENTI WEST STREET 2', '692 HOUGANG STREET 61', '303 HOUGANG AVENUE 5', '211 HOUGANG STREET 21', '697 HOUGANG STREET 61', '226 JURONG EAST STREET 21', '501 JURONG WEST STREET 51', '487 JURONG WEST AVENUE 1', '183B BOON LAY AVENUE', '328 TAH CHING ROAD', '702 JURONG WEST STREET 71', '40 JALAN BAHAGIA', \"17 SAINT GEORGE'S ROAD\", '107 JALAN RAJAH', '4 BOON KENG ROAD', '461 PASIR RIS DRIVE 4', '197 PASIR RIS STREET 12', '633A PUNGGOL DRIVE', '265C PUNGGOL WAY', '265B PUNGGOL WAY', '463A SEMBAWANG DRIVE', '159A RIVERVALE CRESCENT', '324B SENGKANG EAST WAY', '139 RIVERVALE STREET', '326 SERANGOON AVENUE 3', '301 SERANGOON AVENUE 2', '302 TAMPINES STREET 32', '371 TAMPINES STREET 34', '450G TAMPINES STREET 42', '120 POTONG PASIR AVENUE 1', '678 WOODLANDS AVENUE 6', '167 WOODLANDS STREET 11', '412 WOODLANDS STREET 41', '846 YISHUN RING ROAD', '426B YISHUN AVENUE 11', '428B YISHUN AVENUE 11', '358 YISHUN RING ROAD', '253A ANG MO KIO STREET 21', '123 BUKIT BATOK CENTRAL', '485 SEGAR ROAD', '202 PETIR ROAD', '218 CHOA CHU KANG CENTRAL', '708 CHOA CHU KANG STREET 53', '414 EUNOS ROAD 5', '3 JOO CHIAT ROAD', '503 HOUGANG AVENUE 8', '676 HOUGANG AVENUE 8', '545 HOUGANG AVENUE 8', '456 JURONG WEST STREET 41', '366 CORPORATION DRIVE', '488 JURONG WEST AVENUE 1', '749 JURONG WEST STREET 73', '819 JURONG WEST STREET 81', '77 MARINE DRIVE', '611 ELIAS ROAD', '777 PASIR RIS STREET 71', '265D PUNGGOL WAY', '452B SENGKANG WEST WAY', '452A SENGKANG WEST WAY', '501 SERANGOON NORTH AVENUE 4', '396 TAMPINES AVENUE 7', '782A WOODLANDS CRESCENT', '334 WOODLANDS STREET 32', '117 MARSILING RISE', '348A YISHUN AVENUE 11', '347B YISHUN AVENUE 11', '850 YISHUN STREET 81', '348C YISHUN AVENUE 11', '205 ANG MO KIO AVENUE 1', '545 ANG MO KIO AVENUE 10', '59 NEW UPPER CHANGI ROAD', '163 BEDOK SOUTH ROAD', '152 BISHAN STREET 11', '247 BISHAN STREET 22', '143 BUKIT BATOK STREET 11', '353 BUKIT BATOK STREET 34', '218 BUKIT BATOK STREET 21', '124B BUKIT MERAH VIEW', '334 KRETA AYER ROAD', '571 CHOA CHU KANG STREET 52', '104 TECK WHYE LANE', '306 CHOA CHU KANG AVENUE 4', '221 CHOA CHU KANG CENTRAL', '512 CHOA CHU KANG STREET 51', '134 TECK WHYE LANE', '103 CLEMENTI STREET 14', '92A PIPIT ROAD', '41 CIRCUIT ROAD', '173 HOUGANG AVENUE 1', '348 JURONG EAST AVENUE 1', '542 JURONG WEST AVENUE 1', '202 BOON LAY DRIVE', '937 JURONG WEST STREET 91', '842 JURONG WEST STREET 81', '470 JURONG WEST STREET 41', '423 PASIR RIS DRIVE 6', '543 PASIR RIS STREET 51', '266C PUNGGOL WAY', '590A MONTREAL LINK', '451B SENGKANG WEST WAY', '192B RIVERVALE DRIVE', '326A ANCHORVALE ROAD', '263 SERANGOON CENTRAL DRIVE', '860A TAMPINES AVENUE 5', '160 TAMPINES STREET 12', '85 LORONG 4 TOA PAYOH', '107 LORONG 1 TOA PAYOH', '242 KIM KEAT LINK', '19 JOO SENG ROAD', '780B WOODLANDS CRESCENT', '782D WOODLANDS CRESCENT', '782B WOODLANDS CRESCENT', '122 MARSILING RISE', '328 WOODLANDS STREET 32', '348B YISHUN AVENUE 11', '248 YISHUN AVENUE 9', '316B YISHUN AVENUE 9', '347 ANG MO KIO AVENUE 3', '633 BEDOK RESERVOIR ROAD', '139 BISHAN STREET 12', '48 MOH GUAN TERRACE', '35 LIM LIAK STREET', '234 BUKIT PANJANG RING ROAD', '546B SEGAR ROAD', '222 PENDING ROAD', '450 CHOA CHU KANG AVENUE 4', '55 PIPIT ROAD', '403 HOUGANG AVENUE 10', '687 HOUGANG STREET 61', '509 HOUGANG AVENUE 10', '839 JURONG WEST STREET 81', '196B BOON LAY DRIVE', '827 JURONG WEST STREET 81', '708 JURONG WEST STREET 71', '186 PASIR RIS STREET 11', '736 PASIR RIS DRIVE 10', '266B PUNGGOL WAY', '266D PUNGGOL WAY', '591A MONTREAL LINK', '592B MONTREAL LINK', '593A MONTREAL LINK', '592C MONTREAL LINK', '187A RIVERVALE DRIVE', '123 RIVERVALE DRIVE', '235 SIMEI STREET 4', '48 LORONG 5 TOA PAYOH', '780E WOODLANDS CRESCENT', '797 YISHUN RING ROAD', '158 YISHUN STREET 11', '424D YISHUN AVENUE 11', '335C YISHUN STREET 31', '336A YISHUN STREET 31', '159 ANG MO KIO AVENUE 4', '338 ANG MO KIO AVENUE 1', '722 ANG MO KIO AVENUE 8', '10F BEDOK SOUTH AVENUE 2', '173 BISHAN STREET 13', '372 BUKIT BATOK STREET 31', '137 BUKIT BATOK WEST AVENUE 6', '542 BUKIT BATOK STREET 52', '33 LIM LIAK STREET', '546A SEGAR ROAD', '285 CHOA CHU KANG AVENUE 3', '609 CHOA CHU KANG STREET 62', '664 CHOA CHU KANG CRESCENT', '554 CHOA CHU KANG NORTH 6', '631 CHOA CHU KANG NORTH 6', '70 CIRCUIT ROAD', '416 EUNOS ROAD 5', '683 HOUGANG AVENUE 8', '672 HOUGANG AVENUE 8', '355 HOUGANG AVENUE 7', '614 HOUGANG AVENUE 8', '471A UPPER SERANGOON CRESCENT', '670 HOUGANG AVENUE 8', '612 HOUGANG AVENUE 8', '212 JURONG EAST STREET 21', '197C BOON LAY DRIVE', '567 PASIR RIS STREET 51', '313B SUMANG LINK', '592A MONTREAL LINK', '590B MONTREAL LINK', '326B ANCHORVALE ROAD', '327A ANCHORVALE ROAD', '327C ANCHORVALE ROAD', '282B SENGKANG EAST AVENUE', '281B SENGKANG EAST AVENUE', '282A SENGKANG EAST AVENUE', '188D RIVERVALE DRIVE', '468 TAMPINES STREET 44', '201E TAMPINES STREET 23', '522A TAMPINES CENTRAL 7', '459 TAMPINES STREET 42', '457 TAMPINES STREET 42', '382 TAMPINES STREET 32', '522C TAMPINES CENTRAL 7', '70 LORONG 4 TOA PAYOH', '243 KIM KEAT LINK', '782C WOODLANDS CRESCENT', '780A WOODLANDS CRESCENT', '780C WOODLANDS CRESCENT', '780D WOODLANDS CRESCENT', '654 WOODLANDS RING ROAD', '112 WOODLANDS STREET 13', '424A YISHUN AVENUE 11', '333B YISHUN STREET 31', '809 YISHUN RING ROAD', '430A YISHUN AVENUE 11', '333A YISHUN STREET 31', '315B YISHUN AVENUE 9', '334B YISHUN STREET 31', '315A YISHUN AVENUE 9', '63 CHAI CHEE ROAD', '613A BEDOK RESERVOIR ROAD', '278 BISHAN STREET 24', '162 BISHAN STREET 13', '424 BUKIT BATOK WEST AVENUE 2', '532 BUKIT BATOK STREET 51', '104 HENDERSON CRESCENT', '547D SEGAR ROAD', '547A SEGAR ROAD', '546C SEGAR ROAD', '166B TECK WHYE CRESCENT', '682 HOUGANG AVENUE 4', '470A UPPER SERANGOON CRESCENT', '470C UPPER SERANGOON CRESCENT', '471B UPPER SERANGOON CRESCENT', '273 TOH GUAN ROAD', '220 JURONG EAST STREET 21', '428 JURONG WEST AVENUE 1', '918 JURONG WEST STREET 91', '363 YUNG AN ROAD', '313A SUMANG LINK', '593B MONTREAL LINK', '590C MONTREAL LINK', '281A SENGKANG EAST AVENUE', '332C ANCHORVALE LINK', '327B ANCHORVALE ROAD', '332A ANCHORVALE LINK', '332B ANCHORVALE LINK', '333D ANCHORVALE LINK', '333B ANCHORVALE LINK', '280A SENGKANG EAST AVENUE', '869A TAMPINES AVENUE 8', '869B TAMPINES AVENUE 8', '886 TAMPINES STREET 83', '780F WOODLANDS CRESCENT', '329 WOODLANDS STREET 32', '849 WOODLANDS STREET 82', '424C YISHUN AVENUE 11', '428A YISHUN AVENUE 11', '431C YISHUN AVENUE 1', '431B YISHUN AVENUE 1', '315C YISHUN AVENUE 9', '213 YISHUN STREET 21', '318C YISHUN AVENUE 9', '316C YISHUN AVENUE 9', '307B ANG MO KIO AVENUE 1', '120 BISHAN STREET 12', '249 BISHAN STREET 22', '14 JALAN BUKIT MERAH', '547B SEGAR ROAD', '317 UBI AVENUE 1', '43 JALAN TIGA', '174B HOUGANG AVENUE 1', '470B UPPER SERANGOON CRESCENT', '235 JURONG EAST STREET 21', '403 PANDAN GARDENS', '288C JURONG EAST STREET 21', '196A BOON LAY DRIVE', '197B BOON LAY DRIVE', '197D BOON LAY DRIVE', '43 JALAN BAHAGIA', '704 PASIR RIS DRIVE 10', '242 PASIR RIS STREET 21', '312C SUMANG LINK', '312A SUMANG LINK', '266A PUNGGOL WAY', '47 HOLLAND DRIVE', '453B FERNVALE ROAD', '334A ANCHORVALE CRESCENT', '326C ANCHORVALE ROAD', '333C ANCHORVALE LINK', '280B SENGKANG EAST AVENUE', '325A SENGKANG EAST WAY', '282C SENGKANG EAST AVENUE', '262 SERANGOON CENTRAL DRIVE', '324 SERANGOON AVENUE 3', '410 SERANGOON CENTRAL', '402 TAMPINES STREET 41', '888A TAMPINES STREET 81', '318 TAMPINES STREET 33', '230 TAMPINES STREET 24', '868A TAMPINES AVENUE 8', '522B TAMPINES CENTRAL 7', '230E TAMPINES STREET 24', '252 KIM KEAT LINK', '782E WOODLANDS CRESCENT', '828 WOODLANDS STREET 81', '747 YISHUN STREET 72', '424B YISHUN AVENUE 11', '748 YISHUN STREET 72', '316A YISHUN AVENUE 9', '230 YISHUN STREET 21', '430B YISHUN AVENUE 11', '429B YISHUN AVENUE 11', '431D YISHUN AVENUE 1', '334C YISHUN STREET 31', '926 YISHUN CENTRAL 1', '432D YISHUN AVENUE 1', '432C YISHUN AVENUE 1', '464 ANG MO KIO AVENUE 10', '261 BUKIT BATOK EAST AVENUE 4', '541 BUKIT BATOK STREET 52', '514 JELAPANG ROAD', '605 CHOA CHU KANG STREET 62', '380 CLEMENTI AVENUE 5', '168 HOUGANG AVENUE 1', '338 JURONG EAST AVENUE 1', '25 TEBAN GARDENS ROAD', '715 JURONG WEST STREET 71', '175C YUNG KUANG ROAD', '175A YUNG KUANG ROAD', '51 JALAN BAHAGIA', '527A PASIR RIS STREET 51', '420 PASIR RIS DRIVE 6', '313C SUMANG LINK', '453A FERNVALE ROAD', '331C ANCHORVALE STREET', '279C SENGKANG EAST AVENUE', '326D ANCHORVALE ROAD', '333A ANCHORVALE LINK', '334B ANCHORVALE CRESCENT', '868C TAMPINES AVENUE 8', '523B TAMPINES CENTRAL 7', '523C TAMPINES CENTRAL 7', '856E TAMPINES STREET 82', '342B YISHUN RING ROAD', '432B YISHUN AVENUE 1', '334D YISHUN STREET 31', '931 YISHUN CENTRAL 1', '509 BEDOK NORTH STREET 3', '403 BUKIT BATOK WEST AVENUE 7', '297 CHOA CHU KANG AVENUE 2', '551 CHOA CHU KANG STREET 52', '556 CHOA CHU KANG NORTH 6', '124 PAYA LEBAR WAY', '243 HOUGANG STREET 22', '438 HOUGANG AVENUE 8', '39 TEBAN GARDENS ROAD', '439 JURONG WEST AVENUE 1', '197A BOON LAY DRIVE', '175B YUNG KUANG ROAD', '701 JURONG WEST STREET 71', \"805 KING GEORGE'S AVENUE\", '42 JALAN BAHAGIA', '526A PASIR RIS STREET 51', '525C PASIR RIS STREET 51', '524A PASIR RIS STREET 51', '312B SUMANG LINK', '264A PUNGGOL WAY', '40 HOLLAND DRIVE', '453D FERNVALE ROAD', '279A SENGKANG EAST AVENUE', '105 RIVERVALE WALK', '440A FERNVALE LINK', '329A ANCHORVALE STREET', '453C FERNVALE ROAD', '223C COMPASSVALE WALK', '279B SENGKANG EAST AVENUE', '313 SERANGOON AVENUE 2', '519C TAMPINES CENTRAL 8', '159 SIMEI ROAD', '496G TAMPINES AVENUE 9', '894A WOODLANDS DRIVE 50', '317C YISHUN AVENUE 9', '431A YISHUN AVENUE 1', '317A YISHUN AVENUE 9', '318B YISHUN AVENUE 9', '318A YISHUN AVENUE 9', '632 ANG MO KIO AVENUE 4', '252 BISHAN STREET 22', '513 BUKIT BATOK STREET 52', '52 TELOK BLANGAH DRIVE', '103 GANGSA ROAD', '547C SEGAR ROAD', '459 SEGAR ROAD', '208 CHOA CHU KANG CENTRAL', '303 JURONG EAST STREET 32', '855 JURONG WEST STREET 81', '974 JURONG WEST STREET 93', '527B PASIR RIS STREET 51', '406 PASIR RIS DRIVE 6', '207 PASIR RIS STREET 21', '261C PUNGGOL WAY', '108 COMMONWEALTH CRESCENT', '440C FERNVALE LINK', '329B ANCHORVALE STREET', '440B FERNVALE LINK', '331B ANCHORVALE STREET', '335B ANCHORVALE CRESCENT', '524B TAMPINES CENTRAL 7', '520A TAMPINES CENTRAL 8', '519B TAMPINES CENTRAL 8', '523A TAMPINES CENTRAL 7', '519D TAMPINES CENTRAL 8', '253 KIM KEAT AVENUE', '131 POTONG PASIR AVENUE 1', '216 MARSILING LANE', '333D YISHUN STREET 31', '342C YISHUN RING ROAD', '334A YISHUN STREET 31', '335A YISHUN STREET 31', '432A YISHUN AVENUE 1', '437 ANG MO KIO AVENUE 10', '218 BISHAN STREET 23', '245 BUKIT BATOK EAST AVENUE 5', '6 KIM TIAN ROAD', '88 REDHILL CLOSE', '461 SEGAR ROAD', '635B SENJA ROAD', '550B SEGAR ROAD', '116 TECK WHYE LANE', '432 CHOA CHU KANG AVENUE 4', '756 CHOA CHU KANG NORTH 5', '530 HOUGANG AVENUE 6', '138A YUAN CHING ROAD', '703 PASIR RIS DRIVE 10', '528B PASIR RIS STREET 51', '525A PASIR RIS STREET 51', '526D PASIR RIS STREET 51', '526B PASIR RIS STREET 51', '46 HOLLAND DRIVE', '201B TAMPINES STREET 21', '520C TAMPINES CENTRAL 8', '523D TAMPINES CENTRAL 7', '501 TAMPINES CENTRAL 1', '180B MARSILING ROAD', '863 WOODLANDS STREET 83', '504A YISHUN STREET 51', '335B YISHUN STREET 31', '333C YISHUN STREET 31', '640A YISHUN STREET 61', '636A YISHUN STREET 61', '274 BUKIT BATOK EAST AVENUE 4', '246 BUKIT BATOK EAST AVENUE 5', '10B BOON TIONG ROAD', '548B SEGAR ROAD', '460 SEGAR ROAD', '549B SEGAR ROAD', '634A SENJA ROAD', '635A SENJA ROAD', '549A SEGAR ROAD', '345 UBI AVENUE 1', '476B UPPER SERANGOON VIEW', '427 HOUGANG AVENUE 6', '528A PASIR RIS STREET 51', '525B PASIR RIS STREET 51', '526C PASIR RIS STREET 51', '524B PASIR RIS STREET 51', '259B PUNGGOL FIELD', '334C ANCHORVALE CRESCENT', '330B ANCHORVALE STREET', '331A ANCHORVALE STREET', '335A ANCHORVALE CRESCENT', '336B ANCHORVALE CRESCENT', '335C ANCHORVALE CRESCENT', '336D ANCHORVALE CRESCENT', '890C TAMPINES AVENUE 1', '137 SIMEI STREET 1', '890A TAMPINES AVENUE 1', '524A TAMPINES CENTRAL 7', '519A TAMPINES CENTRAL 8', '509 TAMPINES CENTRAL 1', '103 POTONG PASIR AVENUE 1', '732 YISHUN AVENUE 5', '429A YISHUN AVENUE 11', '317B YISHUN AVENUE 9', '505C YISHUN STREET 51', '344 YISHUN AVENUE 11', '114 BEDOK NORTH STREET 2', '203 BEDOK NORTH STREET 1', '747A BEDOK RESERVOIR CRESCENT', '748A BEDOK RESERVOIR CRESCENT', '748C BEDOK RESERVOIR CRESCENT', '747B BEDOK RESERVOIR CRESCENT', '121 BISHAN STREET 12', '550A SEGAR ROAD', '454 FAJAR ROAD', '636B SENJA ROAD', '636 VEERASAMY ROAD', '132 CHOA CHU KANG AVENUE 1', '452 HOUGANG AVENUE 10', '475C UPPER SERANGOON CRESCENT', '475B UPPER SERANGOON CRESCENT', '107 JURONG EAST STREET 13', '138D YUAN CHING ROAD', '39 JALAN BAHAGIA', '527C PASIR RIS STREET 51', '528C PASIR RIS STREET 51', '152 PASIR RIS STREET 13', '261A PUNGGOL WAY', '672D EDGEFIELD PLAINS', '259A PUNGGOL FIELD', '259C PUNGGOL FIELD', '667A PUNGGOL DRIVE', '260A PUNGGOL WAY', '336A ANCHORVALE CRESCENT', '336C ANCHORVALE CRESCENT', '330A ANCHORVALE STREET', '220 TAMPINES STREET 24', '890B TAMPINES AVENUE 1', '137 POTONG PASIR AVENUE 3', '135 MARSILING ROAD', '796A YISHUN RING ROAD', '342A YISHUN RING ROAD', '800 YISHUN RING ROAD', '504D YISHUN STREET 51', '505B YISHUN STREET 51', '505D YISHUN STREET 51', '650 ANG MO KIO STREET 61', '161 BEDOK SOUTH AVENUE 3', '503 BUKIT BATOK STREET 52', '27 LIM LIAK STREET', '29 LIM LIAK STREET', '634B SENJA ROAD', '488A CHOA CHU KANG AVENUE 5', '446 CLEMENTI AVENUE 3', '96 ALJUNIED CRESCENT', '476A UPPER SERANGOON VIEW', '477A UPPER SERANGOON VIEW', '359 HOUGANG AVENUE 5', '443 HOUGANG AVENUE 8', '475D UPPER SERANGOON CRESCENT', '138C YUAN CHING ROAD', '138B YUAN CHING ROAD', '524C PASIR RIS STREET 51', '183 PASIR RIS STREET 11', '673C EDGEFIELD PLAINS', '261B PUNGGOL WAY', '666B PUNGGOL DRIVE', \"23B QUEEN'S CLOSE\", '416B FERNVALE LINK', '414A FERNVALE LINK', '494E TAMPINES STREET 43', '863B TAMPINES STREET 83', '251 KIM KEAT LINK', '46 LORONG 5 TOA PAYOH', '126 POTONG PASIR AVENUE 1', '128 POTONG PASIR AVENUE 1', '180A MARSILING ROAD', '505A YISHUN STREET 51', '423 ANG MO KIO AVENUE 3', '748B BEDOK RESERVOIR CRESCENT', '747C BEDOK RESERVOIR CRESCENT', '46 TELOK BLANGAH DRIVE', '144 PETIR ROAD', '311B CLEMENTI AVENUE 4', '311C CLEMENTI AVENUE 4', '311A CLEMENTI AVENUE 4', '475A UPPER SERANGOON CRESCENT', '477B UPPER SERANGOON VIEW', '544 JURONG WEST STREET 42', '761 JURONG WEST STREET 74', '47 JALAN BAHAGIA', '527D PASIR RIS STREET 51', '580 PASIR RIS STREET 53', '672C EDGEFIELD PLAINS', '673B EDGEFIELD PLAINS', '672A EDGEFIELD PLAINS', '666A PUNGGOL DRIVE', '258B PUNGGOL FIELD', '260C PUNGGOL WAY', '260B PUNGGOL WAY', '414B FERNVALE LINK', '416C FERNVALE LINK', '225B COMPASSVALE WALK', '415B FERNVALE LINK', '857B TAMPINES STREET 83', '111 LORONG 1 TOA PAYOH', '664A YISHUN AVENUE 4', '355A YISHUN RING ROAD', '258 ANG MO KIO AVENUE 4', '109 BEDOK RESERVOIR ROAD', '162 BEDOK SOUTH ROAD', '636A SENJA ROAD', '548A SEGAR ROAD', '209 PETIR ROAD', '636C SENJA ROAD', '147 GANGSA ROAD', '487B CHOA CHU KANG AVENUE 5', '413 HOUGANG AVENUE 10', '476C UPPER SERANGOON VIEW', '477C UPPER SERANGOON VIEW', '643 PASIR RIS DRIVE 10', '672B EDGEFIELD PLAINS', '667B PUNGGOL DRIVE', '673A EDGEFIELD PLAINS', '665A PUNGGOL DRIVE', '258A PUNGGOL FIELD', '92 DAWSON ROAD', '89 DAWSON ROAD', '415A FERNVALE LINK', '416A FERNVALE LINK', '415C FERNVALE LINK', '472C FERNVALE STREET', '469B SENGKANG WEST WAY', '494D TAMPINES STREET 43', '485A TAMPINES AVENUE 9', '811 YISHUN RING ROAD', '504C YISHUN STREET 51', '504B YISHUN STREET 51', '807B CHAI CHEE ROAD', '642 BEDOK RESERVOIR ROAD', '635 BEDOK RESERVOIR ROAD', '352 BUKIT BATOK STREET 34', '489C CHOA CHU KANG AVENUE 5', '489A CHOA CHU KANG AVENUE 5', '487C CHOA CHU KANG AVENUE 5', '199 BOON LAY DRIVE', '478 PASIR RIS DRIVE 4', '665C PUNGGOL DRIVE', '308B PUNGGOL WALK', '308C PUNGGOL WALK', '671A EDGEFIELD PLAINS', '258C PUNGGOL FIELD', '468B FERNVALE LINK', '244 SERANGOON AVENUE 2', '324 WOODLANDS STREET 32', '666A YISHUN AVENUE 4', '490B CHOA CHU KANG AVENUE 5', '489D CHOA CHU KANG AVENUE 5', '490D CHOA CHU KANG AVENUE 5', '131 GEYLANG EAST AVENUE 1', '161 PASIR RIS STREET 13', '308A PUNGGOL WALK', '86 DAWSON ROAD', '90 DAWSON ROAD', '471C FERNVALE STREET', '472A FERNVALE STREET', '239 TAMPINES STREET 21', '807A CHAI CHEE ROAD', '488B CHOA CHU KANG AVENUE 5', '488C CHOA CHU KANG AVENUE 5', '21 HAIG ROAD', '671B EDGEFIELD PLAINS', '469C SENGKANG WEST WAY', '837 YISHUN STREET 81', '136 BEDOK NORTH AVENUE 3', '531 BEDOK NORTH STREET 3', '26 NEW UPPER CHANGI ROAD', '217 BISHAN STREET 23', '10 JALAN RUMAH TINGGI', '37 LIM LIAK STREET', '46 SENG POH ROAD', '45 LENGKOK BAHRU', '443A FAJAR ROAD', '443B FAJAR ROAD', '442D FAJAR ROAD', '490C CHOA CHU KANG AVENUE 5', '278 CHOA CHU KANG AVENUE 3', '490A CHOA CHU KANG AVENUE 5', '487A CHOA CHU KANG AVENUE 5', '489B CHOA CHU KANG AVENUE 5', '144 TECK WHYE LANE', '563 CHOA CHU KANG STREET 52', '376A HOUGANG STREET 32', '376B HOUGANG STREET 32', '259 JURONG EAST STREET 24', '415 PANDAN GARDENS', '479 JURONG WEST STREET 41', '530C PASIR RIS DRIVE 1', '670A EDGEFIELD PLAINS', '663A PUNGGOL DRIVE', '310A PUNGGOL WALK', '670C EDGEFIELD PLAINS', '665B PUNGGOL DRIVE', '91 DAWSON ROAD', '470A FERNVALE LINK', '469A SENGKANG WEST WAY', '412 SERANGOON CENTRAL', '858B TAMPINES AVENUE 5', '886A TAMPINES STREET 83', '128 SIMEI STREET 1', '761 YISHUN STREET 72', '281 YISHUN STREET 22', '807C CHAI CHEE ROAD', '808A CHAI CHEE ROAD', '652 JALAN TENAGA', '344 BUKIT BATOK STREET 34', '44 LENGKOK BAHRU', '212 PETIR ROAD', '443C FAJAR ROAD', '443D FAJAR ROAD', '807A CHOA CHU KANG AVENUE 1', '488D CHOA CHU KANG AVENUE 5', '722 CLEMENTI WEST STREET 2', '440C CLEMENTI AVENUE 3', '18D CIRCUIT ROAD', '350 UBI AVENUE 1', '104 ALJUNIED CRESCENT', '17B CIRCUIT ROAD', '17A CIRCUIT ROAD', '647 HOUGANG AVENUE 8', \"64 JALAN MA'MOR\", '58 GEYLANG BAHRU', \"19 SAINT GEORGE'S ROAD\", '536 PASIR RIS DRIVE 1', '664A PUNGGOL DRIVE', '310C PUNGGOL WALK', '668B EDGEFIELD PLAINS', '670B EDGEFIELD PLAINS', '663C PUNGGOL DRIVE', '664B PUNGGOL DRIVE', '679B PUNGGOL DRIVE', '679C PUNGGOL DRIVE', '679A PUNGGOL DRIVE', '310B PUNGGOL WALK', '669B EDGEFIELD PLAINS', '669A EDGEFIELD PLAINS', '663B PUNGGOL DRIVE', '93 DAWSON ROAD', '467A FERNVALE LINK', '471A FERNVALE STREET', '472B FERNVALE STREET', '471B FERNVALE STREET', '293D COMPASSVALE CRESCENT', '468C FERNVALE LINK', '422 TAMPINES STREET 41', '871C TAMPINES STREET 86', '808C CHAI CHEE ROAD', '405 BUKIT BATOK WEST AVENUE 7', '96A HENDERSON ROAD', '35 TELOK BLANGAH RISE', '442B FAJAR ROAD', '117 PENDING ROAD', '442C FAJAR ROAD', '18A CIRCUIT ROAD', '316 HOUGANG AVENUE 7', '656 HOUGANG AVENUE 8', '57 TEBAN GARDENS ROAD', '935 JURONG WEST STREET 91', '120 PASIR RIS STREET 11', '256C SUMANG WALK', '256D SUMANG WALK', '678A PUNGGOL DRIVE', '87 DAWSON ROAD', '868B TAMPINES AVENUE 8', '383 TAMPINES STREET 32', '246 KIM KEAT LINK', '240 LORONG 1 TOA PAYOH', '101B LORONG 2 TOA PAYOH', '176 WOODLANDS STREET 13', '361 YISHUN RING ROAD', '258 YISHUN STREET 22', '158 BEDOK SOUTH AVENUE 3', '105 LENGKONG TIGA', '222 BUKIT BATOK EAST AVENUE 3', '6 JALAN BUKIT HO SWEE', '440B CLEMENTI AVENUE 3', '376C HOUGANG STREET 32', '646 HOUGANG AVENUE 8', '961 JURONG WEST STREET 92', '8A UPPER BOON KENG ROAD', '530B PASIR RIS DRIVE 1', '530A PASIR RIS DRIVE 1', '668A EDGEFIELD PLAINS', '635C PUNGGOL DRIVE', '88 DAWSON ROAD', '470B FERNVALE LINK', '473A FERNVALE STREET', '294A COMPASSVALE CRESCENT', '468A FERNVALE LINK', '470C FERNVALE LINK', '164A RIVERVALE CRESCENT', '186 TOA PAYOH CENTRAL', '124 POTONG PASIR AVENUE 1', '411 WOODLANDS STREET 41', '808B CHAI CHEE ROAD', '95C HENDERSON ROAD', '104 SPOTTISWOODE PARK ROAD', '815A CHOA CHU KANG AVENUE 7', '442 CLEMENTI AVENUE 3', '332 CLEMENTI AVENUE 2', '18C CIRCUIT ROAD', '18B CIRCUIT ROAD', '844 SIMS AVENUE', '340 UBI AVENUE 1', '564 HOUGANG STREET 51', '55 TEBAN GARDENS ROAD', '519 JURONG WEST STREET 52', '8B UPPER BOON KENG ROAD', '256B SUMANG WALK', '677A PUNGGOL DRIVE', '316C PUNGGOL WAY', '256A SUMANG WALK', '678B PUNGGOL DRIVE', '46 STIRLING ROAD', '467B FERNVALE LINK', '164B RIVERVALE CRESCENT', '293A COMPASSVALE CRESCENT', '164C RIVERVALE CRESCENT', '870A TAMPINES STREET 86', '482 TAMPINES STREET 43', '871B TAMPINES STREET 86', '107 WOODLANDS STREET 13', '109 WOODLANDS STREET 13', '129 BISHAN STREET 12', '314 BUKIT BATOK STREET 32', '124 BUKIT BATOK CENTRAL', '25 LIM LIAK STREET', '17 SENG POH ROAD', '809B CHOA CHU KANG AVENUE 1', '807B CHOA CHU KANG AVENUE 1', '803A KEAT HONG CLOSE', '805A KEAT HONG CLOSE', '808D CHOA CHU KANG AVENUE 1', '809A CHOA CHU KANG AVENUE 1', '56 TEBAN GARDENS ROAD', '698B JURONG WEST CENTRAL 3', '698C JURONG WEST CENTRAL 3', '530D PASIR RIS DRIVE 1', '722 PASIR RIS STREET 72', '503 PASIR RIS STREET 52', '121B EDGEDALE PLAINS', '676A PUNGGOL DRIVE', '678C PUNGGOL DRIVE', '676C PUNGGOL DRIVE', '50 STIRLING ROAD', '293C COMPASSVALE CRESCENT', '216A COMPASSVALE DRIVE', '520B TAMPINES CENTRAL 8', '889C WOODLANDS DRIVE 50', '889A WOODLANDS DRIVE 50', '126 MARSILING RISE', '133 MARSILING RISE', '664 BUFFALO ROAD', '807C CHOA CHU KANG AVENUE 1', '254 CHOA CHU KANG AVENUE 2', '440A CLEMENTI AVENUE 3', '507 JURONG WEST STREET 52', '697A JURONG WEST CENTRAL 3', '41 CAMBRIDGE ROAD', '449 PASIR RIS DRIVE 6', '546 PASIR RIS STREET 51', '584 PASIR RIS STREET 53', '676D PUNGGOL DRIVE', '676B PUNGGOL DRIVE', '677B PUNGGOL DRIVE', '316D PUNGGOL WAY', '163C RIVERVALE CRESCENT', '293B COMPASSVALE CRESCENT', '215B COMPASSVALE DRIVE', '163B RIVERVALE CRESCENT', '163A RIVERVALE CRESCENT', '7 UPPER ALJUNIED LANE', '302A WOODLANDS STREET 31', '889B WOODLANDS DRIVE 50'], 4: ['Ang Mo Kio', 'Yio Chu Kang', 'Bedok Reservoir', 'Bedok', 'Tanah Merah', 'Kaki Bukit', 'Bedok North', 'Kembangan', 'Marymount', 'Bishan', 'Bukit Gombak', 'Bukit Batok', 'Tiong Bahru', 'Telok Blangah', 'HarbourFront', 'Queenstown', 'Redhill', 'Labrador Park', 'Cashew', 'Bukit Panjang', 'Beauty World', 'Farrer Road', 'Chinatown', 'Jalan Besar', 'Bencoolen', 'Tanjong Pagar', 'Bugis', 'Bras Basah', 'Outram Park', 'Choa Chu Kang', 'Yew Tee', 'Clementi', 'Mattar', 'MacPherson', 'Tai Seng', 'Eunos', 'Ubi', 'Paya Lebar', 'Dakota', 'Aljunied', 'Geylang Bahru', 'Mountbatten', 'Buangkok', 'Kovan', 'Hougang', 'Serangoon', 'Bartley', 'Jurong East', 'Chinese Garden', 'Pioneer', 'Boon Lay', 'Lakeside', 'Boon Keng', 'Farrer Park', 'Kallang', 'Lavender', 'Bendemeer', 'Toa Payoh', 'Changi Airport', 'Pasir Ris', 'Tampines East', 'Punggol', 'Commonwealth', 'Buona Vista', 'one-north', 'Holland Village', 'Dover', 'Sembawang', 'Sengkang', 'Lorong Chuan', 'Tampines', 'Tampines West', 'Simei', 'Braddell', 'Potong Pasir', 'Caldecott', 'Marsiling', 'Woodlands', 'Yishun', 'Khatib', 'Little India', 'Upper Changi', 'Woodleigh', 'Esplanade', 'Novena', 'Rochor', 'Nicoll Highway']}\n"
     ]
    },
    {
     "data": {
      "text/plain": [
       "((1000, 13), (1000, 13), (1000, 13))"
      ]
     },
     "execution_count": 27,
     "metadata": {},
     "output_type": "execute_result"
    }
   ],
   "source": [
    "# TODO: Enter your code here\n",
    "import matplotlib.pyplot as plt\n",
    "import numpy as np\n",
    "\n",
    "from alibi_detect.cd import ChiSquareDrift, TabularDrift\n",
    "from alibi_detect.saving import save_detector, load_detector\n",
    "df = pd.read_csv('hdb_price_prediction.csv')\n",
    "\n",
    "train_data = df[df['year'] <= 2020]\n",
    "X, y = train_data.drop(columns=[\"resale_price\"]), train_data[\"resale_price\"]\n",
    "\n",
    "feature_names = X.columns.tolist()\n",
    "print(feature_names)\n",
    "categorical_cols=[\"month\", \"town\", \"flat_model_type\", \"storey_range\", \"year\",\n",
    "\"full_address\", \"nearest_stn\"]\n",
    "print(X.shape, y.shape)\n",
    "\n",
    "# Create category_map dictionary\n",
    "category_map = {X.columns.get_loc(col): X[col].unique().tolist() for col in categorical_cols if col in X.columns}\n",
    "\n",
    "# Output the category_map\n",
    "print(category_map)\n",
    "\n",
    "\n",
    "n_ref = 1000\n",
    "n_test = 1000\n",
    "\n",
    "X_ref, X_t0, X_t1 = X[:n_ref], X[n_ref:n_ref + n_test], X[n_ref + n_test:n_ref + 2 * n_test]\n",
    "X_ref.shape, X_t0.shape, X_t1.shape"
   ]
  },
  {
   "cell_type": "code",
   "execution_count": 28,
   "metadata": {},
   "outputs": [
    {
     "name": "stdout",
     "output_type": "stream",
     "text": [
      "Drift? Yes!\n"
     ]
    }
   ],
   "source": [
    "categories_per_feature = {}\n",
    "\n",
    "i = 0\n",
    "for column in X:\n",
    "    if column in categorical_cols:\n",
    "        categories_per_feature[i] = None\n",
    "    i += 1\n",
    "\n",
    "# print((categories_per_feature))\n",
    "# print(type(X_ref.values))\n",
    "\n",
    "cd = TabularDrift(X_ref.values, p_val=.05, categories_per_feature=categories_per_feature)\n",
    "\n",
    "# print(\"Shape of X_ref:\", X_ref.values.shape)\n",
    "# print(\"Shape of X_t0:\", X_t0.values.shape)\n",
    "\n",
    "# print(\"Categorical feature indices:\", cd.cat_vars)\n",
    "# print(\"Number of columns in X_t0:\", X_t0.values.shape[1])\n",
    "\n",
    "preds = cd.predict(X_t0.values)\n",
    "labels = ['No!', 'Yes!']\n",
    "print('Drift? {}'.format(labels[preds['data']['is_drift']]))\n"
   ]
  },
  {
   "cell_type": "code",
   "execution_count": 29,
   "metadata": {},
   "outputs": [
    {
     "name": "stdout",
     "output_type": "stream",
     "text": [
      "month -- Chi2 1397.961 -- p-value 0.000\n",
      "year -- Chi2 0.000 -- p-value 1.000\n",
      "town -- Chi2 260.002 -- p-value 0.000\n",
      "full_address -- Chi2 1728.800 -- p-value 0.245\n",
      "nearest_stn -- Chi2 296.373 -- p-value 0.000\n",
      "dist_to_nearest_stn -- K-S 0.066 -- p-value 0.024\n",
      "dist_to_dhoby -- K-S 0.069 -- p-value 0.016\n",
      "degree_centrality -- K-S 0.029 -- p-value 0.783\n",
      "eigenvector_centrality -- K-S 0.076 -- p-value 0.006\n",
      "flat_model_type -- Chi2 33.994 -- p-value 0.281\n",
      "remaining_lease_years -- K-S 0.068 -- p-value 0.019\n",
      "floor_area_sqm -- K-S 0.049 -- p-value 0.175\n",
      "storey_range -- Chi2 18.917 -- p-value 0.168\n"
     ]
    }
   ],
   "source": [
    "for f in range(cd.n_features):\n",
    "    stat = 'Chi2' if f in list(categories_per_feature.keys()) else 'K-S'\n",
    "    fname = feature_names[f]\n",
    "    stat_val, p_val = preds['data']['distance'][f], preds['data']['p_val'][f]\n",
    "    print(f'{fname} -- {stat} {stat_val:.3f} -- p-value {p_val:.3f}')"
   ]
  },
  {
   "cell_type": "code",
   "execution_count": 30,
   "metadata": {},
   "outputs": [],
   "source": [
    "fpreds = cd.predict(X_t0.values, drift_type='feature')"
   ]
  },
  {
   "cell_type": "code",
   "execution_count": 31,
   "metadata": {},
   "outputs": [
    {
     "name": "stdout",
     "output_type": "stream",
     "text": [
      "month -- Drift? Yes! -- Chi2 1397.961 -- p-value 0.000\n",
      "year -- Drift? No! -- Chi2 0.000 -- p-value 1.000\n",
      "town -- Drift? Yes! -- Chi2 260.002 -- p-value 0.000\n",
      "full_address -- Drift? No! -- Chi2 1728.800 -- p-value 0.245\n",
      "nearest_stn -- Drift? Yes! -- Chi2 296.373 -- p-value 0.000\n",
      "dist_to_nearest_stn -- Drift? Yes! -- K-S 0.066 -- p-value 0.024\n",
      "dist_to_dhoby -- Drift? Yes! -- K-S 0.069 -- p-value 0.016\n",
      "degree_centrality -- Drift? No! -- K-S 0.029 -- p-value 0.783\n",
      "eigenvector_centrality -- Drift? Yes! -- K-S 0.076 -- p-value 0.006\n",
      "flat_model_type -- Drift? No! -- Chi2 33.994 -- p-value 0.281\n",
      "remaining_lease_years -- Drift? Yes! -- K-S 0.068 -- p-value 0.019\n",
      "floor_area_sqm -- Drift? No! -- K-S 0.049 -- p-value 0.175\n",
      "storey_range -- Drift? No! -- Chi2 18.917 -- p-value 0.168\n"
     ]
    }
   ],
   "source": [
    "for f in range(cd.n_features):\n",
    "    stat = 'Chi2' if f in list(categories_per_feature.keys()) else 'K-S'\n",
    "    fname = feature_names[f]\n",
    "    is_drift = fpreds['data']['is_drift'][f]\n",
    "    stat_val, p_val = fpreds['data']['distance'][f], fpreds['data']['p_val'][f]\n",
    "    print(f'{fname} -- Drift? {labels[is_drift]} -- {stat} {stat_val:.3f} -- p-value {p_val:.3f}')"
   ]
  },
  {
   "cell_type": "markdown",
   "metadata": {},
   "source": [
    "> Assuming that the flurry of housing measures have made an impact on the relationship between all the features and resale_price (i.e. P(Y|X) changes), which type of data distribution shift possibly led to model degradation?"
   ]
  },
  {
   "cell_type": "markdown",
   "metadata": {},
   "source": [
    "\\# TODO:\n",
    "\n",
    "For categorical features Chi-Square with a significant p-value indicates that the distribution of categories in the feature has changed. Drift in these features suggests a change in category proportions or distributional shifts in discrete values.\n",
    "\n",
    "On the other hand, for numerical features, it suggests a shift in the range, spread, or shape of the distribution.\n",
    "\n",
    "Changes in categorical distributions may affect how the model interprets location-based or time-based patterns. While shifts in numerical distributions (dist_to_nearest_stn or dist_to_dhoby) may impact how distance-related features are used for predictions.\n"
   ]
  },
  {
   "cell_type": "markdown",
   "metadata": {},
   "source": [
    "> From your analysis via TabularDrift, which features contribute to this shift?"
   ]
  },
  {
   "cell_type": "markdown",
   "metadata": {},
   "source": [
    "\\# TODO: \\\n",
    "From the above, we can see a few key variables that have drifted.\n",
    "1. month\n",
    "2. town\n",
    "3. nearest_stn\n",
    "4. dist_to_nearest_stn\n",
    "5. dist_to_dhoby\n",
    "6. eigenvector_centrality\n",
    "7. remaining_lease_years\n",
    "\n",
    "From these variables, it would be easier to visualize the data and understand how the distribution has shifted"
   ]
  },
  {
   "cell_type": "code",
   "execution_count": 36,
   "metadata": {},
   "outputs": [
    {
     "data": {
      "image/png": "[encoded data removed]",
      "text/plain": [
       "<Figure size 1200x600 with 1 Axes>"
      ]
     },
     "metadata": {},
     "output_type": "display_data"
    }
   ],
   "source": [
    "df = pd.read_csv('hdb_price_prediction.csv')\n",
    "\n",
    "# Filter data for the years 2020 and 2023\n",
    "data_2020 = df[df['year'] == 2020]\n",
    "data_2023 = df[df['year'] == 2023]\n",
    "\n",
    "# Extract 'dist_to_nearest_stn' for both years\n",
    "dist_to_dhoby_2020 = data_2020['dist_to_dhoby']\n",
    "dist_to_dhoby_2023 = data_2023['dist_to_dhoby']\n",
    "\n",
    "# Plot the distributions\n",
    "plt.figure(figsize=(12, 6))\n",
    "plt.hist(dist_to_dhoby_2020, bins=30, alpha=0.5, label='2020', color='blue', edgecolor='black')\n",
    "plt.hist(dist_to_dhoby_2023, bins=30, alpha=0.5, label='2023', color='orange', edgecolor='black')\n",
    "plt.title('Distribution of Distance to Dhoby (dist_to_dhoby) for 2020 and 2023')\n",
    "plt.xlabel('Distance to Nearest Station')\n",
    "plt.ylabel('Frequency')\n",
    "plt.legend()\n",
    "plt.show()"
   ]
  },
  {
   "cell_type": "markdown",
   "metadata": {},
   "source": [
    "> Suggest 1 way to address model degradation and implement it, showing improved test R2 for year 2023."
   ]
  },
  {
   "cell_type": "markdown",
   "metadata": {},
   "source": [
    "\\# TODO: \\\n",
    "Train the model by using data from 2023, so that the model will learn better given the shifts in policies that have affected the distribution."
   ]
  },
  {
   "cell_type": "code",
   "execution_count": 33,
   "metadata": {},
   "outputs": [],
   "source": [
    "# TODO: Enter your code here\n",
    "df = pd.read_csv('hdb_price_prediction.csv')\n",
    "test_data = df[df['year'] == 2023]"
   ]
  },
  {
   "cell_type": "code",
   "execution_count": 34,
   "metadata": {},
   "outputs": [
    {
     "data": {
      "text/html": [
       "<pre style=\"white-space:pre;overflow-x:auto;line-height:normal;font-family:Menlo,'DejaVu Sans Mono',consolas,'Courier New',monospace\"><span style=\"color: #008080; text-decoration-color: #008080; font-weight: bold\">2025</span>-<span style=\"color: #008080; text-decoration-color: #008080; font-weight: bold\">03</span>-<span style=\"color: #008080; text-decoration-color: #008080; font-weight: bold\">13</span> <span style=\"color: #00ff00; text-decoration-color: #00ff00; font-weight: bold\">12:33:50</span>,<span style=\"color: #008080; text-decoration-color: #008080; font-weight: bold\">420</span> - <span style=\"font-weight: bold\">{</span>pytorch_tabular.tabular_model:<span style=\"color: #008080; text-decoration-color: #008080; font-weight: bold\">146</span><span style=\"font-weight: bold\">}</span> - INFO - Experiment Tracking is turned off           \n",
       "</pre>\n"
      ],
      "text/plain": [
       "\u001b[1;36m2025\u001b[0m-\u001b[1;36m03\u001b[0m-\u001b[1;36m13\u001b[0m \u001b[1;92m12:33:50\u001b[0m,\u001b[1;36m420\u001b[0m - \u001b[1m{\u001b[0mpytorch_tabular.tabular_model:\u001b[1;36m146\u001b[0m\u001b[1m}\u001b[0m - INFO - Experiment Tracking is turned off           \n"
      ]
     },
     "metadata": {},
     "output_type": "display_data"
    }
   ],
   "source": [
    "\n",
    "data_config = DataConfig(\n",
    "    target=[\"resale_price\"],\n",
    "    continuous_cols=[\"dist_to_nearest_stn\", \"dist_to_dhoby\",\n",
    "\"degree_centrality\", \"eigenvector_centrality\", \"remaining_lease_years\",\n",
    "\"floor_area_sqm\"],\n",
    "    categorical_cols=[\"month\", \"town\", \"flat_model_type\", \"storey_range\"],\n",
    "    continuous_feature_transform=\"quantile_normal\",\n",
    "    normalize_continuous_features=True,\n",
    ")\n",
    "\n",
    "trainer_config = TrainerConfig(\n",
    "    auto_lr_find=True,\n",
    "    batch_size=1024,\n",
    "    max_epochs=50,\n",
    "    accelerator=\"auto\",  # can be 'cpu','gpu', 'tpu', or 'ipu'\n",
    "    devices=-1,\n",
    ")\n",
    "\n",
    "model_config = CategoryEmbeddingModelConfig(\n",
    "    task=\"regression\",\n",
    "    layers=\"50\",  # Number of nodes in each layer\n",
    "    # target_range = [(train_data[\"resale_price\"].min() * 0.8, train_data[\"resale_price\"].max() * 1.2)]\n",
    ")\n",
    "\n",
    "optimizer_config = OptimizerConfig() # Default is Adam\n",
    "\n",
    "tabular_model = TabularModel(\n",
    "    data_config=data_config,\n",
    "    trainer_config=trainer_config,\n",
    "    model_config=model_config,\n",
    "    optimizer_config=optimizer_config,\n",
    ")"
   ]
  },
  {
   "cell_type": "code",
   "execution_count": 35,
   "metadata": {},
   "outputs": [
    {
     "name": "stderr",
     "output_type": "stream",
     "text": [
      "Seed set to 42\n"
     ]
    },
    {
     "data": {
      "text/html": [
       "<pre style=\"white-space:pre;overflow-x:auto;line-height:normal;font-family:Menlo,'DejaVu Sans Mono',consolas,'Courier New',monospace\"><span style=\"color: #008080; text-decoration-color: #008080; font-weight: bold\">2025</span>-<span style=\"color: #008080; text-decoration-color: #008080; font-weight: bold\">03</span>-<span style=\"color: #008080; text-decoration-color: #008080; font-weight: bold\">13</span> <span style=\"color: #00ff00; text-decoration-color: #00ff00; font-weight: bold\">12:33:52</span>,<span style=\"color: #008080; text-decoration-color: #008080; font-weight: bold\">086</span> - <span style=\"font-weight: bold\">{</span>pytorch_tabular.tabular_model:<span style=\"color: #008080; text-decoration-color: #008080; font-weight: bold\">548</span><span style=\"font-weight: bold\">}</span> - INFO - Preparing the DataLoaders                   \n",
       "</pre>\n"
      ],
      "text/plain": [
       "\u001b[1;36m2025\u001b[0m-\u001b[1;36m03\u001b[0m-\u001b[1;36m13\u001b[0m \u001b[1;92m12:33:52\u001b[0m,\u001b[1;36m086\u001b[0m - \u001b[1m{\u001b[0mpytorch_tabular.tabular_model:\u001b[1;36m548\u001b[0m\u001b[1m}\u001b[0m - INFO - Preparing the DataLoaders                   \n"
      ]
     },
     "metadata": {},
     "output_type": "display_data"
    },
    {
     "data": {
      "text/html": [
       "<pre style=\"white-space:pre;overflow-x:auto;line-height:normal;font-family:Menlo,'DejaVu Sans Mono',consolas,'Courier New',monospace\"><span style=\"color: #008080; text-decoration-color: #008080; font-weight: bold\">2025</span>-<span style=\"color: #008080; text-decoration-color: #008080; font-weight: bold\">03</span>-<span style=\"color: #008080; text-decoration-color: #008080; font-weight: bold\">13</span> <span style=\"color: #00ff00; text-decoration-color: #00ff00; font-weight: bold\">12:33:52</span>,<span style=\"color: #008080; text-decoration-color: #008080; font-weight: bold\">164</span> - <span style=\"font-weight: bold\">{</span>pytorch_tabular.tabular_datamodul<span style=\"color: #00ff00; text-decoration-color: #00ff00; font-weight: bold\">e:522</span><span style=\"font-weight: bold\">}</span> - INFO - Setting up the datamodule for          \n",
       "regression task                                                                                                    \n",
       "</pre>\n"
      ],
      "text/plain": [
       "\u001b[1;36m2025\u001b[0m-\u001b[1;36m03\u001b[0m-\u001b[1;36m13\u001b[0m \u001b[1;92m12:33:52\u001b[0m,\u001b[1;36m164\u001b[0m - \u001b[1m{\u001b[0mpytorch_tabular.tabular_datamodul\u001b[1;92me:522\u001b[0m\u001b[1m}\u001b[0m - INFO - Setting up the datamodule for          \n",
       "regression task                                                                                                    \n"
      ]
     },
     "metadata": {},
     "output_type": "display_data"
    },
    {
     "name": "stderr",
     "output_type": "stream",
     "text": [
      "c:\\Users\\Alan Wong\\Desktop\\Assignment\\2025_NNDL_IndivAssignment\\.venv\\Lib\\site-packages\\pytorch_tabular\\categorical_encoders.py:71: FutureWarning: A value is trying to be set on a copy of a DataFrame or Series through chained assignment using an inplace method.\n",
      "The behavior will change in pandas 3.0. This inplace method will never work because the intermediate object on which we are setting values always behaves as a copy.\n",
      "\n",
      "For example, when doing 'df[col].method(value, inplace=True)', try using 'df.method({col: value}, inplace=True)' or df[col] = df[col].method(value) instead, to perform the operation inplace on the original object.\n",
      "\n",
      "\n",
      "  X_encoded[col].fillna(self._imputed, inplace=True)\n",
      "c:\\Users\\Alan Wong\\Desktop\\Assignment\\2025_NNDL_IndivAssignment\\.venv\\Lib\\site-packages\\pytorch_tabular\\categorical_encoders.py:71: FutureWarning: A value is trying to be set on a copy of a DataFrame or Series through chained assignment using an inplace method.\n",
      "The behavior will change in pandas 3.0. This inplace method will never work because the intermediate object on which we are setting values always behaves as a copy.\n",
      "\n",
      "For example, when doing 'df[col].method(value, inplace=True)', try using 'df.method({col: value}, inplace=True)' or df[col] = df[col].method(value) instead, to perform the operation inplace on the original object.\n",
      "\n",
      "\n",
      "  X_encoded[col].fillna(self._imputed, inplace=True)\n",
      "c:\\Users\\Alan Wong\\Desktop\\Assignment\\2025_NNDL_IndivAssignment\\.venv\\Lib\\site-packages\\pytorch_tabular\\categorical_encoders.py:71: FutureWarning: A value is trying to be set on a copy of a DataFrame or Series through chained assignment using an inplace method.\n",
      "The behavior will change in pandas 3.0. This inplace method will never work because the intermediate object on which we are setting values always behaves as a copy.\n",
      "\n",
      "For example, when doing 'df[col].method(value, inplace=True)', try using 'df.method({col: value}, inplace=True)' or df[col] = df[col].method(value) instead, to perform the operation inplace on the original object.\n",
      "\n",
      "\n",
      "  X_encoded[col].fillna(self._imputed, inplace=True)\n",
      "c:\\Users\\Alan Wong\\Desktop\\Assignment\\2025_NNDL_IndivAssignment\\.venv\\Lib\\site-packages\\pytorch_tabular\\categorical_encoders.py:71: FutureWarning: A value is trying to be set on a copy of a DataFrame or Series through chained assignment using an inplace method.\n",
      "The behavior will change in pandas 3.0. This inplace method will never work because the intermediate object on which we are setting values always behaves as a copy.\n",
      "\n",
      "For example, when doing 'df[col].method(value, inplace=True)', try using 'df.method({col: value}, inplace=True)' or df[col] = df[col].method(value) instead, to perform the operation inplace on the original object.\n",
      "\n",
      "\n",
      "  X_encoded[col].fillna(self._imputed, inplace=True)\n",
      "c:\\Users\\Alan Wong\\Desktop\\Assignment\\2025_NNDL_IndivAssignment\\.venv\\Lib\\site-packages\\pytorch_tabular\\categorical_encoders.py:71: FutureWarning: A value is trying to be set on a copy of a DataFrame or Series through chained assignment using an inplace method.\n",
      "The behavior will change in pandas 3.0. This inplace method will never work because the intermediate object on which we are setting values always behaves as a copy.\n",
      "\n",
      "For example, when doing 'df[col].method(value, inplace=True)', try using 'df.method({col: value}, inplace=True)' or df[col] = df[col].method(value) instead, to perform the operation inplace on the original object.\n",
      "\n",
      "\n",
      "  X_encoded[col].fillna(self._imputed, inplace=True)\n",
      "c:\\Users\\Alan Wong\\Desktop\\Assignment\\2025_NNDL_IndivAssignment\\.venv\\Lib\\site-packages\\pytorch_tabular\\categorical_encoders.py:71: FutureWarning: A value is trying to be set on a copy of a DataFrame or Series through chained assignment using an inplace method.\n",
      "The behavior will change in pandas 3.0. This inplace method will never work because the intermediate object on which we are setting values always behaves as a copy.\n",
      "\n",
      "For example, when doing 'df[col].method(value, inplace=True)', try using 'df.method({col: value}, inplace=True)' or df[col] = df[col].method(value) instead, to perform the operation inplace on the original object.\n",
      "\n",
      "\n",
      "  X_encoded[col].fillna(self._imputed, inplace=True)\n",
      "c:\\Users\\Alan Wong\\Desktop\\Assignment\\2025_NNDL_IndivAssignment\\.venv\\Lib\\site-packages\\pytorch_tabular\\categorical_encoders.py:71: FutureWarning: A value is trying to be set on a copy of a DataFrame or Series through chained assignment using an inplace method.\n",
      "The behavior will change in pandas 3.0. This inplace method will never work because the intermediate object on which we are setting values always behaves as a copy.\n",
      "\n",
      "For example, when doing 'df[col].method(value, inplace=True)', try using 'df.method({col: value}, inplace=True)' or df[col] = df[col].method(value) instead, to perform the operation inplace on the original object.\n",
      "\n",
      "\n",
      "  X_encoded[col].fillna(self._imputed, inplace=True)\n",
      "c:\\Users\\Alan Wong\\Desktop\\Assignment\\2025_NNDL_IndivAssignment\\.venv\\Lib\\site-packages\\pytorch_tabular\\categorical_encoders.py:71: FutureWarning: A value is trying to be set on a copy of a DataFrame or Series through chained assignment using an inplace method.\n",
      "The behavior will change in pandas 3.0. This inplace method will never work because the intermediate object on which we are setting values always behaves as a copy.\n",
      "\n",
      "For example, when doing 'df[col].method(value, inplace=True)', try using 'df.method({col: value}, inplace=True)' or df[col] = df[col].method(value) instead, to perform the operation inplace on the original object.\n",
      "\n",
      "\n",
      "  X_encoded[col].fillna(self._imputed, inplace=True)\n"
     ]
    },
    {
     "data": {
      "text/html": [
       "<pre style=\"white-space:pre;overflow-x:auto;line-height:normal;font-family:Menlo,'DejaVu Sans Mono',consolas,'Courier New',monospace\"><span style=\"color: #008080; text-decoration-color: #008080; font-weight: bold\">2025</span>-<span style=\"color: #008080; text-decoration-color: #008080; font-weight: bold\">03</span>-<span style=\"color: #008080; text-decoration-color: #008080; font-weight: bold\">13</span> <span style=\"color: #00ff00; text-decoration-color: #00ff00; font-weight: bold\">12:33:52</span>,<span style=\"color: #008080; text-decoration-color: #008080; font-weight: bold\">505</span> - <span style=\"font-weight: bold\">{</span>pytorch_tabular.tabular_model:<span style=\"color: #008080; text-decoration-color: #008080; font-weight: bold\">599</span><span style=\"font-weight: bold\">}</span> - INFO - Preparing the Model: CategoryEmbeddingModel \n",
       "</pre>\n"
      ],
      "text/plain": [
       "\u001b[1;36m2025\u001b[0m-\u001b[1;36m03\u001b[0m-\u001b[1;36m13\u001b[0m \u001b[1;92m12:33:52\u001b[0m,\u001b[1;36m505\u001b[0m - \u001b[1m{\u001b[0mpytorch_tabular.tabular_model:\u001b[1;36m599\u001b[0m\u001b[1m}\u001b[0m - INFO - Preparing the Model: CategoryEmbeddingModel \n"
      ]
     },
     "metadata": {},
     "output_type": "display_data"
    },
    {
     "data": {
      "text/html": [
       "<pre style=\"white-space:pre;overflow-x:auto;line-height:normal;font-family:Menlo,'DejaVu Sans Mono',consolas,'Courier New',monospace\"><span style=\"color: #008080; text-decoration-color: #008080; font-weight: bold\">2025</span>-<span style=\"color: #008080; text-decoration-color: #008080; font-weight: bold\">03</span>-<span style=\"color: #008080; text-decoration-color: #008080; font-weight: bold\">13</span> <span style=\"color: #00ff00; text-decoration-color: #00ff00; font-weight: bold\">12:33:52</span>,<span style=\"color: #008080; text-decoration-color: #008080; font-weight: bold\">559</span> - <span style=\"font-weight: bold\">{</span>pytorch_tabular.tabular_model:<span style=\"color: #008080; text-decoration-color: #008080; font-weight: bold\">342</span><span style=\"font-weight: bold\">}</span> - INFO - Preparing the Trainer                       \n",
       "</pre>\n"
      ],
      "text/plain": [
       "\u001b[1;36m2025\u001b[0m-\u001b[1;36m03\u001b[0m-\u001b[1;36m13\u001b[0m \u001b[1;92m12:33:52\u001b[0m,\u001b[1;36m559\u001b[0m - \u001b[1m{\u001b[0mpytorch_tabular.tabular_model:\u001b[1;36m342\u001b[0m\u001b[1m}\u001b[0m - INFO - Preparing the Trainer                       \n"
      ]
     },
     "metadata": {},
     "output_type": "display_data"
    },
    {
     "name": "stderr",
     "output_type": "stream",
     "text": [
      "GPU available: True (cuda), used: True\n",
      "TPU available: False, using: 0 TPU cores\n",
      "HPU available: False, using: 0 HPUs\n"
     ]
    },
    {
     "data": {
      "text/html": [
       "<pre style=\"white-space:pre;overflow-x:auto;line-height:normal;font-family:Menlo,'DejaVu Sans Mono',consolas,'Courier New',monospace\"><span style=\"color: #008080; text-decoration-color: #008080; font-weight: bold\">2025</span>-<span style=\"color: #008080; text-decoration-color: #008080; font-weight: bold\">03</span>-<span style=\"color: #008080; text-decoration-color: #008080; font-weight: bold\">13</span> <span style=\"color: #00ff00; text-decoration-color: #00ff00; font-weight: bold\">12:33:52</span>,<span style=\"color: #008080; text-decoration-color: #008080; font-weight: bold\">582</span> - <span style=\"font-weight: bold\">{</span>pytorch_tabular.tabular_model:<span style=\"color: #008080; text-decoration-color: #008080; font-weight: bold\">656</span><span style=\"font-weight: bold\">}</span> - INFO - Auto LR Find Started                        \n",
       "</pre>\n"
      ],
      "text/plain": [
       "\u001b[1;36m2025\u001b[0m-\u001b[1;36m03\u001b[0m-\u001b[1;36m13\u001b[0m \u001b[1;92m12:33:52\u001b[0m,\u001b[1;36m582\u001b[0m - \u001b[1m{\u001b[0mpytorch_tabular.tabular_model:\u001b[1;36m656\u001b[0m\u001b[1m}\u001b[0m - INFO - Auto LR Find Started                        \n"
      ]
     },
     "metadata": {},
     "output_type": "display_data"
    },
    {
     "name": "stderr",
     "output_type": "stream",
     "text": [
      "c:\\Users\\Alan Wong\\Desktop\\Assignment\\2025_NNDL_IndivAssignment\\.venv\\Lib\\site-packages\\pytorch_lightning\\callbacks\\model_checkpoint.py:654: Checkpoint directory C:\\Users\\Alan Wong\\Desktop\\Assignment\\2025_NNDL_IndivAssignment\\saved_models exists and is not empty.\n",
      "LOCAL_RANK: 0 - CUDA_VISIBLE_DEVICES: [0]\n",
      "c:\\Users\\Alan Wong\\Desktop\\Assignment\\2025_NNDL_IndivAssignment\\.venv\\Lib\\site-packages\\pytorch_lightning\\trainer\\connectors\\data_connector.py:424: The 'train_dataloader' does not have many workers which may be a bottleneck. Consider increasing the value of the `num_workers` argument` to `num_workers=11` in the `DataLoader` to improve performance.\n",
      "c:\\Users\\Alan Wong\\Desktop\\Assignment\\2025_NNDL_IndivAssignment\\.venv\\Lib\\site-packages\\pytorch_lightning\\trainer\\connectors\\data_connector.py:424: The 'val_dataloader' does not have many workers which may be a bottleneck. Consider increasing the value of the `num_workers` argument` to `num_workers=11` in the `DataLoader` to improve performance.\n"
     ]
    },
    {
     "data": {
      "application/vnd.jupyter.widget-view+json": {
       "model_id": "82abc22ed48d48a1ae79c32abd6760a3",
       "version_major": 2,
       "version_minor": 0
      },
      "text/plain": [
       "Finding best initial lr:   0%|          | 0/100 [00:00<?, ?it/s]"
      ]
     },
     "metadata": {},
     "output_type": "display_data"
    },
    {
     "name": "stderr",
     "output_type": "stream",
     "text": [
      "`Trainer.fit` stopped: `max_steps=100` reached.\n",
      "Learning rate set to 0.5754399373371567\n",
      "Restoring states from the checkpoint path at c:\\Users\\Alan Wong\\Desktop\\Assignment\\2025_NNDL_IndivAssignment\\.lr_find_6dcad6d7-c920-4f67-8e17-ebc72db2c1d3.ckpt\n",
      "Restored all states from the checkpoint at c:\\Users\\Alan Wong\\Desktop\\Assignment\\2025_NNDL_IndivAssignment\\.lr_find_6dcad6d7-c920-4f67-8e17-ebc72db2c1d3.ckpt\n"
     ]
    },
    {
     "data": {
      "text/html": [
       "<pre style=\"white-space:pre;overflow-x:auto;line-height:normal;font-family:Menlo,'DejaVu Sans Mono',consolas,'Courier New',monospace\"><span style=\"color: #008080; text-decoration-color: #008080; font-weight: bold\">2025</span>-<span style=\"color: #008080; text-decoration-color: #008080; font-weight: bold\">03</span>-<span style=\"color: #008080; text-decoration-color: #008080; font-weight: bold\">13</span> <span style=\"color: #00ff00; text-decoration-color: #00ff00; font-weight: bold\">12:33:55</span>,<span style=\"color: #008080; text-decoration-color: #008080; font-weight: bold\">603</span> - <span style=\"font-weight: bold\">{</span>pytorch_tabular.tabular_model:<span style=\"color: #008080; text-decoration-color: #008080; font-weight: bold\">669</span><span style=\"font-weight: bold\">}</span> - INFO - Suggested LR: <span style=\"color: #008080; text-decoration-color: #008080; font-weight: bold\">0.5754399373371567</span>. For plot  \n",
       "and detailed analysis, use `find_learning_rate` method.                                                            \n",
       "</pre>\n"
      ],
      "text/plain": [
       "\u001b[1;36m2025\u001b[0m-\u001b[1;36m03\u001b[0m-\u001b[1;36m13\u001b[0m \u001b[1;92m12:33:55\u001b[0m,\u001b[1;36m603\u001b[0m - \u001b[1m{\u001b[0mpytorch_tabular.tabular_model:\u001b[1;36m669\u001b[0m\u001b[1m}\u001b[0m - INFO - Suggested LR: \u001b[1;36m0.5754399373371567\u001b[0m. For plot  \n",
       "and detailed analysis, use `find_learning_rate` method.                                                            \n"
      ]
     },
     "metadata": {},
     "output_type": "display_data"
    },
    {
     "data": {
      "text/html": [
       "<pre style=\"white-space:pre;overflow-x:auto;line-height:normal;font-family:Menlo,'DejaVu Sans Mono',consolas,'Courier New',monospace\"><span style=\"color: #008080; text-decoration-color: #008080; font-weight: bold\">2025</span>-<span style=\"color: #008080; text-decoration-color: #008080; font-weight: bold\">03</span>-<span style=\"color: #008080; text-decoration-color: #008080; font-weight: bold\">13</span> <span style=\"color: #00ff00; text-decoration-color: #00ff00; font-weight: bold\">12:33:55</span>,<span style=\"color: #008080; text-decoration-color: #008080; font-weight: bold\">606</span> - <span style=\"font-weight: bold\">{</span>pytorch_tabular.tabular_model:<span style=\"color: #008080; text-decoration-color: #008080; font-weight: bold\">678</span><span style=\"font-weight: bold\">}</span> - INFO - Training Started                            \n",
       "</pre>\n"
      ],
      "text/plain": [
       "\u001b[1;36m2025\u001b[0m-\u001b[1;36m03\u001b[0m-\u001b[1;36m13\u001b[0m \u001b[1;92m12:33:55\u001b[0m,\u001b[1;36m606\u001b[0m - \u001b[1m{\u001b[0mpytorch_tabular.tabular_model:\u001b[1;36m678\u001b[0m\u001b[1m}\u001b[0m - INFO - Training Started                            \n"
      ]
     },
     "metadata": {},
     "output_type": "display_data"
    },
    {
     "name": "stderr",
     "output_type": "stream",
     "text": [
      "LOCAL_RANK: 0 - CUDA_VISIBLE_DEVICES: [0]\n"
     ]
    },
    {
     "data": {
      "text/html": [
       "<pre style=\"white-space:pre;overflow-x:auto;line-height:normal;font-family:Menlo,'DejaVu Sans Mono',consolas,'Courier New',monospace\">┏━━━┳━━━━━━━━━━━━━━━━━━┳━━━━━━━━━━━━━━━━━━━━━━━━━━━┳━━━━━━━━┳━━━━━━━┓\n",
       "┃<span style=\"color: #800080; text-decoration-color: #800080; font-weight: bold\">   </span>┃<span style=\"color: #800080; text-decoration-color: #800080; font-weight: bold\"> Name             </span>┃<span style=\"color: #800080; text-decoration-color: #800080; font-weight: bold\"> Type                      </span>┃<span style=\"color: #800080; text-decoration-color: #800080; font-weight: bold\"> Params </span>┃<span style=\"color: #800080; text-decoration-color: #800080; font-weight: bold\"> Mode  </span>┃\n",
       "┡━━━╇━━━━━━━━━━━━━━━━━━╇━━━━━━━━━━━━━━━━━━━━━━━━━━━╇━━━━━━━━╇━━━━━━━┩\n",
       "│<span style=\"color: #7f7f7f; text-decoration-color: #7f7f7f\"> 0 </span>│ _backbone        │ CategoryEmbeddingBackbone │  3.0 K │ train │\n",
       "│<span style=\"color: #7f7f7f; text-decoration-color: #7f7f7f\"> 1 </span>│ _embedding_layer │ Embedding1dLayer          │  1.7 K │ train │\n",
       "│<span style=\"color: #7f7f7f; text-decoration-color: #7f7f7f\"> 2 </span>│ head             │ LinearHead                │     51 │ train │\n",
       "│<span style=\"color: #7f7f7f; text-decoration-color: #7f7f7f\"> 3 </span>│ loss             │ MSELoss                   │      0 │ train │\n",
       "└───┴──────────────────┴───────────────────────────┴────────┴───────┘\n",
       "</pre>\n"
      ],
      "text/plain": [
       "┏━━━┳━━━━━━━━━━━━━━━━━━┳━━━━━━━━━━━━━━━━━━━━━━━━━━━┳━━━━━━━━┳━━━━━━━┓\n",
       "┃\u001b[1;35m \u001b[0m\u001b[1;35m \u001b[0m\u001b[1;35m \u001b[0m┃\u001b[1;35m \u001b[0m\u001b[1;35mName            \u001b[0m\u001b[1;35m \u001b[0m┃\u001b[1;35m \u001b[0m\u001b[1;35mType                     \u001b[0m\u001b[1;35m \u001b[0m┃\u001b[1;35m \u001b[0m\u001b[1;35mParams\u001b[0m\u001b[1;35m \u001b[0m┃\u001b[1;35m \u001b[0m\u001b[1;35mMode \u001b[0m\u001b[1;35m \u001b[0m┃\n",
       "┡━━━╇━━━━━━━━━━━━━━━━━━╇━━━━━━━━━━━━━━━━━━━━━━━━━━━╇━━━━━━━━╇━━━━━━━┩\n",
       "│\u001b[2m \u001b[0m\u001b[2m0\u001b[0m\u001b[2m \u001b[0m│ _backbone        │ CategoryEmbeddingBackbone │  3.0 K │ train │\n",
       "│\u001b[2m \u001b[0m\u001b[2m1\u001b[0m\u001b[2m \u001b[0m│ _embedding_layer │ Embedding1dLayer          │  1.7 K │ train │\n",
       "│\u001b[2m \u001b[0m\u001b[2m2\u001b[0m\u001b[2m \u001b[0m│ head             │ LinearHead                │     51 │ train │\n",
       "│\u001b[2m \u001b[0m\u001b[2m3\u001b[0m\u001b[2m \u001b[0m│ loss             │ MSELoss                   │      0 │ train │\n",
       "└───┴──────────────────┴───────────────────────────┴────────┴───────┘\n"
      ]
     },
     "metadata": {},
     "output_type": "display_data"
    },
    {
     "data": {
      "text/html": [
       "<pre style=\"white-space:pre;overflow-x:auto;line-height:normal;font-family:Menlo,'DejaVu Sans Mono',consolas,'Courier New',monospace\"><span style=\"font-weight: bold\">Trainable params</span>: 4.7 K                                                                                            \n",
       "<span style=\"font-weight: bold\">Non-trainable params</span>: 0                                                                                            \n",
       "<span style=\"font-weight: bold\">Total params</span>: 4.7 K                                                                                                \n",
       "<span style=\"font-weight: bold\">Total estimated model params size (MB)</span>: 0                                                                          \n",
       "<span style=\"font-weight: bold\">Modules in train mode</span>: 16                                                                                          \n",
       "<span style=\"font-weight: bold\">Modules in eval mode</span>: 0                                                                                            \n",
       "</pre>\n"
      ],
      "text/plain": [
       "\u001b[1mTrainable params\u001b[0m: 4.7 K                                                                                            \n",
       "\u001b[1mNon-trainable params\u001b[0m: 0                                                                                            \n",
       "\u001b[1mTotal params\u001b[0m: 4.7 K                                                                                                \n",
       "\u001b[1mTotal estimated model params size (MB)\u001b[0m: 0                                                                          \n",
       "\u001b[1mModules in train mode\u001b[0m: 16                                                                                          \n",
       "\u001b[1mModules in eval mode\u001b[0m: 0                                                                                            \n"
      ]
     },
     "metadata": {},
     "output_type": "display_data"
    },
    {
     "data": {
      "application/vnd.jupyter.widget-view+json": {
       "model_id": "40e0df1a49e54be5a299f4837fcdd76e",
       "version_major": 2,
       "version_minor": 0
      },
      "text/plain": [
       "Output()"
      ]
     },
     "metadata": {},
     "output_type": "display_data"
    },
    {
     "data": {
      "text/html": [
       "<pre style=\"white-space:pre;overflow-x:auto;line-height:normal;font-family:Menlo,'DejaVu Sans Mono',consolas,'Courier New',monospace\"></pre>\n"
      ],
      "text/plain": []
     },
     "metadata": {},
     "output_type": "display_data"
    },
    {
     "data": {
      "text/html": [
       "<pre style=\"white-space:pre;overflow-x:auto;line-height:normal;font-family:Menlo,'DejaVu Sans Mono',consolas,'Courier New',monospace\"><span style=\"color: #008080; text-decoration-color: #008080; font-weight: bold\">2025</span>-<span style=\"color: #008080; text-decoration-color: #008080; font-weight: bold\">03</span>-<span style=\"color: #008080; text-decoration-color: #008080; font-weight: bold\">13</span> <span style=\"color: #00ff00; text-decoration-color: #00ff00; font-weight: bold\">12:34:15</span>,<span style=\"color: #008080; text-decoration-color: #008080; font-weight: bold\">798</span> - <span style=\"font-weight: bold\">{</span>pytorch_tabular.tabular_model:<span style=\"color: #008080; text-decoration-color: #008080; font-weight: bold\">689</span><span style=\"font-weight: bold\">}</span> - INFO - Training the model completed                \n",
       "</pre>\n"
      ],
      "text/plain": [
       "\u001b[1;36m2025\u001b[0m-\u001b[1;36m03\u001b[0m-\u001b[1;36m13\u001b[0m \u001b[1;92m12:34:15\u001b[0m,\u001b[1;36m798\u001b[0m - \u001b[1m{\u001b[0mpytorch_tabular.tabular_model:\u001b[1;36m689\u001b[0m\u001b[1m}\u001b[0m - INFO - Training the model completed                \n"
      ]
     },
     "metadata": {},
     "output_type": "display_data"
    },
    {
     "data": {
      "text/html": [
       "<pre style=\"white-space:pre;overflow-x:auto;line-height:normal;font-family:Menlo,'DejaVu Sans Mono',consolas,'Courier New',monospace\"><span style=\"color: #008080; text-decoration-color: #008080; font-weight: bold\">2025</span>-<span style=\"color: #008080; text-decoration-color: #008080; font-weight: bold\">03</span>-<span style=\"color: #008080; text-decoration-color: #008080; font-weight: bold\">13</span> <span style=\"color: #00ff00; text-decoration-color: #00ff00; font-weight: bold\">12:34:15</span>,<span style=\"color: #008080; text-decoration-color: #008080; font-weight: bold\">801</span> - <span style=\"font-weight: bold\">{</span>pytorch_tabular.tabular_model:<span style=\"color: #008080; text-decoration-color: #008080; font-weight: bold\">1529</span><span style=\"font-weight: bold\">}</span> - INFO - Loading the best model                     \n",
       "</pre>\n"
      ],
      "text/plain": [
       "\u001b[1;36m2025\u001b[0m-\u001b[1;36m03\u001b[0m-\u001b[1;36m13\u001b[0m \u001b[1;92m12:34:15\u001b[0m,\u001b[1;36m801\u001b[0m - \u001b[1m{\u001b[0mpytorch_tabular.tabular_model:\u001b[1;36m1529\u001b[0m\u001b[1m}\u001b[0m - INFO - Loading the best model                     \n"
      ]
     },
     "metadata": {},
     "output_type": "display_data"
    },
    {
     "ename": "UnpicklingError",
     "evalue": "Weights only load failed. This file can still be loaded, to do so you have two options, \u001b[1mdo those steps only if you trust the source of the checkpoint\u001b[0m. \n\t(1) In PyTorch 2.6, we changed the default value of the `weights_only` argument in `torch.load` from `False` to `True`. Re-running `torch.load` with `weights_only` set to `False` will likely succeed, but it can result in arbitrary code execution. Do it only if you got the file from a trusted source.\n\t(2) Alternatively, to load with `weights_only=True` please check the recommended steps in the following error message.\n\tWeightsUnpickler error: Unsupported global: GLOBAL omegaconf.dictconfig.DictConfig was not an allowed global by default. Please use `torch.serialization.add_safe_globals([DictConfig])` or the `torch.serialization.safe_globals([DictConfig])` context manager to allowlist this global if you trust this class/function.\n\nCheck the documentation of torch.load to learn more about types accepted by default with weights_only https://pytorch.org/docs/stable/generated/torch.load.html.",
     "output_type": "error",
     "traceback": [
      "\u001b[31m---------------------------------------------------------------------------\u001b[39m",
      "\u001b[31mUnpicklingError\u001b[39m                           Traceback (most recent call last)",
      "\u001b[36mCell\u001b[39m\u001b[36m \u001b[39m\u001b[32mIn[35]\u001b[39m\u001b[32m, line 1\u001b[39m\n\u001b[32m----> \u001b[39m\u001b[32m1\u001b[39m \u001b[43mtabular_model\u001b[49m\u001b[43m.\u001b[49m\u001b[43mfit\u001b[49m\u001b[43m(\u001b[49m\u001b[43mtrain\u001b[49m\u001b[43m=\u001b[49m\u001b[43mdf\u001b[49m\u001b[43m)\u001b[49m\n",
      "\u001b[36mFile \u001b[39m\u001b[32mc:\\Users\\Alan Wong\\Desktop\\Assignment\\2025_NNDL_IndivAssignment\\.venv\\Lib\\site-packages\\pytorch_tabular\\tabular_model.py:806\u001b[39m, in \u001b[36mTabularModel.fit\u001b[39m\u001b[34m(self, train, validation, loss, metrics, metrics_prob_inputs, optimizer, optimizer_params, train_sampler, target_transform, max_epochs, min_epochs, seed, callbacks, datamodule, cache_data, handle_oom)\u001b[39m\n\u001b[32m    792\u001b[39m         warnings.warn(\n\u001b[32m    793\u001b[39m             \u001b[33m\"\u001b[39m\u001b[33mtrain data and datamodule is provided.\u001b[39m\u001b[33m\"\u001b[39m\n\u001b[32m    794\u001b[39m             \u001b[33m\"\u001b[39m\u001b[33m Ignoring the train data and using the datamodule.\u001b[39m\u001b[33m\"\u001b[39m\n\u001b[32m    795\u001b[39m             \u001b[33m\"\u001b[39m\u001b[33m Set either one of them to None to avoid this warning.\u001b[39m\u001b[33m\"\u001b[39m\n\u001b[32m    796\u001b[39m         )\n\u001b[32m    797\u001b[39m model = \u001b[38;5;28mself\u001b[39m.prepare_model(\n\u001b[32m    798\u001b[39m     datamodule,\n\u001b[32m    799\u001b[39m     loss,\n\u001b[32m   (...)\u001b[39m\u001b[32m    803\u001b[39m     optimizer_params \u001b[38;5;129;01mor\u001b[39;00m {},\n\u001b[32m    804\u001b[39m )\n\u001b[32m--> \u001b[39m\u001b[32m806\u001b[39m \u001b[38;5;28;01mreturn\u001b[39;00m \u001b[38;5;28;43mself\u001b[39;49m\u001b[43m.\u001b[49m\u001b[43mtrain\u001b[49m\u001b[43m(\u001b[49m\u001b[43mmodel\u001b[49m\u001b[43m,\u001b[49m\u001b[43m \u001b[49m\u001b[43mdatamodule\u001b[49m\u001b[43m,\u001b[49m\u001b[43m \u001b[49m\u001b[43mcallbacks\u001b[49m\u001b[43m,\u001b[49m\u001b[43m \u001b[49m\u001b[43mmax_epochs\u001b[49m\u001b[43m,\u001b[49m\u001b[43m \u001b[49m\u001b[43mmin_epochs\u001b[49m\u001b[43m,\u001b[49m\u001b[43m \u001b[49m\u001b[43mhandle_oom\u001b[49m\u001b[43m)\u001b[49m\n",
      "\u001b[36mFile \u001b[39m\u001b[32mc:\\Users\\Alan Wong\\Desktop\\Assignment\\2025_NNDL_IndivAssignment\\.venv\\Lib\\site-packages\\pytorch_tabular\\tabular_model.py:691\u001b[39m, in \u001b[36mTabularModel.train\u001b[39m\u001b[34m(self, model, datamodule, callbacks, max_epochs, min_epochs, handle_oom)\u001b[39m\n\u001b[32m    689\u001b[39m     logger.info(\u001b[33m\"\u001b[39m\u001b[33mTraining the model completed\u001b[39m\u001b[33m\"\u001b[39m)\n\u001b[32m    690\u001b[39m \u001b[38;5;28;01mif\u001b[39;00m \u001b[38;5;28mself\u001b[39m.config.load_best:\n\u001b[32m--> \u001b[39m\u001b[32m691\u001b[39m     \u001b[38;5;28;43mself\u001b[39;49m\u001b[43m.\u001b[49m\u001b[43mload_best_model\u001b[49m\u001b[43m(\u001b[49m\u001b[43m)\u001b[49m\n\u001b[32m    692\u001b[39m \u001b[38;5;28;01mreturn\u001b[39;00m \u001b[38;5;28mself\u001b[39m.trainer\n",
      "\u001b[36mFile \u001b[39m\u001b[32mc:\\Users\\Alan Wong\\Desktop\\Assignment\\2025_NNDL_IndivAssignment\\.venv\\Lib\\site-packages\\pytorch_tabular\\tabular_model.py:1534\u001b[39m, in \u001b[36mTabularModel.load_best_model\u001b[39m\u001b[34m(self)\u001b[39m\n\u001b[32m   1532\u001b[39m     \u001b[38;5;28;01mif\u001b[39;00m \u001b[38;5;28mself\u001b[39m.verbose:\n\u001b[32m   1533\u001b[39m         logger.debug(\u001b[33mf\u001b[39m\u001b[33m\"\u001b[39m\u001b[33mModel Checkpoint: \u001b[39m\u001b[38;5;132;01m{\u001b[39;00mckpt_path\u001b[38;5;132;01m}\u001b[39;00m\u001b[33m\"\u001b[39m)\n\u001b[32m-> \u001b[39m\u001b[32m1534\u001b[39m     ckpt = \u001b[43mpl_load\u001b[49m\u001b[43m(\u001b[49m\u001b[43mckpt_path\u001b[49m\u001b[43m,\u001b[49m\u001b[43m \u001b[49m\u001b[43mmap_location\u001b[49m\u001b[43m=\u001b[49m\u001b[38;5;28;43;01mlambda\u001b[39;49;00m\u001b[43m \u001b[49m\u001b[43mstorage\u001b[49m\u001b[43m,\u001b[49m\u001b[43m \u001b[49m\u001b[43mloc\u001b[49m\u001b[43m:\u001b[49m\u001b[43m \u001b[49m\u001b[43mstorage\u001b[49m\u001b[43m)\u001b[49m\n\u001b[32m   1535\u001b[39m     \u001b[38;5;28mself\u001b[39m.model.load_state_dict(ckpt[\u001b[33m\"\u001b[39m\u001b[33mstate_dict\u001b[39m\u001b[33m\"\u001b[39m])\n\u001b[32m   1536\u001b[39m \u001b[38;5;28;01melse\u001b[39;00m:\n",
      "\u001b[36mFile \u001b[39m\u001b[32mc:\\Users\\Alan Wong\\Desktop\\Assignment\\2025_NNDL_IndivAssignment\\.venv\\Lib\\site-packages\\pytorch_tabular\\utils\\python_utils.py:85\u001b[39m, in \u001b[36mpl_load\u001b[39m\u001b[34m(path_or_url, map_location)\u001b[39m\n\u001b[32m     83\u001b[39m fs = get_filesystem(path_or_url)\n\u001b[32m     84\u001b[39m \u001b[38;5;28;01mwith\u001b[39;00m fs.open(path_or_url, \u001b[33m\"\u001b[39m\u001b[33mrb\u001b[39m\u001b[33m\"\u001b[39m) \u001b[38;5;28;01mas\u001b[39;00m f:\n\u001b[32m---> \u001b[39m\u001b[32m85\u001b[39m     \u001b[38;5;28;01mreturn\u001b[39;00m \u001b[43mtorch\u001b[49m\u001b[43m.\u001b[49m\u001b[43mload\u001b[49m\u001b[43m(\u001b[49m\u001b[43mf\u001b[49m\u001b[43m,\u001b[49m\u001b[43m \u001b[49m\u001b[43mmap_location\u001b[49m\u001b[43m=\u001b[49m\u001b[43mmap_location\u001b[49m\u001b[43m)\u001b[49m\n",
      "\u001b[36mFile \u001b[39m\u001b[32mc:\\Users\\Alan Wong\\Desktop\\Assignment\\2025_NNDL_IndivAssignment\\.venv\\Lib\\site-packages\\torch\\serialization.py:1470\u001b[39m, in \u001b[36mload\u001b[39m\u001b[34m(f, map_location, pickle_module, weights_only, mmap, **pickle_load_args)\u001b[39m\n\u001b[32m   1462\u001b[39m                 \u001b[38;5;28;01mreturn\u001b[39;00m _load(\n\u001b[32m   1463\u001b[39m                     opened_zipfile,\n\u001b[32m   1464\u001b[39m                     map_location,\n\u001b[32m   (...)\u001b[39m\u001b[32m   1467\u001b[39m                     **pickle_load_args,\n\u001b[32m   1468\u001b[39m                 )\n\u001b[32m   1469\u001b[39m             \u001b[38;5;28;01mexcept\u001b[39;00m pickle.UnpicklingError \u001b[38;5;28;01mas\u001b[39;00m e:\n\u001b[32m-> \u001b[39m\u001b[32m1470\u001b[39m                 \u001b[38;5;28;01mraise\u001b[39;00m pickle.UnpicklingError(_get_wo_message(\u001b[38;5;28mstr\u001b[39m(e))) \u001b[38;5;28;01mfrom\u001b[39;00m\u001b[38;5;250m \u001b[39m\u001b[38;5;28;01mNone\u001b[39;00m\n\u001b[32m   1471\u001b[39m         \u001b[38;5;28;01mreturn\u001b[39;00m _load(\n\u001b[32m   1472\u001b[39m             opened_zipfile,\n\u001b[32m   1473\u001b[39m             map_location,\n\u001b[32m   (...)\u001b[39m\u001b[32m   1476\u001b[39m             **pickle_load_args,\n\u001b[32m   1477\u001b[39m         )\n\u001b[32m   1478\u001b[39m \u001b[38;5;28;01mif\u001b[39;00m mmap:\n",
      "\u001b[31mUnpicklingError\u001b[39m: Weights only load failed. This file can still be loaded, to do so you have two options, \u001b[1mdo those steps only if you trust the source of the checkpoint\u001b[0m. \n\t(1) In PyTorch 2.6, we changed the default value of the `weights_only` argument in `torch.load` from `False` to `True`. Re-running `torch.load` with `weights_only` set to `False` will likely succeed, but it can result in arbitrary code execution. Do it only if you got the file from a trusted source.\n\t(2) Alternatively, to load with `weights_only=True` please check the recommended steps in the following error message.\n\tWeightsUnpickler error: Unsupported global: GLOBAL omegaconf.dictconfig.DictConfig was not an allowed global by default. Please use `torch.serialization.add_safe_globals([DictConfig])` or the `torch.serialization.safe_globals([DictConfig])` context manager to allowlist this global if you trust this class/function.\n\nCheck the documentation of torch.load to learn more about types accepted by default with weights_only https://pytorch.org/docs/stable/generated/torch.load.html."
     ]
    }
   ],
   "source": [
    "tabular_model.fit(train=df)"
   ]
  },
  {
   "cell_type": "code",
   "execution_count": 37,
   "metadata": {},
   "outputs": [
    {
     "name": "stderr",
     "output_type": "stream",
     "text": [
      "c:\\Users\\Alan Wong\\Desktop\\Assignment\\2025_NNDL_IndivAssignment\\.venv\\Lib\\site-packages\\pytorch_tabular\\categorical_encoders.py:71: FutureWarning: A value is trying to be set on a copy of a DataFrame or Series through chained assignment using an inplace method.\n",
      "The behavior will change in pandas 3.0. This inplace method will never work because the intermediate object on which we are setting values always behaves as a copy.\n",
      "\n",
      "For example, when doing 'df[col].method(value, inplace=True)', try using 'df.method({col: value}, inplace=True)' or df[col] = df[col].method(value) instead, to perform the operation inplace on the original object.\n",
      "\n",
      "\n",
      "  X_encoded[col].fillna(self._imputed, inplace=True)\n",
      "c:\\Users\\Alan Wong\\Desktop\\Assignment\\2025_NNDL_IndivAssignment\\.venv\\Lib\\site-packages\\pytorch_tabular\\categorical_encoders.py:71: FutureWarning: A value is trying to be set on a copy of a DataFrame or Series through chained assignment using an inplace method.\n",
      "The behavior will change in pandas 3.0. This inplace method will never work because the intermediate object on which we are setting values always behaves as a copy.\n",
      "\n",
      "For example, when doing 'df[col].method(value, inplace=True)', try using 'df.method({col: value}, inplace=True)' or df[col] = df[col].method(value) instead, to perform the operation inplace on the original object.\n",
      "\n",
      "\n",
      "  X_encoded[col].fillna(self._imputed, inplace=True)\n",
      "c:\\Users\\Alan Wong\\Desktop\\Assignment\\2025_NNDL_IndivAssignment\\.venv\\Lib\\site-packages\\pytorch_tabular\\categorical_encoders.py:71: FutureWarning: A value is trying to be set on a copy of a DataFrame or Series through chained assignment using an inplace method.\n",
      "The behavior will change in pandas 3.0. This inplace method will never work because the intermediate object on which we are setting values always behaves as a copy.\n",
      "\n",
      "For example, when doing 'df[col].method(value, inplace=True)', try using 'df.method({col: value}, inplace=True)' or df[col] = df[col].method(value) instead, to perform the operation inplace on the original object.\n",
      "\n",
      "\n",
      "  X_encoded[col].fillna(self._imputed, inplace=True)\n",
      "c:\\Users\\Alan Wong\\Desktop\\Assignment\\2025_NNDL_IndivAssignment\\.venv\\Lib\\site-packages\\pytorch_tabular\\categorical_encoders.py:71: FutureWarning: A value is trying to be set on a copy of a DataFrame or Series through chained assignment using an inplace method.\n",
      "The behavior will change in pandas 3.0. This inplace method will never work because the intermediate object on which we are setting values always behaves as a copy.\n",
      "\n",
      "For example, when doing 'df[col].method(value, inplace=True)', try using 'df.method({col: value}, inplace=True)' or df[col] = df[col].method(value) instead, to perform the operation inplace on the original object.\n",
      "\n",
      "\n",
      "  X_encoded[col].fillna(self._imputed, inplace=True)\n",
      "LOCAL_RANK: 0 - CUDA_VISIBLE_DEVICES: [0]\n"
     ]
    },
    {
     "data": {
      "application/vnd.jupyter.widget-view+json": {
       "model_id": "b499643872bb41288e5ab0805ec85eb6",
       "version_major": 2,
       "version_minor": 0
      },
      "text/plain": [
       "Output()"
      ]
     },
     "metadata": {},
     "output_type": "display_data"
    },
    {
     "name": "stderr",
     "output_type": "stream",
     "text": [
      "c:\\Users\\Alan Wong\\Desktop\\Assignment\\2025_NNDL_IndivAssignment\\.venv\\Lib\\site-packages\\pytorch_lightning\\trainer\\connectors\\data_connector.py:424: The 'test_dataloader' does not have many workers which may be a bottleneck. Consider increasing the value of the `num_workers` argument` to `num_workers=11` in the `DataLoader` to improve performance.\n"
     ]
    },
    {
     "data": {
      "text/html": [
       "<pre style=\"white-space:pre;overflow-x:auto;line-height:normal;font-family:Menlo,'DejaVu Sans Mono',consolas,'Courier New',monospace\">┏━━━━━━━━━━━━━━━━━━━━━━━━━━━┳━━━━━━━━━━━━━━━━━━━━━━━━━━━┓\n",
       "┃<span style=\"font-weight: bold\">        Test metric        </span>┃<span style=\"font-weight: bold\">       DataLoader 0        </span>┃\n",
       "┡━━━━━━━━━━━━━━━━━━━━━━━━━━━╇━━━━━━━━━━━━━━━━━━━━━━━━━━━┩\n",
       "│<span style=\"color: #008080; text-decoration-color: #008080\">         test_loss         </span>│<span style=\"color: #800080; text-decoration-color: #800080\">       12295891968.0       </span>│\n",
       "│<span style=\"color: #008080; text-decoration-color: #008080\">  test_mean_squared_error  </span>│<span style=\"color: #800080; text-decoration-color: #800080\">       12295891968.0       </span>│\n",
       "└───────────────────────────┴───────────────────────────┘\n",
       "</pre>\n"
      ],
      "text/plain": [
       "┏━━━━━━━━━━━━━━━━━━━━━━━━━━━┳━━━━━━━━━━━━━━━━━━━━━━━━━━━┓\n",
       "┃\u001b[1m \u001b[0m\u001b[1m       Test metric       \u001b[0m\u001b[1m \u001b[0m┃\u001b[1m \u001b[0m\u001b[1m      DataLoader 0       \u001b[0m\u001b[1m \u001b[0m┃\n",
       "┡━━━━━━━━━━━━━━━━━━━━━━━━━━━╇━━━━━━━━━━━━━━━━━━━━━━━━━━━┩\n",
       "│\u001b[36m \u001b[0m\u001b[36m        test_loss        \u001b[0m\u001b[36m \u001b[0m│\u001b[35m \u001b[0m\u001b[35m      12295891968.0      \u001b[0m\u001b[35m \u001b[0m│\n",
       "│\u001b[36m \u001b[0m\u001b[36m test_mean_squared_error \u001b[0m\u001b[36m \u001b[0m│\u001b[35m \u001b[0m\u001b[35m      12295891968.0      \u001b[0m\u001b[35m \u001b[0m│\n",
       "└───────────────────────────┴───────────────────────────┘\n"
      ]
     },
     "metadata": {},
     "output_type": "display_data"
    },
    {
     "data": {
      "text/html": [
       "<pre style=\"white-space:pre;overflow-x:auto;line-height:normal;font-family:Menlo,'DejaVu Sans Mono',consolas,'Courier New',monospace\"></pre>\n"
      ],
      "text/plain": []
     },
     "metadata": {},
     "output_type": "display_data"
    },
    {
     "name": "stderr",
     "output_type": "stream",
     "text": [
      "c:\\Users\\Alan Wong\\Desktop\\Assignment\\2025_NNDL_IndivAssignment\\.venv\\Lib\\site-packages\\pytorch_tabular\\tabular_model.py:1466: DeprecationWarning: `include_input_features` will be deprecated in the next release. Please add index columns to the test dataframe if you want to retain some features like the key or id\n",
      "  warnings.warn(\n",
      "c:\\Users\\Alan Wong\\Desktop\\Assignment\\2025_NNDL_IndivAssignment\\.venv\\Lib\\site-packages\\pytorch_tabular\\categorical_encoders.py:71: FutureWarning: A value is trying to be set on a copy of a DataFrame or Series through chained assignment using an inplace method.\n",
      "The behavior will change in pandas 3.0. This inplace method will never work because the intermediate object on which we are setting values always behaves as a copy.\n",
      "\n",
      "For example, when doing 'df[col].method(value, inplace=True)', try using 'df.method({col: value}, inplace=True)' or df[col] = df[col].method(value) instead, to perform the operation inplace on the original object.\n",
      "\n",
      "\n",
      "  X_encoded[col].fillna(self._imputed, inplace=True)\n",
      "c:\\Users\\Alan Wong\\Desktop\\Assignment\\2025_NNDL_IndivAssignment\\.venv\\Lib\\site-packages\\pytorch_tabular\\categorical_encoders.py:71: FutureWarning: A value is trying to be set on a copy of a DataFrame or Series through chained assignment using an inplace method.\n",
      "The behavior will change in pandas 3.0. This inplace method will never work because the intermediate object on which we are setting values always behaves as a copy.\n",
      "\n",
      "For example, when doing 'df[col].method(value, inplace=True)', try using 'df.method({col: value}, inplace=True)' or df[col] = df[col].method(value) instead, to perform the operation inplace on the original object.\n",
      "\n",
      "\n",
      "  X_encoded[col].fillna(self._imputed, inplace=True)\n",
      "c:\\Users\\Alan Wong\\Desktop\\Assignment\\2025_NNDL_IndivAssignment\\.venv\\Lib\\site-packages\\pytorch_tabular\\categorical_encoders.py:71: FutureWarning: A value is trying to be set on a copy of a DataFrame or Series through chained assignment using an inplace method.\n",
      "The behavior will change in pandas 3.0. This inplace method will never work because the intermediate object on which we are setting values always behaves as a copy.\n",
      "\n",
      "For example, when doing 'df[col].method(value, inplace=True)', try using 'df.method({col: value}, inplace=True)' or df[col] = df[col].method(value) instead, to perform the operation inplace on the original object.\n",
      "\n",
      "\n",
      "  X_encoded[col].fillna(self._imputed, inplace=True)\n",
      "c:\\Users\\Alan Wong\\Desktop\\Assignment\\2025_NNDL_IndivAssignment\\.venv\\Lib\\site-packages\\pytorch_tabular\\categorical_encoders.py:71: FutureWarning: A value is trying to be set on a copy of a DataFrame or Series through chained assignment using an inplace method.\n",
      "The behavior will change in pandas 3.0. This inplace method will never work because the intermediate object on which we are setting values always behaves as a copy.\n",
      "\n",
      "For example, when doing 'df[col].method(value, inplace=True)', try using 'df.method({col: value}, inplace=True)' or df[col] = df[col].method(value) instead, to perform the operation inplace on the original object.\n",
      "\n",
      "\n",
      "  X_encoded[col].fillna(self._imputed, inplace=True)\n"
     ]
    },
    {
     "data": {
      "text/html": [
       "<div>\n",
       "<style scoped>\n",
       "    .dataframe tbody tr th:only-of-type {\n",
       "        vertical-align: middle;\n",
       "    }\n",
       "\n",
       "    .dataframe tbody tr th {\n",
       "        vertical-align: top;\n",
       "    }\n",
       "\n",
       "    .dataframe thead th {\n",
       "        text-align: right;\n",
       "    }\n",
       "</style>\n",
       "<table border=\"1\" class=\"dataframe\">\n",
       "  <thead>\n",
       "    <tr style=\"text-align: right;\">\n",
       "      <th></th>\n",
       "      <th>resale_price_prediction</th>\n",
       "    </tr>\n",
       "  </thead>\n",
       "  <tbody>\n",
       "    <tr>\n",
       "      <th>143129</th>\n",
       "      <td>155824.406250</td>\n",
       "    </tr>\n",
       "    <tr>\n",
       "      <th>143130</th>\n",
       "      <td>225585.093750</td>\n",
       "    </tr>\n",
       "    <tr>\n",
       "      <th>143131</th>\n",
       "      <td>195331.578125</td>\n",
       "    </tr>\n",
       "    <tr>\n",
       "      <th>143132</th>\n",
       "      <td>209966.187500</td>\n",
       "    </tr>\n",
       "    <tr>\n",
       "      <th>143133</th>\n",
       "      <td>170486.062500</td>\n",
       "    </tr>\n",
       "  </tbody>\n",
       "</table>\n",
       "</div>"
      ],
      "text/plain": [
       "        resale_price_prediction\n",
       "143129            155824.406250\n",
       "143130            225585.093750\n",
       "143131            195331.578125\n",
       "143132            209966.187500\n",
       "143133            170486.062500"
      ]
     },
     "execution_count": 37,
     "metadata": {},
     "output_type": "execute_result"
    }
   ],
   "source": [
    "result = tabular_model.evaluate(test_data)\n",
    "pred_df = tabular_model.predict(test_data)\n",
    "pred_df.head()"
   ]
  },
  {
   "cell_type": "code",
   "execution_count": 38,
   "metadata": {},
   "outputs": [
    {
     "name": "stdout",
     "output_type": "stream",
     "text": [
      "tensor([155824.4062, 225585.0938, 195331.5781,  ..., 675507.5625,\n",
      "        624461.6250, 629454.0625])\n",
      "tensor([267000., 300000., 280000.,  ..., 788888., 822800., 785000.],\n",
      "       dtype=torch.float64)\n",
      "RMSE: 110886.8442942195\n",
      "R2 Score: 0.44268057548837814\n"
     ]
    }
   ],
   "source": [
    "# Extract predicted values\n",
    "predicted = torch.tensor(pred_df[\"resale_price_prediction\"].values)\n",
    "\n",
    "# Extract ground truth values\n",
    "actual = torch.tensor(test_data[\"resale_price\"].values)\n",
    "\n",
    "print(predicted)\n",
    "print(actual)\n",
    "# Compute R2 score and RMSE\n",
    "rmse = root_mean_squared_error(predicted,actual)\n",
    "# rmse = math.sqrt(result[0]['test_mean_squared_error'])\n",
    "r2 = r2_score(predicted, actual)\n",
    "print(\"RMSE:\", rmse)\n",
    "print(\"R2 Score:\", r2)"
   ]
  },
  {
   "cell_type": "markdown",
   "metadata": {},
   "source": [
    "We can see that the final results have drastically improved.\\\n",
    "RMSE: 110886.8442942195\\\n",
    "R2 Score: 0.44268057548837814"
   ]
  }
 ],
 "metadata": {
  "colab": {
   "authorship_tag": "ABX9TyOG8ZhA98h3O6fnefkjOU9w",
   "provenance": []
  },
  "kernelspec": {
   "display_name": ".venv",
   "language": "python",
   "name": "python3"
  },
  "language_info": {
   "codemirror_mode": {
    "name": "ipython",
    "version": 3
   },
   "file_extension": ".py",
   "mimetype": "text/x-python",
   "name": "python",
   "nbconvert_exporter": "python",
   "pygments_lexer": "ipython3",
   "version": "3.12.1"
  }
 },
 "nbformat": 4,
 "nbformat_minor": 4
}
